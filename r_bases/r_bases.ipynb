{
 "cells": [
  {
   "cell_type": "markdown",
   "metadata": {},
   "source": [
    "# Funciones y Elementos básicos para explorar bases de datos con R"
   ]
  },
  {
   "attachments": {},
   "cell_type": "markdown",
   "metadata": {},
   "source": [
    "*los primeros pasos para el análisis de datos son: Importar, ordenar, transformar y visualizar. En este archivo pretendemos seguir este algoritmo mostrando las funciones y elementos básicos para la ciencia de Datos (consulte en este repositorio imagen_01):*"
   ]
  },
  {
   "cell_type": "markdown",
   "metadata": {},
   "source": [
    "<img src='imagen_01.png'>"
   ]
  },
  {
   "attachments": {},
   "cell_type": "markdown",
   "metadata": {},
   "source": [
    "**Recuerde que en una base de datos las variables (nombre de vector para una sola colunma) corresponde a las columnas y los argumentos de estos son las filas. Estas últimas pueden poseer entradas que pueden ser numéricas (integer/entero o Double/decimal https://acortar.link/bXeYIs), alfabéticas (character) o lógicas (FALSE or TRUE). para estos elementos existen funciones en R para su tratamiento (consulte en este repositorio imagen_02)**"
   ]
  },
  {
   "attachments": {},
   "cell_type": "markdown",
   "metadata": {},
   "source": [
    " <img src='imagen_02.png'>"
   ]
  },
  {
   "attachments": {},
   "cell_type": "markdown",
   "metadata": {},
   "source": [
    "*Debemos escoger la opción r markdown para la creación de archivos html. (consulte en este repositorio imagen_1; iamgen_1_1, imagen_1_2) Seguidos los pasos, nombre el documento sin tildes y sin espacios y **recuerde borrar el espacio en el ambiente que inicia con ## R Markdown y termina con Note**:* "
   ]
  },
  {
   "attachments": {},
   "cell_type": "markdown",
   "metadata": {},
   "source": [
    "<img src='imagen_1.png'>\n",
    "<img src='imagen_1_1.png'>\n",
    "<img src='imagen_1_2.png'>\n",
    "<img src='imagen_1_3.png'>"
   ]
  },
  {
   "attachments": {},
   "cell_type": "markdown",
   "metadata": {},
   "source": [
    "*Se da estructura el documento html con tabla de contenido, tema y la posibilidad de copiar código. Puede dejarlo como estructura predeterminada o ajustarlo según su necesidad (consulte en este repositorio imagen_2):*"
   ]
  },
  {
   "attachments": {},
   "cell_type": "markdown",
   "metadata": {},
   "source": [
    "<img src='imagen_2.png'>"
   ]
  },
  {
   "attachments": {},
   "cell_type": "markdown",
   "metadata": {},
   "source": [
    "*La librerias usadas para la exploración de bases de datos son las siguientes (consulte en este repositorio imagen_3):*"
   ]
  },
  {
   "cell_type": "markdown",
   "metadata": {},
   "source": [
    "<img src='imagen_3.png'>"
   ]
  },
  {
   "attachments": {},
   "cell_type": "markdown",
   "metadata": {},
   "source": [
    "*La pagina web Datos abiertos de colombia es una fuente gratuita de consulta y suministro de bases de datos, desde allí descargamos, en formato csv, las Evaluaciones Agropecuarias Municipales con secuencia temporal desde 2007 hasta 2018 https://acortar.link/WDO5AM. Los formatos csv y excel son las recurrentes como estructura de bases de datos (consulte en este repositorio imagen_4)*. "
   ]
  },
  {
   "attachments": {},
   "cell_type": "markdown",
   "metadata": {},
   "source": [
    "<img src='imagen_4.png'>"
   ]
  },
  {
   "attachments": {},
   "cell_type": "markdown",
   "metadata": {},
   "source": [
    "*Recuerde guardar la base de datos en el proyecto donde se encuentra la carpeta con la que está trabajando (consulte en este repositorio imagen_5):*"
   ]
  },
  {
   "attachments": {},
   "cell_type": "markdown",
   "metadata": {},
   "source": [
    "<img src='imagen_5.png'>"
   ]
  },
  {
   "attachments": {},
   "cell_type": "markdown",
   "metadata": {},
   "source": [
    "*las siguientes son las funciones básicas para el tratamiento de bases de datos: selct() para seleccinar las columnas; filter() para filtrar filas; arrange() para organizarlas según criterio; mutate() para realizar transformaciones en columnas como cambiar nombres o quitarlas y summarise () con la que puedes agrupar dentro de una columna por igualdad de argumento que la contiene (consulte en este repositorio imagen_6) etc*"
   ]
  },
  {
   "attachments": {},
   "cell_type": "markdown",
   "metadata": {},
   "source": [
    "<img src='imagen_6.png'>"
   ]
  },
  {
   "attachments": {},
   "cell_type": "markdown",
   "metadata": {},
   "source": [
    "*Código para la exploración y limpieza de base de datos (consulte en este repositorio imagen_7,imagen_7_1,imagen_7_2 )*"
   ]
  },
  {
   "cell_type": "markdown",
   "metadata": {},
   "source": [
    "<img src='imagen_7.png'>\n",
    "<img src='imagen_7_1.png'>\n",
    "<img src='imagen_7_2.png'>"
   ]
  },
  {
   "attachments": {},
   "cell_type": "markdown",
   "metadata": {},
   "source": [
    "**Asi, podemos observar que el departamento que registró, en un periodo, más área sembrada es el casanare.**"
   ]
  }
 ],
 "metadata": {
  "kernelspec": {
   "display_name": "Python 3",
   "language": "python",
   "name": "python3"
  },
  "language_info": {
   "name": "python",
   "version": "3.11.1 (tags/v3.11.1:a7a450f, Dec  6 2022, 19:58:39) [MSC v.1934 64 bit (AMD64)]"
  },
  "orig_nbformat": 4,
  "vscode": {
   "interpreter": {
    "hash": "3cfe3cfdf0d5131f6ff1af2f74da2e1332cee780ff241ee44ee88264451a10d7"
   }
  }
 },
 "nbformat": 4,
 "nbformat_minor": 2
}
