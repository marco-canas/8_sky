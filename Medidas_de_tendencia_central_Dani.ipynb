{
  "cells": [
    {
      "cell_type": "markdown",
      "metadata": {
        "id": "view-in-github",
        "colab_type": "text"
      },
      "source": [
        "<a href=\"https://colab.research.google.com/github/marco-canas/cielo/blob/main/Medidas_de_tendencia_central_Dani.ipynb\" target=\"_parent\"><img src=\"https://colab.research.google.com/assets/colab-badge.svg\" alt=\"Open In Colab\"/></a>"
      ]
    },
    {
      "cell_type": "markdown",
      "metadata": {
        "id": "XKp_3cazmx6D"
      },
      "source": [
        "# Medidas de tendencia central en Estadística\n",
        "\n",
        "Las medidas de tendencia central son medidas estadísticas que pretenden resumir en un solo valor a un conjunto de valores. Representan un centro en torno al cual se encuentra ubicado el conjunto de los datos. Las medidas de tendencia central más utilizadas son: media, mediana y moda.\n",
        "\n",
        "* Media: Es el valor promedio del grupo datos, es decir, la cifra que se obtiene al sumar todos los datos y dividir el resultado entre la cantidad de los mismos.\n",
        "* Mediana: Es  el valor central, es decir, el que se encuentra en la mitad de la lista. \n",
        "* Moda: Es el número que más se repite, es decir, al observar la lista de datos del conjunto determinar cuál es el elemento que más se repite.\n"
      ]
    },
    {
      "cell_type": "markdown",
      "metadata": {
        "id": "ghVr1lUgoT1X"
      },
      "source": [
        "## Listas\n",
        "\n",
        "Lo primero por trabajar cuando buscamos medidas de tendencia, es la elaboración de listas, ya que estas te permiten contener varios elementos dentro de un conjunto.\n"
      ]
    },
    {
      "cell_type": "markdown",
      "metadata": {
        "id": "lsgCK6hwa8kG"
      },
      "source": [
        "### ¿ Cómo crear una lista ?\n",
        "1. Se crea una variable, y a esta se le dará el nombre con el que se desea trabajar.\n",
        "2. Para formar la lista, luego del nombre de la variable, se deja un espacio, se coloca un signo de igual (=) , un espacio y se delimita con corchetes ([ ])   y los elementos en el interior se separan por comas (,).\n"
      ]
    },
    {
      "cell_type": "code",
      "execution_count": 1,
      "metadata": {
        "id": "XiTbsvE5d1bR"
      },
      "outputs": [],
      "source": [
        "edad_alumnos = [11,12,13,11,11,12,13]"
      ]
    },
    {
      "cell_type": "markdown",
      "metadata": {
        "id": "99eKt7OmfJWQ"
      },
      "source": [
        "## Acceso a los datos de la lista\n",
        "Se llama a la lista escribiendo el nombre de las lista, y entre corchetes se pone el numero del dato que se desea visualizar en la lista.\n",
        "\n",
        "*Nota:*  En las listas el primer dato se enumera con el número 0, de allí continua la lista, de forma que el primer dato será el dato # 0, el segundo el # 1 y así consecutivamente. "
      ]
    },
    {
      "cell_type": "code",
      "execution_count": 2,
      "metadata": {
        "colab": {
          "base_uri": "https://localhost:8080/"
        },
        "id": "ebrO1cbchFOw",
        "outputId": "4f3a0776-d049-4dcd-89e2-35d139d04eef"
      },
      "outputs": [
        {
          "output_type": "execute_result",
          "data": {
            "text/plain": [
              "11"
            ]
          },
          "metadata": {},
          "execution_count": 2
        }
      ],
      "source": [
        "edad_alumnos[0]"
      ]
    },
    {
      "cell_type": "code",
      "execution_count": 3,
      "metadata": {
        "colab": {
          "base_uri": "https://localhost:8080/"
        },
        "id": "gIb61x89hHQU",
        "outputId": "1486da5b-9827-4b37-c2fd-a4f8f44c1acf"
      },
      "outputs": [
        {
          "output_type": "execute_result",
          "data": {
            "text/plain": [
              "12"
            ]
          },
          "metadata": {},
          "execution_count": 3
        }
      ],
      "source": [
        "edad_alumnos[1]"
      ]
    },
    {
      "cell_type": "code",
      "execution_count": 4,
      "metadata": {
        "colab": {
          "base_uri": "https://localhost:8080/"
        },
        "id": "TBuKGIqVhLYY",
        "outputId": "5518699c-b4ea-423c-8f2e-56e481071e44"
      },
      "outputs": [
        {
          "output_type": "execute_result",
          "data": {
            "text/plain": [
              "12"
            ]
          },
          "metadata": {},
          "execution_count": 4
        }
      ],
      "source": [
        "edad_alumnos[5]"
      ]
    },
    {
      "cell_type": "markdown",
      "metadata": {
        "id": "CYajZ9mTmFl8"
      },
      "source": [
        "## Tuplas \n",
        "Las tuplas son listas, pero fijas, es decir, las listas como las que creamos antes son modificables, en la tuplas una vez creada ya no permite modificiaciones.\n"
      ]
    },
    {
      "cell_type": "markdown",
      "metadata": {
        "id": "ZLQKfJZpruOz"
      },
      "source": [
        "Estas se crean igual que las listas  con la diferencia que, en lugar de usar corchetes se usan paréntesis."
      ]
    },
    {
      "cell_type": "code",
      "execution_count": 5,
      "metadata": {
        "id": "pbOvTW8mrfzp"
      },
      "outputs": [],
      "source": [
        "edades = (11,12,13,15)"
      ]
    },
    {
      "cell_type": "code",
      "execution_count": 6,
      "metadata": {
        "colab": {
          "base_uri": "https://localhost:8080/"
        },
        "id": "pe1zn41Wr7f5",
        "outputId": "f0bd4a93-4c63-4340-e361-6186ea99baba"
      },
      "outputs": [
        {
          "output_type": "execute_result",
          "data": {
            "text/plain": [
              "13"
            ]
          },
          "metadata": {},
          "execution_count": 6
        }
      ],
      "source": [
        "edades[2]"
      ]
    },
    {
      "cell_type": "markdown",
      "metadata": {
        "id": "PJ1QtdQ7sGMY"
      },
      "source": [
        "## Funciones Incoproradas\n",
        "\n",
        "Las funciones incorporadas son funciones que se proporcionan con el gestor de bases de datos."
      ]
    },
    {
      "cell_type": "markdown",
      "metadata": {
        "id": "VYlozT7isl10"
      },
      "source": [
        "### SUMA"
      ]
    },
    {
      "cell_type": "code",
      "execution_count": 7,
      "metadata": {
        "colab": {
          "base_uri": "https://localhost:8080/"
        },
        "id": "2ZaaGJ2DsVOB",
        "outputId": "21821fb8-a587-4844-b445-f0b751d1fd45"
      },
      "outputs": [
        {
          "output_type": "execute_result",
          "data": {
            "text/plain": [
              "83"
            ]
          },
          "metadata": {},
          "execution_count": 7
        }
      ],
      "source": [
        "sum(edad_alumnos)"
      ]
    },
    {
      "cell_type": "code",
      "execution_count": 8,
      "metadata": {
        "colab": {
          "base_uri": "https://localhost:8080/"
        },
        "id": "_Czi0TDaseXK",
        "outputId": "02193bab-a644-412d-f5c2-efc8f9c2d88e"
      },
      "outputs": [
        {
          "output_type": "execute_result",
          "data": {
            "text/plain": [
              "51"
            ]
          },
          "metadata": {},
          "execution_count": 8
        }
      ],
      "source": [
        "sum(edades)"
      ]
    },
    {
      "cell_type": "markdown",
      "metadata": {
        "id": "GI4RmDF1spTQ"
      },
      "source": [
        "### Longitud de la lista\n",
        "es decir, nos indica cuántos elementos contiene la lista.\n"
      ]
    },
    {
      "cell_type": "code",
      "execution_count": 9,
      "metadata": {
        "colab": {
          "base_uri": "https://localhost:8080/"
        },
        "id": "mYz1-t6ps0N4",
        "outputId": "586e8321-1732-41bf-a4df-c9928338d04c"
      },
      "outputs": [
        {
          "output_type": "execute_result",
          "data": {
            "text/plain": [
              "7"
            ]
          },
          "metadata": {},
          "execution_count": 9
        }
      ],
      "source": [
        "len(edad_alumnos)"
      ]
    },
    {
      "cell_type": "code",
      "execution_count": 10,
      "metadata": {
        "colab": {
          "base_uri": "https://localhost:8080/"
        },
        "id": "vas0oWURs4YV",
        "outputId": "46f069c8-7b97-471d-968f-e0eb6c8cde10"
      },
      "outputs": [
        {
          "output_type": "execute_result",
          "data": {
            "text/plain": [
              "4"
            ]
          },
          "metadata": {},
          "execution_count": 10
        }
      ],
      "source": [
        "len(edades)"
      ]
    },
    {
      "cell_type": "markdown",
      "metadata": {
        "id": "cOju6aKBtRp1"
      },
      "source": [
        "## Funciones definidas por el ususario \n",
        "\n",
        "Una función es un bloque de código que realiza alguna operación. En este caso, el código será construido por el usuario."
      ]
    },
    {
      "cell_type": "markdown",
      "metadata": {
        "id": "xCM2l6Um2JZF"
      },
      "source": [
        "por ejenplo, de acuerdo a las listas anteriores, se planea obtener la media, mediana y moda de los datos presentados.\n"
      ]
    },
    {
      "cell_type": "markdown",
      "metadata": {
        "id": "A7v9b0Fl2SUN"
      },
      "source": [
        "### La Media "
      ]
    },
    {
      "cell_type": "code",
      "execution_count": 11,
      "metadata": {
        "id": "8ejuoIB72Up4"
      },
      "outputs": [],
      "source": [
        "def calcular_la_media(lista_edad_alumnos):\n",
        "  return sum(lista_edad_alumnos)/len(lista_edad_alumnos)"
      ]
    },
    {
      "cell_type": "code",
      "execution_count": 12,
      "metadata": {
        "colab": {
          "base_uri": "https://localhost:8080/"
        },
        "id": "9Ms2SZww2G70",
        "outputId": "ebe11489-394b-432b-879d-988da4b165e8"
      },
      "outputs": [
        {
          "output_type": "execute_result",
          "data": {
            "text/plain": [
              "11.857142857142858"
            ]
          },
          "metadata": {},
          "execution_count": 12
        }
      ],
      "source": [
        "calcular_la_media(edad_alumnos)"
      ]
    },
    {
      "cell_type": "code",
      "execution_count": 13,
      "metadata": {
        "id": "KkAR7gaB3mbL"
      },
      "outputs": [],
      "source": [
        "estaturas = [1.5,1.6,1.7]"
      ]
    },
    {
      "cell_type": "code",
      "execution_count": 14,
      "metadata": {
        "colab": {
          "base_uri": "https://localhost:8080/"
        },
        "id": "rN5IWQcE3x7o",
        "outputId": "762602ac-9232-4122-9264-070cc245a33a"
      },
      "outputs": [
        {
          "output_type": "execute_result",
          "data": {
            "text/plain": [
              "1.5999999999999999"
            ]
          },
          "metadata": {},
          "execution_count": 14
        }
      ],
      "source": [
        "calcular_la_media(estaturas)"
      ]
    },
    {
      "cell_type": "markdown",
      "metadata": {
        "id": "h75euso3rnPY"
      },
      "source": [
        "### La Mediana \n",
        "\n",
        "la mediana se puede definir como el dato central del conjunto.\n",
        "si trabajamos con un librería podemos usar **statistics** y la función **median**"
      ]
    },
    {
      "cell_type": "code",
      "execution_count": 15,
      "metadata": {
        "id": "C7vV1s-zrnPY",
        "outputId": "2761368f-c288-48e8-b3d8-9361cc1e7392",
        "colab": {
          "base_uri": "https://localhost:8080/"
        }
      },
      "outputs": [
        {
          "output_type": "execute_result",
          "data": {
            "text/plain": [
              "12"
            ]
          },
          "metadata": {},
          "execution_count": 15
        }
      ],
      "source": [
        "import statistics as st\n",
        "\n",
        "st.median(edad_alumnos)"
      ]
    },
    {
      "cell_type": "code",
      "execution_count": 16,
      "metadata": {
        "id": "ZmJXl6nzrnPZ",
        "outputId": "1bfb3dc6-fe0c-4b45-dec5-0ef084e4e61a",
        "colab": {
          "base_uri": "https://localhost:8080/"
        }
      },
      "outputs": [
        {
          "output_type": "stream",
          "name": "stdout",
          "text": [
            "12\n"
          ]
        }
      ],
      "source": [
        "def mediana(l):\n",
        "  half = len(l) // 2\n",
        "  l.sort()\n",
        "  if not len(l) % 2:\n",
        "    return (l[half - 1] + l[half]) / 2.0\n",
        "  return l[half]\n",
        "\n",
        "print(mediana(edad_alumnos))"
      ]
    },
    {
      "cell_type": "markdown",
      "metadata": {
        "id": "lHWMn5bxrnPZ"
      },
      "source": [
        "### La Moda\n",
        "\n",
        "La moda se conoce como el dato que más se repite dentro del conjunto (en este caso la lista) en que se está trabajando.\n",
        "\n",
        "si trabajamos con librerías podemos importar la librería **statistics** y la función **mode**"
      ]
    },
    {
      "cell_type": "code",
      "execution_count": 17,
      "metadata": {
        "id": "JSQqQY9BrnPZ",
        "outputId": "6ce8d655-cdd5-4b1d-efe3-9705c4d62066",
        "colab": {
          "base_uri": "https://localhost:8080/"
        }
      },
      "outputs": [
        {
          "output_type": "execute_result",
          "data": {
            "text/plain": [
              "11"
            ]
          },
          "metadata": {},
          "execution_count": 17
        }
      ],
      "source": [
        "import statistics as st \n",
        "\n",
        "st.mode(edad_alumnos)"
      ]
    },
    {
      "cell_type": "code",
      "execution_count": 18,
      "metadata": {
        "id": "APJ_oDbWrnPZ",
        "outputId": "4c5570ff-3812-4f2e-c108-23b8a8d50ba5",
        "colab": {
          "base_uri": "https://localhost:8080/"
        }
      },
      "outputs": [
        {
          "output_type": "stream",
          "name": "stdout",
          "text": [
            "[(11, 3), (12, 2), (13, 2)]\n"
          ]
        }
      ],
      "source": [
        "from collections import Counter\n",
        "Elements_with_frequency = Counter(edad_alumnos)\n",
        "print(Elements_with_frequency.most_common())"
      ]
    },
    {
      "cell_type": "code",
      "execution_count": 19,
      "metadata": {
        "id": "XV6x7O8trnPZ",
        "outputId": "d058265b-308b-48f1-ebdb-5187966e01a9",
        "colab": {
          "base_uri": "https://localhost:8080/"
        }
      },
      "outputs": [
        {
          "output_type": "stream",
          "name": "stdout",
          "text": [
            "La moda del conjunto es 11\n"
          ]
        }
      ],
      "source": [
        "print(\"La moda del conjunto es % s\" % (Counter(edad_alumnos).most_common(1)[0][0]))"
      ]
    }
  ],
  "metadata": {
    "colab": {
      "provenance": [],
      "include_colab_link": true
    },
    "kernelspec": {
      "display_name": "Python 3",
      "name": "python3"
    },
    "language_info": {
      "name": "python"
    }
  },
  "nbformat": 4,
  "nbformat_minor": 0
}