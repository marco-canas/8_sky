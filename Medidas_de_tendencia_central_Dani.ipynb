{
  "nbformat": 4,
  "nbformat_minor": 0,
  "metadata": {
    "colab": {
      "provenance": [],
      "include_colab_link": true
    },
    "kernelspec": {
      "name": "python3",
      "display_name": "Python 3"
    },
    "language_info": {
      "name": "python"
    }
  },
  "cells": [
    {
      "cell_type": "markdown",
      "metadata": {
        "id": "view-in-github",
        "colab_type": "text"
      },
      "source": [
        "<a href=\"https://colab.research.google.com/github/marco-canas/cielo/blob/main/Medidas_de_tendencia_central_Dani.ipynb\" target=\"_parent\"><img src=\"https://colab.research.google.com/assets/colab-badge.svg\" alt=\"Open In Colab\"/></a>"
      ]
    },
    {
      "cell_type": "markdown",
      "source": [
        "# Medidas de tendencia central en Estadística\n",
        "\n",
        "Las medidas de tendencia central son medidas estadísticas que pretenden resumir en un solo valor a un conjunto de valores. Representan un centro en torno al cual se encuentra ubicado el conjunto de los datos. Las medidas de tendencia central más utilizadas son: media, mediana y moda.\n",
        "\n",
        "* Media: Es el valor promedio del grupo datos, es decir, la cifra que se obtiene al sumar todos los datos y dividir el resultado entre la cantidad de los mismos.\n",
        "* Mediana: Es  el valor central, es decir, el que se encuentra en la mitad de la lista. \n",
        "* Moda: Es el número que más se repite, es decir, al observar la lista de datos del conjunto determinar cuál es el elemento que más se repite.\n"
      ],
      "metadata": {
        "id": "XKp_3cazmx6D"
      }
    },
    {
      "cell_type": "markdown",
      "source": [
        "## Listas\n",
        "\n",
        "Lo primero por trabajar cuando buscamos medidas de tendencia, es la elaboración de listas, ya que estas te permiten contener varios elementos dentro de un conjunto.\n"
      ],
      "metadata": {
        "id": "ghVr1lUgoT1X"
      }
    },
    {
      "cell_type": "markdown",
      "source": [
        "### ¿ Cómo crear una lista ?\n",
        "1. Se crea una variable, y a esta se le dará el nombre con el que se desea trabajar.\n",
        "2. Para formar la lista, luego del nombre de la variable, se deja un espacio, se coloca un signo de igual (=) , un espacio y se delimita con corchetes ([ ])   y los elementos en el interior se separan por comas (,).\n"
      ],
      "metadata": {
        "id": "lsgCK6hwa8kG"
      }
    },
    {
      "cell_type": "code",
      "source": [
        "edad_alumnos = [11,12,13,11,11,12,13]"
      ],
      "metadata": {
        "id": "XiTbsvE5d1bR"
      },
      "execution_count": 44,
      "outputs": []
    },
    {
      "cell_type": "markdown",
      "source": [
        "## Acceso a los datos de la lista\n",
        "Se llama a la lista escribiendo el nombre de las lista, y entre corchetes se pone el numero del dato que se desea visualizar en la lista.\n",
        "\n",
        "*Nota:*  En las listas el primer dato se enumera con el número 0, de allí continua la lista, de forma que el primer dato será el dato # 0, el segundo el # 1 y así consecutivamente. "
      ],
      "metadata": {
        "id": "99eKt7OmfJWQ"
      }
    },
    {
      "cell_type": "code",
      "source": [
        "edad_alumnos[0]"
      ],
      "metadata": {
        "colab": {
          "base_uri": "https://localhost:8080/"
        },
        "id": "ebrO1cbchFOw",
        "outputId": "efebf389-dc6d-45ad-a2df-af05ce9a3754"
      },
      "execution_count": 45,
      "outputs": [
        {
          "output_type": "execute_result",
          "data": {
            "text/plain": [
              "11"
            ]
          },
          "metadata": {},
          "execution_count": 45
        }
      ]
    },
    {
      "cell_type": "code",
      "source": [
        "edad_alumnos[1]"
      ],
      "metadata": {
        "colab": {
          "base_uri": "https://localhost:8080/"
        },
        "id": "gIb61x89hHQU",
        "outputId": "fcab79a7-df2b-4795-cc75-8d4cb056ac7b"
      },
      "execution_count": 46,
      "outputs": [
        {
          "output_type": "execute_result",
          "data": {
            "text/plain": [
              "12"
            ]
          },
          "metadata": {},
          "execution_count": 46
        }
      ]
    },
    {
      "cell_type": "code",
      "source": [
        "edad_alumnos[5]"
      ],
      "metadata": {
        "colab": {
          "base_uri": "https://localhost:8080/"
        },
        "id": "TBuKGIqVhLYY",
        "outputId": "c41a05d2-fdf2-42aa-adf8-bfdca73d55c4"
      },
      "execution_count": 47,
      "outputs": [
        {
          "output_type": "execute_result",
          "data": {
            "text/plain": [
              "12"
            ]
          },
          "metadata": {},
          "execution_count": 47
        }
      ]
    },
    {
      "cell_type": "markdown",
      "source": [
        "## Tuplas \n",
        "Las tuplas son listas, pero fijas, es decir, las listas como las que creamos antes son modificables, en la tuplas una vez creada ya no permite modificiaciones.\n"
      ],
      "metadata": {
        "id": "CYajZ9mTmFl8"
      }
    },
    {
      "cell_type": "markdown",
      "source": [
        "Estas se crean igual que las listas  con la diferencia que, en lugar de usar corchetes se usan paréntesis."
      ],
      "metadata": {
        "id": "ZLQKfJZpruOz"
      }
    },
    {
      "cell_type": "code",
      "source": [
        "edades = (11,12,13,15)"
      ],
      "metadata": {
        "id": "pbOvTW8mrfzp"
      },
      "execution_count": 48,
      "outputs": []
    },
    {
      "cell_type": "code",
      "source": [
        "edades[2]"
      ],
      "metadata": {
        "colab": {
          "base_uri": "https://localhost:8080/"
        },
        "id": "pe1zn41Wr7f5",
        "outputId": "5ed584e4-9f7f-48e7-e929-12617b935d5e"
      },
      "execution_count": 49,
      "outputs": [
        {
          "output_type": "execute_result",
          "data": {
            "text/plain": [
              "13"
            ]
          },
          "metadata": {},
          "execution_count": 49
        }
      ]
    },
    {
      "cell_type": "markdown",
      "source": [
        "## Funciones Incoproradas\n",
        "\n",
        "Las funciones incorporadas son funciones que se proporcionan con el gestor de bases de datos."
      ],
      "metadata": {
        "id": "PJ1QtdQ7sGMY"
      }
    },
    {
      "cell_type": "markdown",
      "source": [
        "### SUMA"
      ],
      "metadata": {
        "id": "VYlozT7isl10"
      }
    },
    {
      "cell_type": "code",
      "source": [
        "sum(edad_alumnos)"
      ],
      "metadata": {
        "colab": {
          "base_uri": "https://localhost:8080/"
        },
        "id": "2ZaaGJ2DsVOB",
        "outputId": "bc36a947-8388-40b4-fa0e-bee1a8894f5e"
      },
      "execution_count": 50,
      "outputs": [
        {
          "output_type": "execute_result",
          "data": {
            "text/plain": [
              "83"
            ]
          },
          "metadata": {},
          "execution_count": 50
        }
      ]
    },
    {
      "cell_type": "code",
      "source": [
        "sum(edades)"
      ],
      "metadata": {
        "colab": {
          "base_uri": "https://localhost:8080/"
        },
        "id": "_Czi0TDaseXK",
        "outputId": "296cf0ef-5711-4afa-b513-3b6d6266a50d"
      },
      "execution_count": 51,
      "outputs": [
        {
          "output_type": "execute_result",
          "data": {
            "text/plain": [
              "51"
            ]
          },
          "metadata": {},
          "execution_count": 51
        }
      ]
    },
    {
      "cell_type": "markdown",
      "source": [
        "### Longitud de la lista\n",
        "es decir, nos indica cuántos elementos contiene la lista.\n"
      ],
      "metadata": {
        "id": "GI4RmDF1spTQ"
      }
    },
    {
      "cell_type": "code",
      "source": [
        "len(edad_alumnos)"
      ],
      "metadata": {
        "colab": {
          "base_uri": "https://localhost:8080/"
        },
        "id": "mYz1-t6ps0N4",
        "outputId": "e98685fc-1761-4af1-d0c7-2e78c8cdb099"
      },
      "execution_count": 52,
      "outputs": [
        {
          "output_type": "execute_result",
          "data": {
            "text/plain": [
              "7"
            ]
          },
          "metadata": {},
          "execution_count": 52
        }
      ]
    },
    {
      "cell_type": "code",
      "source": [
        "len(edades)"
      ],
      "metadata": {
        "colab": {
          "base_uri": "https://localhost:8080/"
        },
        "id": "vas0oWURs4YV",
        "outputId": "e15bb94e-0111-467e-a410-fd03d6da1c92"
      },
      "execution_count": 53,
      "outputs": [
        {
          "output_type": "execute_result",
          "data": {
            "text/plain": [
              "4"
            ]
          },
          "metadata": {},
          "execution_count": 53
        }
      ]
    },
    {
      "cell_type": "markdown",
      "source": [
        "## Funciones definidas por el ususario \n",
        "\n",
        "Una función es un bloque de código que realiza alguna operación. En este caso, el código será construido por el usuario."
      ],
      "metadata": {
        "id": "cOju6aKBtRp1"
      }
    },
    {
      "cell_type": "markdown",
      "source": [
        "por ejenplo, de acuerdo a las listas anteriores, se planea obtener la media, mediana y moda de los datos presentados.\n"
      ],
      "metadata": {
        "id": "xCM2l6Um2JZF"
      }
    },
    {
      "cell_type": "markdown",
      "source": [
        "### La Media "
      ],
      "metadata": {
        "id": "A7v9b0Fl2SUN"
      }
    },
    {
      "cell_type": "code",
      "source": [
        "def calcular_la_media(lista_edad_alumnos):\n",
        "  return sum(lista_edad_alumnos)/len(lista_edad_alumnos)"
      ],
      "metadata": {
        "id": "8ejuoIB72Up4"
      },
      "execution_count": 54,
      "outputs": []
    },
    {
      "cell_type": "code",
      "source": [
        "calcular_la_media(edad_alumnos)"
      ],
      "metadata": {
        "colab": {
          "base_uri": "https://localhost:8080/"
        },
        "id": "9Ms2SZww2G70",
        "outputId": "b0faa78e-6e75-4f66-d067-f75d46d68f73"
      },
      "execution_count": 55,
      "outputs": [
        {
          "output_type": "execute_result",
          "data": {
            "text/plain": [
              "11.857142857142858"
            ]
          },
          "metadata": {},
          "execution_count": 55
        }
      ]
    },
    {
      "cell_type": "code",
      "source": [
        "estaturas = [1.5,1.6,1.7]"
      ],
      "metadata": {
        "id": "KkAR7gaB3mbL"
      },
      "execution_count": 56,
      "outputs": []
    },
    {
      "cell_type": "code",
      "source": [
        "calcular_la_media(estaturas)"
      ],
      "metadata": {
        "id": "rN5IWQcE3x7o",
        "outputId": "7825d260-2bf8-4507-f2f9-2e4791a5cef5",
        "colab": {
          "base_uri": "https://localhost:8080/"
        }
      },
      "execution_count": 57,
      "outputs": [
        {
          "output_type": "execute_result",
          "data": {
            "text/plain": [
              "1.5999999999999999"
            ]
          },
          "metadata": {},
          "execution_count": 57
        }
      ]
    },
    {
      "cell_type": "markdown",
      "source": [
        "### La Mediana\n",
        "\n",
        "En esta ocasión vamos a importar una librería para hallar la mediana de la lista con la que estamos trabajando.\n",
        "\n",
        " \n",
        "librería : **statistics** y la llamaremos **st** "
      ],
      "metadata": {
        "id": "MV-pZZgJ9qHl"
      }
    },
    {
      "cell_type": "code",
      "source": [
        "import statistics as st"
      ],
      "metadata": {
        "id": "vaIMwhEZ-F34"
      },
      "execution_count": 58,
      "outputs": []
    },
    {
      "cell_type": "code",
      "source": [
        "st.median(edad_alumnos)"
      ],
      "metadata": {
        "id": "5WWAPr27-NhZ",
        "outputId": "d98b54ae-9e67-4727-d830-eb18b78acb56",
        "colab": {
          "base_uri": "https://localhost:8080/"
        }
      },
      "execution_count": 59,
      "outputs": [
        {
          "output_type": "execute_result",
          "data": {
            "text/plain": [
              "12"
            ]
          },
          "metadata": {},
          "execution_count": 59
        }
      ]
    },
    {
      "cell_type": "markdown",
      "source": [
        "### La Moda\n",
        "\n",
        "La moda, se conoce como el dato que más se repite dentro del conjunto (en ese caso la lista)\n",
        "\n",
        "para calcular la moda necesitamos usar un código que pertenece a la librería **statistics**, que se llama **mode** "
      ],
      "metadata": {
        "id": "LSmIaPXa-iYe"
      }
    },
    {
      "cell_type": "code",
      "source": [
        "st.mode(edad_alumnos)"
      ],
      "metadata": {
        "id": "GWgkmQmyBsVe",
        "outputId": "f7f95ab7-767e-4950-ac1e-65142a60ea12",
        "colab": {
          "base_uri": "https://localhost:8080/"
        }
      },
      "execution_count": 60,
      "outputs": [
        {
          "output_type": "execute_result",
          "data": {
            "text/plain": [
              "11"
            ]
          },
          "metadata": {},
          "execution_count": 60
        }
      ]
    },
    {
      "cell_type": "code",
      "source": [
        "import numpy as np\n"
      ],
      "metadata": {
        "id": "34OaXm_LMZjg"
      },
      "execution_count": 61,
      "outputs": []
    },
    {
      "cell_type": "code",
      "source": [
        "variablemoda = None\n",
        "cantidad = 0\n",
        "\n",
        "edad_alumnos.sort()\n",
        "\n",
        "repeticiones = []\n",
        "for index, numero in enumerate (edad_alumnos):\n",
        "  if(numero !=edad_alumnos[index-1] and index != 0):\n",
        "    cantidadrepetidos = edad_alumnos.count(edad_alumnos[index-1])\n",
        "    repeticiones.append(cantidadrepetidos)\n",
        "\n",
        "repeticiones.append(edad_alumnos.count(edad_alumnos[len(edad_alumnos)-1]))\n",
        "\n",
        "\n",
        "moda = np.amax(repeticiones)\n",
        "\n",
        "veces_maximo = repeticiones.count(moda)\n",
        "\n",
        "if(veces_maximo == 1):\n",
        "  print('la moda vale', moda)\n",
        "else:\n",
        "  print('La moda se repite varias veces')"
      ],
      "metadata": {
        "id": "FaPCkEBgKG1D",
        "outputId": "eb3b685d-64e1-4ae7-dc2b-7597ec4c36b8",
        "colab": {
          "base_uri": "https://localhost:8080/"
        }
      },
      "execution_count": 65,
      "outputs": [
        {
          "output_type": "stream",
          "name": "stdout",
          "text": [
            "la moda vale 3\n"
          ]
        }
      ]
    }
  ]
}