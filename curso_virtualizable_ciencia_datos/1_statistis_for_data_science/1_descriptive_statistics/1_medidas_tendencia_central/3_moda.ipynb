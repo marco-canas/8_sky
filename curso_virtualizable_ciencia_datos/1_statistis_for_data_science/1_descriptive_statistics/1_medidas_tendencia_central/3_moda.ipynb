{
 "cells": [
  {
   "cell_type": "markdown",
   "id": "0faec3cd",
   "metadata": {
    "slideshow": {
     "slide_type": "slide"
    }
   },
   "source": []
  },
  {
   "cell_type": "markdown",
   "id": "739519eb",
   "metadata": {
    "slideshow": {
     "slide_type": "slide"
    }
   },
   "source": []
  },
  {
   "cell_type": "markdown",
   "id": "682b0229",
   "metadata": {
    "slideshow": {
     "slide_type": "slide"
    }
   },
   "source": [
    "# Medidas de tendencia central - Moda"
   ]
  },
  {
   "cell_type": "markdown",
   "id": "6969ebc6",
   "metadata": {
    "slideshow": {
     "slide_type": "slide"
    }
   },
   "source": [
    "## Preconceptos  \n",
    "\n",
    "1. DataFrame de Pandas  \n",
    "2. el método `value_counts()` de pandas. "
   ]
  },
  {
   "cell_type": "markdown",
   "id": "e507e72c",
   "metadata": {
    "slideshow": {
     "slide_type": "slide"
    }
   },
   "source": [
    "## Definición"
   ]
  },
  {
   "cell_type": "markdown",
   "id": "5efa6784",
   "metadata": {
    "slideshow": {
     "slide_type": "slide"
    }
   },
   "source": [
    "es el dato más frecuente de una variable categórica. "
   ]
  },
  {
   "cell_type": "markdown",
   "id": "a4d07451",
   "metadata": {
    "slideshow": {
     "slide_type": "slide"
    }
   },
   "source": []
  },
  {
   "cell_type": "markdown",
   "id": "75c9a22f",
   "metadata": {
    "slideshow": {
     "slide_type": "slide"
    }
   },
   "source": [
    "## Actividad práctica en Google Colab"
   ]
  },
  {
   "cell_type": "markdown",
   "id": "922cd5f1",
   "metadata": {
    "slideshow": {
     "slide_type": "slide"
    }
   },
   "source": []
  },
  {
   "cell_type": "markdown",
   "id": "9f0751d1",
   "metadata": {
    "slideshow": {
     "slide_type": "slide"
    }
   },
   "source": [
    "## Referentes"
   ]
  },
  {
   "cell_type": "code",
   "execution_count": null,
   "id": "366761c2",
   "metadata": {},
   "outputs": [],
   "source": []
  }
 ],
 "metadata": {
  "celltoolbar": "Slideshow",
  "kernelspec": {
   "display_name": "Python 3 (ipykernel)",
   "language": "python",
   "name": "python3"
  },
  "language_info": {
   "codemirror_mode": {
    "name": "ipython",
    "version": 3
   },
   "file_extension": ".py",
   "mimetype": "text/x-python",
   "name": "python",
   "nbconvert_exporter": "python",
   "pygments_lexer": "ipython3",
   "version": "3.9.13"
  }
 },
 "nbformat": 4,
 "nbformat_minor": 5
}
