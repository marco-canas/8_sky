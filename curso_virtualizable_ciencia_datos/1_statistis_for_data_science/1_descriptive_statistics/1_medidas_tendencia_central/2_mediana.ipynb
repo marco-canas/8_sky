{
 "cells": [
  {
   "cell_type": "markdown",
   "id": "e3e309fe",
   "metadata": {
    "slideshow": {
     "slide_type": "slide"
    }
   },
   "source": [
    "<table align=\"left\">\n",
    "  <td>\n",
    "    <a href=\"https://colab.research.google.com/github/marco-canas/didactica_ciencia_datos/blob/main/propuesta/unidad_didac/1_statistic/1_Basic_Descriptive_Statistics/1_medidas_tendencia_central/2_mediana.ipynb\" target=\"_parent\"><img src=\"https://colab.research.google.com/assets/colab-badge.svg\" alt=\"Open In Colab\"/></a>\n",
    "  </td>\n",
    "</table>"
   ]
  },
  {
   "cell_type": "markdown",
   "id": "176706f3",
   "metadata": {
    "slideshow": {
     "slide_type": "slide"
    }
   },
   "source": [
    "## [Video de apoyo a la lectura interactiva y experimental de este cuaderno]()"
   ]
  },
  {
   "cell_type": "markdown",
   "id": "0245fdd0",
   "metadata": {
    "slideshow": {
     "slide_type": "slide"
    }
   },
   "source": [
    "# Medidas de Tendencia central- Madiana"
   ]
  },
  {
   "cell_type": "markdown",
   "id": "4b0b205c",
   "metadata": {
    "slideshow": {
     "slide_type": "slide"
    }
   },
   "source": [
    "## Conceptos teóricos mínimos para realizar la práctica"
   ]
  },
  {
   "cell_type": "markdown",
   "id": "b5962ec8",
   "metadata": {
    "slideshow": {
     "slide_type": "slide"
    }
   },
   "source": [
    "1. Librería Numpy de Python\n",
    "2. DataFrame de Pandas  \n",
    "3. el método `.value_counts()` de pandas\n",
    "4. el método `.sort()`\n",
    "5. El módulo statistics de python \n"
   ]
  },
  {
   "cell_type": "markdown",
   "id": "6ab222f4",
   "metadata": {
    "slideshow": {
     "slide_type": "slide"
    }
   },
   "source": [
    "# [Python statistics.median() Method](https://www.w3schools.com/python/ref_stat_median.asp)"
   ]
  },
  {
   "cell_type": "markdown",
   "id": "6212c574",
   "metadata": {
    "slideshow": {
     "slide_type": "slide"
    }
   },
   "source": [
    "The Median is used to find the outliers present in the dataset."
   ]
  },
  {
   "cell_type": "markdown",
   "id": "c2683a17",
   "metadata": {
    "slideshow": {
     "slide_type": "slide"
    }
   },
   "source": [
    "Steps to find out the median -\n",
    "\n",
    "1 ) Sort the number\n",
    "\n",
    "2 ) Find the central number\n",
    "\n",
    "a ) If the number of elements is even we find the average of central numbers.\n",
    "\n",
    "b ) If the number of elements is odd we find the central elements.\n",
    "\n",
    "no outliers — → mean\n",
    "\n",
    "with outliers — → median"
   ]
  },
  {
   "cell_type": "markdown",
   "id": "e306d454",
   "metadata": {
    "slideshow": {
     "slide_type": "slide"
    }
   },
   "source": [
    "## Example\n",
    "\n",
    "Calculate the median (middle value) of the given data:"
   ]
  },
  {
   "cell_type": "code",
   "execution_count": 16,
   "id": "93834afa",
   "metadata": {
    "slideshow": {
     "slide_type": "slide"
    }
   },
   "outputs": [],
   "source": [
    "datos = [1, 2,4, 60]"
   ]
  },
  {
   "cell_type": "code",
   "execution_count": 17,
   "id": "3c2bbbe7",
   "metadata": {
    "slideshow": {
     "slide_type": "slide"
    }
   },
   "outputs": [
    {
     "data": {
      "text/plain": [
       "4"
      ]
     },
     "execution_count": 17,
     "metadata": {},
     "output_type": "execute_result"
    }
   ],
   "source": [
    "len(datos)"
   ]
  },
  {
   "cell_type": "code",
   "execution_count": 18,
   "id": "73ae1149",
   "metadata": {
    "slideshow": {
     "slide_type": "slide"
    }
   },
   "outputs": [],
   "source": [
    "import statistics as st "
   ]
  },
  {
   "cell_type": "code",
   "execution_count": 19,
   "id": "2a9aa035",
   "metadata": {
    "slideshow": {
     "slide_type": "slide"
    }
   },
   "outputs": [
    {
     "data": {
      "text/plain": [
       "3.0"
      ]
     },
     "execution_count": 19,
     "metadata": {},
     "output_type": "execute_result"
    }
   ],
   "source": [
    "st.median(datos)"
   ]
  },
  {
   "cell_type": "markdown",
   "id": "8f3c3539",
   "metadata": {
    "slideshow": {
     "slide_type": "slide"
    }
   },
   "source": [
    "# Actividad práctica"
   ]
  },
  {
   "cell_type": "code",
   "execution_count": null,
   "id": "4d59e970",
   "metadata": {
    "slideshow": {
     "slide_type": "slide"
    }
   },
   "outputs": [],
   "source": []
  },
  {
   "cell_type": "markdown",
   "id": "27a006bc",
   "metadata": {
    "slideshow": {
     "slide_type": "slide"
    }
   },
   "source": [
    "## Tareas de fijación de conceptos y de adquisición de habilidades"
   ]
  },
  {
   "cell_type": "markdown",
   "id": "c0c0ef1a",
   "metadata": {
    "slideshow": {
     "slide_type": "slide"
    }
   },
   "source": [
    "1. Crea un nbarray de NumPy con las edades de tus compañeros de clase y calcula la madiana utilizando la ibrería numpy. "
   ]
  },
  {
   "cell_type": "code",
   "execution_count": 21,
   "id": "788b932a",
   "metadata": {
    "slideshow": {
     "slide_type": "slide"
    }
   },
   "outputs": [],
   "source": [
    "import numpy as np \n",
    "import pandas as pd \n",
    "import statistics as st \n"
   ]
  },
  {
   "cell_type": "code",
   "execution_count": 22,
   "id": "33f1e037",
   "metadata": {
    "slideshow": {
     "slide_type": "slide"
    }
   },
   "outputs": [],
   "source": [
    "edades = np.array([47, 14, 30])"
   ]
  },
  {
   "cell_type": "code",
   "execution_count": 25,
   "id": "aa39427d",
   "metadata": {
    "slideshow": {
     "slide_type": "slide"
    }
   },
   "outputs": [],
   "source": [
    "edades.sort() "
   ]
  },
  {
   "cell_type": "code",
   "execution_count": 26,
   "id": "a578d0b8",
   "metadata": {
    "slideshow": {
     "slide_type": "slide"
    }
   },
   "outputs": [
    {
     "data": {
      "text/plain": [
       "array([14, 30, 47])"
      ]
     },
     "execution_count": 26,
     "metadata": {},
     "output_type": "execute_result"
    }
   ],
   "source": [
    "edades "
   ]
  },
  {
   "cell_type": "code",
   "execution_count": 23,
   "id": "5d1b97d5",
   "metadata": {
    "slideshow": {
     "slide_type": "slide"
    }
   },
   "outputs": [
    {
     "data": {
      "text/plain": [
       "30.333333333333332"
      ]
     },
     "execution_count": 23,
     "metadata": {},
     "output_type": "execute_result"
    }
   ],
   "source": [
    "edades.mean() "
   ]
  },
  {
   "cell_type": "code",
   "execution_count": 24,
   "id": "31368416",
   "metadata": {
    "slideshow": {
     "slide_type": "slide"
    }
   },
   "outputs": [
    {
     "data": {
      "text/plain": [
       "30"
      ]
     },
     "execution_count": 24,
     "metadata": {},
     "output_type": "execute_result"
    }
   ],
   "source": [
    "st.median(edades) "
   ]
  },
  {
   "cell_type": "markdown",
   "id": "07cbaae4",
   "metadata": {
    "slideshow": {
     "slide_type": "slide"
    }
   },
   "source": [
    "## Evaluación "
   ]
  },
  {
   "cell_type": "markdown",
   "id": "7aaed777",
   "metadata": {},
   "source": [
    "Consulta las estaturas de tus compeñeros y crea una lista de python con ellas y luego calcula la media y ma madiana de estos datos y termina dando una interpretación de estas medidas de tendencia central. "
   ]
  },
  {
   "cell_type": "markdown",
   "id": "cbe09f87",
   "metadata": {
    "slideshow": {
     "slide_type": "slide"
    }
   },
   "source": [
    "## Referentes"
   ]
  },
  {
   "cell_type": "markdown",
   "id": "a5906bff",
   "metadata": {
    "slideshow": {
     "slide_type": "slide"
    }
   },
   "source": [
    "* El módulo statistics de Python: https://docs.python.org/es/3/library/statistics.html\n",
    "* Python statistics.median() Method: https://www.w3schools.com/python/ref_stat_median.asp\n",
    "\n",
    "* Statistics for Data Science Part — II: https://medium.com/@yakubakku43/statistics-for-data-science-part-ii-2b5d117a294f"
   ]
  },
  {
   "cell_type": "markdown",
   "id": "d766eadc",
   "metadata": {
    "slideshow": {
     "slide_type": "slide"
    }
   },
   "source": [
    "### [Continue la secuencia de enseñanza a través de este vínculo](https://github.com/marco-canas/didactica_ciencia_datos/blob/main/propuesta/unidad_didac/1_statistic/1_Basic_Descriptive_Statistics/1_medidas_tendencia_central/3_moda.ipynb)"
   ]
  },
  {
   "cell_type": "code",
   "execution_count": null,
   "id": "27a23c96",
   "metadata": {},
   "outputs": [],
   "source": []
  }
 ],
 "metadata": {
  "celltoolbar": "Slideshow",
  "kernelspec": {
   "display_name": "Python 3 (ipykernel)",
   "language": "python",
   "name": "python3"
  },
  "language_info": {
   "codemirror_mode": {
    "name": "ipython",
    "version": 3
   },
   "file_extension": ".py",
   "mimetype": "text/x-python",
   "name": "python",
   "nbconvert_exporter": "python",
   "pygments_lexer": "ipython3",
   "version": "3.9.13"
  }
 },
 "nbformat": 4,
 "nbformat_minor": 5
}
