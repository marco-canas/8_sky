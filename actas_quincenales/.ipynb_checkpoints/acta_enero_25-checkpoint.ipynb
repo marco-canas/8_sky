{
 "cells": [
  {
   "cell_type": "markdown",
   "id": "edd9406f",
   "metadata": {
    "slideshow": {
     "slide_type": "slide"
    }
   },
   "source": [
    "<table align=\"left\">\n",
    "  <td>\n",
    "    <a href=\"https://colab.research.google.com/github/marco-canas/didactica_ciencia_datos/blob/main/propuesta/unidad_didac/1_statistic/1_Basic_Descriptive_Statistics/1_medidas_tendencia_central/1_media.ipynb\" target=\"_parent\"><img src=\"https://colab.research.google.com/assets/colab-badge.svg\" alt=\"Open In Colab\"/></a>\n",
    "  </td>\n",
    "</table>"
   ]
  },
  {
   "cell_type": "markdown",
   "id": "8375ec10",
   "metadata": {
    "slideshow": {
     "slide_type": "slide"
    }
   },
   "source": [
    "## [Video de la sesión grabado a través de YouTube]() "
   ]
  },
  {
   "cell_type": "markdown",
   "id": "1c2f3e35",
   "metadata": {
    "slideshow": {
     "slide_type": "slide"
    }
   },
   "source": [
    "# Acta de la reunión de enero 25 de 2023 Viernes  \n",
    "\n",
    "Hora: 8:30 AM."
   ]
  },
  {
   "cell_type": "markdown",
   "id": "a1ac1174",
   "metadata": {
    "slideshow": {
     "slide_type": "slide"
    }
   },
   "source": [
    "## Asistentes\n",
    "\n",
    "|Nombre|Cargo| Asistió o no |\n",
    "|------|-----|--------------|  \n",
    "|Esteban Silva|Investigador principal. Doctor en Astrofísica| si| \n",
    "||| | \n"
   ]
  },
  {
   "cell_type": "markdown",
   "id": "740c3e56",
   "metadata": {
    "slideshow": {
     "slide_type": "slide"
    }
   },
   "source": [
    "## Temas a tratar"
   ]
  },
  {
   "cell_type": "markdown",
   "id": "5be96bd1",
   "metadata": {
    "slideshow": {
     "slide_type": "slide"
    }
   },
   "source": [
    "1. Inscripción al evento  para jóvenes investigadores que se realizará en abril de este año. \n",
    "2. Cómo articular las actividades de los jóvenes investigadores con el proyecto Antioquia mira su cielo. \n",
    "3. Gestionar la reubicación o redireccionamiento de la estación.\n",
    "4. Charlar públicas de dibulgación utilizando los datos del proyecto. "
   ]
  },
  {
   "cell_type": "markdown",
   "id": "9b6f4cea",
   "metadata": {
    "slideshow": {
     "slide_type": "slide"
    }
   },
   "source": [
    "# Solicitud del Ingeniero de sistemas de la sede Caucasia: Juan Anibal "
   ]
  },
  {
   "cell_type": "markdown",
   "id": "aa040a59",
   "metadata": {
    "slideshow": {
     "slide_type": "slide"
    }
   },
   "source": [
    "* Reinstale el sistema operativo. \n",
    "* conectar "
   ]
  },
  {
   "cell_type": "code",
   "execution_count": null,
   "id": "a83c5150",
   "metadata": {},
   "outputs": [],
   "source": []
  },
  {
   "cell_type": "code",
   "execution_count": null,
   "id": "16c660a7",
   "metadata": {},
   "outputs": [],
   "source": []
  },
  {
   "cell_type": "code",
   "execution_count": null,
   "id": "36445fed",
   "metadata": {},
   "outputs": [],
   "source": []
  },
  {
   "cell_type": "code",
   "execution_count": null,
   "id": "55c49c8e",
   "metadata": {},
   "outputs": [],
   "source": []
  }
 ],
 "metadata": {
  "celltoolbar": "Slideshow",
  "kernelspec": {
   "display_name": "Python 3 (ipykernel)",
   "language": "python",
   "name": "python3"
  },
  "language_info": {
   "codemirror_mode": {
    "name": "ipython",
    "version": 3
   },
   "file_extension": ".py",
   "mimetype": "text/x-python",
   "name": "python",
   "nbconvert_exporter": "python",
   "pygments_lexer": "ipython3",
   "version": "3.9.13"
  }
 },
 "nbformat": 4,
 "nbformat_minor": 5
}
