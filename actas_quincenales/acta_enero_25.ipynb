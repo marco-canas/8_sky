{
 "cells": [
  {
   "cell_type": "markdown",
   "id": "abf64336",
   "metadata": {
    "slideshow": {
     "slide_type": "slide"
    }
   },
   "source": [
    "<table align=\"left\">\n",
    "  <td>\n",
    "    <a href=\"https://colab.research.google.com/github/marco-canas/cielo/blob/main/actas_quincenales/acta_enero_25.ipynb\" target=\"_parent\"><img src=\"https://colab.research.google.com/assets/colab-badge.svg\" alt=\"Open In Colab\"/></a>\n",
    "  </td>\n",
    "</table>"
   ]
  },
  {
   "cell_type": "markdown",
   "id": "279c295a",
   "metadata": {
    "slideshow": {
     "slide_type": "slide"
    }
   },
   "source": [
    "## [Video de la sesión grabado a través de YouTube]() "
   ]
  },
  {
   "cell_type": "markdown",
   "id": "1c2f3e35",
   "metadata": {
    "slideshow": {
     "slide_type": "slide"
    }
   },
   "source": [
    "# Acta de la reunión de enero 25 de 2023 Viernes  \n",
    "\n",
    "Hora: 8:30 AM."
   ]
  },
  {
   "cell_type": "markdown",
   "id": "a1ac1174",
   "metadata": {
    "slideshow": {
     "slide_type": "slide"
    }
   },
   "source": [
    "## Asistentes\n",
    "\n",
    "|Nombre|Cargo| Asistió o no |\n",
    "|------|-----|--------------|  \n",
    "|Esteban Silva|Investigador principal. Doctor en Astrofísica| si| \n",
    "|Leidy Bibiana De La Ossa Villadiego|Docente Coinvestigadora y tutora. Estudiante de Doctorado|si | \n",
    "|Estefany Cardenas|Joven Investigadora| si | \n",
    "||| | \n",
    "||| | \n",
    "||| | \n",
    "||| | \n",
    "\n"
   ]
  },
  {
   "cell_type": "markdown",
   "id": "740c3e56",
   "metadata": {
    "slideshow": {
     "slide_type": "slide"
    }
   },
   "source": [
    "## Temas a tratar"
   ]
  },
  {
   "cell_type": "markdown",
   "id": "5be96bd1",
   "metadata": {
    "slideshow": {
     "slide_type": "slide"
    }
   },
   "source": [
    "1. Presentación de los jóvenes investigadores\n",
    "2. Información para su registro en la plataforma de la UdeA\n",
    "1. Inscripción al evento  para jóvenes investigadores que se realizará en abril de este año. \n",
    "2. Cómo articular las actividades de los jóvenes investigadores con el proyecto Antioquia mira su cielo. \n",
    "3. Gestionar la reubicación o redireccionamiento de la estación.\n",
    "4. Charlar públicas de divulgación utilizando los datos del proyecto. "
   ]
  },
  {
   "cell_type": "markdown",
   "id": "2b2ab17f",
   "metadata": {
    "slideshow": {
     "slide_type": "slide"
    }
   },
   "source": [
    "# Presentación del curso de Nilson"
   ]
  },
  {
   "cell_type": "markdown",
   "id": "085bce34",
   "metadata": {},
   "source": [
    "https://view.genial.ly/63b33af98e6a95001922a1fe/interactive-content-introduccion-a-la-ciencia-de-datos-y-machine-learning"
   ]
  },
  {
   "cell_type": "code",
   "execution_count": null,
   "id": "00427827",
   "metadata": {},
   "outputs": [],
   "source": []
  },
  {
   "cell_type": "code",
   "execution_count": null,
   "id": "bfbfb978",
   "metadata": {},
   "outputs": [],
   "source": []
  },
  {
   "cell_type": "markdown",
   "id": "9b6f4cea",
   "metadata": {
    "slideshow": {
     "slide_type": "slide"
    }
   },
   "source": [
    "# Agradecimiento al Ingeniero de sistemas de la sede Caucasia: Juan Anibal "
   ]
  },
  {
   "cell_type": "markdown",
   "id": "aa040a59",
   "metadata": {
    "slideshow": {
     "slide_type": "slide"
    }
   },
   "source": [
    "* Reinstaló el sistema operativo de la Rasberri Pi. "
   ]
  },
  {
   "cell_type": "markdown",
   "id": "02d3611a",
   "metadata": {},
   "source": [
    "# Tareas"
   ]
  },
  {
   "cell_type": "markdown",
   "id": "f799683a",
   "metadata": {},
   "source": [
    "1. Crear una cuenta en GitHub\n",
    "2. Clonar el repositorio cielo "
   ]
  },
  {
   "cell_type": "code",
   "execution_count": null,
   "id": "841bf384",
   "metadata": {},
   "outputs": [],
   "source": []
  },
  {
   "cell_type": "code",
   "execution_count": null,
   "id": "a022319e",
   "metadata": {},
   "outputs": [],
   "source": []
  }
 ],
 "metadata": {
  "celltoolbar": "Slideshow",
  "kernelspec": {
   "display_name": "Python 3 (ipykernel)",
   "language": "python",
   "name": "python3"
  },
  "language_info": {
   "codemirror_mode": {
    "name": "ipython",
    "version": 3
   },
   "file_extension": ".py",
   "mimetype": "text/x-python",
   "name": "python",
   "nbconvert_exporter": "python",
   "pygments_lexer": "ipython3",
   "version": "3.9.13"
  }
 },
 "nbformat": 4,
 "nbformat_minor": 5
}
