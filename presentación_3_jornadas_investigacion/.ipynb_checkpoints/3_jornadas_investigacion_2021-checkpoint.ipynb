{
 "cells": [
  {
   "cell_type": "markdown",
   "id": "7839f171",
   "metadata": {
    "slideshow": {
     "slide_type": "slide"
    }
   },
   "source": [
    "\n",
    "<table align=\"left\">\n",
    "  <td>\n",
    "    <a href=\"https://colab.research.google.com/github/marco-canas/taca/blob/main/ref/charu/7_ch/7_2_SVD_A_Linear_Algebra_Perspective.ipynb\" target=\"_parent\"><img src=\"https://colab.research.google.com/assets/colab-badge.svg\" alt=\"Open In Colab\"/></a>\n",
    "  </td>\n",
    "  <td>\n",
    "    <a target=\"_blank\" href=\"https://kaggle.com/kernels/welcome?src=https://github.com/marco-canas/taca/blob/main/ref/charu/7_ch/7_2_SVD_A_Linear_Algebra_Perspective.ipynb\"><img src=\"https://kaggle.com/static/images/open-in-kaggle.svg\" /></a>\n",
    "  </td>\n",
    "</table>\n",
    "\n"
   ]
  },
  {
   "cell_type": "markdown",
   "id": "960b5ef7",
   "metadata": {
    "slideshow": {
     "slide_type": "slide"
    }
   },
   "source": [
    "## RESUMEN"
   ]
  },
  {
   "cell_type": "markdown",
   "id": "e28af035",
   "metadata": {
    "slideshow": {
     "slide_type": "slide"
    }
   },
   "source": [
    "La estacionalidad y los ciclos de las variables climáticas esenciales tales como: \n",
    "\n",
    "* la temperatura, \n",
    "* [el agua precipitable,](https://en.wikipedia.org/wiki/Precipitable_water)  \n",
    "* la irradiancia, \n",
    "\n",
    "entre otras, tienen un comportamiento turbulento y caótico por naturaleza. "
   ]
  },
  {
   "cell_type": "markdown",
   "id": "cf5e7969",
   "metadata": {
    "slideshow": {
     "slide_type": "slide"
    }
   },
   "source": [
    "Dicho comportamiento hace que su estudio a pequeña escala, tanto temporal como espacial, no pueda hacerse de una forma directa. "
   ]
  },
  {
   "cell_type": "markdown",
   "id": "752396cf",
   "metadata": {
    "slideshow": {
     "slide_type": "slide"
    }
   },
   "source": [
    "A través del uso de \n",
    "\n",
    "* estaciones de monitoreo permanente, \n",
    "* imágenes satelitales y \n",
    "* modelos teóricos computacionales, \n",
    "\n",
    "estudiaremos el comportamiento de la atmósfera sobre el Departamento de Antioquia."
   ]
  },
  {
   "cell_type": "markdown",
   "id": "ab05a5e4",
   "metadata": {
    "slideshow": {
     "slide_type": "slide"
    }
   },
   "source": [
    " \n",
    "Este estudio se enfocará en los cielos de las sedes regionales de la Universidad de Antioquia, tratando de maximizar el área de cobertura territorial. "
   ]
  },
  {
   "cell_type": "markdown",
   "id": "5ec2f118",
   "metadata": {
    "slideshow": {
     "slide_type": "slide"
    }
   },
   "source": [
    "Una máxima cobertura, con una alta resolución tanto espacial como temporal, permitirá que los estudios que se realicen tengan resultados únicos."
   ]
  },
  {
   "cell_type": "markdown",
   "id": "b9c214bb",
   "metadata": {
    "slideshow": {
     "slide_type": "slide"
    }
   },
   "source": [
    "  \n",
    "Usaremos estaciones meteorológicas y cámaras Allsky para medir los parámetros atmosféricos y del cielo, que serán corroborados con imágenes del satélite GOES-16. "
   ]
  },
  {
   "cell_type": "markdown",
   "id": "1516860e",
   "metadata": {
    "slideshow": {
     "slide_type": "slide"
    }
   },
   "source": [
    "Una vez corroborados los datos, se compararán con modelos teóricos computacionales, que nos permitirán realizar pronósticos a pequeñas escalas de tiempo (~1 día). "
   ]
  },
  {
   "cell_type": "markdown",
   "id": "c9e21c24",
   "metadata": {
    "slideshow": {
     "slide_type": "slide"
    }
   },
   "source": [
    "Para realizar este proyecto, se reunió un conjunto de profesionales que han trabajado en el área, favoreciendo la viabilidad del mismo. "
   ]
  },
  {
   "cell_type": "markdown",
   "id": "3919164b",
   "metadata": {
    "slideshow": {
     "slide_type": "slide"
    }
   },
   "source": [
    "Al finalizar este proyecto se logrará lo siguiente: "
   ]
  },
  {
   "cell_type": "markdown",
   "id": "d76b03d6",
   "metadata": {
    "slideshow": {
     "slide_type": "slide"
    }
   },
   "source": [
    "Haber involucrado 3 estudiantes de las sedes regionales de la Universidad."
   ]
  },
  {
   "cell_type": "markdown",
   "id": "9dcecc8b",
   "metadata": {
    "slideshow": {
     "slide_type": "slide"
    }
   },
   "source": [
    "La instalación de 3 estaciones meteorológicas de monitoreo permanente funcionando plenamente."
   ]
  },
  {
   "cell_type": "markdown",
   "id": "a225866c",
   "metadata": {
    "slideshow": {
     "slide_type": "slide"
    }
   },
   "source": [
    "Un producto de divulgación."
   ]
  },
  {
   "cell_type": "markdown",
   "id": "1fa89a45",
   "metadata": {
    "slideshow": {
     "slide_type": "slide"
    }
   },
   "source": [
    " \n",
    "Un programa de charlas públicas para escuelas y colegios de las sedes regionales usando los datos del proyecto."
   ]
  },
  {
   "cell_type": "markdown",
   "id": "f38bf642",
   "metadata": {
    "slideshow": {
     "slide_type": "slide"
    }
   },
   "source": [
    " \n",
    "Una página web en un servidor de la Universidad donde se ofrecerá acceso a todos los datos obtenidos. "
   ]
  },
  {
   "cell_type": "markdown",
   "id": "a468a5b6",
   "metadata": {
    "slideshow": {
     "slide_type": "slide"
    }
   },
   "source": [
    "Las condiciones y herramientas mínimas para que el conjunto de estaciones de monitoreo continúe funcionando una vez termine el proyecto."
   ]
  },
  {
   "cell_type": "markdown",
   "id": "f9189355",
   "metadata": {
    "slideshow": {
     "slide_type": "slide"
    }
   },
   "source": [
    "## Planteamiento del problema"
   ]
  },
  {
   "cell_type": "markdown",
   "id": "28f7d4bf",
   "metadata": {
    "slideshow": {
     "slide_type": "slide"
    }
   },
   "source": [
    "La atmósfera del planeta Tierra es un sistema complejo, con dinámicas en una gran variedad de escalas espaciales y temporales, y con características caóticas y turbulentas que dificultan su predictibilidad. "
   ]
  },
  {
   "cell_type": "markdown",
   "id": "1c692508",
   "metadata": {
    "slideshow": {
     "slide_type": "slide"
    }
   },
   "source": [
    "La atmósfera es un sistema fundamental para la vida en el planeta, incluyendo la humana. "
   ]
  },
  {
   "cell_type": "markdown",
   "id": "12838ba2",
   "metadata": {
    "slideshow": {
     "slide_type": "slide"
    }
   },
   "source": [
    "A pesar de haber desarrollado modelos teóricos y numéricos que nos ayudan a entender el comportamiento de la atmósfera,  los rasgos aperiódicos y limitaciones en predictibilidad hacen que exista una necesidad permanente de monitorear la variación de parámetros atmosféricos relevantes a pequeñas escalas espaciales y temporales, especialmente si estamos interesados en los detalles del tiempo y el clima que afecta una comunidad en particular. "
   ]
  },
  {
   "cell_type": "markdown",
   "id": "364cc907",
   "metadata": {
    "slideshow": {
     "slide_type": "slide"
    }
   },
   "source": [
    "Dada la importancia de algunos de esos parámetros, la Organización Meteorológica Mundial ha definido una lista de parámetros conocidos como Variables Climáticas Esenciales (ECVs, por sus siglas en Inglés). "
   ]
  },
  {
   "cell_type": "markdown",
   "id": "c44eee3d",
   "metadata": {
    "slideshow": {
     "slide_type": "slide"
    }
   },
   "source": [
    "Instituciones como el SIATA y el IDEAM, a nivel municipal y nacional respectivamente, cuentan en la actualidad con instrumentos  que monitorean constantemente variables meteorológicas como: temperatura, dirección del viento, humedad relativa, irradiancia (radiación solar en superficie), presión atmosférica, entre otras ECVs. "
   ]
  },
  {
   "cell_type": "markdown",
   "id": "afd79b26",
   "metadata": {
    "slideshow": {
     "slide_type": "slide"
    }
   },
   "source": [
    "Una gran cantidad de parámetros son monitoreados a nivel mundial a través de satélites geoestacionarios, como el Geostationary Operational Environmental Satellite-R Series (GOES-R)."
   ]
  },
  {
   "cell_type": "markdown",
   "id": "cb984e53",
   "metadata": {
    "slideshow": {
     "slide_type": "slide"
    }
   },
   "source": [
    " \n",
    "Las medidas satelitales incluyen variables como temperatura de la superficie, los vientos y el vapor de agua, las cuales también son ECVs. "
   ]
  },
  {
   "cell_type": "markdown",
   "id": "985ad172",
   "metadata": {
    "slideshow": {
     "slide_type": "slide"
    }
   },
   "source": [
    "Pese a diversos errores e incertidumbres en los estimados satelitales, sus datos son fundamentales para la mayor parte de diagnósticos y pronósticos relacionados con la atmósfera, y entre sus mayores ventajas se encuentra el hecho de que proveen datos para regiones donde no existen registros/estaciones en tierra. "
   ]
  },
  {
   "cell_type": "markdown",
   "id": "4c4d3de1",
   "metadata": {
    "slideshow": {
     "slide_type": "slide"
    }
   },
   "source": [
    "Sin embargo, el uso de datos satelitales requiere un ejercicio de validación de sus registros comparándolos con información en tierra. "
   ]
  },
  {
   "cell_type": "markdown",
   "id": "d4301e36",
   "metadata": {
    "slideshow": {
     "slide_type": "slide"
    }
   },
   "source": [
    "Además, el formato y producción de la información satelital usualmente requiere usuarios con formación técnica en una serie de herramientas computacionales específicas, que no son de dominio común. "
   ]
  },
  {
   "cell_type": "markdown",
   "id": "f1b1f31c",
   "metadata": {
    "slideshow": {
     "slide_type": "slide"
    }
   },
   "source": [
    "A través de un estudio de identificación de la nubosidad sobre el Valle de San Nicolás, Arbeláez-Cardona et al. (2019) lograron caracterizar y relacionar observaciones tomadas desde tierra con imágenes del satélite GOES-16. "
   ]
  },
  {
   "cell_type": "markdown",
   "id": "0bc94fe9",
   "metadata": {
    "slideshow": {
     "slide_type": "slide"
    }
   },
   "source": [
    "<img src = 'https://nuestroclima.com/wp-content/uploads/2017/06/Goes-16.jpg'> "
   ]
  },
  {
   "cell_type": "markdown",
   "id": "ddae774b",
   "metadata": {
    "slideshow": {
     "slide_type": "slide"
    }
   },
   "source": [
    "Para identificar dicha relación, los autores estudiaron los productos de ciencia (L2) del instrumento ABI del satélite GOES. "
   ]
  },
  {
   "cell_type": "markdown",
   "id": "2bf1704f",
   "metadata": {
    "slideshow": {
     "slide_type": "slide"
    }
   },
   "source": [
    "Uno de dichos productos es la presencia (o ausencia) de nubes sobre la superficie de la Tierra. "
   ]
  },
  {
   "cell_type": "markdown",
   "id": "0b6d29e8",
   "metadata": {
    "slideshow": {
     "slide_type": "slide"
    }
   },
   "source": [
    "Usando dicha calibración, los autores realizaron un estudio para el año 2018, e identificaron los sitios con menor nubosidad durante las horas de la noche en el territorio nacional. "
   ]
  },
  {
   "cell_type": "markdown",
   "id": "e6dce5a7",
   "metadata": {
    "slideshow": {
     "slide_type": "slide"
    }
   },
   "source": [
    "La alta resolución espacial ($\\approx 2 \\ km$) y temporal ($\\approx 10$ minutos) de este análisis permitieron realizar un estudio, no solo sobre el Valle de San Nicolás, sino sobre diferentes territorios a nivel nacional. "
   ]
  },
  {
   "cell_type": "markdown",
   "id": "a05ffefc",
   "metadata": {
    "slideshow": {
     "slide_type": "slide"
    }
   },
   "source": [
    "En particular, el Departamento de Antioquia mostró, durante el año estudiado, que el sitio con la menor nubosidad es Arboletes, con un total de 101 noches despejadas ($\\approx 3$ meses, no necesariamente noches consecutivas). "
   ]
  },
  {
   "cell_type": "markdown",
   "id": "3e33b167",
   "metadata": {
    "slideshow": {
     "slide_type": "slide"
    }
   },
   "source": [
    "La variable nubosidad es solo uno de los tantos parámetros que pueden afectar una región a pequeña escala: baja nubosidad está asociada a mayor temperatura, alta nubosidad está asociada a menor temperatura e incluso a la formación de tormentas. "
   ]
  },
  {
   "cell_type": "markdown",
   "id": "16a9b82e",
   "metadata": {
    "slideshow": {
     "slide_type": "slide"
    }
   },
   "source": [
    "Por esta razón, el monitoreo y caracterización de la variable nubosidad puede ser de gran utilidad para entender y diagnosticar la atmósfera de una región. "
   ]
  },
  {
   "cell_type": "markdown",
   "id": "af8771ec",
   "metadata": {
    "slideshow": {
     "slide_type": "slide"
    }
   },
   "source": [
    "Medidas de nubosidad con estaciones en tierra requieren instrumentos especiales, como piranómetros o cámaras de cielo, los cuales no están disponibles en muchas localidades, incluyendo muchos sitios en Antioquia. "
   ]
  },
  {
   "cell_type": "markdown",
   "id": "f571fd71",
   "metadata": {
    "slideshow": {
     "slide_type": "slide"
    }
   },
   "source": [
    "Algo similar sucede con otras variables atmosféricas, sin embargo, las posibilidades que ofrece el satélite GOES-16 permiten un estudio detallado de un grupo mayor de parámetros que favorecen el estudio y caracterización del comportamiento de la atmósfera a escalas de pocos kilómetros (~10 km)."
   ]
  },
  {
   "cell_type": "markdown",
   "id": "604bf117",
   "metadata": {
    "slideshow": {
     "slide_type": "slide"
    }
   },
   "source": [
    "El proyecto busca: \n",
    "\n",
    "* realizar un estudio del cielo sobre el territorio del Departamento de Antioquia, \n",
    "* instalar de estaciones de monitoreo atmosférico en tres sedes de la Universidad de Antioquia. "
   ]
  },
  {
   "cell_type": "markdown",
   "id": "a4be5694",
   "metadata": {
    "slideshow": {
     "slide_type": "slide"
    }
   },
   "source": [
    "Es importante mencionar que en la actualidad la Universidad ya cuenta con:\n",
    "\n",
    "* Una (1) estación de monitoreo (estación meteorológica y cámara de cielo) completamente funcional el Carmen de Viboral, \n",
    "* una (1) estación meteorológica en Andes, \n",
    "* una (1) estación meteorológica en Turbo y \n",
    "* una (1) estación de monitoreo en Puerto Berrío (en reparación por fallas técnicas). "
   ]
  },
  {
   "cell_type": "markdown",
   "id": "691f236c",
   "metadata": {
    "slideshow": {
     "slide_type": "slide"
    }
   },
   "source": [
    "El proyecto: instalará tres (3) estaciones de monitoreo en las seccionales:\n",
    "\n",
    "* Urabá, \n",
    "* Occidente y \n",
    "* Bajo Cauca. "
   ]
  },
  {
   "cell_type": "markdown",
   "id": "e39edcfa",
   "metadata": {
    "slideshow": {
     "slide_type": "slide"
    }
   },
   "source": [
    "Con la instalación de tres nuevas estaciones la Universidad contaría con un total de seis (6) puntos sobre el territorio departamental que estarían monitoreando variables climatológicas. "
   ]
  },
  {
   "cell_type": "markdown",
   "id": "114b8117",
   "metadata": {
    "slideshow": {
     "slide_type": "slide"
    }
   },
   "source": [
    "Las variables entregadas por las estaciones de monitoreo se compararán con las medidas realizadas mediante el satélite GOES-16, lo que permitiría una observación y validación de los estudios del comportamiento a escalas espaciales y temporales nunca antes realizados en el territorio departamental y nacional. De este modo, el estudio del cielo propuesto también incluye la incorporación de estimados satelitales para una región que incluye Antioquia."
   ]
  },
  {
   "cell_type": "markdown",
   "id": "ffb04a8e",
   "metadata": {
    "slideshow": {
     "slide_type": "slide"
    }
   },
   "source": [
    "En esta propuesta abordamos el estudio del cielo sobre Antioquia usando estaciones meteorológicas y datos satelitales para monitorear y entender la variación de un conjunto de ECVs (temperatura, precipitación, radiación y viento) sobre el Departamento en múltiples escalas espaciales y temporales. "
   ]
  },
  {
   "cell_type": "markdown",
   "id": "6a5d6de4",
   "metadata": {
    "slideshow": {
     "slide_type": "slide"
    }
   },
   "source": [
    "Parte de los retos incluyen las condiciones técnicas, tales como el dominio de paquetes de software específicos para la adquisición y procesamiento de información de las estaciones y de los satélites, además de la instalación y mantenimiento de los instrumentos necesarios en las estaciones propuestas. "
   ]
  },
  {
   "cell_type": "markdown",
   "id": "7bb5cbd8",
   "metadata": {
    "slideshow": {
     "slide_type": "slide"
    }
   },
   "source": [
    "Trabajos como el que proponemos no se han realizado en el pasado en seccionales u otras sedes regionales de la Universidad de Antioquia debido a que no se cuenta con los datos para llevar a cabo dichos estudios. "
   ]
  },
  {
   "cell_type": "markdown",
   "id": "e7845187",
   "metadata": {
    "slideshow": {
     "slide_type": "slide"
    }
   },
   "source": [
    "Los pocos datos con los que se cuenta fueron adquiridos por el IDEAM y SIATA, los cuales no son de fácil acceso público. "
   ]
  },
  {
   "cell_type": "markdown",
   "id": "7e14e3d5",
   "metadata": {
    "slideshow": {
     "slide_type": "slide"
    }
   },
   "source": [
    "Pese a la existencia de estudios anteriores sobre territorio nacional y regional (e.g. Mesa et al. 1997, Poveda et al. 2005), un proyecto como el que proponemos en este trabajo permitirá hacer un estudio sistemático y homogéneo de un conjunto de ECVs a través del tiempo con datos propios. "
   ]
  },
  {
   "cell_type": "markdown",
   "id": "f855bb96",
   "metadata": {
    "slideshow": {
     "slide_type": "slide"
    }
   },
   "source": [
    "Además, dichos parámetros serán comparados y validados por datos satelitales, los cuales son de acceso público pero requieren un nivel intermedio de formación técnica para su manipulación, permitiendo además que se hagan estudios en sitios diferentes a los que tienen estaciones."
   ]
  },
  {
   "cell_type": "markdown",
   "id": "ac746702",
   "metadata": {
    "slideshow": {
     "slide_type": "slide"
    }
   },
   "source": [
    "Al finalizar este proyecto se contará con una página web en un servidor de la Universidad donde se presentarán los datos de manera gráfica, amena y continua, y se proporcionará acceso a dichos datos al público general. "
   ]
  },
  {
   "cell_type": "markdown",
   "id": "3f4e92bc",
   "metadata": {
    "slideshow": {
     "slide_type": "slide"
    }
   },
   "source": [
    "Este tipo de herramientas se espera permanezcan activas luego de la finalización del proyecto, como un espacio que muestre el trabajo de investigación y educación que se realiza en la Universidad de Antioquia, y una herramienta para acercar la Universidad a las comunidades."
   ]
  },
  {
   "cell_type": "markdown",
   "id": "5deca092",
   "metadata": {
    "slideshow": {
     "slide_type": "slide"
    }
   },
   "source": [
    "## Marco teórico"
   ]
  },
  {
   "cell_type": "markdown",
   "id": "cf530406",
   "metadata": {
    "slideshow": {
     "slide_type": "slide"
    }
   },
   "source": [
    "### Variables climáticas Esenciales (VCE)"
   ]
  },
  {
   "cell_type": "markdown",
   "id": "0a08ffc0",
   "metadata": {
    "slideshow": {
     "slide_type": "slide"
    }
   },
   "source": [
    "Una de las variables más importantes en la descripción del sistema climático es la temperatura del aire cerca a la superficie terrestre, la cual presenta variaciones tanto a escala regional como global. Esta variable de estado termodinámica incluye información sobre el estado energético de la atmósfera y es modulada por el balance de energía en la superficie terrestre. Así, desde el punto de vista físico, la temperatura superficial terrestre (Land Surface Temperature, LST) es una variable de vital importancia para caracterizar y pronosticar el estado de la atmósfera. Desde el punto de vista práctico, esta variable es uno de los condicionantes más importantes para la vida y las diferentes actividades humanas. La mayor parte de las actividades y producción agrícola están condicionadas por la temperatura. Altas o bajas temperaturas también pueden condicionar la demanda de energía eléctrica (e.g. debido al uso de aire acondicionado), o su disponibilidad (debido al secado de embalses por evaporación). Eventos extremos de temperatura pueden llevar a poblaciones, cultivos y ecosistemas a condiciones de gran estrés,  incluso  mortales, relacionadas por ejemplo con la ocurrencia de sequías (e.g. como las de 2014, Semana, 2014, y 2015-2016, Semana, 2016). Eventos importantes de sequías y lluvias extremas se han registrado en el país, pero no se han realizado estudios detallados en la gran mayoría de los casos."
   ]
  },
  {
   "cell_type": "markdown",
   "id": "58b549b0",
   "metadata": {
    "slideshow": {
     "slide_type": "slide"
    }
   },
   "source": [
    "Por otro lado, el vapor de agua total (Total Precipitable Water, TPW), es la medida de la cantidad de agua presente en forma de vapor en la columna de aire medida en la vertical. La TPW es un parámetro de gran importancia para la comprensión del comportamiento de la atmósfera a nivel regional y global.  Más del 99% del agua en la atmósfera se encuentra en forma de vapor y es uno de los componentes que más influye en el efecto invernadero del planeta, inclusive más que el CO2. El vapor de agua es responsable por gran parte del transporte térmico desde la superficie de la Tierra hacia la alta atmósfera (e.g. Stevens and Bony, 2013) . En particular, la TPW es uno de los elementos básicos de la rama atmosférica del ciclo hidrológico. La tasa de cambio de TPW está directamente relacionada con la precipitación sobre una región. De este modo, los cambios bruscos en la TPW pueden estar relacionados con la ocurrencia de lluvias, y la disminución substancial de la TPW puede llevar a la disminución de lluvias y hasta sequías. La relación entre la TPW y la precipitación de agua se ha estudiado de múltiples formas, empezando por la ecuación física básica que las relaciona (e.g. Lorenz and Kunstmann, 2012), relaciones empíricas con sustento físico (e.g. Zeng, 1999), y su descripción fenomenológica (e.g. Adams et al., 2013; Chen et al., 2017). "
   ]
  },
  {
   "cell_type": "markdown",
   "id": "70bdb338",
   "metadata": {
    "slideshow": {
     "slide_type": "slide"
    }
   },
   "source": [
    "El componente viento (tanto en dirección como en magnitud) es responsable en gran medida del transporte de escalares que está estrechamente relacionado con el estado de las VCEs en la atmósfera.  En el caso de Colombia, los vientos han sido estudiados para responder múltiples preguntas, y con múltiples enfoques. Los estudios más enfocados a la ocurrencia o falta de lluvias, transporte de vapor de agua, y otros fenómenos atmosféricos, se basan en gran medida en los patrones y distribuciones del viento a diferentes niveles de altura, sobre todo en niveles bajos (e.g. 925, 850 y 700hPa, correspondiendo más a menos a 700, 1500 y 3300 metros sobre el nivel del mar), medios (500hPa, o 5500 m.s.n.m) y altos (250hPa, o cerca a 11000 m.s.n.m). Los estudios se basan sobre todo en datos de modelos atmosféricos, y de reanálisis (que son una combinación de modelos atmosféricos, con observaciones derivadas de satélites, radiosondas, estaciones en tierra, entre otros).  Algunos ejemplos de estudios para Colombia incluyen los realizados por investigadores de esta propuesta: Arias et al. (2015), Morales et al. (2018), Martinez et al. (2018), Molina et al. (2019), Posada et al. (2020) entre otros. "
   ]
  },
  {
   "cell_type": "markdown",
   "id": "d8df6c33",
   "metadata": {
    "slideshow": {
     "slide_type": "slide"
    }
   },
   "source": [
    "Otros estudios, más enfocados a la meteorología en las ciudades (meteorología urbana) y calidad del aire, usan estimados de vientos provenientes de modelos, estaciones meteorológicas, y sensores remotos como radiómetros.  En estos casos la región de interés va desde la superficie terrestre hasta niveles intermedios (~ 700hPa), con especial interés en la Capa Límite Atmosférica (hasta los primeros 2000-3000 metros sobre la superficie terrestre).  Otro grupo de estudios están enfocados al estudio del viento como energía renovable (e.g. Vergara et al., 2010; IDEAM et al., 2017; Hoyos Guerrero et al., 2018; Gil Ruiz, et al. 2020 sometido). En dichos estudios el interés básico está en los vientos a nivel de superficie (nominalmente a 10 metros sobre la superficie), y hasta la altura típica de molinos de viento (80-100 metros).  La fuente de información básica para estos estudios se basa tradicionalmente en estaciones meteorológicas y en ejercicios de modelación. Medidas realizadas desde la superficie de la tierra (10 metros de altura) incluyen los registros del IDEAM, los cuales dan cuenta de la magnitud y la dirección del viento en una gran cantidad de regiones del país."
   ]
  },
  {
   "cell_type": "markdown",
   "id": "bab79d1d",
   "metadata": {
    "slideshow": {
     "slide_type": "slide"
    }
   },
   "source": [
    "### Estimados Satelitales: GOES-16"
   ]
  },
  {
   "cell_type": "markdown",
   "id": "8b935778",
   "metadata": {
    "slideshow": {
     "slide_type": "slide"
    }
   },
   "source": [
    "La serie de satélites geoestacionarios GOES-R, la cual incluye el satélite GOES-16 (GOES-EAST) comenzó su fase operacional en el año 2018. Dicho satélite observa la Tierra en rangos del visible y el infrarrojo, lo que permite el estudio de parámetros como el vapor de agua a diferentes alturas, temperaturas en tierra y mar, dirección del viento, entre otros. Los estudios que se realizan con este instrumento estiman varios de sus diferentes parámetros usando un método conocido como “split-window” (e.g. Qin et al., 2001; Mao et al., 2004). Este método usa el hecho de que existe absorción diferencial en bandas adyacentes del espectro electromagnético para corregir por efectos atmosféricos. De esta manera, la radiación que proviene de la superficie puede ser diferenciada de aquella producida por otras regiones que se encuentran por encima de ésta. Para que se pueda usar este método es indispensable que el cielo esté lo más despejado posible. En este sentido, las imágenes del GOES-16 puede ser usadas en aplicaciones que permitirán el estudio de VCEs (ver e.g. Arbeláez-Cardona et al., (2020) para estimaciones de la nubosidad sobre Colombia). "
   ]
  },
  {
   "cell_type": "markdown",
   "id": "5e6ecae6",
   "metadata": {
    "slideshow": {
     "slide_type": "slide"
    }
   },
   "source": [
    "Para observar vapor de agua (insumo para la TPW) se usan longitudes de onda infrarrojas de 6.2 𝜇m, aunque algunos autores prefieren la banda 7.3  𝜇m. "
   ]
  },
  {
   "cell_type": "markdown",
   "id": "70be5270",
   "metadata": {
    "slideshow": {
     "slide_type": "slide"
    }
   },
   "source": [
    "Muchos estudios usan modelos meteorológicos para obtener información adicional de la cantidad de agua precipitable (o vapor de agua) en la superficie, debido a que las bandas usadas por los satélites no alcanzan a ver tan abajo, que es donde la concentración es mayor (~3 km sobre la superficie, i.e. en la Tropósfera). "
   ]
  },
  {
   "cell_type": "markdown",
   "id": "983be264",
   "metadata": {
    "slideshow": {
     "slide_type": "slide"
    }
   },
   "source": [
    "El cálculo de la cantidad TPW requiere conocer (o asumir) un perfil vertical de la temperatura y la humedad que permita realizar sus estimados. "
   ]
  },
  {
   "cell_type": "markdown",
   "id": "74abf1b6",
   "metadata": {
    "slideshow": {
     "slide_type": "slide"
    }
   },
   "source": [
    "Sin embargo, GOES-16 produce un resultado para la TPW que representa el agua precipitable derivada de la información del satélite directamente. Esta base de datos es uno de los insumos de esta propuesta. "
   ]
  },
  {
   "cell_type": "markdown",
   "id": "27f2152b",
   "metadata": {
    "slideshow": {
     "slide_type": "slide"
    }
   },
   "source": [
    "Estudios que incluyen un uso de la TPW satelital similar al de la presente propuesta pueden verse en Leroy et al. (2016); Schmit et al. (2018) y Gitro et al. (2018), donde además de introducir un portal para la constante visualización de la TPW para Estados Unidos, se estudian situaciones meteorológicas de interés, incluyendo eventos fuertes de precipitación. "
   ]
  },
  {
   "cell_type": "markdown",
   "id": "e19e5598",
   "metadata": {
    "slideshow": {
     "slide_type": "slide"
    }
   },
   "source": [
    "El satélite GOES-16 mide también la variable Derived Motion Winds (DMW) haciendo uso de imágenes tomadas por el satélite a diferentes alturas, a través de diferentes bandas (0.64  𝜇m, 3.9  𝜇m,  6.15  𝜇m, 11.2  𝜇m). "
   ]
  },
  {
   "cell_type": "markdown",
   "id": "7500fc8f",
   "metadata": {
    "slideshow": {
     "slide_type": "slide"
    }
   },
   "source": [
    "Usando puntos de referencia en las bandas intermedias se identifican objetos como cirros o gradientes en el vapor de agua. Dichos objetos son luego identificados en las otras bandas, indicando la dirección de movimiento. Para su magnitud se usan suposiciones respecto a los perfiles de temperatura y medidas de la radiación en diferentes bandas."
   ]
  },
  {
   "cell_type": "markdown",
   "id": "181dd655",
   "metadata": {
    "slideshow": {
     "slide_type": "slide"
    }
   },
   "source": [
    "Un ejemplo del uso de datos satelitales para estudios sobre la superficie de la Tierra es el trabajo de Castro-Díaz (2013), que usó imágenes del instrumento MODIS para determinar la variable LST sobre Colombia. "
   ]
  },
  {
   "cell_type": "markdown",
   "id": "a8603fd0",
   "metadata": {
    "slideshow": {
     "slide_type": "slide"
    }
   },
   "source": [
    "Su estudio mostró que el uso de este tipo de imágenes sería de gran ayuda para los estudios agrométricos en el país. Otro ejemplo es el trabajo de Hoyos et al. (2019). "
   ]
  },
  {
   "cell_type": "markdown",
   "id": "6c9f264b",
   "metadata": {
    "slideshow": {
     "slide_type": "slide"
    }
   },
   "source": [
    "En este trabajo los autores estudian un evento hidrometeorológico extremo que tuvo lugar en Salgar (2015) y parte del diagnóstico incluye uso de información del GOES-13. Pinzón et al. (2015) y Arbeláez-Cardona, et al. (2020) usan imágenes del satélite GOES-13 y GOES-16, respectivamente, para determinar la cantidad de noches despejadas sobre el territorio nacional."
   ]
  },
  {
   "cell_type": "markdown",
   "id": "72118362",
   "metadata": {
    "slideshow": {
     "slide_type": "slide"
    }
   },
   "source": [
    "### Modelos meteorológicos numéricos (NWP)"
   ]
  },
  {
   "cell_type": "markdown",
   "id": "1376d5a3",
   "metadata": {
    "slideshow": {
     "slide_type": "slide"
    }
   },
   "source": [
    "La predicción del comportamiento de la atmósfera comenzó hace aproximadamente un siglo con los trabajos de Abbe (1901) y Bjerknes (1904), quienes con una visión a largo plazo propusieron que las leyes de la física podrían ser usadas para pronosticar el comportamiento de la atmósfera. "
   ]
  },
  {
   "cell_type": "markdown",
   "id": "3197b662",
   "metadata": {
    "slideshow": {
     "slide_type": "slide"
    }
   },
   "source": [
    "Así, los modelos actuales para la predicción del comportamiento atmosférico se basan en la solución de ecuaciones diferenciales no lineales que permiten acercarse a una predictibilidad de días y hasta semanas (Bauer et al., 2015). "
   ]
  },
  {
   "cell_type": "markdown",
   "id": "57ae0a7e",
   "metadata": {
    "slideshow": {
     "slide_type": "slide"
    }
   },
   "source": [
    "Fenómenos como el huracán Sandy en 2012 o la ola de calor experimentada en Rusia en el 2010 fueron pronosticadas haciendo uso de modelos atmosféricos, incluyendo aquellos que se usan para pronóstico en la escala de horas a días, o modelos para  Numerical Weather Prediction (NWP). "
   ]
  },
  {
   "cell_type": "markdown",
   "id": "de48b3b4",
   "metadata": {
    "slideshow": {
     "slide_type": "slide"
    }
   },
   "source": [
    "En la actualidad el uso de esta herramienta permite una increíble comprensión del sistema y la predictibilidad necesaria para que el desarrollo de nuevas fuentes de información (monitoreo permanente desde estaciones) y centro de cómputo esté bastante justificada. "
   ]
  },
  {
   "cell_type": "markdown",
   "id": "6f14432a",
   "metadata": {
    "slideshow": {
     "slide_type": "slide"
    }
   },
   "source": [
    "El impacto de NWP está entre los mayores de cualquier área de la física (Bauer et al., 2015). "
   ]
  },
  {
   "cell_type": "markdown",
   "id": "cb17b161",
   "metadata": {
    "slideshow": {
     "slide_type": "slide"
    }
   },
   "source": [
    "Los modelos computacionales se basan en la solución de la ecuación de Navier-Stokes, la ecuación de la continuidad de la masa (incluyendo los efectos de rotación de la tierra), la primera ley de la termodinámica y ecuaciones de estado (como la ecuación de un gas ideal) para dar solución al comportamiento de la atmósfera. "
   ]
  },
  {
   "cell_type": "markdown",
   "id": "ff463f73",
   "metadata": {
    "slideshow": {
     "slide_type": "slide"
    }
   },
   "source": [
    "Las soluciones, que deben ser numéricas, se pueden encontrar a través de la discretización de los campos físicos involucrados, y la parametrización de varios procesos físicos (e.g. turbulencia, radiación, entre otros). "
   ]
  },
  {
   "cell_type": "markdown",
   "id": "4668ddd4",
   "metadata": {
    "slideshow": {
     "slide_type": "slide"
    }
   },
   "source": [
    "Debido a la naturaleza de las ecuaciones y campos involucrados, y dependiendo del detalle espacial con el cual se quieren hacer predicciones, los modelos NWP requieren de grandes capacidades computacionales. "
   ]
  },
  {
   "cell_type": "markdown",
   "id": "34033668",
   "metadata": {
    "slideshow": {
     "slide_type": "slide"
    }
   },
   "source": [
    "Es así como  técnicas alternativas para el análisis y la comprensión del comportamiento del sistema atmosférico entran a jugar un papel fundamental; este es el caso de técnicas avanzadas para la identificación y predicción de patrones atmosféricos a partir de información satelital y observaciones desde la superficie de la Tierra."
   ]
  },
  {
   "cell_type": "markdown",
   "id": "da764941",
   "metadata": {
    "slideshow": {
     "slide_type": "slide"
    }
   },
   "source": [
    "### Machine Learning (ML)"
   ]
  },
  {
   "cell_type": "markdown",
   "id": "ff5a7485",
   "metadata": {
    "slideshow": {
     "slide_type": "slide"
    }
   },
   "source": [
    "Los modelos ML se basan en medidas de diferentes parámetros que presentan correlaciones entre ellos. "
   ]
  },
  {
   "cell_type": "markdown",
   "id": "8be037ab",
   "metadata": {
    "slideshow": {
     "slide_type": "slide"
    }
   },
   "source": [
    "Bien sea a través del uso de regresiones lineales o del uso de otras técnicas como deep neural network (DNN), la necesidad del uso de una gran cantidad de datos es fundamental para que los modelos puedan entrenarse y comprender las correlaciones entre los diferentes parámetros y el comportamiento que éstos presentan. "
   ]
  },
  {
   "cell_type": "markdown",
   "id": "79f7db8f",
   "metadata": {
    "slideshow": {
     "slide_type": "slide"
    }
   },
   "source": [
    "Es así como la implementación de modelos de ML es un paso natural para la comprensión del sistema atmosférico. "
   ]
  },
  {
   "cell_type": "markdown",
   "id": "918868de",
   "metadata": {
    "slideshow": {
     "slide_type": "slide"
    }
   },
   "source": [
    "La implementación de estas técnicas pueden verse en trabajos como e.g. Rodriguez-Galiano et al., (2012); McGovern et al., (2017); Azzari et al., (2017); Nguyen et al., (2018); Rischard et al., (2018); Sønderby et al., (2020)."
   ]
  },
  {
   "cell_type": "markdown",
   "id": "d4f74a5b",
   "metadata": {
    "slideshow": {
     "slide_type": "slide"
    }
   },
   "source": [
    "Existen una gran variedad de modelos ML que pueden ser aplicados para estudiar la posibilidad de realizar predicciones del comportamiento de las VCEs y su evolución en el tiempo. "
   ]
  },
  {
   "cell_type": "markdown",
   "id": "9c798100",
   "metadata": {
    "slideshow": {
     "slide_type": "slide"
    }
   },
   "source": [
    "Para solucionar problemas como éstos se usan diferentes aproximaciones al problema, dependiendo del objetivo. "
   ]
  },
  {
   "cell_type": "markdown",
   "id": "62174db9",
   "metadata": {
    "slideshow": {
     "slide_type": "slide"
    }
   },
   "source": [
    "En general podemos decir que los modelos ML más usados son: \n",
    "\n",
    "* Modelos de regresión lineal multivariado, \n",
    "* modelos vectoriales para clasificación y \n",
    "* modelos de aprendizaje automático de redes neuronales. "
   ]
  },
  {
   "cell_type": "markdown",
   "id": "ccfc7285",
   "metadata": {
    "slideshow": {
     "slide_type": "slide"
    }
   },
   "source": [
    "En la comunidad dichos modelos se conocen con los nombres de:\n",
    "\n",
    "* Regresión Lineal (RL), \n",
    "* Support Vector Machine (SVM) y \n",
    "* Neural Network (NN)."
   ]
  },
  {
   "cell_type": "markdown",
   "id": "b9992483",
   "metadata": {
    "slideshow": {
     "slide_type": "slide"
    }
   },
   "source": [
    "### Modelos NWP vs Machine Learning"
   ]
  },
  {
   "cell_type": "markdown",
   "id": "a88efd29",
   "metadata": {
    "slideshow": {
     "slide_type": "slide"
    }
   },
   "source": [
    "Para entender los procesos que gobiernan los cambios que se presentan en sistemas turbulentos como la atmósfera, es necesario recopilar datos que nos permitan estudiar el sistema a través de la observación y su posible predicción. "
   ]
  },
  {
   "cell_type": "markdown",
   "id": "084edb47",
   "metadata": {
    "slideshow": {
     "slide_type": "slide"
    }
   },
   "source": [
    "Los modelos NWP han sido usados ampliamente por alrededor de 70 años, con avances significativos en su capacidad y éxito para representar y predecir el estado de la atmósfera; sin embargo hay un número de limitaciones y retos que persisten al día de hoy (e.g. Bauer et al., 2015 y referencias allí citadas). "
   ]
  },
  {
   "cell_type": "markdown",
   "id": "c398898d",
   "metadata": {
    "slideshow": {
     "slide_type": "slide"
    }
   },
   "source": [
    "Por otro lado, durante las últimas dos décadas, las técnicas de análisis de datos y ML han avanzado a pasos considerables en la comprensión de múltiples problemas, desde los socio-económicos hasta procesos físicos. Huntingford et al. (2019) recopila en su tabla 2 un conjunto de trabajos de los últimos 10 años donde se muestra el alto nivel que presentan las técnicas de ML para la comprensión de problemas que van desde estudios meteorológicos hasta problemas de agrometría, todos éstos enmarcados en líneas de modelamiento del sistema Tierra como un todo. "
   ]
  },
  {
   "cell_type": "markdown",
   "id": "c91daee7",
   "metadata": {
    "slideshow": {
     "slide_type": "slide"
    }
   },
   "source": [
    "La gran cantidad de datos adquiridos para las VCEs que se pueden obtener al día de hoy sobrepasa los estándares que se manejaban unas décadas atrás. Además de permitir una resolución espacial y temporal del comportamiento de las VCEs, la gran cantidad de datos requiere que nuevos estudios se lleven a cabo a través del uso de nuevas herramientas que usan algoritmos de aprendizaje para la comprensión y la predicción de su comportamiento (ver Huntingford et al., 2019 y referencias allí citadas). Es así como las técnicas de ML han comenzado a revolucionar las áreas relacionadas con las ciencias atmosféricas."
   ]
  },
  {
   "cell_type": "markdown",
   "id": "cacbdc63",
   "metadata": {
    "slideshow": {
     "slide_type": "slide"
    }
   },
   "source": [
    "Recientemente el trabajo de Sønderby et al. (2020) usó herramientas de ML para el pronóstico de la VCE precipitación sobre el territorio de los Estados Unidos de América. En su trabajo, los autores construyeron un modelo computacional de ML que es capaz de sobrepasar, en predictibilidad y en desempeño computacional, las técnicas y herramientas de los modelos NWP."
   ]
  },
  {
   "cell_type": "markdown",
   "id": "293fa6c3",
   "metadata": {
    "slideshow": {
     "slide_type": "slide"
    }
   },
   "source": [
    "Los datos principales que se usarán en este proyecto serán adquiridos desde las diferentes sedes y seccionales de la Universidad, sin embargo, una parte importante de los datos que se usarán en este proyecto provienen del satélite GOES-16. Este satélite se encuentra ubicado en una órbita geoestacionaria (75° Este y 0°) sobre el territorio nacional. "
   ]
  },
  {
   "cell_type": "markdown",
   "id": "2dc0df92",
   "metadata": {
    "slideshow": {
     "slide_type": "slide"
    }
   },
   "source": [
    "Para los estudios meteorológicos en Colombia, la ubicación de este satélite es idónea, ya que las medidas no deberán tener una corrección importante por la curvatura de la tierra. Se usarán datos tomados por el satélite para medir temperatura superficial, vientos y precipitación. "
   ]
  },
  {
   "cell_type": "markdown",
   "id": "fb6c14cc",
   "metadata": {
    "slideshow": {
     "slide_type": "slide"
    }
   },
   "source": [
    "Este conjunto de parámetros son de gran interés para comprender el sistema atmosférico. La descarga de los datos del satélite es gratuita y se puede realizar desde diferentes fuentes (e.g. https://www.star.nesdis.noaa.gov/GOES/). Las imágenes del satélite varían dependiendo del instrumento del que se obtengan los datos, pero para el caso de las tres variables que se desea estudiar, la resolución espacial alcanza los 10 km2. La resolución temporal de los datos es de 15 minutos, y se puede obtener información desde el año 2018, cuando el instrumento ABI (abordo del GOES 16) comenzó su funcionamiento. Con estas características, se puede estimar que el número de datos que se obtendrán desde el satélite alcanza los ~320000 datos para las tres variables durante los años 2018, 2019 y 2020. Un estimado similar para la estaciones que se  ubicarán a través de este proyecto, pero donde se cuenta con una resolución temporal de 1 minuto, alcanzan más de ~6’300.000 de datos al año."
   ]
  },
  {
   "cell_type": "code",
   "execution_count": null,
   "id": "e014d098",
   "metadata": {
    "slideshow": {
     "slide_type": "slide"
    }
   },
   "outputs": [],
   "source": []
  },
  {
   "cell_type": "code",
   "execution_count": null,
   "id": "0ee3c38b",
   "metadata": {
    "slideshow": {
     "slide_type": "slide"
    }
   },
   "outputs": [],
   "source": []
  },
  {
   "cell_type": "code",
   "execution_count": null,
   "id": "812c6fcc",
   "metadata": {
    "slideshow": {
     "slide_type": "slide"
    }
   },
   "outputs": [],
   "source": []
  },
  {
   "cell_type": "code",
   "execution_count": null,
   "id": "e85d9b03",
   "metadata": {
    "slideshow": {
     "slide_type": "slide"
    }
   },
   "outputs": [],
   "source": []
  },
  {
   "cell_type": "markdown",
   "id": "54068b72",
   "metadata": {
    "slideshow": {
     "slide_type": "slide"
    }
   },
   "source": [
    "## Ejemplo de construcción de modelo predictivo"
   ]
  },
  {
   "cell_type": "code",
   "execution_count": null,
   "id": "ae576bbd",
   "metadata": {
    "scrolled": true,
    "slideshow": {
     "slide_type": "slide"
    }
   },
   "outputs": [],
   "source": [
    "import pandas as pd\n",
    "df = pd.read_csv('SolarPrediction.csv')\n",
    "df.head() "
   ]
  },
  {
   "cell_type": "markdown",
   "id": "7ff96321",
   "metadata": {
    "slideshow": {
     "slide_type": "slide"
    }
   },
   "source": [
    "## Table of Contents  \n",
    "\n",
    "1. Bibliotecas Base\n",
    "\n",
    "2. Função de Suporte\n",
    "\n",
    "* Análise de Dados\n",
    "\n",
    "* Modelos e Feature Selection"
   ]
  },
  {
   "cell_type": "markdown",
   "id": "f7457f00",
   "metadata": {
    "slideshow": {
     "slide_type": "slide"
    }
   },
   "source": [
    "## 1. Bibliotecas Base"
   ]
  },
  {
   "cell_type": "code",
   "execution_count": 1,
   "id": "967ae974",
   "metadata": {
    "slideshow": {
     "slide_type": "slide"
    }
   },
   "outputs": [],
   "source": [
    "# Libs Base\n",
    "import numpy as np # álgebra linear\n",
    "import pandas as pd # processamento de dados, CSV file I/O (e.g. pd.read_csv)\n",
    "import matplotlib.pyplot as plt # Visualização\n",
    "import seaborn as sns #Visualização\n",
    " \n",
    "# Transformação \n",
    "from sklearn.preprocessing import MinMaxScaler\n",
    "from sklearn.preprocessing import power_transform\n",
    "from sklearn.pipeline import Pipeline\n",
    "\n",
    "# Modelos\n",
    "\n",
    "from sklearn.model_selection import train_test_split\n",
    "from sklearn.ensemble import RandomForestRegressor\n",
    "from sklearn.model_selection import GridSearchCV\n",
    "from sklearn.ensemble import StackingRegressor\n",
    "from sklearn.tree import DecisionTreeRegressor\n",
    "from sklearn.metrics import mean_squared_error, r2_score\n",
    "from sklearn import datasets, linear_model\n",
    "\n",
    "import sklearn.model_selection as mdl\n",
    "from sklearn.ensemble import RandomForestRegressor\n",
    "\n",
    "\n",
    "# Métricas\n",
    "# from easymetrics import r2_all\n",
    "# from easymetrics import evs_all\n",
    "# from easymetrics import mae_all\n",
    "# from easymetrics import rmse_all\n",
    "# from easymetrics import rmsle_all\n",
    "\n",
    "from sklearn import metrics\n",
    "\n",
    "#Feature Selection\n",
    "import lime\n",
    "import lime.lime_tabular\n",
    "import shap\n",
    "from sklearn.ensemble import StackingRegressor\n",
    "\n",
    "from sklearn.feature_selection import RFE\n",
    "from sklearn.feature_selection import SelectKBest\n",
    "from sklearn.feature_selection import SelectPercentile\n",
    "from sklearn.feature_selection import f_regression\n",
    "from sklearn.decomposition import PCA\n",
    "from pandas.plotting import autocorrelation_plot\n",
    "\n",
    "\n",
    "\n"
   ]
  },
  {
   "cell_type": "markdown",
   "id": "cd99ce51",
   "metadata": {
    "slideshow": {
     "slide_type": "slide"
    }
   },
   "source": [
    "## 2. Función de apoyo"
   ]
  },
  {
   "cell_type": "code",
   "execution_count": 2,
   "id": "b3a7357c",
   "metadata": {
    "slideshow": {
     "slide_type": "slide"
    }
   },
   "outputs": [],
   "source": [
    "def plot_r2_mae_evs_rmse_rmsle(data):\n",
    "    X = np.arange(5)\n",
    "    fig = plt.figure(figsize=(12, 6))\n",
    "    ax = fig.add_axes([0,0,1,1])\n",
    "    ax.bar(X + 0.00, data[0], color = 'b', width = 0.25)\n",
    "    ax.bar(X + 0.25, data[1], color = 'r', width = 0.25)\n",
    "    ax.bar(X + 0.50, data[2], color = 'g', width = 0.25)\n",
    "    ax.set_ylabel(\"Values\")\n",
    "    ax.set_title(\"Metrics\")\n",
    "    ax.set_xticks(X + 0.20 / 2)\n",
    "    ax.set_xticklabels(('R2', 'MAE', 'EVS', 'RMSE', 'RMSLE'))\n",
    "    ax.legend(labels=['Train', 'Test','Valid'])\n",
    "    return fig, ax"
   ]
  },
  {
   "cell_type": "markdown",
   "id": "1ffe14db",
   "metadata": {
    "slideshow": {
     "slide_type": "slide"
    }
   },
   "source": [
    "## 3. Análise de Dados"
   ]
  },
  {
   "cell_type": "code",
   "execution_count": 4,
   "id": "3a207e1c",
   "metadata": {
    "slideshow": {
     "slide_type": "slide"
    }
   },
   "outputs": [
    {
     "data": {
      "text/html": [
       "<div>\n",
       "<style scoped>\n",
       "    .dataframe tbody tr th:only-of-type {\n",
       "        vertical-align: middle;\n",
       "    }\n",
       "\n",
       "    .dataframe tbody tr th {\n",
       "        vertical-align: top;\n",
       "    }\n",
       "\n",
       "    .dataframe thead th {\n",
       "        text-align: right;\n",
       "    }\n",
       "</style>\n",
       "<table border=\"1\" class=\"dataframe\">\n",
       "  <thead>\n",
       "    <tr style=\"text-align: right;\">\n",
       "      <th></th>\n",
       "      <th>UNIXTime</th>\n",
       "      <th>Data</th>\n",
       "      <th>Time</th>\n",
       "      <th>Radiation</th>\n",
       "      <th>Temperature</th>\n",
       "      <th>Pressure</th>\n",
       "      <th>Humidity</th>\n",
       "      <th>WindDirection(Degrees)</th>\n",
       "      <th>Speed</th>\n",
       "      <th>TimeSunRise</th>\n",
       "      <th>TimeSunSet</th>\n",
       "    </tr>\n",
       "  </thead>\n",
       "  <tbody>\n",
       "    <tr>\n",
       "      <th>0</th>\n",
       "      <td>1475229326</td>\n",
       "      <td>9/29/2016 12:00:00 AM</td>\n",
       "      <td>23:55:26</td>\n",
       "      <td>1.21</td>\n",
       "      <td>48</td>\n",
       "      <td>30.46</td>\n",
       "      <td>59</td>\n",
       "      <td>177.39</td>\n",
       "      <td>5.62</td>\n",
       "      <td>06:13:00</td>\n",
       "      <td>18:13:00</td>\n",
       "    </tr>\n",
       "    <tr>\n",
       "      <th>1</th>\n",
       "      <td>1475229023</td>\n",
       "      <td>9/29/2016 12:00:00 AM</td>\n",
       "      <td>23:50:23</td>\n",
       "      <td>1.21</td>\n",
       "      <td>48</td>\n",
       "      <td>30.46</td>\n",
       "      <td>58</td>\n",
       "      <td>176.78</td>\n",
       "      <td>3.37</td>\n",
       "      <td>06:13:00</td>\n",
       "      <td>18:13:00</td>\n",
       "    </tr>\n",
       "    <tr>\n",
       "      <th>2</th>\n",
       "      <td>1475228726</td>\n",
       "      <td>9/29/2016 12:00:00 AM</td>\n",
       "      <td>23:45:26</td>\n",
       "      <td>1.23</td>\n",
       "      <td>48</td>\n",
       "      <td>30.46</td>\n",
       "      <td>57</td>\n",
       "      <td>158.75</td>\n",
       "      <td>3.37</td>\n",
       "      <td>06:13:00</td>\n",
       "      <td>18:13:00</td>\n",
       "    </tr>\n",
       "    <tr>\n",
       "      <th>3</th>\n",
       "      <td>1475228421</td>\n",
       "      <td>9/29/2016 12:00:00 AM</td>\n",
       "      <td>23:40:21</td>\n",
       "      <td>1.21</td>\n",
       "      <td>48</td>\n",
       "      <td>30.46</td>\n",
       "      <td>60</td>\n",
       "      <td>137.71</td>\n",
       "      <td>3.37</td>\n",
       "      <td>06:13:00</td>\n",
       "      <td>18:13:00</td>\n",
       "    </tr>\n",
       "  </tbody>\n",
       "</table>\n",
       "</div>"
      ],
      "text/plain": [
       "     UNIXTime                   Data      Time  Radiation  Temperature  \\\n",
       "0  1475229326  9/29/2016 12:00:00 AM  23:55:26       1.21           48   \n",
       "1  1475229023  9/29/2016 12:00:00 AM  23:50:23       1.21           48   \n",
       "2  1475228726  9/29/2016 12:00:00 AM  23:45:26       1.23           48   \n",
       "3  1475228421  9/29/2016 12:00:00 AM  23:40:21       1.21           48   \n",
       "\n",
       "   Pressure  Humidity  WindDirection(Degrees)  Speed TimeSunRise TimeSunSet  \n",
       "0     30.46        59                  177.39   5.62    06:13:00   18:13:00  \n",
       "1     30.46        58                  176.78   3.37    06:13:00   18:13:00  \n",
       "2     30.46        57                  158.75   3.37    06:13:00   18:13:00  \n",
       "3     30.46        60                  137.71   3.37    06:13:00   18:13:00  "
      ]
     },
     "execution_count": 4,
     "metadata": {},
     "output_type": "execute_result"
    }
   ],
   "source": [
    "import pandas as pd \n",
    "df = pd.read_csv('SolarPrediction.csv')\n",
    "df.head(4)"
   ]
  },
  {
   "cell_type": "code",
   "execution_count": 5,
   "id": "712afe08",
   "metadata": {
    "slideshow": {
     "slide_type": "slide"
    }
   },
   "outputs": [
    {
     "data": {
      "text/plain": [
       "(32686, 11)"
      ]
     },
     "execution_count": 5,
     "metadata": {},
     "output_type": "execute_result"
    }
   ],
   "source": [
    "df.shape"
   ]
  },
  {
   "cell_type": "code",
   "execution_count": 7,
   "id": "09a049fe",
   "metadata": {
    "slideshow": {
     "slide_type": "slide"
    }
   },
   "outputs": [
    {
     "data": {
      "text/html": [
       "<div>\n",
       "<style scoped>\n",
       "    .dataframe tbody tr th:only-of-type {\n",
       "        vertical-align: middle;\n",
       "    }\n",
       "\n",
       "    .dataframe tbody tr th {\n",
       "        vertical-align: top;\n",
       "    }\n",
       "\n",
       "    .dataframe thead th {\n",
       "        text-align: right;\n",
       "    }\n",
       "</style>\n",
       "<table border=\"1\" class=\"dataframe\">\n",
       "  <thead>\n",
       "    <tr style=\"text-align: right;\">\n",
       "      <th></th>\n",
       "      <th>UNIXTime</th>\n",
       "      <th>Data</th>\n",
       "      <th>Time</th>\n",
       "      <th>Radiation</th>\n",
       "      <th>Temperature</th>\n",
       "      <th>Pressure</th>\n",
       "      <th>Humidity</th>\n",
       "      <th>WindDirection(Degrees)</th>\n",
       "      <th>Speed</th>\n",
       "      <th>TimeSunRise</th>\n",
       "      <th>TimeSunSet</th>\n",
       "    </tr>\n",
       "  </thead>\n",
       "  <tbody>\n",
       "    <tr>\n",
       "      <th>0</th>\n",
       "      <td>1475229326</td>\n",
       "      <td>9/29/2016 12:00:00 AM</td>\n",
       "      <td>23:55:26</td>\n",
       "      <td>1.21</td>\n",
       "      <td>48</td>\n",
       "      <td>30.46</td>\n",
       "      <td>59</td>\n",
       "      <td>177.39</td>\n",
       "      <td>5.62</td>\n",
       "      <td>06:13:00</td>\n",
       "      <td>18:13:00</td>\n",
       "    </tr>\n",
       "    <tr>\n",
       "      <th>1</th>\n",
       "      <td>1475229023</td>\n",
       "      <td>9/29/2016 12:00:00 AM</td>\n",
       "      <td>23:50:23</td>\n",
       "      <td>1.21</td>\n",
       "      <td>48</td>\n",
       "      <td>30.46</td>\n",
       "      <td>58</td>\n",
       "      <td>176.78</td>\n",
       "      <td>3.37</td>\n",
       "      <td>06:13:00</td>\n",
       "      <td>18:13:00</td>\n",
       "    </tr>\n",
       "    <tr>\n",
       "      <th>2</th>\n",
       "      <td>1475228726</td>\n",
       "      <td>9/29/2016 12:00:00 AM</td>\n",
       "      <td>23:45:26</td>\n",
       "      <td>1.23</td>\n",
       "      <td>48</td>\n",
       "      <td>30.46</td>\n",
       "      <td>57</td>\n",
       "      <td>158.75</td>\n",
       "      <td>3.37</td>\n",
       "      <td>06:13:00</td>\n",
       "      <td>18:13:00</td>\n",
       "    </tr>\n",
       "    <tr>\n",
       "      <th>3</th>\n",
       "      <td>1475228421</td>\n",
       "      <td>9/29/2016 12:00:00 AM</td>\n",
       "      <td>23:40:21</td>\n",
       "      <td>1.21</td>\n",
       "      <td>48</td>\n",
       "      <td>30.46</td>\n",
       "      <td>60</td>\n",
       "      <td>137.71</td>\n",
       "      <td>3.37</td>\n",
       "      <td>06:13:00</td>\n",
       "      <td>18:13:00</td>\n",
       "    </tr>\n",
       "  </tbody>\n",
       "</table>\n",
       "</div>"
      ],
      "text/plain": [
       "     UNIXTime                   Data      Time  Radiation  Temperature  \\\n",
       "0  1475229326  9/29/2016 12:00:00 AM  23:55:26       1.21           48   \n",
       "1  1475229023  9/29/2016 12:00:00 AM  23:50:23       1.21           48   \n",
       "2  1475228726  9/29/2016 12:00:00 AM  23:45:26       1.23           48   \n",
       "3  1475228421  9/29/2016 12:00:00 AM  23:40:21       1.21           48   \n",
       "\n",
       "   Pressure  Humidity  WindDirection(Degrees)  Speed TimeSunRise TimeSunSet  \n",
       "0     30.46        59                  177.39   5.62    06:13:00   18:13:00  \n",
       "1     30.46        58                  176.78   3.37    06:13:00   18:13:00  \n",
       "2     30.46        57                  158.75   3.37    06:13:00   18:13:00  \n",
       "3     30.46        60                  137.71   3.37    06:13:00   18:13:00  "
      ]
     },
     "execution_count": 7,
     "metadata": {},
     "output_type": "execute_result"
    }
   ],
   "source": [
    "df.head(4)"
   ]
  },
  {
   "cell_type": "code",
   "execution_count": 8,
   "id": "ff26cd66",
   "metadata": {
    "slideshow": {
     "slide_type": "slide"
    }
   },
   "outputs": [
    {
     "name": "stdout",
     "output_type": "stream",
     "text": [
      "<class 'pandas.core.frame.DataFrame'>\n",
      "RangeIndex: 32686 entries, 0 to 32685\n",
      "Data columns (total 11 columns):\n",
      " #   Column                  Non-Null Count  Dtype  \n",
      "---  ------                  --------------  -----  \n",
      " 0   UNIXTime                32686 non-null  int64  \n",
      " 1   Data                    32686 non-null  object \n",
      " 2   Time                    32686 non-null  object \n",
      " 3   Radiation               32686 non-null  float64\n",
      " 4   Temperature             32686 non-null  int64  \n",
      " 5   Pressure                32686 non-null  float64\n",
      " 6   Humidity                32686 non-null  int64  \n",
      " 7   WindDirection(Degrees)  32686 non-null  float64\n",
      " 8   Speed                   32686 non-null  float64\n",
      " 9   TimeSunRise             32686 non-null  object \n",
      " 10  TimeSunSet              32686 non-null  object \n",
      "dtypes: float64(4), int64(3), object(4)\n",
      "memory usage: 2.7+ MB\n"
     ]
    }
   ],
   "source": [
    "df.info()"
   ]
  },
  {
   "cell_type": "code",
   "execution_count": 9,
   "id": "be63df16",
   "metadata": {
    "slideshow": {
     "slide_type": "slide"
    }
   },
   "outputs": [
    {
     "data": {
      "text/html": [
       "<div>\n",
       "<style scoped>\n",
       "    .dataframe tbody tr th:only-of-type {\n",
       "        vertical-align: middle;\n",
       "    }\n",
       "\n",
       "    .dataframe tbody tr th {\n",
       "        vertical-align: top;\n",
       "    }\n",
       "\n",
       "    .dataframe thead th {\n",
       "        text-align: right;\n",
       "    }\n",
       "</style>\n",
       "<table border=\"1\" class=\"dataframe\">\n",
       "  <thead>\n",
       "    <tr style=\"text-align: right;\">\n",
       "      <th></th>\n",
       "      <th>UNIXTime</th>\n",
       "      <th>Radiation</th>\n",
       "      <th>Temperature</th>\n",
       "      <th>Pressure</th>\n",
       "      <th>Humidity</th>\n",
       "      <th>WindDirection(Degrees)</th>\n",
       "      <th>Speed</th>\n",
       "    </tr>\n",
       "  </thead>\n",
       "  <tbody>\n",
       "    <tr>\n",
       "      <th>count</th>\n",
       "      <td>3.268600e+04</td>\n",
       "      <td>32686.000000</td>\n",
       "      <td>32686.000000</td>\n",
       "      <td>32686.000000</td>\n",
       "      <td>32686.000000</td>\n",
       "      <td>32686.000000</td>\n",
       "      <td>32686.000000</td>\n",
       "    </tr>\n",
       "    <tr>\n",
       "      <th>mean</th>\n",
       "      <td>1.478047e+09</td>\n",
       "      <td>207.124697</td>\n",
       "      <td>51.103255</td>\n",
       "      <td>30.422879</td>\n",
       "      <td>75.016307</td>\n",
       "      <td>143.489821</td>\n",
       "      <td>6.243869</td>\n",
       "    </tr>\n",
       "    <tr>\n",
       "      <th>std</th>\n",
       "      <td>3.005037e+06</td>\n",
       "      <td>315.916387</td>\n",
       "      <td>6.201157</td>\n",
       "      <td>0.054673</td>\n",
       "      <td>25.990219</td>\n",
       "      <td>83.167500</td>\n",
       "      <td>3.490474</td>\n",
       "    </tr>\n",
       "    <tr>\n",
       "      <th>min</th>\n",
       "      <td>1.472724e+09</td>\n",
       "      <td>1.110000</td>\n",
       "      <td>34.000000</td>\n",
       "      <td>30.190000</td>\n",
       "      <td>8.000000</td>\n",
       "      <td>0.090000</td>\n",
       "      <td>0.000000</td>\n",
       "    </tr>\n",
       "    <tr>\n",
       "      <th>25%</th>\n",
       "      <td>1.475546e+09</td>\n",
       "      <td>1.230000</td>\n",
       "      <td>46.000000</td>\n",
       "      <td>30.400000</td>\n",
       "      <td>56.000000</td>\n",
       "      <td>82.227500</td>\n",
       "      <td>3.370000</td>\n",
       "    </tr>\n",
       "    <tr>\n",
       "      <th>50%</th>\n",
       "      <td>1.478026e+09</td>\n",
       "      <td>2.660000</td>\n",
       "      <td>50.000000</td>\n",
       "      <td>30.430000</td>\n",
       "      <td>85.000000</td>\n",
       "      <td>147.700000</td>\n",
       "      <td>5.620000</td>\n",
       "    </tr>\n",
       "    <tr>\n",
       "      <th>75%</th>\n",
       "      <td>1.480480e+09</td>\n",
       "      <td>354.235000</td>\n",
       "      <td>55.000000</td>\n",
       "      <td>30.460000</td>\n",
       "      <td>97.000000</td>\n",
       "      <td>179.310000</td>\n",
       "      <td>7.870000</td>\n",
       "    </tr>\n",
       "    <tr>\n",
       "      <th>max</th>\n",
       "      <td>1.483265e+09</td>\n",
       "      <td>1601.260000</td>\n",
       "      <td>71.000000</td>\n",
       "      <td>30.560000</td>\n",
       "      <td>103.000000</td>\n",
       "      <td>359.950000</td>\n",
       "      <td>40.500000</td>\n",
       "    </tr>\n",
       "  </tbody>\n",
       "</table>\n",
       "</div>"
      ],
      "text/plain": [
       "           UNIXTime     Radiation   Temperature      Pressure      Humidity  \\\n",
       "count  3.268600e+04  32686.000000  32686.000000  32686.000000  32686.000000   \n",
       "mean   1.478047e+09    207.124697     51.103255     30.422879     75.016307   \n",
       "std    3.005037e+06    315.916387      6.201157      0.054673     25.990219   \n",
       "min    1.472724e+09      1.110000     34.000000     30.190000      8.000000   \n",
       "25%    1.475546e+09      1.230000     46.000000     30.400000     56.000000   \n",
       "50%    1.478026e+09      2.660000     50.000000     30.430000     85.000000   \n",
       "75%    1.480480e+09    354.235000     55.000000     30.460000     97.000000   \n",
       "max    1.483265e+09   1601.260000     71.000000     30.560000    103.000000   \n",
       "\n",
       "       WindDirection(Degrees)         Speed  \n",
       "count            32686.000000  32686.000000  \n",
       "mean               143.489821      6.243869  \n",
       "std                 83.167500      3.490474  \n",
       "min                  0.090000      0.000000  \n",
       "25%                 82.227500      3.370000  \n",
       "50%                147.700000      5.620000  \n",
       "75%                179.310000      7.870000  \n",
       "max                359.950000     40.500000  "
      ]
     },
     "execution_count": 9,
     "metadata": {},
     "output_type": "execute_result"
    }
   ],
   "source": [
    "df.describe()"
   ]
  },
  {
   "cell_type": "code",
   "execution_count": 10,
   "id": "e6765bc7",
   "metadata": {
    "slideshow": {
     "slide_type": "slide"
    }
   },
   "outputs": [],
   "source": [
    "df.drop('UNIXTime', axis= \"columns\", inplace = True)"
   ]
  },
  {
   "cell_type": "code",
   "execution_count": 11,
   "id": "3e0bc358",
   "metadata": {
    "slideshow": {
     "slide_type": "slide"
    }
   },
   "outputs": [
    {
     "data": {
      "text/plain": [
       "<AxesSubplot:>"
      ]
     },
     "execution_count": 11,
     "metadata": {},
     "output_type": "execute_result"
    },
    {
     "data": {
      "image/png": "[encoded data removed]",
      "text/plain": [
       "<Figure size 432x288 with 2 Axes>"
      ]
     },
     "metadata": {
      "needs_background": "light"
     },
     "output_type": "display_data"
    }
   ],
   "source": [
    "corr = df.corr()\n",
    "sns.heatmap(corr)"
   ]
  },
  {
   "cell_type": "code",
   "execution_count": 12,
   "id": "14a8a439",
   "metadata": {
    "slideshow": {
     "slide_type": "slide"
    }
   },
   "outputs": [
    {
     "data": {
      "text/plain": [
       "Index(['Data', 'Time', 'Radiation', 'Temperature', 'Pressure', 'Humidity',\n",
       "       'WindDirection(Degrees)', 'Speed', 'TimeSunRise', 'TimeSunSet'],\n",
       "      dtype='object')"
      ]
     },
     "execution_count": 12,
     "metadata": {},
     "output_type": "execute_result"
    }
   ],
   "source": [
    "df.columns"
   ]
  },
  {
   "cell_type": "code",
   "execution_count": 13,
   "id": "aa546d09",
   "metadata": {
    "slideshow": {
     "slide_type": "slide"
    }
   },
   "outputs": [
    {
     "data": {
      "image/png": "[encoded data removed]",
      "text/plain": [
       "<Figure size 1152x1152 with 6 Axes>"
      ]
     },
     "metadata": {
      "needs_background": "light"
     },
     "output_type": "display_data"
    }
   ],
   "source": [
    "df1=df[['Data', 'Time', 'Radiation', 'Temperature', 'Pressure',\n",
    "       'Humidity', 'WindDirection(Degrees)', 'Speed', 'TimeSunRise',\n",
    "       'TimeSunSet']]\n",
    "h = df1.hist(bins=25,figsize=(16,16),xlabelsize='10',ylabelsize='10',xrot=-15)\n",
    "sns.despine(left=True, bottom=True)\n",
    "[x.title.set_size(12) for x in h.ravel()];\n",
    "[x.yaxis.tick_left() for x in h.ravel()];"
   ]
  },
  {
   "cell_type": "code",
   "execution_count": null,
   "id": "6a110378",
   "metadata": {
    "slideshow": {
     "slide_type": "slide"
    }
   },
   "outputs": [],
   "source": []
  },
  {
   "cell_type": "code",
   "execution_count": null,
   "id": "9bb57a75",
   "metadata": {
    "slideshow": {
     "slide_type": "slide"
    }
   },
   "outputs": [],
   "source": []
  },
  {
   "cell_type": "code",
   "execution_count": null,
   "id": "4fe76862",
   "metadata": {
    "slideshow": {
     "slide_type": "slide"
    }
   },
   "outputs": [],
   "source": []
  },
  {
   "cell_type": "code",
   "execution_count": null,
   "id": "9482271a",
   "metadata": {
    "slideshow": {
     "slide_type": "slide"
    }
   },
   "outputs": [],
   "source": []
  },
  {
   "cell_type": "markdown",
   "id": "a6674f99",
   "metadata": {
    "slideshow": {
     "slide_type": "slide"
    }
   },
   "source": [
    "## Referentes  \n",
    "\n",
    "* Solar Radiation Prediction: https://www.kaggle.com/dronio/SolarEnergy"
   ]
  },
  {
   "cell_type": "code",
   "execution_count": null,
   "id": "d9afb302",
   "metadata": {},
   "outputs": [],
   "source": []
  }
 ],
 "metadata": {
  "celltoolbar": "Slideshow",
  "kernelspec": {
   "display_name": "Python 3",
   "language": "python",
   "name": "python3"
  },
  "language_info": {
   "codemirror_mode": {
    "name": "ipython",
    "version": 3
   },
   "file_extension": ".py",
   "mimetype": "text/x-python",
   "name": "python",
   "nbconvert_exporter": "python",
   "pygments_lexer": "ipython3",
   "version": "3.8.8"
  },
  "latex_envs": {
   "LaTeX_envs_menu_present": true,
   "autoclose": false,
   "autocomplete": false,
   "bibliofile": "biblio.bib",
   "cite_by": "apalike",
   "current_citInitial": 1,
   "eqLabelWithNumbers": true,
   "eqNumInitial": 1,
   "hotkeys": {
    "equation": "Ctrl-E",
    "itemize": "Ctrl-I"
   },
   "labels_anchors": false,
   "latex_user_defs": false,
   "report_style_numbering": false,
   "user_envs_cfg": false
  },
  "rise": {
   "enable_chalkboard": true,
   "theme": "sky",
   "transition": "zoom"
  }
 },
 "nbformat": 4,
 "nbformat_minor": 5
}
