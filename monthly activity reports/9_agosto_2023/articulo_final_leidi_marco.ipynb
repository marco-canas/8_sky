{
 "cells": [
  {
   "cell_type": "markdown",
   "metadata": {},
   "source": [
    "<table align=\"left\">\n",
    "  <td>\n",
    "    <a href=\"https://colab.research.google.com/github/marco-canas/sky/blob/main/monthly%20activity%20reports/9_agosto_2023/articulo_final_leidi_marco.ipynb\" target=\"_parent\"><img src=\"https://colab.research.google.com/assets/colab-badge.svg\" alt=\"Open In Colab\"/></a>\n",
    "  </td>\n",
    "</table>"
   ]
  },
  {
   "cell_type": "markdown",
   "metadata": {},
   "source": [
    "## [Video de apoyo 1]()"
   ]
  },
  {
   "cell_type": "markdown",
   "metadata": {},
   "source": [
    "# Desarrollo pensamiento computacional. Dos ejemplos de aplicación\n",
    "\n",
    "Mostraremos como en nuestra experiencia docente el lenguaje python incentiva la competencia de resolver problemas construyendo modelos computacionales. \n",
    "En la pasatía de nuestros jóvenes investigadores, nos llamó mucho la atención como con la computación podemos resolver preblemas de protección de la comunicación, a lo que llaman criptografía. \n",
    "También me llamó la atención cómo podemos construir un modelo de clasificación de plantas con una red neuronal. Y más aún su representación gráfica. Esto lo ejemplificaremos utilizando el dataset de florez de iris de Ficher y la librería scikitlearn asociada a python.\n",
    "Veamos el asunto de la protección de la confidencialidad de las comunicaciones: \n",
    "\n",
    "## Planteemos el problema\n",
    "\n",
    "See requiere enviar una información por correo electrónico, y queremos que se valla codificada para que nadie pueda leer el mensaje si por casualidad tiene acceso a nuestro correo. \n",
    "\n",
    "\n",
    "### El método de sustitución simple\n",
    "\n",
    "Este es un primer método de protección de las comunicaciones que consiste en sustituir cada letra de un mensaje a proteger por la letra siguiente del alfebeto que le corresponde \n",
    "\n",
    "# Código python de la función que genera dos mapeos o funciones de sustitución para protección de la confidencialidad de las comunicaciones\n",
    "\n",
    "```python\n",
    "import string # este modulo nos provee el alfabeto el minúsculas o mayúsculas ordenado e indexado. \n",
    "ALFABETO = string.ascii_uppercase\n",
    "print(ALFABETO)\n",
    "```\n",
    "\n",
    "Así podemos obtener el alfabeto organizado como lo hemos conocido. ¿Pero cómo lo ordena una computadora?\n",
    "Le asigna números naturales a cada letra. \n",
    "\n",
    "En python, la asignación de enteros comienza en cero: \n",
    "Veamoslo:\n",
    "\n",
    "```python\n",
    "ALFABETO[0] # para acceder a la primera letra lo hacemos con el índice 0\n",
    "```\n",
    "\n"
   ]
  },
  {
   "cell_type": "markdown",
   "metadata": {},
   "source": []
  },
  {
   "cell_type": "code",
   "execution_count": null,
   "metadata": {
    "vscode": {
     "languageId": "plaintext"
    }
   },
   "outputs": [],
   "source": []
  },
  {
   "cell_type": "code",
   "execution_count": null,
   "metadata": {
    "vscode": {
     "languageId": "plaintext"
    }
   },
   "outputs": [],
   "source": []
  },
  {
   "cell_type": "markdown",
   "metadata": {},
   "source": [
    "## Referentes\n",
    "\n",
    "* Nielson, S. J., & Monson, C. K. (2019). Practical Cryptography in Python: Learning Correct Cryptography by Example. Apress.\n",
    "\n",
    "* Géron, A. (2022). Hands-on machine learning with Scikit-Learn, Keras, and TensorFlow. \" O'Reilly Media, Inc.\".\n",
    "\n"
   ]
  },
  {
   "cell_type": "markdown",
   "metadata": {},
   "source": []
  }
 ],
 "metadata": {
  "kernelspec": {
   "display_name": ".venv",
   "language": "python",
   "name": "python3"
  },
  "language_info": {
   "codemirror_mode": {
    "name": "ipython",
    "version": 3
   },
   "file_extension": ".py",
   "mimetype": "text/x-python",
   "name": "python",
   "nbconvert_exporter": "python",
   "pygments_lexer": "ipython3",
   "version": "3.10.12"
  },
  "orig_nbformat": 4
 },
 "nbformat": 4,
 "nbformat_minor": 2
}
