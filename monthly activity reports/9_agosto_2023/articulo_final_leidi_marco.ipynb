{
 "cells": [
  {
   "cell_type": "markdown",
   "metadata": {},
   "source": [
    "<table align=\"left\">\n",
    "  <td>\n",
    "    <a href=\"https://colab.research.google.com/github/marco-canas/8_sky/blob/main/informes_actividades_mensuales/3_februery_2023/marco_february_2023.ipynb\" target=\"_parent\"><img src=\"https://colab.research.google.com/assets/colab-badge.svg\" alt=\"Open In Colab\"/></a>\n",
    "  </td>\n",
    "</table>"
   ]
  },
  {
   "cell_type": "code",
   "execution_count": null,
   "metadata": {},
   "outputs": [],
   "source": []
  },
  {
   "cell_type": "markdown",
   "metadata": {},
   "source": [
    "# Desarrollo pensamiento computacional. Dos ejemplos de aplicación\n",
    "\n",
    "Mostraremos como en nuestra experiencia docente el lenguaje python incentiva la competencia de resolver problemas construyendo modelos computacionales. \n",
    "En la pasatía de nuestros jóvenes investigadores, nos llamó mucho la atención como con la computación podemos resolver preblemas de protección de la comunicación, a lo que llaman criptografía. \n",
    "También me llamó la atención cómo podemos construir un modelo de clasificación de plantas con una red neuronal. Y más aún su representación gráfica. \n",
    "Veamos el asunto de la protección de la confidencialidad de las comunicaciones: "
   ]
  },
  {
   "cell_type": "markdown",
   "metadata": {},
   "source": []
  }
 ],
 "metadata": {
  "kernelspec": {
   "display_name": ".venv",
   "language": "python",
   "name": "python3"
  },
  "language_info": {
   "codemirror_mode": {
    "name": "ipython",
    "version": 3
   },
   "file_extension": ".py",
   "mimetype": "text/x-python",
   "name": "python",
   "nbconvert_exporter": "python",
   "pygments_lexer": "ipython3",
   "version": "3.10.12"
  },
  "orig_nbformat": 4
 },
 "nbformat": 4,
 "nbformat_minor": 2
}
