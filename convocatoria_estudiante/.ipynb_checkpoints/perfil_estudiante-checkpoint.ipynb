{
 "cells": [
  {
   "cell_type": "markdown",
   "id": "c5c67eeb",
   "metadata": {
    "slideshow": {
     "slide_type": "slide"
    }
   },
   "source": [
    "# Pormenores para la convocatoria de estudiantes para el proyecto"
   ]
  },
  {
   "cell_type": "markdown",
   "id": "9814b76f",
   "metadata": {
    "slideshow": {
     "slide_type": "slide"
    }
   },
   "source": [
    "¿Número de estudiantes permitidos para el proyecto de grado Bajo Cauca?"
   ]
  },
  {
   "cell_type": "markdown",
   "id": "d85f66ba",
   "metadata": {
    "slideshow": {
     "slide_type": "slide"
    }
   },
   "source": [
    "Le proponemos el parámetro de precipitación. "
   ]
  },
  {
   "cell_type": "markdown",
   "id": "26d1710a",
   "metadata": {
    "slideshow": {
     "slide_type": "slide"
    }
   },
   "source": [
    "Si nos puede compartir un resumen de la propuesta. "
   ]
  },
  {
   "cell_type": "markdown",
   "id": "4a3daf29",
   "metadata": {
    "slideshow": {
     "slide_type": "slide"
    }
   },
   "source": [
    "Serían seis programas a considerar para la convocatoria. "
   ]
  },
  {
   "cell_type": "markdown",
   "id": "de632b19",
   "metadata": {
    "slideshow": {
     "slide_type": "slide"
    }
   },
   "source": [
    "## Tareas para el estudiante que haga su proyecto de grado"
   ]
  },
  {
   "cell_type": "markdown",
   "id": "10be2fc9",
   "metadata": {
    "slideshow": {
     "slide_type": "slide"
    }
   },
   "source": [
    "Motivación por la programación de computadores"
   ]
  },
  {
   "cell_type": "markdown",
   "id": "affb4b1c",
   "metadata": {
    "slideshow": {
     "slide_type": "slide"
    }
   },
   "source": [
    "Los profesores se ocuparan de la interpretación de los datos. \n"
   ]
  },
  {
   "cell_type": "markdown",
   "id": "52d9228d",
   "metadata": {
    "slideshow": {
     "slide_type": "slide"
    }
   },
   "source": [
    "Número de meses mínimo que debe permanecer al proyecto: 9 meses mínimos"
   ]
  },
  {
   "cell_type": "markdown",
   "id": "6ec0082d",
   "metadata": {
    "slideshow": {
     "slide_type": "slide"
    }
   },
   "source": [
    "## Tabla de información general "
   ]
  },
  {
   "cell_type": "markdown",
   "id": "560ccc00",
   "metadata": {},
   "source": [
    "|Duración de la vinculación al proyecto|Mínimo 9 meses|  \n",
    "|--|--|  \n",
    "|Número de estudiantes por sede|Mínimo 1|    \n",
    "|Tareas del estudiantes| 1. Construir un código en Python que permita el estudio y análisis mínimo de una variable climática esencial de las que se estudiarán en el proyecto.\n",
    "|                         |2. Hacer monitoreo constante de la variable climática de la sede durante su vinculación al proyecto.|\n",
    "|                         |3. Generar comparaciones de la variable climática de su sede con las demás sedes|  \n",
    "|Variable climática por seccional| Bajo Cauca: Radiación Solar en superficie |  \n"
   ]
  },
  {
   "cell_type": "markdown",
   "id": "1d23fafc",
   "metadata": {
    "slideshow": {
     "slide_type": "slide"
    }
   },
   "source": [
    "## Información de los coordinadores de práctica"
   ]
  },
  {
   "cell_type": "code",
   "execution_count": 1,
   "id": "54614cb2",
   "metadata": {
    "slideshow": {
     "slide_type": "slide"
    }
   },
   "outputs": [],
   "source": [
    "programa_academico = ['Ingeniería de sistemas', '','']"
   ]
  },
  {
   "cell_type": "code",
   "execution_count": null,
   "id": "f795e09b",
   "metadata": {
    "slideshow": {
     "slide_type": "slide"
    }
   },
   "outputs": [],
   "source": []
  },
  {
   "cell_type": "markdown",
   "id": "f39905ce",
   "metadata": {
    "slideshow": {
     "slide_type": "slide"
    }
   },
   "source": [
    "## Correo para coordinadores de práctica"
   ]
  },
  {
   "cell_type": "markdown",
   "id": "5138d9f7",
   "metadata": {
    "slideshow": {
     "slide_type": "slide"
    }
   },
   "source": [
    "Buenos días \n",
    "\n",
    "Cordial saludo\n",
    "\n",
    "\n",
    "\n",
    "Coordinador de práctica \n",
    "\n",
    "El presente correo es para invitar a los estudiantes del programa de Ingeniería Ambiental que esté en últimos semestres y deseen realizar su proyecto de grado con un proyecto CODI aprobado para la seccional Bajo Cauca.\n",
    "\n",
    "El nombre del proyecto es \"Antioquia mira su cielo\" \n",
    "\n",
    "El proyecto consiste en construir un código o modelo predictivo para modelar el comportamiento meteorológico de los cielos de las sedes regionales de la Universidad de Antioquia, tratando de maximizar el área de cobertura territorial. Una máxima cobertura, con una alta resolución tanto espacial como temporal, permitirá que los estudios que se realicen tengan resultados únicos.\n",
    "\n",
    "Usaremos estaciones meteorológicas y cámaras Allsky para medir los parámetros atmosféricos y del cielo, que serán corroborados con imágenes del satélite GOES-16. Una vez corroborados los datos, se compararán con modelos teóricos computacionales, que nos permitirán realizar pronósticos a pequeñas escalas de tiempo (~1 día). Para realizar este proyecto, se reunió un conjunto de profesionales que han trabajado en el área, favoreciendo la viabilidad del mismo. \n",
    "\n",
    "Debido al perfil de su programa consideramos importante que al menos un estudiante de su programa realice su proyecto de grado en esta investigación. \n",
    "\n",
    "Quedamos atentos a sus recomendaciones de algunos estudiantes candidatos.\n",
    "\n",
    "Agradecemos su recomendación. \n",
    "\n",
    "\n",
    "\n"
   ]
  },
  {
   "cell_type": "code",
   "execution_count": null,
   "id": "69962635",
   "metadata": {
    "slideshow": {
     "slide_type": "slide"
    }
   },
   "outputs": [],
   "source": []
  },
  {
   "cell_type": "markdown",
   "id": "a305cf9e",
   "metadata": {
    "slideshow": {
     "slide_type": "slide"
    }
   },
   "source": [
    "## Correo Coordinador de Programa"
   ]
  },
  {
   "cell_type": "markdown",
   "id": "048eaecb",
   "metadata": {
    "slideshow": {
     "slide_type": "slide"
    }
   },
   "source": [
    "Buenos días \n",
    "\n",
    "Cordial saludo\n",
    "\n",
    "\n",
    "\n",
    "Coordinador de programa \n",
    "\n",
    "El presente correo es para invitar a los estudiantes del programa de **Ingeniería Ambiental** que esté en últimos semestres (más del sexto semestre) y deseen investigar, lo puedan hacer en un proyecto CODI aprobado para la seccional Bajo Cauca.\n",
    "\n",
    "El nombre del proyecto es \"Antioquia mira su cielo\" \n",
    "\n",
    "El proyecto consiste en construir un código o modelo predictivo para modelar el comportamiento meteorológico de los cielos de las sedes regionales de la Universidad de Antioquia, tratando de maximizar el área de cobertura territorial. Una máxima cobertura, con una alta resolución tanto espacial como temporal, permitirá que los estudios que se realicen tengan resultados únicos.\n",
    "\n",
    "Usaremos estaciones meteorológicas y cámaras Allsky para medir los parámetros atmosféricos y del cielo, que serán corroborados con imágenes del satélite GOES-16. Una vez corroborados los datos, se compararán con modelos teóricos computacionales, que nos permitirán realizar pronósticos a pequeñas escalas de tiempo (~1 día). Para realizar este proyecto, se reunió un conjunto de profesionales que han trabajado en el área, favoreciendo la viabilidad del mismo. \n",
    "\n",
    "Debido al perfil de su programa consideramos importante que al menos un estudiante de su programa realice actividades investigativas en este proyecto. \n",
    "\n",
    "Quedamos atentos a sus recomendaciones de algunos estudiantes candidatos.\n",
    "\n",
    "Agradecemos su recomendación. \n",
    "\n",
    "\n",
    "\n"
   ]
  },
  {
   "cell_type": "code",
   "execution_count": null,
   "id": "35a37d8f",
   "metadata": {
    "slideshow": {
     "slide_type": "slide"
    }
   },
   "outputs": [],
   "source": []
  },
  {
   "cell_type": "markdown",
   "id": "15603ffb",
   "metadata": {
    "slideshow": {
     "slide_type": "slide"
    }
   },
   "source": [
    "# Proyecto:\n",
    "Antioquia mira su cielo\n",
    "Caracterización del cielo a través de monitoreo y análisis de variables climáticas esenciales "
   ]
  },
  {
   "cell_type": "markdown",
   "id": "0f53ea23",
   "metadata": {
    "slideshow": {
     "slide_type": "slide"
    }
   },
   "source": [
    "Por:\n",
    "\n",
    "Esteban Silva Villa  \n",
    "Instituto de Física\n",
    "\n",
    "Leidy De La Ossa V    \n",
    "Ciencias Económicas Seccional Bajo Cauca  \n",
    "\n",
    "\n",
    "Marco Cañas Campillo\n",
    "Instituto de Matemáticas Seccional Bajo Cauca  \n",
    "\n",
    "Verónica Muñoz\n",
    "Ingeniería Agropecuaria Seccional Occidente  \n",
    "\n",
    "\n",
    "Carlos Gutierrez  \n",
    "Ciencias del Mar Seccional Urabá\n",
    "\n",
    "John Alejandro Martínez  \n",
    "Escuela Ambiental Ciudad Universitaria  \n",
    "\n",
    "Daniel Arbeláez Cardona    \n",
    "Instituto de Física Ciudad Universitaria  \n",
    "\n",
    "Carlos A. Palacio T.  \n",
    "Escuela Ambiental Ciudad Universitaria\n",
    "\n",
    "\n",
    "Germán Chaparro  \n",
    "Instituto de Física Ciudad Universitaria\n",
    "\n",
    "Pablo Cuartas Restrepo  \n",
    "Instituto de Física Ciudad Universitaria\n",
    "\n",
    "León Alexander Valencia  \n",
    "Instituto de Matemáticas Ciudad Universitaria\n",
    "\n",
    "\n"
   ]
  },
  {
   "cell_type": "markdown",
   "id": "5d7b6f5d",
   "metadata": {
    "slideshow": {
     "slide_type": "slide"
    }
   },
   "source": [
    "## RESUMEN"
   ]
  },
  {
   "cell_type": "markdown",
   "id": "1a352f7a",
   "metadata": {
    "slideshow": {
     "slide_type": "slide"
    }
   },
   "source": [
    "La estacionalidad y los ciclos de las variables climáticas esenciales tales como la temperatura, el agua precipitable, la irradiancia, entre otras, tienen un comportamiento turbulento y caótico por naturaleza. "
   ]
  },
  {
   "cell_type": "markdown",
   "id": "f0521bc3",
   "metadata": {
    "slideshow": {
     "slide_type": "slide"
    }
   },
   "source": [
    "Dicho comportamiento hace que su estudio a pequeña escala, tanto temporal como espacial, no pueda hacerse de una forma directa. "
   ]
  },
  {
   "cell_type": "markdown",
   "id": "debc60b0",
   "metadata": {
    "slideshow": {
     "slide_type": "slide"
    }
   },
   "source": [
    "A través del uso de estaciones de monitoreo permanente, imágenes satelitales y modelos teóricos computacionales, estudiaremos el comportamiento de la atmósfera sobre el Departamento de Antioquia."
   ]
  },
  {
   "cell_type": "markdown",
   "id": "046554d9",
   "metadata": {
    "slideshow": {
     "slide_type": "slide"
    }
   },
   "source": [
    " \n",
    "Este estudio se enfocará en los cielos de las sedes regionales de la Universidad de Antioquia, tratando de maximizar el área de cobertura territorial. "
   ]
  },
  {
   "cell_type": "markdown",
   "id": "9f196d8d",
   "metadata": {
    "slideshow": {
     "slide_type": "slide"
    }
   },
   "source": [
    "Una máxima cobertura, con una alta resolución tanto espacial como temporal, permitirá que los estudios que se realicen tengan resultados únicos."
   ]
  },
  {
   "cell_type": "markdown",
   "id": "d9eb1ba4",
   "metadata": {
    "slideshow": {
     "slide_type": "slide"
    }
   },
   "source": [
    "Usaremos estaciones meteorológicas y cámaras Allsky para medir los parámetros atmosféricos y del cielo, que serán corroborados con imágenes del satélite GOES-16. "
   ]
  },
  {
   "cell_type": "markdown",
   "id": "0f65ef0d",
   "metadata": {
    "slideshow": {
     "slide_type": "slide"
    }
   },
   "source": [
    "Una vez corroborados los datos, se compararán con modelos teóricos computacionales, que nos permitirán realizar pronósticos a pequeñas escalas de tiempo (~1 día). "
   ]
  },
  {
   "cell_type": "markdown",
   "id": "e36d683d",
   "metadata": {
    "slideshow": {
     "slide_type": "slide"
    }
   },
   "source": [
    "Para realizar este proyecto, se reunió un conjunto de profesionales que han trabajado en el área, favoreciendo la viabilidad del mismo. "
   ]
  },
  {
   "cell_type": "markdown",
   "id": "be8ee3b2",
   "metadata": {
    "slideshow": {
     "slide_type": "slide"
    }
   },
   "source": [
    "Al finalizar este proyecto se logrará lo siguiente: "
   ]
  },
  {
   "cell_type": "markdown",
   "id": "6b9abcbe",
   "metadata": {
    "slideshow": {
     "slide_type": "slide"
    }
   },
   "source": [
    "* Haber involucrado 3 estudiantes de las sedes regionales de la Universidad."
   ]
  },
  {
   "cell_type": "markdown",
   "id": "8ee91660",
   "metadata": {
    "slideshow": {
     "slide_type": "slide"
    }
   },
   "source": [
    "* La instalación de 3 estaciones meteorológicas de monitoreo permanente funcionando plenamente.\n",
    "  Un producto de divulgación. "
   ]
  },
  {
   "cell_type": "markdown",
   "id": "fb405370",
   "metadata": {
    "slideshow": {
     "slide_type": "slide"
    }
   },
   "source": [
    "* Un programa de charlas públicas para escuelas y colegios de las sedes regionales usando los \n",
    "  datos del proyecto. "
   ]
  },
  {
   "cell_type": "markdown",
   "id": "64b9c859",
   "metadata": {
    "slideshow": {
     "slide_type": "slide"
    }
   },
   "source": [
    "* Una página web en un servidor de la Universidad donde se ofrecerá acceso a todos los datos obtenidos. "
   ]
  },
  {
   "cell_type": "markdown",
   "id": "8869f6de",
   "metadata": {
    "slideshow": {
     "slide_type": "slide"
    }
   },
   "source": [
    "* Las condiciones y herramientas mínimas para que el conjunto de estaciones de monitoreo continúe\n",
    "  funcionando una vez termine el proyecto."
   ]
  },
  {
   "cell_type": "markdown",
   "id": "5be35602",
   "metadata": {
    "slideshow": {
     "slide_type": "slide"
    }
   },
   "source": [
    "## Planteamiento del problema"
   ]
  },
  {
   "cell_type": "markdown",
   "id": "1529180b",
   "metadata": {
    "slideshow": {
     "slide_type": "slide"
    }
   },
   "source": [
    "La atmósfera del planeta Tierra es un sistema complejo, con dinámicas en una gran variedad de escalas espaciales y temporales, y con características caóticas y turbulentas que dificultan su predictibilidad. "
   ]
  },
  {
   "cell_type": "markdown",
   "id": "e096d494",
   "metadata": {
    "slideshow": {
     "slide_type": "slide"
    }
   },
   "source": [
    "La atmósfera es un sistema fundamental para la vida en el planeta, incluyendo la humana. "
   ]
  },
  {
   "cell_type": "markdown",
   "id": "2c07f306",
   "metadata": {
    "slideshow": {
     "slide_type": "slide"
    }
   },
   "source": [
    "A pesar de haber desarrollado modelos teóricos y numéricos que nos ayudan a entender el comportamiento de la atmósfera,  los rasgos aperiódicos y limitaciones en predictibilidad hacen que exista una necesidad permanente de monitorear la variación de parámetros atmosféricos relevantes a pequeñas escalas espaciales y temporales, especialmente si estamos interesados en los detalles del tiempo y el clima que afecta una comunidad en particular. "
   ]
  },
  {
   "cell_type": "markdown",
   "id": "183f42c6",
   "metadata": {
    "slideshow": {
     "slide_type": "slide"
    }
   },
   "source": [
    "Dada la importancia de algunos de esos parámetros, la Organización Meteorológica Mundial ha definido una lista de parámetros conocidos como Variables Climáticas Esenciales (ECVs, por sus siglas en Inglés). \n",
    "\n",
    "Instituciones como el SIATA y el IDEAM, a nivel municipal y nacional respectivamente, cuentan en la actualidad con instrumentos  que monitorean constantemente variables meteorológicas como: temperatura, dirección del viento, humedad relativa, irradiancia (radiación solar en superficie), presión atmosférica, entre otras ECVs. Una gran cantidad de parámetros son monitoreados a nivel mundial a través de satélites geoestacionarios, como el Geostationary Operational Environmental Satellite-R Series (GOES-R).\n",
    " "
   ]
  },
  {
   "cell_type": "markdown",
   "id": "49a6b5f8",
   "metadata": {
    "slideshow": {
     "slide_type": "slide"
    }
   },
   "source": [
    "Las medidas satelitales incluyen variables como temperatura de la superficie, los vientos y el vapor de agua, las cuales también son ECVs. Pese a diversos errores e incertidumbres en los estimados satelitales, sus datos son fundamentales para la mayor parte de diagnósticos y pronósticos relacionados con la atmósfera, y entre sus mayores ventajas se encuentra el hecho de que proveen datos para regiones donde no existen registros/estaciones en tierra. Sin embargo, el uso de datos satelitales requiere un ejercicio de validación de sus registros comparándolos con información en tierra. Además, el formato y producción de la información satelital usualmente requiere usuarios con formación técnica en una serie de herramientas computacionales específicas, que no son de dominio común. "
   ]
  },
  {
   "cell_type": "markdown",
   "id": "f6d58770",
   "metadata": {
    "slideshow": {
     "slide_type": "slide"
    }
   },
   "source": [
    "A través de un estudio de identificación de la nubosidad sobre el Valle de San Nicolás, Arbeláez-Cardona et al. (2019) lograron caracterizar y relacionar observaciones tomadas desde tierra con imágenes del satélite GOES-16. Para identificar dicha relación, los autores estudiaron los productos de ciencia (L2) del instrumento ABI del satélite GOES. Uno de dichos productos es la presencia (o ausencia) de nubes sobre la superficie de la Tierra. Usando dicha calibración, los autores realizaron un estudio para el año 2018, e identificaron los sitios con menor nubosidad durante las horas de la noche en el territorio nacional. La alta resolución espacial (~2 km) y temporal (~10 minutos) de este análisis permitieron realizar un estudio, no solo sobre el Valle de San Nicolás, sino sobre diferentes territorios a nivel nacional. En particular, el Departamento de Antioquia mostró, durante el año estudiado, que el sitio con la menor nubosidad es Arboletes, con un total de 101 noches despejadas (~3 meses, no necesariamente noches consecutivas). "
   ]
  },
  {
   "cell_type": "markdown",
   "id": "559a3a36",
   "metadata": {
    "slideshow": {
     "slide_type": "slide"
    }
   },
   "source": [
    "La variable nubosidad es solo uno de los tantos parámetros que pueden afectar una región a pequeña escala: baja nubosidad está asociada a mayor temperatura, alta nubosidad está asociada a menor temperatura e incluso a la formación de tormentas. Por esta razón, el monitoreo y caracterización de la variable nubosidad puede ser de gran utilidad para entender y diagnosticar la atmósfera de una región. Medidas de nubosidad con estaciones en tierra requieren instrumentos especiales, como piranómetros o cámaras de cielo, los cuales no están disponibles en muchas localidades, incluyendo muchos sitios en Antioquia. Algo similar sucede con otras variables atmosféricas, sin embargo, las posibilidades que ofrece el satélite GOES-16 permiten un estudio detallado de un grupo mayor de parámetros que favorecen el estudio y caracterización del comportamiento de la atmósfera a escalas de pocos kilómetros (~10 km)."
   ]
  },
  {
   "cell_type": "markdown",
   "id": "747d8157",
   "metadata": {
    "slideshow": {
     "slide_type": "slide"
    }
   },
   "source": [
    "El proyecto que presentamos a continuación busca realizar un estudio del cielo sobre el territorio del Departamento de Antioquia, incluyendo  la instalación de estaciones de monitoreo atmosférico en tres sedes de la Universidad de Antioquia. Es importante mencionar que en la actualidad la Universidad ya cuenta con: Una (1) estación de monitoreo (estación meteorológica y cámara de cielo) completamente funcional el Carmen de Viboral, una (1) estación meteorológica en Andes, una (1) estación meteorológica en Turbo y una (1) estación de monitoreo en Puerto Berrío (en reparación por fallas técnicas). El proyecto acá propuesto instalará tres (3) estaciones de monitoreo en las seccionales Urabá, Occidente y Bajo Cauca. Con la instalación de tres nuevas estaciones la Universidad contaría con un total de seis (6) puntos sobre el territorio departamental que estarían monitoreando variables climatológicas. Las variables entregadas por las estaciones de monitoreo se compararán con las medidas realizadas mediante el satélite GOES-16, lo que permitiría una observación y validación de los estudios del comportamiento a escalas espaciales y temporales nunca antes realizados en el territorio departamental y nacional. De este modo, el estudio del cielo propuesto también incluye la incorporación de estimados satelitales para una región que incluye Antioquia."
   ]
  },
  {
   "cell_type": "markdown",
   "id": "2cd0c3e8",
   "metadata": {
    "slideshow": {
     "slide_type": "slide"
    }
   },
   "source": [
    "En esta propuesta abordamos el estudio del cielo sobre Antioquia usando estaciones meteorológicas y datos satelitales para monitorear y entender la variación de un conjunto de ECVs (temperatura, precipitación, radiación y viento) sobre el Departamento en múltiples "
   ]
  },
  {
   "cell_type": "markdown",
   "id": "1bcf4310",
   "metadata": {
    "slideshow": {
     "slide_type": "slide"
    }
   },
   "source": [
    "particular, el Departamento de Antioquia mostró, durante el año estudiado, que el sitio con la menor nubosidad es Arboletes, con un total de 101 noches despejadas (~3 meses, no necesariamente noches consecutivas). "
   ]
  },
  {
   "cell_type": "markdown",
   "id": "06aa8306",
   "metadata": {
    "slideshow": {
     "slide_type": "slide"
    }
   },
   "source": [
    "La variable nubosidad es solo uno de los tantos parámetros que pueden afectar una región a pequeña escala: baja nubosidad está asociada a mayor temperatura, alta nubosidad está asociada a menor temperatura e incluso a la formación de tormentas. "
   ]
  },
  {
   "cell_type": "markdown",
   "id": "57c42d6f",
   "metadata": {
    "slideshow": {
     "slide_type": "slide"
    }
   },
   "source": [
    "Por esta razón, el monitoreo y caracterización de la variable nubosidad puede ser de gran utilidad para entender y diagnosticar la atmósfera de una región. Medidas de nubosidad con estaciones en tierra requieren instrumentos especiales, como piranómetros o cámaras de cielo, los cuales no están disponibles en muchas localidades, incluyendo muchos sitios en Antioquia. "
   ]
  },
  {
   "cell_type": "markdown",
   "id": "77fc7455",
   "metadata": {
    "slideshow": {
     "slide_type": "slide"
    }
   },
   "source": [
    "Algo similar sucede con otras variables atmosféricas, sin embargo, las posibilidades que ofrece el satélite GOES-16 permiten un estudio detallado de un grupo mayor de parámetros que favorecen el estudio y caracterización del comportamiento de la atmósfera a escalas de pocos kilómetros (~10 km)."
   ]
  },
  {
   "cell_type": "markdown",
   "id": "85609eac",
   "metadata": {
    "slideshow": {
     "slide_type": "slide"
    }
   },
   "source": [
    "El proyecto que presentamos a continuación busca realizar un estudio del cielo sobre el territorio del Departamento de Antioquia, incluyendo  la instalación de estaciones de monitoreo atmosférico en tres sedes de la Universidad de Antioquia. Es importante mencionar que en la actualidad la Universidad ya cuenta con: Una (1) estación de monitoreo (estación meteorológica y cámara de cielo) completamente funcional el Carmen de Viboral, una (1) estación meteorológica en Andes, una (1) estación meteorológica en Turbo y una (1) estación de monitoreo en Puerto Berrío (en reparación por fallas técnicas). "
   ]
  },
  {
   "cell_type": "markdown",
   "id": "041ce6a5",
   "metadata": {
    "slideshow": {
     "slide_type": "slide"
    }
   },
   "source": [
    "El proyecto acá propuesto instalará tres (3) estaciones de monitoreo en las seccionales Urabá, Occidente y Bajo Cauca. Con la instalación de tres nuevas estaciones la Universidad contaría con un total de seis (6) puntos sobre el territorio departamental que estarían monitoreando variables climatológicas. Las variables entregadas por las estaciones de monitoreo se compararán con las medidas realizadas mediante el satélite GOES-16, lo que permitiría una observación y validación de los estudios del comportamiento a escalas espaciales y temporales nunca antes realizados en el territorio departamental y nacional. De este modo, el estudio del cielo propuesto también incluye la incorporación de estimados satelitales para una región que incluye Antioquia."
   ]
  },
  {
   "cell_type": "markdown",
   "id": "ff9e48d8",
   "metadata": {
    "slideshow": {
     "slide_type": "slide"
    }
   },
   "source": [
    "En esta propuesta abordamos el estudio del cielo sobre Antioquia usando estaciones meteorológicas y datos satelitales para monitorear y entender la variación de un conjunto de ECVs (temperatura, precipitación, radiación y viento) sobre el Departamento en múltiples "
   ]
  },
  {
   "cell_type": "code",
   "execution_count": null,
   "id": "4dcb04d5",
   "metadata": {
    "slideshow": {
     "slide_type": "slide"
    }
   },
   "outputs": [],
   "source": []
  },
  {
   "cell_type": "code",
   "execution_count": null,
   "id": "62b2f539",
   "metadata": {},
   "outputs": [],
   "source": []
  },
  {
   "cell_type": "markdown",
   "id": "b707fe98",
   "metadata": {
    "slideshow": {
     "slide_type": "slide"
    }
   },
   "source": [
    "# Estudiantes interesados en el proyecto"
   ]
  },
  {
   "cell_type": "markdown",
   "id": "cd4a0108",
   "metadata": {
    "slideshow": {
     "slide_type": "slide"
    }
   },
   "source": [
    "Mi nombre Ricardo cuesta cc.79540747  \n",
    "me interesa saber mas del proyecto  \n",
    "y asi poder evaluar la posibilidad de participar en la opcion de poderme  unir a uds me puedes contactar, o enviarme  mas información.\n",
    "sede caucasia.\n",
    "\n",
    "Gracias  \n",
    "\n",
    "Att.   \n",
    "Ricardo Cuesta  \n",
    "Universidad de Antioquia  \n",
    "Ing Telecomunicaciones  \n",
    "315-7441279  \n"
   ]
  },
  {
   "cell_type": "code",
   "execution_count": null,
   "id": "4e04fe83",
   "metadata": {},
   "outputs": [],
   "source": []
  }
 ],
 "metadata": {
  "celltoolbar": "Slideshow",
  "kernelspec": {
   "display_name": "Python 3",
   "language": "python",
   "name": "python3"
  },
  "language_info": {
   "codemirror_mode": {
    "name": "ipython",
    "version": 3
   },
   "file_extension": ".py",
   "mimetype": "text/x-python",
   "name": "python",
   "nbconvert_exporter": "python",
   "pygments_lexer": "ipython3",
   "version": "3.8.8"
  },
  "latex_envs": {
   "LaTeX_envs_menu_present": true,
   "autoclose": false,
   "autocomplete": false,
   "bibliofile": "biblio.bib",
   "cite_by": "apalike",
   "current_citInitial": 1,
   "eqLabelWithNumbers": true,
   "eqNumInitial": 1,
   "hotkeys": {
    "equation": "Ctrl-E",
    "itemize": "Ctrl-I"
   },
   "labels_anchors": false,
   "latex_user_defs": false,
   "report_style_numbering": false,
   "user_envs_cfg": false
  }
 },
 "nbformat": 4,
 "nbformat_minor": 5
}
