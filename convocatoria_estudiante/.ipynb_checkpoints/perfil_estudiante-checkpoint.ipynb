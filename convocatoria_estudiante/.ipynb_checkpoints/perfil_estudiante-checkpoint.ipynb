{
 "cells": [
  {
   "cell_type": "markdown",
   "id": "dbf21b37",
   "metadata": {},
   "source": [
    "# Pormenores para la convocatoria de estudiantes para el proyecto"
   ]
  },
  {
   "cell_type": "markdown",
   "id": "9814b76f",
   "metadata": {},
   "source": [
    "¿Número de estudiantes permitidos para el proyecto de grado Bajo Cauca?"
   ]
  },
  {
   "cell_type": "markdown",
   "id": "d85f66ba",
   "metadata": {},
   "source": [
    "Le proponemos el parámetro de precipitación. "
   ]
  },
  {
   "cell_type": "markdown",
   "id": "26d1710a",
   "metadata": {},
   "source": [
    "Si nos puede compartir un resumen de la propuesta. "
   ]
  },
  {
   "cell_type": "markdown",
   "id": "4a3daf29",
   "metadata": {},
   "source": [
    "Serían seis programas a considerar para la convocatoria. "
   ]
  },
  {
   "cell_type": "markdown",
   "id": "77b520e6",
   "metadata": {},
   "source": [
    "## Tareas para el estudiante que haga su proyecto de grado"
   ]
  },
  {
   "cell_type": "markdown",
   "id": "eec84bc4",
   "metadata": {},
   "source": [
    "Motivación por la programación de computadores"
   ]
  },
  {
   "cell_type": "markdown",
   "id": "a33bb1ef",
   "metadata": {},
   "source": [
    "Los profesores se ocuparan de la interpretación de los datos. \n"
   ]
  },
  {
   "cell_type": "markdown",
   "id": "4a79dd92",
   "metadata": {},
   "source": [
    "Número de meses mínimo que debe permanecer al proyecto: 9 meses mínimos"
   ]
  },
  {
   "cell_type": "markdown",
   "id": "adbde094",
   "metadata": {},
   "source": [
    "## Tabla de información general "
   ]
  },
  {
   "cell_type": "markdown",
   "id": "c4c60c50",
   "metadata": {},
   "source": [
    "|Duración de la vinculación al proyecto|Mínimo 9 meses|  \n",
    "|--|--|  \n",
    "|Número de estudiantes por sede|Mínimo 1|    \n",
    "|Tareas del estudiantes| 1. Construir un código en Python que permita el estudio y análisis mínimo de una variable climática esencial de las que se estudiarán en el proyecto.\n",
    "|                         |2. Hacer monitoreo constante de la variable climática de la sede durante su vinculación al proyecto.|\n",
    "|                         |3. Generar comparaciones de la variable climática de su sede con las demás sedes|  \n",
    "|Variable climática por seccional| Bajo Cauca: Radiación Solar en superficie |  \n"
   ]
  },
  {
   "cell_type": "code",
   "execution_count": null,
   "id": "efeed98b",
   "metadata": {},
   "outputs": [],
   "source": []
  },
  {
   "cell_type": "code",
   "execution_count": null,
   "id": "16ae3537",
   "metadata": {},
   "outputs": [],
   "source": []
  },
  {
   "cell_type": "code",
   "execution_count": null,
   "id": "796f3db9",
   "metadata": {},
   "outputs": [],
   "source": []
  },
  {
   "cell_type": "code",
   "execution_count": null,
   "id": "513dd543",
   "metadata": {},
   "outputs": [],
   "source": []
  },
  {
   "cell_type": "code",
   "execution_count": null,
   "id": "3adb2bb2",
   "metadata": {},
   "outputs": [],
   "source": []
  }
 ],
 "metadata": {
  "kernelspec": {
   "display_name": "Python 3",
   "language": "python",
   "name": "python3"
  },
  "language_info": {
   "codemirror_mode": {
    "name": "ipython",
    "version": 3
   },
   "file_extension": ".py",
   "mimetype": "text/x-python",
   "name": "python",
   "nbconvert_exporter": "python",
   "pygments_lexer": "ipython3",
   "version": "3.8.8"
  },
  "latex_envs": {
   "LaTeX_envs_menu_present": true,
   "autoclose": false,
   "autocomplete": false,
   "bibliofile": "biblio.bib",
   "cite_by": "apalike",
   "current_citInitial": 1,
   "eqLabelWithNumbers": true,
   "eqNumInitial": 1,
   "hotkeys": {
    "equation": "Ctrl-E",
    "itemize": "Ctrl-I"
   },
   "labels_anchors": false,
   "latex_user_defs": false,
   "report_style_numbering": false,
   "user_envs_cfg": false
  }
 },
 "nbformat": 4,
 "nbformat_minor": 5
}
