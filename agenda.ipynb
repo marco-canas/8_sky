{
 "cells": [
  {
   "cell_type": "markdown",
   "id": "72dd1587",
   "metadata": {
    "slideshow": {
     "slide_type": "slide"
    }
   },
   "source": [
    "<table align=\"left\">\n",
    "  <td>\n",
    "    <a href=\"https://colab.research.google.com/github/marco-canas/cielo/blob/main/presentaci%C3%B3n_3_jornadas_investigacion/3_jornadas_investigacion_2021.ipynb\" target=\"_parent\"><img src=\"https://colab.research.google.com/assets/colab-badge.svg\" alt=\"Open In Colab\"/></a>\n",
    "  </td>\n",
    "</table>"
   ]
  },
  {
   "cell_type": "markdown",
   "id": "1698cf0d",
   "metadata": {
    "slideshow": {
     "slide_type": "slide"
    }
   },
   "source": [
    "# Construcción de agenda de Investigación"
   ]
  },
  {
   "cell_type": "markdown",
   "id": "fc8eff9a",
   "metadata": {
    "slideshow": {
     "slide_type": "slide"
    }
   },
   "source": [
    "Les comparto lo conversado en la reunión del día de hoy sobre los avances del proceso de construcción de las agendas de investigación."
   ]
  },
  {
   "cell_type": "markdown",
   "id": "573d1d62",
   "metadata": {
    "slideshow": {
     "slide_type": "slide"
    }
   },
   "source": [
    "* En primer lugar, contarles que gracias a la articulación de Regionalización y la Vicerrectoría de Investigación en este momento y hasta noviembre de 2022 contamos con un asesor metodológico para los espacios de interlocución. El asesor es el profesor Juan Camilo Bustamante, investigador del grupo de investigación REDSA (Recursos Estratégicos de Región y Dinámicas Socioambientales) del INER."
   ]
  },
  {
   "cell_type": "markdown",
   "id": "2f030d93",
   "metadata": {
    "slideshow": {
     "slide_type": "slide"
    }
   },
   "source": [
    "* En segundo lugar, para empezar con los espacios de interlocución es necesario poner a punto el documento insumo de las agendas con la ayuda del equipo base de cada seccional."
   ]
  },
  {
   "cell_type": "markdown",
   "id": "fea791b1",
   "metadata": {
    "slideshow": {
     "slide_type": "slide"
    }
   },
   "source": [
    "**Acuerdo 1:** para el próximo encuentro del 29 de julio traer aportes para describir cada núcleo estratégico del documento insumo (ver adjunto) en términos de problema, necesidad y oportunidad. Para ello es necesario volver a leer el documento de las dinámicas territoriales del INER (ver adjunto)"
   ]
  },
  {
   "cell_type": "markdown",
   "id": "b72c9ecf",
   "metadata": {
    "slideshow": {
     "slide_type": "slide"
    }
   },
   "source": [
    "En el documento de dinámicas territoriales del INER encontraremos elementos que nos ayudarán a definir la descripción de los núcleos estratégicos."
   ]
  },
  {
   "cell_type": "markdown",
   "id": "0dcb5f3a",
   "metadata": {
    "slideshow": {
     "slide_type": "slide"
    }
   },
   "source": [
    "**Acuerdo 2**: la metodología de los espacios de interlocución se mantiene en un espacio virtual, un espacio presencial y un espacio virtual para socializar el documento final. En nuestro próximo encuentro definiremos fechas del cronograma y frecuencia de encuentros del equipo base."
   ]
  },
  {
   "cell_type": "markdown",
   "id": "9d821649",
   "metadata": {
    "slideshow": {
     "slide_type": "slide"
    }
   },
   "source": [
    "MARÍA ISABEL ARROYO ARROYO\n",
    "Coordinadora de investigación\n",
    "Seccional Bajo Cauca\n",
    "604 8395350 ext 2815\n",
    "Dirección de Regionalización\n",
    "Universidad de Antioquia"
   ]
  },
  {
   "cell_type": "markdown",
   "id": "31e85f8a",
   "metadata": {
    "slideshow": {
     "slide_type": "slide"
    }
   },
   "source": [
    "# 1. COEXISTENCIA Y SUPERPOSICIÓN DE ORDENAMIENTOS Y TERRITORIALIDADES CON INTERESES DIVERGENTES QUE OCASIONAN CONFLICTOS SOCIOAMBIENTALES"
   ]
  },
  {
   "cell_type": "markdown",
   "id": "e442089d",
   "metadata": {
    "slideshow": {
     "slide_type": "slide"
    }
   },
   "source": [
    "El espacio es ordenado de diversos modos, estos son simultáneos de acuerdo con la coexistencia de muchas formas de vida que conciben de modo particular el espacio, su organización, control y gestión. "
   ]
  },
  {
   "cell_type": "markdown",
   "id": "24acac0e",
   "metadata": {
    "slideshow": {
     "slide_type": "slide"
    }
   },
   "source": [
    "Cada una de ellas configura una territorialidad específica reconocible por sus prácticas materiales, decisiones políticas, pertenencias identitarias y representacionales según la comprensión de la relación sociedad-naturaleza. "
   ]
  },
  {
   "cell_type": "markdown",
   "id": "48d8e0bd",
   "metadata": {
    "slideshow": {
     "slide_type": "slide"
    }
   },
   "source": [
    "Las hay de tipo ambiental (reservas y áreas naturales), militar (territorios controlados por actores criminales, insurgentes y estatales), campesinas y étnicas (resguardos, territorios colectivos, zonas campesinas), empresarial (concesiones mineras y empresas privadas ganaderas) y estatal (carácter jurídico-administrativo de la subregión y también de orden militar). "
   ]
  },
  {
   "cell_type": "markdown",
   "id": "8ecba5d8",
   "metadata": {
    "slideshow": {
     "slide_type": "slide"
    }
   },
   "source": [
    "Las divergencias entre estas territorialidades dan lugar a disputas que pueden llegar a arreglos, forcejeos que resultan en equilibrios o desequilibrios territoriales para la reproducción de cada una. "
   ]
  },
  {
   "cell_type": "markdown",
   "id": "cf935e6e",
   "metadata": {
    "slideshow": {
     "slide_type": "slide"
    }
   },
   "source": [
    "Mientras más garantías para la reproducción de todas las territorialidades, mejor es la capacidad de configurar condiciones de justicia espacial para todas. "
   ]
  },
  {
   "cell_type": "markdown",
   "id": "bb8d38f7",
   "metadata": {
    "slideshow": {
     "slide_type": "slide"
    }
   },
   "source": [
    "En este apartado nos interesa ubicar espacialmente estas territorialidades, pero, también, analizar la naturaleza política y el peso específico de cada una dentro del ordenamiento físico-espacial de la subregión del Bajo Cauca"
   ]
  },
  {
   "cell_type": "markdown",
   "id": "cb6c9728",
   "metadata": {
    "slideshow": {
     "slide_type": "slide"
    }
   },
   "source": [
    "## 1.1. La forma espacial llamada frontera"
   ]
  },
  {
   "cell_type": "markdown",
   "id": "4d0eccf1",
   "metadata": {
    "slideshow": {
     "slide_type": "slide"
    }
   },
   "source": [
    "La geografía crítica entiende la frontera como un producto espacial de contenidos múltiples. "
   ]
  },
  {
   "cell_type": "markdown",
   "id": "8ecf686d",
   "metadata": {
    "slideshow": {
     "slide_type": "slide"
    }
   },
   "source": [
    "En el Bajo Cauca se entiende como la zona de encuentros de distintas vertientes poblacionales que produjeron territorios culturales, espacios que luego fueron artificialmente divididos por límites departamentales en la constitución de la República y, más tarde, en la década de 1970, cuando se tomaron decisiones político-administrativas que subdividieron el territorio antioqueño por subregiones siendo una de ellas la del Bajo Cauca. "
   ]
  },
  {
   "cell_type": "markdown",
   "id": "8da7a3a4",
   "metadata": {
    "slideshow": {
     "slide_type": "slide"
    }
   },
   "source": [
    "Esas decisiones políticas (entre otras) están en la base de las contradicciones entre las representaciones culturales –que no ven en este territorio divisiones departamentales o subregionales sino espacios continuos– versus representaciones del poder –que fragmentan y producen espacios divididos cuando, por ejemplo, excluyen partes del territorio de proyectos y políticas públicas, como sucede con las territorialidades étnicas y culturales–."
   ]
  },
  {
   "cell_type": "markdown",
   "id": "7d0865ba",
   "metadata": {
    "slideshow": {
     "slide_type": "slide"
    }
   },
   "source": [
    "García (2009) define las fronteras como esos lugares $[...]$ donde se interpenetran sociedades o grupos diversos y donde\n",
    "por lo tanto están presentes la producción de límites y diferencias entre los que se ponen en contacto; así como la configuración de franjas sui géneris de intersección en las cuáles rigen dinámicas de poder y control; procesos de identificación y estructuras sociales distintas a las de las sociedades mayores que allí se encuentran."
   ]
  },
  {
   "cell_type": "markdown",
   "id": "cf6ac7ea",
   "metadata": {
    "slideshow": {
     "slide_type": "slide"
    }
   },
   "source": [
    "(García, 2009, p. 45) Arriaga, por su parte, discute una gran diversidad de conceptos de frontera como el de la geografía humana, que la entiende como “...un espacio híbrido, en el sentido que combina múltiples espacialidades, prácticas y temporalidades (...) un espacio construido por las acciones del pasado, realizadas por distintos sujetos e instituciones, y subyugado a diferentes proyectos de dominación imperialista” (2011, p. 88)."
   ]
  },
  {
   "cell_type": "markdown",
   "id": "88f5dadf",
   "metadata": {
    "slideshow": {
     "slide_type": "slide"
    }
   },
   "source": [
    "Para la geografía radical de Harvey y Lefebvre la frontera es ...un espacio histórico que puede ser explicado por las relaciones sociales de producción que lo organizan, por las acciones de dominación y de poder que ahí tienen lugar, y por las representaciones que de éste tienen los sujetos que lo viven y los grupos que tienen el poder político y económico para transformarlo"
   ]
  },
  {
   "cell_type": "markdown",
   "id": "67d03807",
   "metadata": {
    "slideshow": {
     "slide_type": "slide"
    }
   },
   "source": [
    "La frontera es el fragmento de un espacio mayor, el territorio, que ha sido estructurado mediante relaciones sociales de producción dominantes. (Arriaga, 2011, p. 85)"
   ]
  },
  {
   "cell_type": "markdown",
   "id": "3b669d51",
   "metadata": {
    "slideshow": {
     "slide_type": "slide"
    }
   },
   "source": [
    "Aquella noción de frontera, asociada con la naturaleza exuberante y selvática del pensamiento occidental, hace que las grandes extensiones de bosque y de recursos hídricos de importancia para la sostenibilidad socioeconómica de la región, y la riqueza minera explotada y potencial, refuercen esa idea de frontera relacionada con la “naturaleza”, lo “salvaje”, lo inhóspito que se traduce en que sus pobladores rurales sean “atrasados, aislados territorialmente y desconectados”, sin tierras tituladas y, adicionalmente, acosados por grupos armados que les restringen el movimiento por el territorio, les controlan sus actividades extractivas y los presionan para involucrarse en la cadena de la droga. "
   ]
  },
  {
   "cell_type": "markdown",
   "id": "4cf828ed",
   "metadata": {
    "slideshow": {
     "slide_type": "slide"
    }
   },
   "source": [
    "Es decir que la ilegalidad se suma a las características anteriores para reforzar la concepción de frontera, donde, en consecuencia, no hay un Estado soberano y donde su presencia es selectiva."
   ]
  },
  {
   "cell_type": "markdown",
   "id": "faf7718e",
   "metadata": {
    "slideshow": {
     "slide_type": "slide"
    }
   },
   "source": [
    "Esa concepción de frontera está de acuerdo con las condiciones materiales del territorio y las acciones que sobre él se realizan. "
   ]
  },
  {
   "cell_type": "markdown",
   "id": "0dba9c0e",
   "metadata": {
    "slideshow": {
     "slide_type": "slide"
    }
   },
   "source": [
    "Este territorio es parte del área de influencia de la Reserva Forestal del río Magdalena (Ley 2ª de 1959) y de los baldíos de\n",
    "la nación que comprende una parte de los municipios de Nechí, El Bagre, Zaragoza, Segovia y Remedios. "
   ]
  },
  {
   "cell_type": "markdown",
   "id": "cfe6d085",
   "metadata": {
    "slideshow": {
     "slide_type": "slide"
    }
   },
   "source": [
    "Entre los municipios de Segovia y Remedios, y los municipios de San Pablo y Santa Rosa del Sur, del departamento de Bolívar, están muy presentes y vivas las relaciones fronterizas; las áreas rurales de Caucasia y Nechí se relacionan también con el sur de Córdoba y el sur de Bolívar, así como lo hace El Bagre con otros territorios fronterizos vía la Serranía de San Lucas 1 . "
   ]
  },
  {
   "cell_type": "markdown",
   "id": "a037a7fa",
   "metadata": {
    "slideshow": {
     "slide_type": "slide"
    }
   },
   "source": [
    "Concebir los territorios fronterizos dotados de una exuberante naturaleza como territorios salvajes, baldíos, tierras\n",
    "de nadie, hace parte del pensamiento occidental, que es el mismo pensamiento antioqueño del siglo XIX, para intervenir en estos territorios de una manera específica, como veremos a continuación."
   ]
  },
  {
   "cell_type": "markdown",
   "id": "b6543b88",
   "metadata": {
    "slideshow": {
     "slide_type": "slide"
    }
   },
   "source": [
    "### 1.1.1. Las fronteras interdepartamentales y los límites geográficos"
   ]
  },
  {
   "cell_type": "markdown",
   "id": "3ded8606",
   "metadata": {
    "slideshow": {
     "slide_type": "slide"
    }
   },
   "source": [
    "Las condiciones de hibridez, intertemporalidad y dominación son propias del Bajo Cauca como territorio de frontera. "
   ]
  },
  {
   "cell_type": "markdown",
   "id": "2b4e33cb",
   "metadata": {
    "slideshow": {
     "slide_type": "slide"
    }
   },
   "source": [
    "La primera sucede por la interacción cultural en límites artificiales (INER; Dirección de Regionalización & Universidad de Antioquia, 2003); la segunda, por las acciones históricas que pesan sobre la situación presente (relaciones de producción y apropiación espacial de unos por desposesión de otros); la tercera, por exclusión de una mayoría de pobladores de las políticas estatales como síntoma de dominación política. "
   ]
  },
  {
   "cell_type": "markdown",
   "id": "94324c4b",
   "metadata": {
    "slideshow": {
     "slide_type": "slide"
    }
   },
   "source": [
    "Estas tres características con las que se produjo esta frontera están reunidas en el proyecto político y ético-cultural antioqueño del siglo XIX analizado por María Teresa Uribe. "
   ]
  },
  {
   "cell_type": "markdown",
   "id": "eeb0a042",
   "metadata": {
    "slideshow": {
     "slide_type": "slide"
    }
   },
   "source": [
    "Aquel fue un pacto entre criollos blancos que excluyó a las etnias dominadas –indios y negros– y construyó un ethos\n",
    "sociocultural antioqueño que no fue producto ni resultado de una vida en común entre diferentes, que no creo referentes de pertenencia e identidad, sino una propuesta, una intención, casi una imposición, de un grupo de intelectuales orgánicos\n",
    "de la independencia de Antioquia que buscaban autonomía y determinación política dentro de una propuesta y puesta en marcha de un proyecto político de nación en construcción. "
   ]
  },
  {
   "cell_type": "markdown",
   "id": "3a3d25f8",
   "metadata": {
    "slideshow": {
     "slide_type": "slide"
    }
   },
   "source": [
    "El proyecto diferenciaba las territorialidades antioqueñas en ...una zona central que se corresponde en líneas gruesas con el poblamiento decimonónico, con el espacio acotado por las redes mercantiles y por los partidos tradicionales y con el campo de expresión del ethos sociocultural del pueblo antioqueño. "
   ]
  },
  {
   "cell_type": "markdown",
   "id": "220c02d8",
   "metadata": {
    "slideshow": {
     "slide_type": "slide"
    }
   },
   "source": [
    "Esta zona central se constituyó a partir de la tríada formada por Medellín, Santa Fe de Antioquia y Rionegro. (Uribe de H., 2001, p. 105)"
   ]
  },
  {
   "cell_type": "markdown",
   "id": "789d7c70",
   "metadata": {
    "slideshow": {
     "slide_type": "slide"
    }
   },
   "source": [
    "Por fuera de la zona central estaban el Bajo Cauca, Urabá, parte del Nordeste y el Magdalena Medio, todas zonas calentanas y bajas que fueron refugio de aquellos excluidos de la propuesta de los intelectuales del siglo XIX, de las élites ilustradas que\n",
    "concibieron una imagen prejuiciada que diferenció el centro político administrativo de esta frontera social, política y económica de Antioquia. "
   ]
  },
  {
   "cell_type": "markdown",
   "id": "193471e8",
   "metadata": {
    "slideshow": {
     "slide_type": "slide"
    }
   },
   "source": [
    "Vélez Rendón (2012) apoya Coexistencia y superposición de ordenamientos y territorialidades... esta interpretación al traer a consideración al geógrafo, médico, escritor e historiador\n",
    "Manuel Uribe Ángel, quién decía que sobre lugares como Remedios y Zaragoza se\n",
    "tejió un manto de “misterio, de horror y de aterradora superstición”, relacionado\n",
    "con las distancias que había desde el centro de la provincia hasta esos lugares, con\n",
    "las selvas y animales feroces que habitaban las montañas y con las prácticas cultura-\n",
    "les de negros traídos violentamente del Congo, Senegal y Angola para explotar las\n",
    "minas de la zona. "
   ]
  },
  {
   "cell_type": "markdown",
   "id": "11adddf6",
   "metadata": {
    "slideshow": {
     "slide_type": "slide"
    }
   },
   "source": [
    "Según Uribe Ángel, a estos pueblos solo iban “valientes” a buscar oro, quienes o pagaban con su vida el intento o regresaban a Medellín “refiriendo maravillas sobre encantos, hechicerías, brujerías, agüeros, magia y una gran lista de absurdas supersticiones (Vélez Rendón, 2012, p. 53)."
   ]
  },
  {
   "cell_type": "markdown",
   "id": "5457b42d",
   "metadata": {
    "slideshow": {
     "slide_type": "slide"
    }
   },
   "source": [
    "Los ingredientes de este proyecto de las élites antioqueñas del siglo XIX incluían una familia católicamente constituida, con acceso a las redes mercantiles, que entendiera el trabajo como valor social y económico, respetuosa de las prácticas conserva-\n",
    "doras y de la religión. "
   ]
  },
  {
   "cell_type": "markdown",
   "id": "60304c6e",
   "metadata": {
    "slideshow": {
     "slide_type": "slide"
    }
   },
   "source": [
    "La única manera para acceder a ese corpus social, para ligarse a las redes mercantiles, para hacer parte de ese pueblo antioqueño, fue aceptando estas condiciones, lo que, para pueblos negros, indígenas y mestizos significó “blanquearse”, es decir, negarse su propia identidad étnica, renunciar a sus orígenes, olvidarse de su cultura y “civilizarse”, para entrar al mundo de los blancos mediante la adopción de su lengua, su tradición, sus creencias y su ley. "
   ]
  },
  {
   "cell_type": "markdown",
   "id": "2c4dfc2c",
   "metadata": {
    "slideshow": {
     "slide_type": "slide"
    }
   },
   "source": [
    "El contenido de este proyecto fue “...esencialmente práctico y convertido en legislación, en instituciones, en\n",
    "programas de acción mediante los cuales este grupo dirigente logró concitar el consenso de los pobladores y ganar legitimidad” (Uribe de H., 2001, pp. 102-103). "
   ]
  },
  {
   "cell_type": "markdown",
   "id": "64fcbc21",
   "metadata": {
    "slideshow": {
     "slide_type": "slide"
    }
   },
   "source": [
    "Pero, ...La existencia de población mulata, zamba y mestiza, localizada en un territorio de frontera, caracterizado por la ilegalidad y un poblamiento disperso, con población forastera y refugiada, le dio un carácter que lo diferenció de los\n",
    "modelos tradicionales de la familia paisa y lo acercó a los rasgos culturales de la cultura ribereña y sabanera. (INER; Dirección de Regionalización & Universidad de Antioquia, 2003, p. 36)"
   ]
  },
  {
   "cell_type": "markdown",
   "id": "ebbed746",
   "metadata": {
    "slideshow": {
     "slide_type": "slide"
    }
   },
   "source": [
    "Muy distante del proyecto de los intelectuales antioqueños."
   ]
  },
  {
   "cell_type": "markdown",
   "id": "2d6b0f7e",
   "metadata": {
    "slideshow": {
     "slide_type": "slide"
    }
   },
   "source": [
    "En la práctica, la configuración histórica del Bajo Cauca como zona de frontera se fundamentó en su localización y geografía lejos de la centralidad administrativa de Antioquia. "
   ]
  },
  {
   "cell_type": "markdown",
   "id": "e4afa86b",
   "metadata": {
    "slideshow": {
     "slide_type": "slide"
    }
   },
   "source": [
    "En esta frontera hubo una movilidad poblacional de grupos excluidos del centro que se encontraron en el Bajo Cauca con pobladores de las sabanas de Córdoba, Bolívar y Sucre, quienes también buscaban tierra para cultivar y riquezas auríferas para explotar. "
   ]
  },
  {
   "cell_type": "markdown",
   "id": "6ab92cae",
   "metadata": {
    "slideshow": {
     "slide_type": "slide"
    }
   },
   "source": [
    "Estos procesos encontrados de olas distintas de colonización y ocupación territorial produjeron unas relaciones particulares en cuanto a la conformación económica, sociocultural y política del territorio (INER; Dirección de Regionalización & Universidad de Antioquia, 2003):  \n",
    "\n",
    "...la conformación de un eje que articuló relaciones comerciales entre el Bajo Cauca, el suroeste del Caribe y el litoral, apoyado en la existencia de ríos, caños y playones amarrados a las cuencas bajas y medias de los ríos Cauca, Nechí,\n",
    "San Jorge, Sinú y Magdalena. "
   ]
  },
  {
   "cell_type": "markdown",
   "id": "2f45c954",
   "metadata": {
    "slideshow": {
     "slide_type": "slide"
    }
   },
   "source": [
    "La extensión de la frontera minera, como la de Guamocó, que le permitió estrechar vínculos entre los habitantes de El Bagre y\n",
    "los de San Pablo, Simití, Cantagallo y Santa Rosa. "
   ]
  },
  {
   "cell_type": "markdown",
   "id": "d891a3d5",
   "metadata": {
    "slideshow": {
     "slide_type": "slide"
    }
   },
   "source": [
    "La explotación comunal de las ciénagas en la sabana, acercaron a los habitantes de Nechí con los del suroeste del Caribe; las inundaciones generaron acercamientos a territorios vecinos, similares social y económicamente, como San Pedro, San Jacinto del Cauca y Montecristo en el sur de Bolívar, Ayapel en Córdoba, Guaranda en Sucre y Caribona, que va hasta la serranía de San Lucas. "
   ]
  },
  {
   "cell_type": "markdown",
   "id": "eda4eda4",
   "metadata": {
    "slideshow": {
     "slide_type": "slide"
    }
   },
   "source": [
    "Los antiguos lazos socioculturales fortalecieron a largo plazo, relaciones interregionales, los habitantes de Uré y\n",
    "Montelíbano, han mantenido estrechas relaciones con Cáceres."
   ]
  },
  {
   "cell_type": "markdown",
   "id": "72a30ac0",
   "metadata": {
    "slideshow": {
     "slide_type": "slide"
    }
   },
   "source": [
    "La frontera como un territorio abierto se constituyó en una alternativa de los que habitaron el suroeste del Caribe, desalojados de las haciendas ganaderas de los valles de los ríos Sinú, San Jorge y Cauca, presionados por la guerra de los Mil Días, por la violencia de los cincuenta, la pobreza y el conflicto armado actual. "
   ]
  },
  {
   "cell_type": "markdown",
   "id": "4af3a835",
   "metadata": {
    "slideshow": {
     "slide_type": "slide"
    }
   },
   "source": [
    "El oro, la introducción de ganado por Ayapel hacia Medellín y Segovia; la construcción de la Troncal del Norte o Troncal de la Costa, la existencia de baldíos y la posibilidad de establecer pequeños negocios como el montaje de haciendas, la dedicación a actividades agrícolas, madereras y mineras, constituyeron los hechos más importantes que motivaron la colonización del territorio. (INER; Dirección de Regionalización & Universidad de Antioquia, 2003, pp. 35-36)"
   ]
  },
  {
   "cell_type": "markdown",
   "id": "e1ed0459",
   "metadata": {
    "slideshow": {
     "slide_type": "slide"
    }
   },
   "source": [
    "Un conocedor de la zona entiende así esta subregión sin los límites departamentales:  \n",
    "\n"
   ]
  },
  {
   "cell_type": "markdown",
   "id": "b7d385d7",
   "metadata": {
    "slideshow": {
     "slide_type": "slide"
    }
   },
   "source": [
    "Se ha solicitado desde los 13 municipios al menos ser incorporados a la Mojana porque se consideran parte de ella, inclusive con Hidroituango había conflicto porque EPM solo pagaba regalías aguas arriba, siendo los más afectados los municipios aguas abajo. "
   ]
  },
  {
   "cell_type": "markdown",
   "id": "dc739944",
   "metadata": {
    "slideshow": {
     "slide_type": "slide"
    }
   },
   "source": [
    "Esa pelea lleva 15 años, pero fue la emergencia la que hizo que por fin los tuviesen en cuenta. "
   ]
  },
  {
   "cell_type": "markdown",
   "id": "018e0fbe",
   "metadata": {
    "slideshow": {
     "slide_type": "slide"
    }
   },
   "source": [
    "La conexión es natural y solo cuando hay desastres los tienen en cuenta. "
   ]
  },
  {
   "cell_type": "markdown",
   "id": "600f855b",
   "metadata": {
    "slideshow": {
     "slide_type": "slide"
    }
   },
   "source": [
    "La conexión con la Mojana es inmensa, si se va a Nechí se encuentra la gente de San Jacinto, San Marcos, y hay conexión\n",
    "en todo, agricultura, maquinaria, todo se mueve en ese entorno. "
   ]
  },
  {
   "cell_type": "markdown",
   "id": "fbcd9834",
   "metadata": {
    "slideshow": {
     "slide_type": "slide"
    }
   },
   "source": [
    "Por ejemplo,\n",
    "un agricultor se va para San Jacinto, San Marcos, El Bagre, Nechí, Puerto Libertador. "
   ]
  },
  {
   "cell_type": "markdown",
   "id": "3ce99681",
   "metadata": {
    "slideshow": {
     "slide_type": "slide"
    }
   },
   "source": [
    "Es conexión, por agua, por tierra, por condiciones y cultura. "
   ]
  },
  {
   "cell_type": "markdown",
   "id": "aa7af8fc",
   "metadata": {
    "slideshow": {
     "slide_type": "slide"
    }
   },
   "source": [
    "No la habrá\n",
    "políticamente pero así es. "
   ]
  },
  {
   "cell_type": "markdown",
   "id": "e55b9dd4",
   "metadata": {
    "slideshow": {
     "slide_type": "slide"
    }
   },
   "source": [
    "La fertilidad de todos los suelos del Bajo Cauca ha terminado en la Mojana a causa de las inundaciones, los limos, la materia orgánica, suelos renovados con inundaciones."
   ]
  },
  {
   "cell_type": "markdown",
   "id": "3c523d09",
   "metadata": {
    "slideshow": {
     "slide_type": "slide"
    }
   },
   "source": [
    "Para el bajo San Jorge se declaró el POMCA3, muy importante, y se logró que\n",
    "entraran al menos los tres municipios de Tarazá, Cáceres y Caucasia, entró Bajo\n",
    "Cauca que no estaba incluido en ningún POMCA a nivel nacional."
   ]
  },
  {
   "cell_type": "markdown",
   "id": "64402c76",
   "metadata": {
    "slideshow": {
     "slide_type": "slide"
    }
   },
   "source": [
    "Y los demás municipios del Bajo Cauca (Zaragoza, Nechí y El Bagre) entraron por un POMCA que está haciendo Corantioquia y el Departamento, el de Nechí4 . (EBC01. Caucasia, octubre 2019 5 )"
   ]
  },
  {
   "cell_type": "markdown",
   "id": "8ada77b3",
   "metadata": {
    "slideshow": {
     "slide_type": "slide"
    }
   },
   "source": [
    "La configuración histórica de esta frontera tiene correlato en la diversidad de territorialidades existentes, como veremos en el numeral siguiente. "
   ]
  },
  {
   "cell_type": "markdown",
   "id": "9a8fa4ce",
   "metadata": {
    "slideshow": {
     "slide_type": "slide"
    }
   },
   "source": [
    "Ellas están relacionadas con la frontera interdepartamental con Córdoba y Bolívar; algunas (indígenas\n",
    "y bélicas), con la frontera del Magdalena Medio en pleno corazón del país de cara al\n",
    "río y a los departamentos centrales de Colombia, desde donde se crean y articulan\n",
    "relaciones internacionales vía producción y comercialización de commodities, tema\n",
    "del documento Magdalena Medio Antioqueño."
   ]
  },
  {
   "cell_type": "markdown",
   "id": "ad3de99f",
   "metadata": {
    "slideshow": {
     "slide_type": "slide"
    }
   },
   "source": [
    "## 1.2. Base material espacial y cambio climático"
   ]
  },
  {
   "cell_type": "markdown",
   "id": "aae10c37",
   "metadata": {
    "slideshow": {
     "slide_type": "slide"
    }
   },
   "source": [
    "Un artículo de 2019 advirtió los efectos que tendrá el cambio climático sobre los territorios, pobladores y recursos naturales, concretamente las transformaciones en la distribución de las zonas de vida y la alteración de los ciclos y relaciones biológicas y ecosistémicas que mantienen el equilibrio natural (Moscoso et al., 2019); sin embargo, para los humedales de la jurisdicción de Corantioquia, ...no se espera que las zonas de vida donde se encuentran ubicados los humedales (...) cambien de forma significativa (...) se debe recordar que estos ecosistemas representan valor ambiental (FAO, 2018) debido a la posibilidad\n",
    "que ofrecen de regulación del recurso hídrico, de la calidad del aire, del clima y de la erosión, control de inundaciones, reposición de aguas subterráneas, reservorios de biodiversidad, etc., también a que su dinámica hídrica depende fundamentalmente del curso de agua con el que están asociados."
   ]
  },
  {
   "cell_type": "markdown",
   "id": "9be2852c",
   "metadata": {
    "slideshow": {
     "slide_type": "slide"
    }
   },
   "source": [
    "Sin embargo, la mayor parte de los humedales de la jurisdicción están asociados a los ríos Magdalena y Cauca, y la forma en que el cambio climático los afectará dependerá de lo que ocurra en la parte superior de sus cuencas. (Moscoso et al., 2019, p. 183)"
   ]
  },
  {
   "cell_type": "markdown",
   "id": "c9adad51",
   "metadata": {
    "slideshow": {
     "slide_type": "slide"
    }
   },
   "source": [
    "Tampoco se evidencian cambios significativos a corto plazo en las zonas de vida ...donde se encuentran los ecosistemas páramos y humedales de la jurisdicción de CORANTIOQUIA pues las variaciones en precipitación y temperatura son relativamente bajas de acuerdo con los escenarios de cambio climático propuestos por el IDEAM. "
   ]
  },
  {
   "cell_type": "markdown",
   "id": "de0a0bad",
   "metadata": {
    "slideshow": {
     "slide_type": "slide"
    }
   },
   "source": [
    "Sin embargo, para períodos posteriores a los revisados en\n",
    "este artículo, los aumentos drásticos de la temperatura en los páramos provoca-\n",
    "rían una migración altitudinal hacia las partes más altas de la montaña; además,\n",
    "una reducción en las precipitaciones para los humedales podría, aunado con\n",
    "las malas prácticas de manejo de estos, llevarlos a un estado de perturbación\n",
    "irreversible. (Moscoso et al., 2019, p. 184)\n",
    "Los dos mapas siguientes ilustran los cambios posibles en las zonas de vida\n",
    "(Imágenes 1 y 2).\n",
    "Apoyado en la tercera comunicación nacional de Colombia a la convención de\n",
    "las Naciones Unidas sobre cambio climático y en el Plan Regional para el Cambio\n",
    "Climático en la Jurisdicción de Corantioquia, el estudio Antioquia 2050 señala los\n",
    "efectos directos del cambio climático en el Bajo Cauca en el corto plazo (2011-2040) y\n",
    "en el largo plazo (2070-2110) con reducciones de hasta un 30% de la lluvia acumula-\n",
    "da anual en la región del bajo Nechí y del Bajo Cauca. También refieren incrementos"
   ]
  },
  {
   "cell_type": "code",
   "execution_count": null,
   "id": "2f93dc25",
   "metadata": {
    "slideshow": {
     "slide_type": "slide"
    }
   },
   "outputs": [],
   "source": []
  },
  {
   "cell_type": "markdown",
   "id": "5c3e5f2f",
   "metadata": {
    "slideshow": {
     "slide_type": "slide"
    }
   },
   "source": [
    "# Agenda de investigación, creación e innovación del Bajo Cauca antioqueño  \n",
    "\n",
    "## Documento insumo\n"
   ]
  },
  {
   "cell_type": "markdown",
   "id": "69528932",
   "metadata": {
    "slideshow": {
     "slide_type": "slide"
    }
   },
   "source": [
    "## Introducción"
   ]
  },
  {
   "cell_type": "markdown",
   "id": "8092c4a4",
   "metadata": {
    "slideshow": {
     "slide_type": "slide"
    }
   },
   "source": [
    "La Investigación en la Universidad de Antioquia se constituye en un eje misional institucional cuyo fin está encaminado a la generación y comprobación de conocimientos orientados al desarrollo de la ciencia y de saberes, a la producción y adaptación de tecnología para la búsqueda de soluciones a los problemas de las comunidades, y a la difusión de los resultados, la valoración y transferencia de los resultados de las investigaciones, la internacionalización de la investigación y la formación de recursos humanos para la investigación. (Estatuto General, Artículo 14; Acuerdo superior 204 de 2001, artículo 2)."
   ]
  },
  {
   "cell_type": "markdown",
   "id": "e857e280",
   "metadata": {
    "slideshow": {
     "slide_type": "slide"
    }
   },
   "source": [
    "La Universidad de Antioquia orienta su trabajo investigativo al desarrollo de los territorios, las acciones de este eje misional se ven materializadas en la ejecución de proyectos que involucran a los diferentes actores de las comunidades que hacen parte del entorno de la Universidad. "
   ]
  },
  {
   "cell_type": "markdown",
   "id": "116a18bd",
   "metadata": {
    "slideshow": {
     "slide_type": "slide"
    }
   },
   "source": [
    "La visibilización de soluciones a diferentes problemáticas que enfrentan las subregiones, es una manera de aportar al desarrollo de estas, con un elemento muy importante, el contexto de la comunidad a impactar."
   ]
  },
  {
   "cell_type": "markdown",
   "id": "86e6d257",
   "metadata": {
    "slideshow": {
     "slide_type": "slide"
    }
   },
   "source": [
    "La Universidad de Antioquia, consciente de su aporte en el desarrollo económico, productivo, científico y tecnológico, contempla en su Plan de Acción Institucional 2021 - 2024  “Una universidad solidaria, comprometida con la vida, la equidad y la diversidad, con visión global y pertinente frente a los retos de la sociedad”  y debido a eso se renovaron los retos y lineamientos para la orientación estratégica de la Regionalización universitaria 2020 - 2030, en el cual se identifican una serie de acciones para la consolidación de capacidades para la creación, generación y democratización del conocimiento y la gestión de la innovación integral y el emprendimiento universitario."
   ]
  },
  {
   "cell_type": "markdown",
   "id": "a272dca8",
   "metadata": {
    "slideshow": {
     "slide_type": "slide"
    }
   },
   "source": [
    "En ese sentido, la Vicerrectoría de Investigación de la Universidad de Antioquia, durante los años del 2018 al 2020 implementó la modernización del Sistema Universitario de Investigación y dio paso al Sistema Universitario de Creación, Investigación e Innovación (SUCII) de la Universidad de Antioquia."
   ]
  },
  {
   "cell_type": "markdown",
   "id": "491d03a0",
   "metadata": {
    "slideshow": {
     "slide_type": "slide"
    }
   },
   "source": [
    "Con esta nueva estructura se busca fortalecer las capacidades estratégicas y técnicas/operativas de la Vicerrectoría, de modo que se convierta en la instancia de “engranaje” que conecta y potencia los procesos en las diferentes escalas; es decir, la dinamizadora de todo el Sistema de los lineamientos de la Investigación como eje misional en la Universidad. "
   ]
  },
  {
   "cell_type": "markdown",
   "id": "30503791",
   "metadata": {
    "slideshow": {
     "slide_type": "slide"
    }
   },
   "source": [
    "Es por ello que, desde las Coordinaciones de Investigación del Instituto de Estudios Regionales -INER- y de las subregiones Bajo Cauca, Oriente, Suroeste y Urabá, surge el interés de crear una ruta de trabajo que permita construir de manera conjunta y participativa estrategias a través de las cuales se encuentren soluciones y gestionen recursos que respondan a las necesidades regionales.  "
   ]
  },
  {
   "cell_type": "markdown",
   "id": "d84d822e",
   "metadata": {
    "slideshow": {
     "slide_type": "slide"
    }
   },
   "source": [
    "## Objetivo general"
   ]
  },
  {
   "cell_type": "markdown",
   "id": "59cb49a0",
   "metadata": {
    "slideshow": {
     "slide_type": "slide"
    }
   },
   "source": [
    "Construir de forma participativa una **agenda de investigación**, creación e innovación para el Bajo Cauca antioqueño, fundamentada en la identificación de las necesidades y problemáticas de las comunidades y sectores productivos de la región articuladas con las capacidades institucionales de la Universidad de Antioquia con el fin de proponer alternativas de solución y fuentes de financiamiento."
   ]
  },
  {
   "cell_type": "markdown",
   "id": "f4cfd68d",
   "metadata": {
    "slideshow": {
     "slide_type": "slide"
    }
   },
   "source": [
    "## Metodología"
   ]
  },
  {
   "cell_type": "markdown",
   "id": "152c331e",
   "metadata": {
    "slideshow": {
     "slide_type": "slide"
    }
   },
   "source": [
    "La construcción de la agenda de investigación, creación e innovación del Bajo Cauca antioqueño tiene unos momentos metodológicos en los que  \n",
    "\n",
    "* se revisa los diferentes documentos de carácter descriptivos, de diagnóstico y de lineamientos públicos y privados del territorio para proponer un insumo escrito que sirva como base.  \n",
    "\n",
    "* A continuación, en los momentos de construcción participativa o de co-construcción se usará el insumo base y se dará paso al segundo momento, en el cual, con la cooperación de actores de los diferentes sectores sociales, académicos y de la economía del territorio se pueda llegar a un consolidado de temas y necesidades susceptibles de trabajar, de investigar y de gestionar los recursos necesarios para el desarrollo del territorio.  "
   ]
  },
  {
   "cell_type": "markdown",
   "id": "c7665041",
   "metadata": {
    "slideshow": {
     "slide_type": "slide"
    }
   },
   "source": [
    "Este ejercicio se realizará en cada una de las regiones donde tiene presencia la Universidad de Antioquia liderado por los equipos de trabajos de cada sede y seccional respectivamente, y se propone que al final del ejercicio se plantee la elaboración de una agenda regional alimentada por cada una de las agendas o consolidados subregionales."
   ]
  },
  {
   "cell_type": "markdown",
   "id": "b96a66d0",
   "metadata": {
    "slideshow": {
     "slide_type": "slide"
    }
   },
   "source": [
    "### a)\tMomentos metodológicos"
   ]
  },
  {
   "cell_type": "markdown",
   "id": "d9b29959",
   "metadata": {
    "slideshow": {
     "slide_type": "slide"
    }
   },
   "source": [
    "**Momento 1**. Revisión documental para la identificación y perfilamiento de grandes nodos temáticos de investigación en subregiones\n",
    "Para la construcción del insumo base y selección de los temas de investigación para la región del Bajo Cauca se revisaron y analizaron distintos documentos internacionales, nacionales, regionales y locales de interés:  "
   ]
  },
  {
   "cell_type": "markdown",
   "id": "e6822eb6",
   "metadata": {
    "slideshow": {
     "slide_type": "slide"
    }
   },
   "source": [
    "- Agenda de la Organización de Naciones Unidas para el logro de los Objetivos de Desarrollo Sostenible 2030\n",
    "- Documentos maestros de la Misión de Sabios de Colombia del año 2019\n",
    "- Agenda integrada de competitividad regional 2021\n",
    "- Plan de Desarrollo de Antioquia: Unidos\n",
    "- Agenda Regional de Investigación y Desarrollo Tecnológico hacia la Innovación. G8 Universidades\n",
    "\n",
    "- Planes de desarrollo de los 6 municipios del Bajo Cauca antioqueño.\n",
    "- Lineamientos del Direccionamiento Estratégico para el CUEE Capítulo Bajo Cauca.\n",
    "- Perfil socioeconómico de las subregiones de Antioquia capítulo Bajo Cauca\n",
    "- Plan y acuerdo estratégico de Ciencia, tecnología e innovación en el marco del Comité Universidad, Empresa, Estado -CUEE Capítulo Bajo Cauca\n",
    "- Plan Estratégico Subregional, PESU 2040.\n",
    "- Plan de Acción Institucional Universidad de Antioquia 2021 – 2024 \n",
    "-\tPlan de Desarrollo Institucional Universidad de Antioquia 2017 - 2027\n",
    "-\tResultados finales del Análisis de las dinámicas territoriales. Proyecto “Línea base de regionalización”.\n",
    "-\tRetos y lineamientos para la orientación estratégica de la Regionalización universitaria 2020 – 2030.\n",
    "-\tReporte de la Vicerrectoría de investigación de proyectos realizados entre 2015 y 2021 en la subregión.\n",
    "-\tConvocatorias temáticas del Comité para el Desarrollo de la Investigación CODI, de la Universidad de Antioquia."
   ]
  },
  {
   "cell_type": "markdown",
   "id": "405daae5",
   "metadata": {
    "slideshow": {
     "slide_type": "slide"
    }
   },
   "source": [
    "**Momento 2. Construcción colectiva de la agenda de investigación subregional**  "
   ]
  },
  {
   "cell_type": "markdown",
   "id": "becf4f29",
   "metadata": {
    "slideshow": {
     "slide_type": "slide"
    }
   },
   "source": [
    "La metodología empleada para la construcción de la agenda será **la metodología de interlocución**, la cual consiste en un esquema de trabajo participativo a través del encuentro de participantes que dialogan a partir de un documento de apoyo, un ejercicio de moderación y de síntesis y un uso controlado del tiempo disponible para el ejercicio (Puerta Silva y Dover, 2007). "
   ]
  },
  {
   "cell_type": "markdown",
   "id": "0fa1b145",
   "metadata": {
    "slideshow": {
     "slide_type": "slide"
    }
   },
   "source": [
    "La finalidad de dicha metodología es llegar a acuerdos, fundamentada en los siguientes principios:\n",
    "\n",
    "- El reconocimiento de la diversidad de voces, intereses y agendas de los participantes. \n",
    "- La valoración horizontal de sus ideas, conocimientos y experiencias. \n",
    "- La certeza de que existe la posibilidad de construir diferentes niveles de consenso o rutas para gestionar las tensiones."
   ]
  },
  {
   "cell_type": "markdown",
   "id": "872d0115",
   "metadata": {
    "slideshow": {
     "slide_type": "slide"
    }
   },
   "source": [
    "Así mismo, esta metodología se fundamenta en tres momentos clave: \n",
    "\n",
    "1) conocimiento de quienes participan y de las condiciones para la interlocución, \n",
    "2) preparación para la interlocución, es decir lectura del documento insumo, \n",
    "3) interlocución; los cuales están acompañados de un proceso de comunicación y priorización."
   ]
  },
  {
   "cell_type": "markdown",
   "id": "717aae73",
   "metadata": {
    "slideshow": {
     "slide_type": "slide"
    }
   },
   "source": [
    "### Participantes del territorio\n",
    "\n",
    "La Universidad de Antioquia seccional Bajo Cauca a través del equipo de trabajo en delegación acordó invitar a las siguientes personas que hacen parte de las instituciones, las organizaciones y las comunidades del territorio para los espacios de concertación."
   ]
  },
  {
   "cell_type": "markdown",
   "id": "38926bed",
   "metadata": {
    "slideshow": {
     "slide_type": "slide"
    }
   },
   "source": []
  },
  {
   "cell_type": "code",
   "execution_count": null,
   "id": "a594a777",
   "metadata": {},
   "outputs": [],
   "source": []
  },
  {
   "cell_type": "markdown",
   "id": "efc21eab",
   "metadata": {
    "slideshow": {
     "slide_type": "slide"
    }
   },
   "source": [
    "## Momento 3. Socialización ampliada agendas subregionales\n",
    "\n",
    "Desarrollo de espacios de divulgación en el territorio de la agenda consolidada participativamente y articulación permanente con la Dirección de Regionalización, Vicerrectoría de Investigación y unidades académicas."
   ]
  },
  {
   "cell_type": "markdown",
   "id": "1ef1c500",
   "metadata": {
    "slideshow": {
     "slide_type": "slide"
    }
   },
   "source": [
    "Momento 4. Consolidación de una agenda de investigación regional "
   ]
  },
  {
   "cell_type": "markdown",
   "id": "a0818aa1",
   "metadata": {
    "slideshow": {
     "slide_type": "slide"
    }
   },
   "source": [
    "Articulación de las agendas subregionales para la articulación de esfuerzos, recursos y capacidades intelectuales y de infraestructura tecnológica y física para la gestión, formulación y desarrollo colaborativo de grandes proyectos estratégicos con financiación nacional e internacional a mediano y largo plazo.\n",
    " "
   ]
  },
  {
   "cell_type": "markdown",
   "id": "766a90f5",
   "metadata": {
    "slideshow": {
     "slide_type": "slide"
    }
   },
   "source": [
    "## Cronograma general"
   ]
  },
  {
   "cell_type": "markdown",
   "id": "037cd1ba",
   "metadata": {
    "slideshow": {
     "slide_type": "slide"
    }
   },
   "source": [
    "|Momentos metodológicos|2021|2022-1|2022-2|  \n",
    "|-|-|-|-|\n",
    "|Momento 1|marzo-noviembre|||\n",
    "|Consolidación documento insumo||||"
   ]
  },
  {
   "cell_type": "markdown",
   "id": "1d9c4af3",
   "metadata": {
    "slideshow": {
     "slide_type": "slide"
    }
   },
   "source": [
    "## Equipo de trabajo"
   ]
  },
  {
   "cell_type": "markdown",
   "id": "8afbd058",
   "metadata": {
    "slideshow": {
     "slide_type": "slide"
    }
   },
   "source": [
    "El equipo de trabajo de la seccional Bajo Cauca acompaña y apoya el proceso de construcción de la agenda de investigación, creación e innovación para el territorio con encuentros sincrónicos de socialización de la metodología, realizando aportes para la logística y la dinamización de los espacios de diálogos con los actores."
   ]
  },
  {
   "cell_type": "markdown",
   "id": "59cb1ed4",
   "metadata": {
    "slideshow": {
     "slide_type": "slide"
    }
   },
   "source": [
    "|Nombre| Rol en la seccional|\tCorreo electrónico|  \n",
    "|-|-|-| \n",
    "|Edgar Correa Ospina|Director| edgar.correa@udea.edu.co| \n",
    "|María del Carmen Geney Mendoza|\tCoordinadora Académica|  \tmaria.geney@udea.edu.co|\n",
    "|Isnelia María Díaz Navarro|Coordinadora de Extensión/ Investigador Grupo GIBACC|extensionseccionalbajocauca@udea.edu.co|  \n",
    "|Marco Julio Cañas| \tDocente ocasional/Investigador Grupo GIBACC|\tmarco.canas@udea.edu.co|  \n",
    "|Luz Mariela López Nohava| \tBibliotecóloga| \tluz.lopez@udea.edu.co|  \n",
    "|María Isabel Arroyo Arroyo|Coordinadora de Investigación |investigacionseccionalbajocauca@udea.edu.co|\n",
    "|-|-|-|"
   ]
  },
  {
   "cell_type": "markdown",
   "id": "03ed66e0",
   "metadata": {
    "slideshow": {
     "slide_type": "slide"
    }
   },
   "source": [
    "# Propuesta agenda de investigación, creación e innovación subregional \n",
    "## Bajo Cauca antioqueño"
   ]
  },
  {
   "cell_type": "markdown",
   "id": "862e6fc2",
   "metadata": {
    "slideshow": {
     "slide_type": "slide"
    }
   },
   "source": [
    "### Documento insumo para la interlocución\n",
    "\n",
    "#### Contexto subregional\n",
    " "
   ]
  },
  {
   "cell_type": "markdown",
   "id": "79d7be1c",
   "metadata": {
    "slideshow": {
     "slide_type": "slide"
    }
   },
   "source": [
    "La subregión del Bajo Cauca está integrada por los municipios de Cáceres, Caucasia, Nechí, El Bagre, Tarazá y Zaragoza; y se encuentra ubicada al norte del departamento de Antioquia sobre la cordillera central entre las serranías de Ayapel y de San Lucas, siendo recorrida también en la cuenca Baja de los ríos Cauca y Nechí. Además, de limitar con los departamentos de Córdoba, Sucre y Bolívar."
   ]
  },
  {
   "cell_type": "markdown",
   "id": "f5389c83",
   "metadata": {
    "slideshow": {
     "slide_type": "slide"
    }
   },
   "source": [
    "Con relación a las vías de conexión terrestre entre los municipios de Tarazá, Cáceres y Caucasia se ubica la vía principal denominada Troncal del Norte, vía de carácter nacional que comunica al centro de Antioquia con la costa Caribe. Una segunda vía importante es la **Troncal de la Paz** que une los municipios de Nechí, Caucasia y Zaragoza."
   ]
  },
  {
   "cell_type": "markdown",
   "id": "63b92dad",
   "metadata": {
    "slideshow": {
     "slide_type": "slide"
    }
   },
   "source": [
    "En cuanto a las potencialidades, el Bajo Cauca cuenta con diversidad de recursos ecológicos e hídricos de gran importancia que se podrían usar en el marco de estrategias sostenibles y racionales con la perdurabilidad del medio ambiente. "
   ]
  },
  {
   "cell_type": "markdown",
   "id": "4d2b93a1",
   "metadata": {
    "slideshow": {
     "slide_type": "slide"
    }
   },
   "source": [
    "Esta es la segunda región del departamento que tiene mayor cantidad de áreas de bosques, además de la existencia de las ciénagas, lo que la sitúa en un potencial energético y de abastecimiento de agua para algunos municipios. "
   ]
  },
  {
   "cell_type": "markdown",
   "id": "4cf2b047",
   "metadata": {
    "slideshow": {
     "slide_type": "slide"
    }
   },
   "source": [
    "Su larga historia en minería aurífera ha dejado una tradición de joyería en filigrana; la explotación ganadera por su parte cuenta con una gran cantidad de áreas para su extensión."
   ]
  },
  {
   "cell_type": "markdown",
   "id": "f9c9b721",
   "metadata": {
    "slideshow": {
     "slide_type": "slide"
    }
   },
   "source": [
    "La posición geoestratégica le facilita el comercio ya que tiene conexión con el centro de Antioquia y con la zona norte del país. Esta última la convierte en una zona importante para la globalización de la economía, elemento fundamental para el desarrollo local y regional."
   ]
  },
  {
   "cell_type": "markdown",
   "id": "6d4ff0c1",
   "metadata": {
    "slideshow": {
     "slide_type": "slide"
    }
   },
   "source": [
    "Esta región donde convergen y se mezclan las culturas paisa y caribeña, el colorido, la alegría y la gastronomía costeña, con el tesón, pujanza y verraquera propia de todos los antioqueños. "
   ]
  },
  {
   "cell_type": "markdown",
   "id": "6b67a5b8",
   "metadata": {
    "slideshow": {
     "slide_type": "slide"
    }
   },
   "source": [
    "Es por ello que la diversidad sociocultural que la caracteriza, es decir, su pluralidad étnica y cultural, son producto de factores históricos, geográficos y económicos, que han generado vínculos desde sus orígenes con las sabanas de Córdoba y el sur de los departamentos de Bolívar y Sucre, permitiendo el establecimiento de interacciones socioculturales significativas y determinantes para el desarrollo y la configuración de la subregión."
   ]
  },
  {
   "cell_type": "markdown",
   "id": "fff1b074",
   "metadata": {
    "slideshow": {
     "slide_type": "slide"
    }
   },
   "source": [
    "Como muchas otras subregiones del departamento, la calidad de vida y el futuro del Bajo Cauca han estado afectadas y condicionadas por las diversas formas de violencia que han recorrido su territorio, gran parte de ellas derivadas del conflicto armado que históricamente ha caracterizado su dinámica sociopolítica. Sin embargo, la región ha sido resiliente y ha resistido todo tipo de embestidas, tanto de orden público como naturales, causadas por las constantes inundaciones del río Cauca a sus municipios ribereños."
   ]
  },
  {
   "cell_type": "markdown",
   "id": "3a0ea8ab",
   "metadata": {
    "slideshow": {
     "slide_type": "slide"
    }
   },
   "source": [
    "La llegada de la Universidad de Antioquia al territorio ha brindado la posibilidad de pensar y actuar en función de un desarrollo regional equitativo, incluyente y ambientalmente sostenible, el cual requiere como soporte esencial, las relaciones de confianza, colaborativas, de solidaridades, de respeto y de fidelidades, imprescindibles para la creación del capital social que potencie los factores favorables a ese desarrollo subregional.\n",
    "Durante 25 años se han podido lograr y materializar metas, objetivos y sueños."
   ]
  },
  {
   "cell_type": "markdown",
   "id": "8b8bbcc3",
   "metadata": {
    "slideshow": {
     "slide_type": "slide"
    }
   },
   "source": [
    "La Universidad es un lugar de encuentro entre la institucionalidad, tanto gubernamental, la cooperación internacional y la sociedad civil, es la Universidad de Antioquia la base de las redes institucionales más sólidas que se tejen en el territorio, siendo el CUEES (Comité Universidad, Empresa, Estado) Capítulo Bajo Cauca, la principal muestra de ello."
   ]
  },
  {
   "cell_type": "markdown",
   "id": "731ba2fe",
   "metadata": {
    "slideshow": {
     "slide_type": "slide"
    }
   },
   "source": [
    "El Alma mater posee la infraestructura, la experiencia del recurso humano calificado, conocimiento del territorio, y por esta razón, ha sido reconocida como un actor clave para la promoción de la investigación, creación e innovación en el Bajo Cauca Antioqueño. "
   ]
  },
  {
   "cell_type": "markdown",
   "id": "a59614f5",
   "metadata": {
    "slideshow": {
     "slide_type": "slide"
    }
   },
   "source": [
    "Por tanto, ha liderado procesos de generación de nuevo conocimiento para diferentes instituciones, sectores y gremios. Entre ellos podemos destacar: la identificación de las alternativas de solución a los conflictos socio ambientales propuestas desde las organizaciones sociales del territorio. "
   ]
  },
  {
   "cell_type": "markdown",
   "id": "3a7932f0",
   "metadata": {
    "slideshow": {
     "slide_type": "slide"
    }
   },
   "source": [
    "En los sectores agropecuario y de biodiversidad se ha aportado en la implementación de sistemas agropecuarios resilientes en el trópico húmedo para la ruralidad del posconflicto, se ha estudiado la fauna y la flora del Río Cauca en las cuenca media y baja, con el fin de incidir en su protección. Además de la reforestación de sistemas cenagosos."
   ]
  },
  {
   "cell_type": "markdown",
   "id": "5a214247",
   "metadata": {
    "slideshow": {
     "slide_type": "slide"
    }
   },
   "source": [
    " \n",
    "En relación al sector salud, el diagnóstico y seguimiento a las enfermedades infecciosas se ha convertido en una oportunidad en el territorio por ser zona endémica de la mayoría de las enfermedades tropicales."
   ]
  },
  {
   "cell_type": "markdown",
   "id": "9360df5e",
   "metadata": {
    "slideshow": {
     "slide_type": "slide"
    }
   },
   "source": [
    "Aunado a esto, la Universidad está comprometida con todos los procesos que conlleven al fortalecimiento de la gobernanza, la gobernabilidad y la tenencia de la tierra, así como también, los procesos de formación y mediación de conflictos, el aumento de las capacidades de memoria histórica y reconciliación."
   ]
  },
  {
   "cell_type": "markdown",
   "id": "1bb47231",
   "metadata": {
    "slideshow": {
     "slide_type": "slide"
    }
   },
   "source": [
    "Por tanto, para aprovechar todas las oportunidades del territorio, para poder intervenir en esas problemáticas que lo aquejan y para generar nuevas condiciones de empleabilidad, equidad social y paz debemos articularnos."
   ]
  },
  {
   "cell_type": "markdown",
   "id": "f0903fc1",
   "metadata": {
    "slideshow": {
     "slide_type": "slide"
    }
   },
   "source": [
    "Es por ello, que la agenda de investigación, creación e innovación es una propuesta de articulación entre los diferentes actores del territorio para la generación de nuevo conocimiento que sea útil y relevante para la solución de las problemáticas del territorio."
   ]
  },
  {
   "cell_type": "markdown",
   "id": "421a8a51",
   "metadata": {
    "slideshow": {
     "slide_type": "slide"
    }
   },
   "source": [
    "## Núcleos estratégicos priorizados "
   ]
  },
  {
   "cell_type": "markdown",
   "id": "7a37dbbe",
   "metadata": {
    "slideshow": {
     "slide_type": "slide"
    }
   },
   "source": [
    "Los núcleos estratégicos priorizados de investigación se construyeron con base en la revisión de algunos documentos relacionados con la ciencia, la tecnología y la investigación de orden mundial, nacional y departamental, y además, se tienen en cuenta otros documentos derivados de diagnósticos del territorio realizados por algunas dependencias como el Instituto de Estudios Regionales, INER 2020, de la Universidad de Antioquia, y otros documentos construidos participativamente a través del diálogo de saberes con actores y organizaciones sociales del territorio 2021. A continuación, se presentan algunos núcleos estratégicos y programas."
   ]
  },
  {
   "cell_type": "markdown",
   "id": "e4487da0",
   "metadata": {
    "slideshow": {
     "slide_type": "slide"
    }
   },
   "source": [
    "## Núcleo estratégico 1. Desarrollo económico y agropecuario"
   ]
  },
  {
   "cell_type": "markdown",
   "id": "3865882e",
   "metadata": {
    "slideshow": {
     "slide_type": "slide"
    }
   },
   "source": [
    "El desarrollo económico y agropecuario del Bajo Cauca antioqueño requiere la generación de conocimiento para diversas formas de producción agropecuaria, minera y campesina que compitan por los recursos naturales. "
   ]
  },
  {
   "cell_type": "markdown",
   "id": "5cd31302",
   "metadata": {
    "slideshow": {
     "slide_type": "slide"
    }
   },
   "source": [
    "Además de la minería y la ganadería extensiva, el potencial agroindustrial, forestal, hidroeléctrico y turístico son sectores potenciales para el desarrollo. "
   ]
  },
  {
   "cell_type": "markdown",
   "id": "27a13d18",
   "metadata": {
    "slideshow": {
     "slide_type": "slide"
    }
   },
   "source": [
    "Para ello, cada uno de los territorios se han conformado plataformas administrativas específicas, con las cuales los actores del conocimiento científico deberían articularse para la generación de soluciones territoriales desde la investigación, la innovación y la creación. "
   ]
  },
  {
   "cell_type": "markdown",
   "id": "85d41840",
   "metadata": {
    "slideshow": {
     "slide_type": "slide"
    }
   },
   "source": [
    "Para lograr una reconversión, reactivación e innovación en materia económica se deben superar la baja inversión social y la desestimulación por el conflicto armando que a su vez frena tanto las posibilidades de actividades agroindustriales como las mejores condiciones de vida para los pobladores. Por ello, el núcleo estratégico se desarrollará a partir de los siguientes programas:"
   ]
  },
  {
   "cell_type": "markdown",
   "id": "28b4106a",
   "metadata": {
    "slideshow": {
     "slide_type": "slide"
    }
   },
   "source": [
    "* Programa 1: Seguridad alimentaria"
   ]
  },
  {
   "cell_type": "markdown",
   "id": "552b15c4",
   "metadata": {
    "slideshow": {
     "slide_type": "slide"
    }
   },
   "source": [
    "* Programa 2: Cadenas productivas promisorias"
   ]
  },
  {
   "cell_type": "markdown",
   "id": "04d61c78",
   "metadata": {
    "slideshow": {
     "slide_type": "slide"
    }
   },
   "source": [
    "* Programa 3: Recuperación y reforestación de la industria agroalimentaria "
   ]
  },
  {
   "cell_type": "markdown",
   "id": "80de3939",
   "metadata": {
    "slideshow": {
     "slide_type": "slide"
    }
   },
   "source": [
    "## Núcleo estratégico 2. Paz y conflicto armado"
   ]
  },
  {
   "cell_type": "markdown",
   "id": "665a8aba",
   "metadata": {
    "slideshow": {
     "slide_type": "slide"
    }
   },
   "source": [
    "La paz estable y duradera del Bajo Cauca antioqueño requiere la innovación, la creación y la generación del conocimiento para fortalecer la no violencia, la no repetición, la memoria histórica, así como favorecer la implementación de los Acuerdos de Paz con los que se espera reducir los indicadores de violencia (homicidios, desplazamiento forzado, desaparición forzada, reclutamiento forzado, economías ilícitas), mejorar la calidad de vida y buscar la salud de los ecosistemas. "
   ]
  },
  {
   "cell_type": "markdown",
   "id": "88d1909c",
   "metadata": {
    "slideshow": {
     "slide_type": "slide"
    }
   },
   "source": [
    "Es evidente, que el Acuerdo de Paz ha movilizado los liderazgos del territorio, ha atraído nuevamente la cooperación internacional que presiona al Estado para darle vida a la nueva institucionalidad. Por esa razón son necesarias las acciones desde el ámbito individual y colectivo, la articulación de los actores del territorio. Además, se requiere asumir los retos que supone la presencia de tantos actores armados como los que se disputan el Bajo Cauca. Faltan esfuerzos efectivos en la construcción de una sociedad pacifica e inclusiva con acceso a la justicia para todos y la promoción de acciones individuales, colectivas e institucionales como aportes a un desarrollo sostenible (ODS 16). Por ello, el núcleo estratégico se desarrollará a partir de los siguientes programas:\n",
    "\n",
    "Programa 1. Gobernanza y gobernabilidad.\n",
    "\n",
    "Programa 2. Hechos y actores de paz y de los conflictos.\n",
    "\n",
    "Programa 3. Justicia especial para las territorialidades."
   ]
  },
  {
   "cell_type": "markdown",
   "id": "0e57cb82",
   "metadata": {
    "slideshow": {
     "slide_type": "slide"
    }
   },
   "source": [
    "\n",
    "Núcleo estratégico 3. Ciencia y educación \n",
    "\n",
    "La educación en el Bajo Cauca requiere generación de nuevo conocimiento y formación del talento humano en diferentes áreas del saber que aporten a la solución de las problemáticas sociales, salud, ambiente, emprendimiento y a su vez cualifiquen el recurso humano. Se necesita articulación de los actores de la región para superar las barreras de acceso a la educación en todos los niveles.\n",
    "La baja oferta de los programas académicos de las áreas de ingenierías, salud y ambiente y la falta de recursos e infraestructura. Por ello, el núcleo estratégico se desarrollará a partir de los siguientes programas:\n",
    "\n",
    "Programa 1. Cultura en ciencia, tecnología e innovación.\n",
    "\n",
    "Programa 2. Acceso a la educación y nuevas tecnologías\n",
    "\n",
    "Programa 3. Transferencia del conocimiento y saberes de las comunidades.\n",
    "\n",
    "Núcleo estratégico 4. Salud y vida\n",
    "\n",
    "La salud en el Bajo Cauca Antioqueño requiere la generación de nuevo conocimiento para la defensa de todas las formas de vida, para superar las necesidades básicas insatisfechas. Por esa razón, la cooperación entre los actores locales, nacionales e internacionales en las plataformas presentes en el territorio pueden potenciar la calidad de los servicios del sector salud y su infraestructura, garantizar la protección de los recursos naturales y la biodiversidad mediante prácticas innovadoras y sostenibles.\n",
    "\n",
    "Programa 1.\n"
   ]
  },
  {
   "cell_type": "markdown",
   "id": "05cd56a7",
   "metadata": {
    "slideshow": {
     "slide_type": "slide"
    }
   },
   "source": [
    "\n",
    "Programa 2. \n",
    "\n",
    "La baja articulación para un bienestar inclusivo, el deterioro de los ecosistemas por el abuso de los sectores al margen de la ley y el extractivismo la biodiversidad del territorio ha generado perdida de \n",
    "\n",
    "\n",
    "Las divergencias entre estas territorialidades dan lugar a disputas que pueden llegar a arreglos, forcejeos que resultan en equilibrios o desequilibrios territoriales para la reproducción de cada una. Mientras más garantías para la reproducción de todas las territorialidades, mejor es la capacidad de configurar condiciones de justicia espacial para todas\n",
    "\n"
   ]
  },
  {
   "cell_type": "markdown",
   "id": "b2abe108",
   "metadata": {
    "slideshow": {
     "slide_type": "slide"
    }
   },
   "source": [
    "## Referencias"
   ]
  },
  {
   "cell_type": "markdown",
   "id": "13525978",
   "metadata": {
    "slideshow": {
     "slide_type": "slide"
    }
   },
   "source": [
    "-\tAgenda de la Organización de Naciones Unidas para el logro de los Objetivos de Desarrollo Sostenible 2030\n",
    "-\tDocumentos maestros de la Misión de Sabios de Colombia del año 2019\n",
    "-\tAgenda integrada de competitividad regional 2021\n",
    "-\tPlan de Desarrollo de Antioquia: Unidos\n",
    "-\tAgenda Regional de Investigación y Desarrollo Tecnológico hacia la Innovación. G8 Universidades\n",
    "-\tPlanes de desarrollo de los 6 municipios del Bajo Cauca antioqueño.\n",
    "-\tLineamientos del Direccionamiento Estratégico para el CUEE Capítulo Bajo Cauca.\n",
    "-\tPerfil socioeconómico de las subregiones de Antioquia capítulo Bajo Cauca\n",
    "-\tPlan y acuerdo estratégico de Ciencia, tecnología e innovación en el marco del Comité Universidad, Empresa, Estado -CUEE Capítulo Bajo Cauca.\n",
    "-\tPlan Estratégico Subregional, PESU 2040.\n",
    "-\tPlan de Acción Institucional Universidad de Antioquia 2021 – 2024 \n",
    "-\tPlan de Desarrollo Institucional Universidad de Antioquia 2017 - 2027\n",
    "-\tResultados finales del Análisis de las dinámicas territoriales. Proyecto “Línea base de regionalización”.\n",
    "-\tRetos y lineamientos para la orientación estratégica de la Regionalización universitaria 2020 - 2030\n",
    "-\tReporte de la Vicerrectoría de investigación de proyectos realizados entre 2015 y 2021 en la subregión.\n",
    "-\tConvocatorias temáticas del Comité para el Desarrollo de la Investigación CODI, de la Universidad de Antioquia."
   ]
  },
  {
   "cell_type": "code",
   "execution_count": null,
   "id": "845e63fe",
   "metadata": {
    "slideshow": {
     "slide_type": "slide"
    }
   },
   "outputs": [],
   "source": []
  },
  {
   "cell_type": "code",
   "execution_count": null,
   "id": "f0a2b325",
   "metadata": {
    "slideshow": {
     "slide_type": "slide"
    }
   },
   "outputs": [],
   "source": []
  },
  {
   "cell_type": "code",
   "execution_count": null,
   "id": "f6a2422d",
   "metadata": {
    "slideshow": {
     "slide_type": "slide"
    }
   },
   "outputs": [],
   "source": []
  },
  {
   "cell_type": "code",
   "execution_count": null,
   "id": "2ff22346",
   "metadata": {
    "slideshow": {
     "slide_type": "slide"
    }
   },
   "outputs": [],
   "source": []
  },
  {
   "cell_type": "code",
   "execution_count": null,
   "id": "f585e58f",
   "metadata": {},
   "outputs": [],
   "source": []
  },
  {
   "cell_type": "code",
   "execution_count": null,
   "id": "c642cfcf",
   "metadata": {},
   "outputs": [],
   "source": []
  },
  {
   "cell_type": "code",
   "execution_count": null,
   "id": "3f27ce9e",
   "metadata": {},
   "outputs": [],
   "source": []
  }
 ],
 "metadata": {
  "celltoolbar": "Slideshow",
  "kernelspec": {
   "display_name": "Python 3 (ipykernel)",
   "language": "python",
   "name": "python3"
  },
  "language_info": {
   "codemirror_mode": {
    "name": "ipython",
    "version": 3
   },
   "file_extension": ".py",
   "mimetype": "text/x-python",
   "name": "python",
   "nbconvert_exporter": "python",
   "pygments_lexer": "ipython3",
   "version": "3.9.12"
  },
  "rise": {
   "theme": "sky"
  }
 },
 "nbformat": 4,
 "nbformat_minor": 5
}
