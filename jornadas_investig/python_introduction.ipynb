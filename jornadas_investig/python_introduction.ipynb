{
 "cells": [
  {
   "cell_type": "markdown",
   "metadata": {},
   "source": [
    "# primeros pasos con python "
   ]
  },
  {
   "cell_type": "markdown",
   "metadata": {},
   "source": [
    "1. Descarga [anaconda](https://www.anaconda.com/) and [Visual studio Code](https://code.visualstudio.com/docs/?dv=win)"
   ]
  },
  {
   "cell_type": "markdown",
   "metadata": {},
   "source": [
    "2. primeras configuraciones \n",
    "* Idioma español  \n",
    "    - A tu izquierda, en la ventana, encontrarás 6 imágenes que corresponden a las opciones que \n",
    "    tendrás dentro del ambiente, escoge el quinto (de arriba hacia a abajo) llamado ***extensión***. ( on left to your computer screen\n",
    "    you can find six icon options, choose the five from up to below called, ***extension***. )\n",
    "    - En el recuadro escribe la palabra ***language***, se deplegarán las opciones. Escoge ***Spanish Language Pack for Visual Studio Code*** (In the box, write down ***language*** and it will display several options of language, choose ***Spanish Language Pack for Visual Studio Code***)\n",
    "    - Cliquea sobre la opción ***Instalar*** (Tap on ***install*** option )"
   ]
  },
  {
   "cell_type": "markdown",
   "metadata": {},
   "source": [
    "* If you have conection with the repository, you can see the image steps [you can see the image here](https://github.com/marco-canas/cielo/blob/main/jornadas_investigacion/spanish.png)"
   ]
  },
  {
   "cell_type": "markdown",
   "metadata": {},
   "source": [
    "3. Otras extensiones son las que te permitirán acceder a las herramientas para python y jupiter, observa!. (Others extensions let you to access into python and jupyter tools. Look at it!)\n",
    "    - Recuerda, para crear archivos y carpetas ve al primer icono ***explorador***. La extensión para crear \n",
    "      cuadernos de jupyter es ***.ipynb*** en puro lenguaje python es ***.py*** (Remember, to create files and folders you must\n",
    "      tap on the first icon ***explorador***. The extension to create jupyter notebooks is ***.ipynb*** and python files is ***.py***. )\n"
   ]
  },
  {
   "cell_type": "markdown",
   "metadata": {},
   "source": [
    "* If you have conection with the repository, you can see the image steps [you can see the image here](https://github.com/marco-canas/cielo/blob/main/jornadas_investigacion/Extension.png)\n",
    "* If you have conection with the repository, you can see the image steps [you can see the image here](https://github.com/marco-canas/cielo/blob/main/jornadas_investigacion/new_file_folder.png) "
   ]
  },
  {
   "cell_type": "markdown",
   "metadata": {},
   "source": [
    "3. Ahora, estás list@ para seguir este [paso a paso de las bases en el lenguaje python](https://www.notion.so/Python-for-Data-Analysts-185903ebc850452abb81fae7049661e8) Gracias a Shashank Kalanithi, puedes seguir su canal \n",
    "[aquí](https://www.youtube.com/c/ShashankKalanithiData)"
   ]
  }
 ],
 "metadata": {
  "kernelspec": {
   "display_name": "Python 3.9.12 ('base')",
   "language": "python",
   "name": "python3"
  },
  "language_info": {
   "codemirror_mode": {
    "name": "ipython",
    "version": 3
   },
   "file_extension": ".py",
   "mimetype": "text/x-python",
   "name": "python",
   "nbconvert_exporter": "python",
   "pygments_lexer": "ipython3",
   "version": "3.9.12"
  },
  "orig_nbformat": 4,
  "vscode": {
   "interpreter": {
    "hash": "e2d52f31207ba47c9ff05744ea98208bceb03151ff033e6613de894b2f4df4bd"
   }
  }
 },
 "nbformat": 4,
 "nbformat_minor": 2
}
