{
 "cells": [
  {
   "cell_type": "markdown",
   "id": "983450fb",
   "metadata": {
    "slideshow": {
     "slide_type": "slide"
    }
   },
   "source": [
    "<table align=\"left\">\n",
    "  <td>\n",
    "    <a href=\"https://colab.research.google.com/github/marco-canas/cielo/blob/main/cambio_climatico/cambio_climatico.ipynb\" target=\"_parent\"><img src=\"https://colab.research.google.com/assets/colab-badge.svg\" alt=\"Open In Colab\"/></a>\n",
    "  </td>\n",
    "</table>"
   ]
  },
  {
   "cell_type": "markdown",
   "id": "ae9a71aa",
   "metadata": {
    "slideshow": {
     "slide_type": "slide"
    }
   },
   "source": [
    "# La medición y análisis de datos meteorológicos en el Bajo Cauca utilizando machine learning con Python y sklearn como aportación científica para la búsqueda de soluciones al cambio climático"
   ]
  },
  {
   "cell_type": "markdown",
   "id": "638c6845",
   "metadata": {
    "slideshow": {
     "slide_type": "slide"
    }
   },
   "source": [
    "Los terminos de esta convocatoria los encuentras [aquí](https://www.udea.edu.co/wps/portal/udea/web/generales/interna/!ut/p/z1/1VTLdtowEP2VsMhSRy8_8NIYH4J5GBJIYm16hKwEtbHk2K5T-vUVDSdpaIH2pF3UC9uSZu6duTMjyOAtZJq36p43ymj-YNcZ8z50g4jg0EHjwWUSodCLwti_uh6TLoE3bw3QCLsonMez6SKNZv2EQGaPp3M3xiSyx-Gih8LJyMN4OMS9Od75owNPiH7P_4gBOx7_NWSQCd2UzRpmpaka_vA5l_wc8frtam0K-fyvdCvrxmokVEfQzorqcySMbo3gjakUr882Z3dG56be3xcmV9_3GqlVbrawvBJr1Zo6l7Xg1T3f8wElr-yrMhspGlODXIIf6I0GjSxsrQQHBBGyzaUUKofZCnsB9SUHlGIBHIIRCISzAthxgyD3u9RF_n7tfhaHHS_NzZbviPqhvzN4oUj7qW0Prx9fLDClESb7COmQxmgeTN0ZHQyJ49N9hF802KkwM5umfzDN1PZQq-QTXGpTFbblr_5QxYtTDA56J8Mz_KtGiFiN0l4yGE8wSiPyV-APRo__KfzovdEnpybcXmHq4-MjC-2cbyfvSwNv__tBL4vlcll06QZ8uozvJjF1sqT92puC3YdlYecbxv9L9g!!/dz/d5/L2dBISEvZ0FBIS9nQSEh/?page=udea.generales.interna&urile=wcm%3Apath%3A%2FPortalUdeA%2FasPortalUdeA%2FasHomeUdeA%2FInvestigaci%2521c3%2521b3n%2FConvocatorias%2By%2Bfondos%2FConvocatorias%2BCODI%2FContenido%2FasArchivosDescargas%2Fconvocatoria-para-proyectos-de-investigacion-tematica-2022)"
   ]
  },
  {
   "cell_type": "markdown",
   "id": "7e823568",
   "metadata": {
    "slideshow": {
     "slide_type": "slide"
    }
   },
   "source": [
    "las variables climáticas tales como la temperatura, el agua precipitable, la **irradiancia**, entre otras, tienen un comportamiento turbulento y caótico por naturaleza. "
   ]
  },
  {
   "cell_type": "markdown",
   "id": "bc20f948",
   "metadata": {
    "slideshow": {
     "slide_type": "slide"
    }
   },
   "source": [
    "Dicho comportamiento hace que su estudio a pequeña escala, tanto temporal como espacial, no pueda hacerse de una forma directa. "
   ]
  },
  {
   "cell_type": "markdown",
   "id": "a67705a9",
   "metadata": {
    "slideshow": {
     "slide_type": "slide"
    }
   },
   "source": [
    "A través del uso de una estación de monitoreo permanente en la seccional Bajo Cauca de la Universidad de Antioquia, imágenes satelitales y modelos teóricos computacionales, estudiaremos el comportamiento de la atmósfera sobre el Departamento de Antioquia."
   ]
  },
  {
   "cell_type": "markdown",
   "id": "b9092f44",
   "metadata": {
    "slideshow": {
     "slide_type": "slide"
    }
   },
   "source": [
    " \n",
    "Este estudio se enfocará en los cielos de las sedes regionales de la Universidad de Antioquia, tratando de maximizar el área de cobertura territorial. Una máxima cobertura, con una alta resolución tanto espacial como temporal, permitirá que los estudios que se realicen tengan resultados únicos."
   ]
  },
  {
   "cell_type": "markdown",
   "id": "c3768602",
   "metadata": {
    "slideshow": {
     "slide_type": "slide"
    }
   },
   "source": [
    "  \n",
    "Usaremos estaciones meteorológicas y cámaras Allsky para medir los parámetros atmosféricos y del cielo, que serán corroborados con imágenes del satélite GOES-16. Una vez corroborados los datos, se compararán con modelos teóricos computacionales, que nos permitirán realizar pronósticos a pequeñas escalas de tiempo (~1 día). Para realizar este proyecto, se reunió un conjunto de profesionales que han trabajado en el área, favoreciendo la viabilidad del mismo. "
   ]
  },
  {
   "cell_type": "markdown",
   "id": "46d67795",
   "metadata": {
    "slideshow": {
     "slide_type": "slide"
    }
   },
   "source": [
    "Al finalizar este proyecto se logrará lo siguiente: \n",
    "\n",
    "●\tHaber involucrado 3 estudiantes de las sedes regionales de la Universidad.\n",
    "●\tLa instalación de 3 estaciones meteorológicas de monitoreo permanente funcionando plenamente.\n",
    "●\tUn producto de divulgación. \n",
    "●\tUn programa de charlas públicas para escuelas y colegios de las sedes regionales usando los datos del proyecto. \n",
    "●\tUna página web en un servidor de la Universidad donde se ofrecerá acceso a todos los datos obtenidos. \n",
    "●\tLas condiciones y herramientas mínimas para que el conjunto de estaciones de monitoreo continúe funcionando una vez termine el proyecto."
   ]
  },
  {
   "cell_type": "markdown",
   "id": "85f4abed",
   "metadata": {
    "slideshow": {
     "slide_type": "slide"
    }
   },
   "source": [
    "# 1.\tPlanteamiento del problema"
   ]
  },
  {
   "cell_type": "markdown",
   "id": "e051a81a",
   "metadata": {
    "slideshow": {
     "slide_type": "slide"
    }
   },
   "source": [
    "La atmósfera del planeta Tierra es un sistema complejo, con dinámicas en una gran variedad de escalas espaciales y temporales, y con características caóticas y turbulentas que dificultan su predictibilidad. La atmósfera es un sistema fundamental para la vida en el planeta, incluyendo la humana. A pesar de haber desarrollado modelos teóricos y numéricos que nos ayudan a entender el comportamiento de la atmósfera,  los rasgos aperiódicos y limitaciones en predictibilidad hacen que exista una necesidad permanente de monitorear la variación de parámetros atmosféricos relevantes a pequeñas escalas espaciales y temporales, especialmente si estamos interesados en los detalles del tiempo y el clima que afecta una comunidad en particular. Dada la importancia de algunos de esos parámetros, la Organización Meteorológica Mundial ha definido una lista de parámetros conocidos como Variables Climáticas Esenciales (ECVs, por sus siglas en Inglés ). "
   ]
  },
  {
   "cell_type": "markdown",
   "id": "d03f9dee",
   "metadata": {
    "slideshow": {
     "slide_type": "slide"
    }
   },
   "source": [
    "Instituciones como el SIATA y el IDEAM, a nivel municipal y nacional respectivamente, cuentan en la actualidad con instrumentos  que monitorean constantemente variables meteorológicas como: temperatura, dirección del viento, humedad relativa, irradiancia (radiación solar en superficie), presión atmosférica, entre otras ECVs. Una gran cantidad de parámetros son monitoreados a nivel mundial a través de satélites geoestacionarios, como el Geostationary Operational Environmental Satellite-R Series (GOES-R).\n",
    " \n",
    "Las medidas satelitales incluyen variables como temperatura de la superficie, los vientos y el vapor de agua, las cuales también son ECVs. Pese a diversos errores e incertidumbres en los estimados satelitales, sus datos son fundamentales para la mayor parte de diagnósticos y pronósticos relacionados con la atmósfera, y entre sus mayores ventajas se encuentra el hecho de que proveen datos para regiones donde no existen registros/estaciones en tierra. Sin embargo, el uso de datos satelitales requiere un ejercicio de validación de sus registros comparándolos con información en tierra. Además, el formato y producción de la información satelital usualmente requiere usuarios con formación técnica en una serie de herramientas computacionales específicas, que no son de dominio común. \n",
    "\n",
    "A través de un estudio de identificación de la nubosidad sobre el Valle de San Nicolás, Arbeláez-Cardona et al. (2019) lograron caracterizar y relacionar observaciones tomadas desde tierra con imágenes del satélite GOES-16. Para identificar dicha relación, los autores estudiaron los productos de ciencia (L2) del instrumento ABI del satélite GOES. Uno de dichos productos es la presencia (o ausencia) de nubes sobre la superficie de la Tierra. Usando dicha calibración, los autores realizaron un estudio para el año 2018, e identificaron los sitios con menor nubosidad durante las horas de la noche en el territorio nacional. La alta resolución espacial (~2 km) y temporal (~10 minutos) de este análisis permitieron realizar un estudio, no solo sobre el Valle de San Nicolás, sino sobre diferentes territorios a nivel nacional. En particular, el Departamento de Antioquia mostró, durante el año estudiado, que el sitio con la menor nubosidad es Arboletes, con un total de 101 noches despejadas (~3 meses, no necesariamente noches consecutivas). \n",
    "\n",
    "La variable nubosidad es solo uno de los tantos parámetros que pueden afectar una región a pequeña escala: baja nubosidad está asociada a mayor temperatura, alta nubosidad está asociada a menor temperatura e incluso a la formación de tormentas. Por esta razón, el monitoreo y caracterización de la variable nubosidad puede ser de gran utilidad para entender y diagnosticar la atmósfera de una región. Medidas de nubosidad con estaciones en tierra requieren instrumentos especiales, como piranómetros o cámaras de cielo, los cuales no están disponibles en muchas localidades, incluyendo muchos sitios en Antioquia. Algo similar sucede con otras variables atmosféricas, sin embargo, las posibilidades que ofrece el satélite GOES-16 permiten un estudio detallado de un grupo mayor de parámetros que favorecen el estudio y caracterización del comportamiento de la atmósfera a escalas de pocos kilómetros (~10 km).\n",
    "\n",
    "El proyecto que presentamos a continuación busca realizar un estudio del cielo sobre el territorio del Departamento de Antioquia, incluyendo  la instalación de estaciones de monitoreo atmosférico en tres sedes de la Universidad de Antioquia. Es importante mencionar que en la actualidad la Universidad ya cuenta con: Una (1) estación de monitoreo (estación meteorológica y cámara de cielo) completamente funcional el Carmen de Viboral, una (1) estación meteorológica en Andes, una (1) estación meteorológica en Turbo y una (1) estación de monitoreo en Puerto Berrío (en reparación por fallas técnicas). El proyecto acá propuesto instalará tres (3) estaciones de monitoreo en las seccionales Urabá, Occidente y Bajo Cauca. Con la instalación de tres nuevas estaciones la Universidad contaría con un total de seis (6) puntos sobre el territorio departamental que estarían monitoreando variables climatológicas. Las variables entregadas por las estaciones de monitoreo se compararán con las medidas realizadas mediante el satélite GOES-16, lo que permitiría una observación y validación de los estudios del comportamiento a escalas espaciales y temporales nunca antes realizados en el territorio departamental y nacional. De este modo, el estudio del cielo propuesto también incluye la incorporación de estimados satelitales para una región que incluye Antioquia.\n",
    "\n",
    "En esta propuesta abordamos el estudio del cielo sobre Antioquia usando estaciones meteorológicas y datos satelitales para monitorear y entender la variación de un conjunto de ECVs (temperatura, precipitación, radiación y viento) sobre el Departamento en múltiples escalas espaciales y temporales. Parte de los retos incluyen las condiciones técnicas, tales como el dominio de paquetes de software específicos para la adquisición y procesamiento de información de las estaciones y de los satélites, además de la instalación y mantenimiento de los instrumentos necesarios en las estaciones propuestas. \n",
    "\n",
    "Trabajos como el que proponemos no se han realizado en el pasado en seccionales u otras sedes regionales de la Universidad de Antioquia debido a que no se cuenta con los datos para llevar a cabo dichos estudios. Los pocos datos con los que se cuenta fueron adquiridos por el IDEAM y SIATA, los cuales no son de fácil acceso público. Pese a la existencia de estudios anteriores sobre territorio nacional y regional (e.g. Mesa et al. 1997, Poveda et al. 2005), un proyecto como el que proponemos en este trabajo permitirá hacer un estudio sistemático y homogéneo de un conjunto de ECVs a través del tiempo con datos propios. Además, dichos parámetros serán comparados y validados por datos satelitales, los cuales son de acceso público pero requieren un nivel intermedio de formación técnica para su manipulación, permitiendo además que se hagan estudios en sitios diferentes a los que tienen estaciones.\n",
    "\n",
    "Al finalizar este proyecto se contará con una página web en un servidor de la Universidad donde se presentarán los datos de manera gráfica, amena y continua, y se proporcionará acceso a dichos datos al público general. Este tipo de herramientas se espera permanezcan activas luego de la finalización del proyecto, como un espacio que muestre el trabajo de investigación y educación que se realiza en la Universidad de Antioquia, y una herramienta para acercar la Universidad a las comunidades.\n",
    "\n",
    "2.\tMarco teórico\n",
    "\n",
    "Variables climáticas Esenciales (VCE)\n",
    "Una de las variables más importantes en la descripción del sistema climático es la temperatura del aire cerca a la superficie terrestre, la cual presenta variaciones tanto a escala regional como global. Esta variable de estado termodinámica incluye información sobre el estado energético de la atmósfera y es modulada por el balance de energía en la superficie terrestre. Así, desde el punto de vista físico, la temperatura superficial terrestre (Land Surface Temperature, LST) es una variable de vital importancia para caracterizar y pronosticar el estado de la atmósfera. Desde el punto de vista práctico, esta variable es uno de los condicionantes más importantes para la vida y las diferentes actividades humanas. La mayor parte de las actividades y producción agrícola están condicionadas por la temperatura. Altas o bajas temperaturas también pueden condicionar la demanda de energía eléctrica (e.g. debido al uso de aire acondicionado), o su disponibilidad (debido al secado de embalses por evaporación). Eventos extremos de temperatura pueden llevar a poblaciones, cultivos y ecosistemas a condiciones de gran estrés,  incluso  mortales, relacionadas por ejemplo con la ocurrencia de sequías (e.g. como las de 2014, Semana, 2014, y 2015-2016, Semana, 2016). Eventos importantes de sequías y lluvias extremas se han registrado en el país, pero no se han realizado estudios detallados en la gran mayoría de los casos.\n",
    "\n",
    "Por otro lado, el vapor de agua total (Total Precipitable Water, TPW), es la medida de la cantidad de agua presente en forma de vapor en la columna de aire medida en la vertical. La TPW es un parámetro de gran importancia para la comprensión del comportamiento de la atmósfera a nivel regional y global.  Más del 99% del agua en la atmósfera se encuentra en forma de vapor y es uno de los componentes que más influye en el efecto invernadero del planeta, inclusive más que el CO2. El vapor de agua es responsable por gran parte del transporte térmico desde la superficie de la Tierra hacia la alta atmósfera (e.g. Stevens and Bony, 2013) . En particular, la TPW es uno de los elementos básicos de la rama atmosférica del ciclo hidrológico. La tasa de cambio de TPW está directamente relacionada con la precipitación sobre una región. De este modo, los cambios bruscos en la TPW pueden estar relacionados con la ocurrencia de lluvias, y la disminución substancial de la TPW puede llevar a la disminución de lluvias y hasta sequías. La relación entre la TPW y la precipitación de agua se ha estudiado de múltiples formas, empezando por la ecuación física básica que las relaciona (e.g. Lorenz and Kunstmann, 2012), relaciones empíricas con sustento físico (e.g. Zeng, 1999), y su descripción fenomenológica (e.g. Adams et al., 2013; Chen et al., 2017). \n",
    "\n",
    "El componente viento (tanto en dirección como en magnitud) es responsable en gran medida del transporte de escalares que está estrechamente relacionado con el estado de las VCEs en la atmósfera.  En el caso de Colombia, los vientos han sido estudiados para responder múltiples preguntas, y con múltiples enfoques. Los estudios más enfocados a la ocurrencia o falta de lluvias, transporte de vapor de agua, y otros fenómenos atmosféricos, se basan en gran medida en los patrones y distribuciones del viento a diferentes niveles de altura, sobre todo en niveles bajos (e.g. 925, 850 y 700hPa, correspondiendo más a menos a 700, 1500 y 3300 metros sobre el nivel del mar), medios (500hPa, o 5500 m.s.n.m) y altos (250hPa, o cerca a 11000 m.s.n.m). Los estudios se basan sobre todo en datos de modelos atmosféricos, y de reanálisis (que son una combinación de modelos atmosféricos, con observaciones derivadas de satélites, radiosondas, estaciones en tierra, entre otros).  Algunos ejemplos de estudios para Colombia incluyen los realizados por investigadores de esta propuesta: Arias et al. (2015), Morales et al. (2018), Martinez et al. (2018), Molina et al. (2019), Posada et al. (2020) entre otros. \n",
    "\n",
    "Otros estudios, más enfocados a la meteorología en las ciudades (meteorología urbana) y calidad del aire, usan estimados de vientos provenientes de modelos, estaciones meteorológicas, y sensores remotos como radiómetros.  En estos casos la región de interés va desde la superficie terrestre hasta niveles intermedios (~ 700hPa), con especial interés en la Capa Límite Atmosférica (hasta los primeros 2000-3000 metros sobre la superficie terrestre).  Otro grupo de estudios están enfocados al estudio del viento como energía renovable (e.g. Vergara et al., 2010; IDEAM et al., 2017; Hoyos Guerrero et al., 2018; Gil Ruiz, et al. 2020 sometido). En dichos estudios el interés básico está en los vientos a nivel de superficie (nominalmente a 10 metros sobre la superficie), y hasta la altura típica de molinos de viento (80-100 metros).  La fuente de información básica para estos estudios se basa tradicionalmente en estaciones meteorológicas y en ejercicios de modelación. Medidas realizadas desde la superficie de la tierra (10 metros de altura) incluyen los registros del IDEAM, los cuales dan cuenta de la magnitud y la dirección del viento en una gran cantidad de regiones del país .\n",
    "\n",
    "Estimados Satelitales: GOES-16\n",
    "La serie de satélites geoestacionarios GOES-R, la cual incluye el satélite GOES-16 (GOES-EAST) comenzó su fase operacional en el año 2018. Dicho satélite observa la Tierra en rangos del visible y el infrarrojo, lo que permite el estudio de parámetros como el vapor de agua a diferentes alturas, temperaturas en tierra y mar, dirección del viento, entre otros . Los estudios que se realizan con este instrumento estiman varios de sus diferentes parámetros usando un método conocido como “split-window” (e.g. Qin et al., 2001; Mao et al., 2004). Este método usa el hecho de que existe absorción diferencial en bandas adyacentes del espectro electromagnético para corregir por efectos atmosféricos. De esta manera, la radiación que proviene de la superficie puede ser diferenciada de aquella producida por otras regiones que se encuentran por encima de ésta. Para que se pueda usar este método es indispensable que el cielo esté lo más despejado posible. En este sentido, las imágenes del GOES-16 puede ser usadas en aplicaciones que permitirán el estudio de VCEs (ver e.g. Arbeláez-Cardona et al., (2020) para estimaciones de la nubosidad sobre Colombia). \n",
    "\n",
    "Para observar vapor de agua (insumo para la TPW) se usan longitudes de onda infrarrojas de 6.2 𝜇m, aunque algunos autores prefieren la banda 7.3  𝜇m. Muchos estudios usan modelos meteorológicos para obtener información adicional de la cantidad de agua precipitable (o vapor de agua) en la superficie, debido a que las bandas usadas por los satélites no alcanzan a ver tan abajo, que es donde la concentración es mayor (~3 km sobre la superficie, i.e. en la Tropósfera). El cálculo de la cantidad TPW requiere conocer (o asumir) un perfil vertical de la temperatura y la humedad que permita realizar sus estimados. Sin embargo, GOES-16 produce un resultado para la TPW que representa el agua precipitable derivada de la información del satélite directamente. Esta base de datos es uno de los insumos de esta propuesta. Estudios que incluyen un uso de la TPW satelital similar al de la presente propuesta pueden verse en Leroy et al. (2016); Schmit et al. (2018) y Gitro et al. (2018), donde además de introducir un portal para la constante visualización de la TPW para Estados Unidos , se estudian situaciones meteorológicas de interés, incluyendo eventos fuertes de precipitación. \n",
    "\n",
    "El satélite GOES-16 mide también la variable Derived Motion Winds (DMW) haciendo uso de imágenes tomadas por el satélite a diferentes alturas, a través de diferentes bandas (0.64  𝜇m, 3.9  𝜇m,  6.15  𝜇m, 11.2  𝜇m). Usando puntos de referencia en las bandas intermedias se identifican objetos como cirros o gradientes en el vapor de agua. Dichos objetos son luego identificados en las otras bandas, indicando la dirección de movimiento. Para su magnitud se usan suposiciones respecto a los perfiles de temperatura y medidas de la radiación en diferentes bandas.\n",
    "\n",
    "Un ejemplo del uso de datos satelitales para estudios sobre la superficie de la Tierra es el trabajo de Castro-Díaz (2013), que usó imágenes del instrumento MODIS para determinar la variable LST sobre Colombia. Su estudio mostró que el uso de este tipo de imágenes sería de gran ayuda para los estudios agrométricos en el país. Otro ejemplo es el trabajo de Hoyos et al. (2019). En este trabajo los autores estudian un evento hidrometeorológico extremo que tuvo lugar en Salgar (2015) y parte del diagnóstico incluye uso de información del GOES-13. Pinzón et al. (2015) y Arbeláez-Cardona, et al. (2020) usan imágenes del satélite GOES-13 y GOES-16, respectivamente, para determinar la cantidad de noches despejadas sobre el territorio nacional.\n",
    "\n",
    "Modelos meteorológicos numéricos (NWP)\n",
    "La predicción del comportamiento de la atmósfera comenzó hace aproximadamente un siglo con los trabajos de Abbe (1901) y Bjerknes (1904), quienes con una visión a largo plazo propusieron que las leyes de la física podrían ser usadas para pronosticar el comportamiento de la atmósfera. Así, los modelos actuales para la predicción del comportamiento atmosférico se basan en la solución de ecuaciones diferenciales no lineales que permiten acercarse a una predictibilidad de días y hasta semanas (Bauer et al., 2015). Fenómenos como el huracán Sandy en 2012 o la ola de calor experimentada en Rusia en el 2010 fueron pronosticadas haciendo uso de modelos atmosféricos, incluyendo aquellos que se usan para pronóstico en la escala de horas a días, o modelos para  Numerical Weather Prediction (NWP). En la actualidad el uso de esta herramienta permite una increíble comprensión del sistema y la predictibilidad necesaria para que el desarrollo de nuevas fuentes de información (monitoreo permanente desde estaciones) y centro de cómputo esté bastante justificada. El impacto de NWP está entre los mayores de cualquier área de la física (Bauer et al., 2015). \n",
    "\n",
    "Los modelos computacionales se basan en la solución de la ecuación de Navier-Stokes, la ecuación de la continuidad de la masa (incluyendo los efectos de rotación de la tierra), la primera ley de la termodinámica y ecuaciones de estado (como la ecuación de un gas ideal) para dar solución al comportamiento de la atmósfera. Las soluciones, que deben ser numéricas, se pueden encontrar a través de la discretización de los campos físicos involucrados, y la parametrización de varios procesos físicos (e.g. turbulencia, radiación, entre otros). Debido a la naturaleza de las ecuaciones y campos involucrados, y dependiendo del detalle espacial con el cual se quieren hacer predicciones, los modelos NWP requieren de grandes capacidades computacionales. Es así como  técnicas alternativas para el análisis y la comprensión del comportamiento del sistema atmosférico entran a jugar un papel fundamental; este es el caso de técnicas avanzadas para la identificación y predicción de patrones atmosféricos a partir de información satelital y observaciones desde la superficie de la Tierra.\n",
    "\n",
    "Machine Learning (ML)\n",
    "Los modelos ML se basan en medidas de diferentes parámetros que presentan correlaciones entre ellos. Bien sea a través del uso de regresiones lineales o del uso de otras técnicas como deep neural network (DNN), la necesidad del uso de una gran cantidad de datos es fundamental para que los modelos puedan entrenarse y comprender las correlaciones entre los diferentes parámetros y el comportamiento que éstos presentan. Es así como la implementación de modelos de ML es un paso natural para la comprensión del sistema atmosférico. La implementación de estas técnicas pueden verse en trabajos como e.g. Rodriguez-Galiano et al., (2012); McGovern et al., (2017); Azzari et al., (2017); Nguyen et al., (2018); Rischard et al., (2018); Sønderby et al., (2020).\n",
    "\n",
    "Existen una gran variedad de modelos ML que pueden ser aplicados para estudiar la posibilidad de realizar predicciones del comportamiento de las VCEs y su evolución en el tiempo. Para solucionar problemas como éstos se usan diferentes aproximaciones al problema, dependiendo del objetivo. En general podemos decir que los modelos ML más usados son: Modelos de regresión lineal multivariado, modelos vectoriales para clasificación y modelos de aprendizaje automático de redes neuronales. En la comunidad dichos modelos se conocen con los nombres de Regresión Lineal (RL), Support Vector Machine (SVM) y Neural Network (NN).\n",
    "\n",
    "Modelos NWP vs Machine Learning\n",
    "Para entender los procesos que gobiernan los cambios que se presentan en sistemas turbulentos como la atmósfera, es necesario recopilar datos que nos permitan estudiar el sistema a través de la observación y su posible predicción. Los modelos NWP han sido usados ampliamente por alrededor de 70 años, con avances significativos en su capacidad y éxito para representar y predecir el estado de la atmósfera; sin embargo hay un número de limitaciones y retos que persisten al día de hoy (e.g. Bauer et al., 2015 y referencias allí citadas). \n",
    "\n",
    "Por otro lado, durante las últimas dos décadas, las técnicas de análisis de datos y ML han avanzado a pasos considerables en la comprensión de múltiples problemas, desde los socio-económicos hasta procesos físicos. Huntingford et al. (2019) recopila en su tabla 2 un conjunto de trabajos de los últimos 10 años donde se muestra el alto nivel que presentan las técnicas de ML para la comprensión de problemas que van desde estudios meteorológicos hasta problemas de agrometría, todos éstos enmarcados en líneas de modelamiento del sistema Tierra como un todo. \n",
    "\n",
    "La gran cantidad de datos adquiridos para las VCEs que se pueden obtener al día de hoy sobrepasa los estándares que se manejaban unas décadas atrás. Además de permitir una resolución espacial y temporal del comportamiento de las VCEs, la gran cantidad de datos requiere que nuevos estudios se lleven a cabo a través del uso de nuevas herramientas que usan algoritmos de aprendizaje para la comprensión y la predicción de su comportamiento (ver Huntingford et al., 2019 y referencias allí citadas). Es así como las técnicas de ML han comenzado a revolucionar las áreas relacionadas con las ciencias atmosféricas.\n",
    "\n",
    "Recientemente el trabajo de Sønderby et al. (2020) usó herramientas de ML para el pronóstico de la VCE precipitación sobre el territorio de los Estados Unidos de América. En su trabajo, los autores construyeron un modelo computacional de ML que es capaz de sobrepasar, en predictibilidad y en desempeño computacional, las técnicas y herramientas de los modelos NWP.\n",
    "\n",
    "Los datos principales que se usarán en este proyecto serán adquiridos desde las diferentes sedes y seccionales de la Universidad, sin embargo, una parte importante de los datos que se usarán en este proyecto provienen del satélite GOES-16. Este satélite se encuentra ubicado en una órbita geoestacionaria (75° Este y 0°) sobre el territorio nacional. Para los estudios meteorológicos en Colombia, la ubicación de este satélite es idónea, ya que las medidas no deberán tener una corrección importante por la curvatura de la tierra. Se usarán datos tomados por el satélite para medir temperatura superficial, vientos y precipitación. Este conjunto de parámetros son de gran interés para comprender el sistema atmosférico. La descarga de los datos del satélite es gratuita y se puede realizar desde diferentes fuentes (e.g. https://www.star.nesdis.noaa.gov/GOES/). Las imágenes del satélite varían dependiendo del instrumento del que se obtengan los datos, pero para el caso de las tres variables que se desea estudiar, la resolución espacial alcanza los 10 km2. La resolución temporal de los datos es de 15 minutos, y se puede obtener información desde el año 2018, cuando el instrumento ABI (abordo del GOES 16) comenzó su funcionamiento. Con estas características, se puede estimar que el número de datos que se obtendrán desde el satélite alcanza los ~320000 datos para las tres variables durante los años 2018, 2019 y 2020. Un estimado similar para la estaciones que se  ubicarán a través de este proyecto, pero donde se cuenta con una resolución temporal de 1 minuto, alcanzan más de ~6’300.000 de datos al año.\n",
    "\n",
    "3.\tJustificación del proyecto \n",
    "\n",
    "Para lograr los objetivos propuestos por el proyecto (ver siguiente sección), se instalarán tres (3) estaciones de monitoreo permanentes (EMP) de las variables ECVs en las Seccionales Urabá, Occidente y Bajo Cauca (ver Figura 1).\n",
    "\n",
    " \n",
    "Figura 1. Mapa del Departamento de Antioquia indicando las sedes regionales donde se cuenta con estaciones de monitoreo (óvalos amarillas), sedes regionales donde existen equipos similares (óvalos morados) y las sedes en las cuales se desea instalar estaciones nuevas (óvalos rojas).\n",
    "\n",
    "Las EMP medirán y enviarán en tiempo real medidas de: Temperatura, precipitación, irradiancia, dirección y magnitud de viento, presión atmosférica e imágenes de los cielos de cada una de las regiones. Dicha toma de datos implica una gran cantidad de movimiento de información desde las diferentes sedes hacia la sede Ciudad Universitaria, donde disponemos de los recursos computacionales para su almacenamiento y despliegue a través de una página de internet.\n",
    "\n",
    "Gracias a la gran cantidad de datos que obtendremos, nos acercaremos en este proyecto a cuatro (4) componentes vitales: \n",
    "\n",
    "●\tCiencias de la Atmósfera\n",
    "●\tAstronomía\n",
    "●\tCiencia de Datos\n",
    "●\tApropiación Social del Conocimiento\n",
    "\n",
    "Los 4 componentes de este proyecto tiene líneas que son transversales a los 3 ejes misionales de la Universidad de Antioquia: Docencia, Investigación y Extensión, lo que lo hace un proyecto único en su composición.\n",
    "\n",
    "Recopilaremos datos de las estaciones que se propone instalar y/o que ya están funcionando en diferentes seccionales de la Universidad de Antioquia. La integración de estos componentes permitirá una comprensión del comportamiento de diferentes ECVs que puedan aportar al desarrollo científico y social de las regiones, pero además permitirá la creación de redes que permitan la integración de cada una de las regiones con el resto del Departamento. Esto se logrará fácilmente, ya que toda la información estará centralizada, permitiendo a los estudiantes, profesores, investigadores y a la sociedad en general tener acceso (en tiempo real) a la información de todas las estaciones, y realizar los análisis/comparaciones de su interés. Como ejemplo, la sede Carmen de Viboral cuenta con una página pública donde se pueden visualizar los datos, con actualizaciones cada media hora: http://54.90.34.55:8501/\n",
    "\n",
    "Las posibilidades que se abren al tener siete (7) estaciones funcionando simultáneamente (tres propuestas y cuatro ya operativas) permitirán que cada una de las partes (sedes de la Universidad, áreas del conocimiento, agentes gubernamentales, empresa privada) desarrolle un pensamiento crítico, no solo sobre el ambiente y entorno de su región, sino hacia una comprensión de mayor escala, pasando por los patrones atmosféricos de escala departamental hasta el reconocimiento/comprensión de conexiones ambientales a escala global con agricultura, ciencia de datos, astronomía y muchas otras posibles áreas del conocimiento que pueden verse beneficiadas con los datos que se obtendrán.\n",
    " \n",
    "Por otro lado, desde el punto de vista institucional, este tipo de proyectos permite una integración de las sedes regionales de la Universidad en un trabajo académico, investigativo y de extensión, generando sinergias a través del conocimiento de cada uno de sus entornos y potenciando sus aspectos comunes. Los datos y el conocimiento que producirán las estaciones y el procesamiento/análisis de datos satelitales pueden beneficiar las comunidades de las diferentes sedes regionales de la Universidad, ya que pueden ser usados de múltiples formas: \n",
    "\n",
    "a. Apropiación social del conocimiento:  \n",
    "\n",
    "El conjunto de datos que se producirá a través de las estaciones y con las imágenes satelitales de acceso libre pueden ser utilizados en los colegios/escuelas de la región para enseñar a toda clase de público sobre temas generales de ciencias naturales (física, matemáticas, biología, computación, etc). Por ejemplo, la manera como las nubes se forman y se mueven, los movimientos del sol a través del año, las temporadas de lluvia y de sequía durante el año, entre otros, son procesos que podrán accederse desde el punto de vista de datos tomados por los instrumentos que se instalarán en las sedes y que serán de libre acceso. A su vez, estos temas sirven como base y contexto para ilustrar a la comunidad sobre el problema socio-ambiental más importante de nuestro tiempo: el cambio climático.\n",
    "\n",
    "b. Docencia: \n",
    "Los datos que producen las estaciones y los datos satelitales pueden ser usados en diferentes áreas del conocimiento como las ingenierías, las ciencias básicas y/o las ciencias/ingenierías agrícolas, permitiendo que los estudiantes se acerquen a sus respectivas áreas del conocimiento haciendo uso de datos propios, que además les pueden proporcionar información sobre su lugar de residencia. Además, los estudiantes, profesores e investigadores podrán tener acceso a los datos de las otras sedes regionales, permitiéndoles hacer investigaciones comparativas. La manipulación e interpretación de estos datos reforzarán al menos dos grandes habilidades que requieren nuestros estudiantes: conocimientos de ciencias naturales y ciencia de datos.\n",
    "\n",
    "c. Investigación: \n",
    "Gracias a la calidad de los datos que se espera obtener desde tierra, y los que se pueden acceder desde satélite, diferentes áreas del conocimiento (incluyendo Astronomía, Física, Ingeniería Ambiental, Ingeniería de Sistemas, Ingeniería de Telecomunicaciones, Ingeniería Agrícola, entre otras) pueden desarrollar proyectos de investigación inter- y transdisciplinarias que deriven en publicaciones académicas. Ejercicios como los que se proponen ya han sido desarrollados, i.e. Arbeláez-Cardona et al. (2019).\n",
    "\n",
    "\n",
    "4.\tAntecedentes\n",
    "\n",
    "a.\tInvestigación\n",
    "Gracias al trabajo realizado por Arbeláez-Cardona et al. (2019), se cuenta en la actualidad con las herramientas necesarias para estudiar parámetros tomados desde tierra y hacer una comparación con los datos obtenidos por el satélite GOES-16 (todos los datos son de libre acceso). Además, gracias al trabajo de maestría en la Universidad de Antioquia realizado por Julián Gálvez (Tesis de Maestría, Facultad de Ingeniería, Universidad de Antioquia, 2019), la construcción de las estaciones, y su respectiva configuración para un acceso remoto, están establecidas (ver Figura 2). Esto quiere decir que tenemos todo lo necesario para que el proyecto esté en completo funcionamiento en intervalos de tiempo corto, permitiendo así la rápida adquisición de datos y su respectivo análisis. Además, se cuenta en la actualidad con estaciones meteorológicas instaladas y funcionales en las sedes: Andes, Turbo y Carmen de Viboral, lo que permitiría que los trabajos de investigación, docencia y extensión puedan ser iniciados una vez comience el proyecto.\n",
    "La Figura 2 muestra los componentes principales de una estación de monitoreo permanente del cielo como las que se espera instalar en las tres sedes propuestas. La estación que se muestra en la Figura 2 se encuentra ubicada en la sede del Carmen de Viboral de la Universidad de Antioquia. Ejemplos de las variables monitoreadas y su visualización pueden verse en https://atmosudea.wordpress.com/observaciones-meteorologicas/ y en http://54.90.34.55:8501/ para una visualización en tiempo real de los datos tomados por la estación. \n",
    "\n",
    " \n",
    "Figura 2. Estación de monitoreo permanente del Cielo ubicada en la sede del Carmen de Viboral.\n",
    "\n",
    "\n",
    "En la Seccional Urabá, ubicada en el municipio de Turbo, se han venido desarrollando proyectos encaminados al entendimiento de procesos físicos del océano y de la atmósfera. En ese sentido por medio del proyecto “Investigación para la reversión del proceso de erosión en las costas del mar de Antioquia” financiado por la Gobernación de Antioquia y liderado por la Facultad de Ingeniería de la Universidad de Antioquia y en colaboración con la Universidad Nacional de Colombia (Sede Medellín) y la Universidad del Norte, se compró una estación meteorológica marca Davis, la cual mantiene registros (casi continuos) desde agosto del 2019. Debido a los excelentes resultados obtenidos en el proyecto mencionado, en la actualidad con recursos del DAGRAN (Gobernación de Antioquia) se desarrolla el programa PIMECLA (Programa Integral de Monitoreo de la Erosión Costera en el Litoral Antioqueño), del cual se ha realizado la Fase I, se comenzará con la Fase II en agosto de 2021 y se esperan realizar las Fases III y IV. En este programa se espera implementar estaciones de medición de variables oceanográficas y atmosféricas en la zona norte de Antioquia (municipios de Necoclí y Arboletes) que podrán ser incorporadas a este proyecto, fortaleciendo de esta manera el sistema de monitoreo actual.\n",
    "\n",
    "Por otra parte, nuestro grupo de trabajo ya cuenta con experiencia en la divulgación de material sobre ciencias de la atmósfera, incluyendo un sitio web con información de satélites, https://atmosudea.wordpress.com/tiempo-atmosferico/ \n",
    "y con simulaciones atmosféricas realizadas de forma rutinaria similar a los pronósticos meteorológicos que se estudian a nivel internacional,\n",
    "https://atmosudea.wordpress.com/pronostico-wrf/. \n",
    "La información del GOES es usada regularmente por nuestro grupo para ilustrar la formación, evolución y localización de nubes en el territorio nacional https://atmosudea.wordpress.com/, la distribución y transporte de vapor de agua https://atmosudea.wordpress.com/imagenes-satelitales-canal-vapor-de-agua/, y el desarrollo y escala de diferentes sistemas de precipitación,  https://atmosudea.wordpress.com/goes/. Además, regularmente realizamos simulaciones atmosféricas de alta resolución que ilustran diferentes variables atmosféricas, incluyendo varias ECVs, con interés centrado en Antioquia, https://atmosudea.wordpress.com/wrf-4km/. Parte de la experiencia de nuestro grupo viene dada por la realización de varias publicaciones y trabajos de grado que usan datos de estaciones meteorológicas, imágenes satelitales y modelos atmosféricos (e.g. Arias et al. 2015, Ortega 2016, Urrego 2019, Espinosa 2019, Vásquez 2019, Arbeláez-Cardona et al. 2019). \n",
    "Este proyecto tiene como parte de sus objetivos estratégicos apoyar el PAED  (2020-2023) en:\n",
    "\n",
    "i. Lìnea 1: Nuestra gente\n",
    "\tObjetivos de Desarrollo Sostenibles 4, 9, 10, 13 \n",
    "\n",
    "ii. Lìnea 3: Nuestra planeta\n",
    "\tObjetivos de Desarrollo Sostenibles 4, 9, 10, 13\n",
    "\n",
    "ODS: (4) Educación de calidad\n",
    "ODS: (7) Energìa asequible y no contaminante\n",
    "ODS: (9) Industria, Innovación e Infraestructura\n",
    "ODS: (10) Reducción de las desigualdades\n",
    "ODS: (11) Ciudades y Comunidades Sostenibles\n",
    "ODS: (13) Acción por el clima\n",
    "\n",
    "b.\tRecursos con los que contamos hasta la fecha\n",
    "Actualmente el proyecto cuenta con instrumentos tomando medidas:\n",
    "\n",
    "- En la Seccional Oriente se cuenta en la actualidad con una cámara de cielo y una estación meteorológica, i.e. una estación de monitoreo permanente completamente funcional. Los datos se han estado tomando desde el año 2019 y se encuentran almacenados en la Universidad de Antioquia. Los datos se despliegan en la página http://54.90.34.55:8501/, con actualizaciones cada media hora.\n",
    "- En la Seccional Suroeste se cuenta con una estación meteorológica que ha estado tomando datos desde 2017. Los datos de la estación están siendo procesados para ser incluidos en la misma página que los datos de la estación Carmen de Viboral. En reunión realizada el pasado jueves 8 de Julio (2021), la Alcaldía del Municipio acordó proporcionar un monto de 20 millones de pesos para la instalación y puesta en funcionamiento de una estación de monitoreo.\n",
    "- En la Seccional Urabá La estación meteorológica Davis ubicada en la Sede de Ciencias del Mar, se instaló desde mediados del año 2019 en la parte superior del pasillo asociado a la biblioteca. Desde entonces la estación ha venido registrando datos meteorológicos cada 5min de manera casi continua. Los datos se almacenan por ahora en un computador de la Sede. Las variables meteorológicas que se registran en la actualidad son: Humedad, Temperatura, Velocidad y dirección del viento, Radiación solar, Presión atmosférica, Precipitación, Índice UV, Punto de rocío. El pasado 14 de Julio se realizó reunión con el DAGRAN, quienes mostraron un alto grado de interés en las medidas que se desean obtener y el alto impacto que éstas pueden tener en la región.\n",
    "- En la Sede Norte - Yarumal se cuenta con una cámara de cielo, sin embargo estamos pendientes de su instalación y puesta en funcionamiento.\n",
    "- En la sede Puerto Berrío se cuenta con una estación de monitoreo permanente. Debido a la caída de un rayo, los instrumentos sufrieron problemas técnicos y se encuentran en estudio para su reinstalación. En esta sede se espera la construcción de un observatorio astronómico, el cual ya fue aprobado y cuenta con licencia de construcción por parte de la Curaduría Urbana.\n",
    "- En la Sede Sonsón se realizó un acercamiento con la Alcaldía municipal. Se cuenta en la actualidad con 23 millones de pesos destinados a la compra y puesta en funcionamiento de una estación de monitoreo permanente en la sede y un telescopio para actividades de divulgación.\n",
    "- En la Seccional Occidente se presentó el proyecto al CUEE, quienes enviaron carta de apoyo al proyecto debido a la gran relevancia y al alto impacto que podría tener en la zona, y cómo nuestros resultados están en las mismas líneas, lo que permitiría una articulación fácil para el aprovechamiento de los mismos.\n",
    "- En Ciudad Universitaria se cuenta con un computador tipo servidor para la conectividad de todas las estaciones de manera simultánea (meteoro.udea.edu.co), dos computadores Dell de alto desempeño recién comprados para el almacenamiento y análisis de los datos de las estaciones y con el Laboratorio Unificado de Control Astronómico (LUCA), el cual deberá estar en pleno funcionamiento antes de terminar el año 2021.\n",
    "\n",
    "c.\tBreve reseña de los investigadores de esta propuesta\n",
    "\n",
    "J. Alejandro Martínez, es docente de la Escuela Ambiental de la Universidad de Antioquia. Realizó su pregrado y maestría en Física, en el Instituto de Física de la Universidad de Antioquia y obtuvo su doctorado en Hidrometeorología en la Universidad de Arizona, Estados Unidos.  Desde su trabajo de maestría, la investigación de Alejandro se ha centrado en diferentes aspectos de Ciencias de la Atmósfera, pasando por temas como la clasificación de patrones atmosféricos en Colombia, desarrollo e implementación de un modelo 2D de transporte de vapor de agua, y el uso de modelos de superficie y atmosféricos para el estudio de interacciones tierra-atmósfera en Sur América. Más recientemente Alejandro ha desarrollado actividades de pronóstico meteorológico para Colombia usando modelos atmosféricos y ha trabajado en el estudio y evaluación de simulaciones atmosféricas regionales en la representación del clima del norte de Sur América (incluyendo transporte de vapor de agua, precipitación y agua precipitable).  Otras dos aplicaciones en las que ha trabajado incluyen el uso de modelos atmosféricos para estudiar la simulación y pronóstico de energías renovables (radiación y viento) y para el estudio de tormentas organizadas como el sistema convectivo que causó la avenida torrencial en Mocoa en 2017.  \n",
    "\n",
    "Carlos A. Palacio T., es Profesor Asociado de la Escuela Ambiental de la Facultad de Ingeniería de la Universidad de Antioquia. Realizó su pregrado en Ingeniería Civil en la Universidad Nacional de Colombia, su Maestría en Ingeniería Civil en el Área de Recursos Hidráulicos, en la Universidad de los Andes, y su Doctorado en Ingeniería el Área de Modelación Hidrodinámica Costera, en un programa conjunto entre el Posgrado de Recursos Hidráulicos de la Universidad Nacional de Colombia y el Coastal Research Laboratory “CORELAB” de la Universidad Christian Albrechts de Kiel, Alemania.  Su experiencia investigativa se orienta al estudio de fenómenos ambientales a través de la modelación numérica, específicamente en modelos hidrodinámicos para simulación de patrones de flujo en ríos o zonas costeras, la modelación atmosférica y la modelación de la calidad del agua y del aire. El profesor Palacio colaborará en la adquisición, el análisis y el estudio de los datos que se obtendrán durante el proyecto.\n",
    "\n",
    "Carlos Eduardo Gutierrez, Es Ingeniero Civil de la universidad EAFIT, con una especialización en Mecánica de Suelos de la misma institución y en la actualidad se desempeña como docente ocasional de la escuela ambiental en la sede de Ciencias del mar donde desarrolla temas relacionados con los sistemas de información geográfica, la topografía y la hidrografía. El profesor Gutiérrez colaborará en la adquisición, el análisis y el estudio de los datos que se obtendrán durante el proyecto.\n",
    "\n",
    "Alexander Valencia, es Matemático de la Universidad de Antioquía. Realizó su maestría en la Universidad Nacional de Colombia, Sede Medellín, en la Escuela de Matemáticas en el área de ecuaciones diferenciales. Obtuvo su título de doctor en el Instituto de Matemática y Estadística de la Universidad de Sao Paulo - Brasil. Su área de investigación es la teoría de la probabilidad, y especialmente los grafos aleatorios y las ecuaciones diferenciales estocásticas. Actualmente es Profesor asociado del Instituto de Matemáticas de la Universidad de Antioquia. El profesor Valencia trabajará en el proyecto validando la consistencia matemática de los algoritmos computacionales y su enfoque probabilístico. \n",
    "\n",
    "Germán Chaparro Molano, es Físico de la U. Nacional de Colombia, MSc en Astronomía de la Universidad de Leiden y PhD en Astronomía de la Universidad de Groningen (Países Bajos). Tiene experiencia de 10 años como profesor universitario en Colombia y actualmente es profesor ocasional tiempo completo en el pregrado de Astronomía de la Universidad de Antioquia. Tiene experiencia investigativa en el campo de Machine Learning para climatología aplicada al estudio de sitios para Astronomía en Colombia. El profesor Chaparro apoyará el desarrollo e implementación de algoritmos de Machine Learning para el análisis de los datos utilizados en el proyecto. \n",
    "\n",
    "Leidy Bibiana De La Ossa, es economista de la universidad de Antioquia, Msc en Administración De Empresa - MBA y es estudiante de Doctorado en Administración Estratégica Empresarial. Tiene seis años de experiencia como docente universitario. Actualmente es profesora ocasional de tiempo completo del pregrado de Administración de Empresas y docente de cátedra en el pregrado de Ingeniería Agropecuaria en la seccional Bajo Cauca. Su área de investigación son las finanzas  empresariales, finanzas del clima, oportunidades y riesgos financieros asociados al cambio climático y valoración de energías alternativas.\n",
    "\n",
    "Marco Julio Cañas, es Licenciado en Matemáticas y Física de la Universidad de Antioquia, Magíster en Ciencias Matemáticas de la Universidad Nacional (Sede Medellín). Tiene 11 años de experiencia docente universitaria y actualmente es docente ocasional de tiempo completo en la Seccional Bajo Cauca de la Universidad de Antioquia para los programas de Ingeniería Agropecuaria y Tecnología en Saneamiento Ambiental. Mi área de investigación es en didáctica de la matemática para educación media y superior. \n",
    "\n",
    "Verónica María Muñoz, es Tecnóloga de Sistemas de la Universidad Antonio Nariño, Administradora de Empresas y Magister en Enseñanza de las Matemáticas de la Universidad de Antioquia. Es la administradora de la Seccional Occidente de la UdeA y docente de Cátedra en áreas de matemáticas, razonamiento lógico, estadística, informática básica y ha desarrollado el programa de tutorías estudiantiles en la misma Seccional desde hace 10 años. Ha estado vinculada como investigadora en el grupo interdisciplinario de investigación  y acción educativa - Guíate- de la Seccional Occidente, donde ha realizado publicaciones en revista y capítulo de libro.\n",
    "\n",
    "Daniel Arbeláez Cardona, es Astrónomo de la Universidad de Antioquia. Realizó su maestría en la misma Universidad, en el Instituto de Física, estudiando la fracción de la nubosidad en el territorio nacional. Durante el estudio se usaron imágenes de la estación ubicada en la sede Carmen de Viboral, las cuales fueron comparadas con imágenes del satélite GOES-16. Todo el estudio y análisis de las imágenes se realizó con programas escritos para este fin. Las herramientas desarrolladas para este estudio son la base para el proyecto que se presenta acá. Los resultados fueron de gran importancia para insumos en Astronomía, las técnicas de sensoramiento remoto y ciencia de datos (Arbeláez-Cardona et al. (2019). \n",
    "\n",
    "Pablo Cuartas Restrepo, es Ingeniero Mecánico, MSc en Astronomía y Doctor en Física. Profesor Asociado de la Universidad e investigador en el área de las ciencias planetarias. Es, junto con el profesor Silva, uno de los coordinadores del proyecto Observatorio del Cielo Universidad de Antioquia. Asesoró el trabajo de maestría del estudiante Julián Galvez, en el cual se desarrolló el sistema de control remoto y de toma de datos de las estaciones de monitoreo. El profesor Cuartas trabajará en la coordinación conjunta del proyecto como co-investigador, además de ayudar en los diferentes procesos relacionados con la investigación, los análisis e interpretación de los datos.\n",
    "\n",
    "Esteban Silva-Villa, es Astrofísico graduado de la Universidad de Utrecht (Holanda) con grado de Doctor. Realizó trabajos posdoctorales en la Universidad Laval (Canadá). Actualmente es el Coordinador del pregrado de Astronomía de la Universidad de Antioquia y uno de los investigadores principales en el proyecto Observatorio del Cielo Universidad de Antioquia, el cual hace parte del Plan de Acción 2018-2021 de la Facultad de Ciencias Exactas y Naturales. Dicho proyecto espera contar con una red de estaciones de monitoreo como las propuestas en este proyecto. La información recolectada por dichas estaciones será recolectada y almacenada en el Centro Unificado de Control, ubicado en el Instituto de Física. Como director de Tesis de Maestría de Daniel Arbeláez Cardona, ha trabajado en el estudio de las imágenes en tierra y satelitales desarrolladas para obtener los resultados. Como investigador principal de esta propuesta, estará encargado de las actividades principales y liderará el trabajo.\n",
    "\n",
    "5.\tObjetivo General\n",
    "\n",
    "Monitorear el cielo del Departamento de Antioquia desde las Sedes y Seccionales Regionales de la Universidad de Antioquia para la adquisición y uso de datos sobre las variables atmosféricas y del cielo.\n",
    "\n",
    "Los objetivos específicos del proyecto son:\n",
    "\n",
    "a.\tInstalar estaciones de monitoreo del cielo en tres (3) sedes de la Universidad de Antioquia.\n",
    "b.\tRecopilar datos que permitan comprender el comportamiento de las variables meteorológicas tales como temperatura, precipitación, radiación y dirección del viento sobre el Departamento.\n",
    "c.\tComparar las medidas registradas por las estaciones de monitoreo con imágenes satelitales.\n",
    "d.\tGenerar un conjunto de herramientas que permitan el monitoreo continuo de dichas variables.\n",
    "e.\tAcercar a las comunidades de las sedes de la Universidad a procesos de ciencia relacionados con los cielos de su región.\n",
    "f.\tFormar tres (3) estudiantes de pregrado de las sedes de la Universidad vinculadas al proyecto.\n",
    "g.\tConstruir un conjunto de charlas divulgativas para que el conocimiento producido sea llevado a las comunidades.\n",
    "h.\tConstruir una página pública para el acceso y visualización de los datos en tiempo real.\n",
    "\n",
    "\n",
    "6.\tMetodología\n",
    "\n",
    "Este proyecto se enfocará en las 4 líneas vitales mencionadas en la sección 2 de esta propuesta: Ciencias de la Atmósfera, Ciencia de Datos, Astronomía y Apropiación Social del Conocimiento.\n",
    "\n",
    "a. Ciencias de la Atmósfera\n",
    "El estudio del comportamiento atmosférico que desarrollaremos en este proyecto se realizará a través de la recolección sistemática y homogénea de datos sobre las variables climatológicas: Temperatura, Radiación en Superficie, Dirección y Magnitud del Viento y precipitación. \n",
    "\n",
    "Para la obtención de los datos se instalarán estaciones Davis Vantage Pro 2 y cámaras Allsky en tres (3) de las Seccionales de la Universidad de Antioquia, a saber: Urabá, Occidente y Bajo Cauca. Se eligieron estas tres sedes ya que al tener una estación ubicada y activa en la seccional Oriente, más los instrumentos en las seccionales/sedes Andes, Norte - Yarumal y Magdalena Medio, estas tres nuevas estaciones estarían monitoreando aproximadamente el 90% del territorio departamental. \n",
    "\n",
    "Por otro lado, aunque las seccionales Urabá, Bajo Cauca, Magdalena Medio y Occidente se encuentran a una baja altura respecto al nivel del mar, estas regiones presentan una orografía bastante diferente, lo cual es de gran utilidad a la hora de entender cómo nuestras variables climatológicas están siendo afectadas por diferentes accidentes geográficos. Para complementar los estudios a alturas medias sobre el nivel del mar, se cuenta con las estaciones meteorológicas en las seccionales/sedes Oriente, Sonsón, Norte - Yarumal y Andes.\n",
    "\n",
    "Los instrumentos de medida principales para las estaciones son: una estación meteorológica Davis Vantage Pro 2 Plus , una Cámara All Sky  y un computador raspberry pi . Éste último actuará como computador de control, almacenamiento temporal de los datos tomados y centro de transmisión de datos hacia la sede Ciudad Universitaria.\n",
    "\n",
    "Para corroborar y dar validez a nuestros datos, se usarán imágenes del satélite GOES-16, las cuales son de acceso público. Para las variables de interés que se usarán en tierra, se tomarán los datos del satélite para el nivel de ciencia (L2) de su instrumento ABI. Se usarán específicamente los resultados LST, DSR y RRQPE, los cuales miden temperatura en la superficie, radiación del sol en la superficie y precipitación, respectivamente. \n",
    "\n",
    "Las herramientas para analizar las variables ECVs de nuestro interés ya han sido puestas a prueba a través de estudios que culminaron en dos tesis de maestría de la Universidad de Antioquia en el año 2018/2019. \n",
    "\n",
    "Una vez hayamos terminado la comparación de los resultados, pasaremos a comparar éstos con modelos atmosféricos numéricos producidos por la Escuela Ambiental de la Universidad de Antioquia. Dichos modelos se generan y están disponibles de manera permanente en el sitio web, https://atmosudea.wordpress.com/wrf-4km/, y el protocolo para guardar y validar su información ya se ha adelantado a través de varias tesis de grado en la Facultad de Ingeniería.\n",
    "\n",
    "Un ejemplo específico de los datos obtenidos en una estación se presenta en la Figura 3. La figura muestra los datos de temperatura, presión y radiación solar tomados en la sede del Carmen de Viboral de la Universidad de Antioquia. La calidad de los datos permitió que se realizará una tesis de maestría en la Universidad.\n",
    "\n",
    "\n",
    " \n",
    "Figura 3. Datos de las variables Temperatura (rojo), Presión (azul) y Radiación Solar (verde) para el día 12 de Septiembre de 2019 medidos en la sede Carmen de Viboral de la Universidad de Antioquia.\n",
    "\n",
    "\n",
    "b. Ciencias de Datos\n",
    "La cantidad de datos que produce una estación meteorológica, aunque en espacio de disco duro no parece ser mucha, se mide con una resolución temporal de minutos. Esto quiere decir que en un día de toma de datos, una estación tiene 1440 valores para cada variable climatológica, (i.e. para 4 variables tendríamos un total de 5760 medidas). Este proyecto tendría una duración en principio de 18 meses, durante los cuales tomaremos datos durante 12 meses. Así, se espera recolectar un número total de 2.102.400 datos por estación (i.e. más de 14 millones de datos entre todas las estaciones sin contar imágenes), por lo que se requerirá para su estudio y análisis de un proceso que involucra las nuevas técnicas de Ciencia de Datos, Machine Learning e Inteligencia Artificial.\n",
    "\n",
    "La gran cantidad de datos, y sus respectivas comparaciones con los modelos teóricos que se implementen, serían insumos de gran valor para las técnicas de Ciencia de Datos. Los estudios, y posterior análisis, ayudarían a realizar una caracterización estadística que permitiría comenzar a producir predicciones a corto plazo (~1 día) dado el comportamiento observado y modelado de las variables que se desea estudiar.\n",
    "\n",
    "Las posibilidades que se abren con el conjunto de datos obtenidos y las herramientas para su análisis son de gran interés para diferentes áreas del conocimiento, como las ingenierías, ciencias agrícolas y las ciencias exactas. Además, permite que se genere la posibilidad de involucrar estudiantes en los proyectos, permitiendo una interdisciplinariedad al interior de la Universidad.\n",
    "\n",
    "La Universidad cuenta con los equipos necesarios para realizar estudios de las magnitudes propuestas, y el personal científico calificado para realizarlas.\n",
    "\n",
    "Un ejemplo específico de los datos obtenidos se presenta en la Figura 4. La figura muestra los datos de temperatura tomados en la sede del Carmen de Viboral de la Universidad de Antioquia durante el año 2019. La calidad de los datos permitió que se realizará una tesis de maestría.\n",
    "\n",
    " \n",
    "Figura 4. Datos de la variable Temperatura medidos en la sede Carmen de Viboral de la Universidad de Antioquia durante el año 2019. \n",
    "\n",
    "Para complementar los datos obtenidos desde tierra se esperan realizar dos (2) comparaciones de gran impacto. La primera de las comparaciones es con los datos del satélite GOES-16, el cual monitorea la Tierra a través de un amplio conjunto de instrumentos y en diferentes longitudes de onda. La segunda comparación se realizará con los modelos teóricos que se han venido desarrollando en la Escuela Ambiental, de la Facultad de Ingeniería. El conjunto de datos (tierra, satélite, modelos) es el primero que se realiza a nivel departamental, y presenta las primeras herramientas para un estudio de esta magnitud en el país. Esto implica que es un trabajo novedoso y sin precedentes, que además genera interdisciplinariedad al interior de la Universidad.\n",
    "\n",
    "Una vez terminadas las comparaciones, la combinación entre parámetros en tierra, satélite y modelos teóricos, se espera alcanzar niveles que puedan dar pronósticos a un lapso de tiempo no mayor a dos días para las variables de interés. Esto será de gran importancia para la predicción de riesgos por eventos meteorológicos en el Departamento. \n",
    "\n",
    "c. Astronomía\n",
    "Desde el punto de vista de la Astronomía, el conocimiento de la cantidad de noches despejadas al año en algún sitio particular, permitiría que se ubiquen observatorios astronómicos y la realización de proyecto de observación en longitudes de onda del rango visible. Sin embargo, la Universidad no cuenta a la fecha con un observatorio astronómico propio, y ésta sería la posibilidad de realizar los primeros estudios que permitirían la identificación de dicho lugar para su construcción. \n",
    "\n",
    "Trabajos realizados por profesores de la Universidad de Antioquia (Zuluaga et al. 2013, 2019) han usado la información sobre las trayectorias de objetos que ingresan en la atmósfera de la Tierra para reconstruir la trayectoria recorrida por éstos en el espacio, y así saber de donde provienen. Haciendo uso de las siete estaciones con las que contaría la Universidad, se realizaría un monitoreo constante de los cielos en el departamento de Antioquia, con el fin de buscar la cantidad y dirección de los objetos que entran a través de la atmósfera sobre el territorio.\n",
    "\n",
    "La operabilidad de un observatorio está directamente relacionada con las condiciones meteorológicas del sitio donde se encuentra ubicado. Así, los trabajos realizados por las áreas de Ciencias de la Atmósfera y Ciencia de Datos se conectan directamente con la Astronomía, creando así un trabajo interdisciplinario al interior de la Universidad. Esto será de gran beneficio para los estudiantes y profesionales de la Universidad, y permitiría la formación de estudiantes a través de trabajos de grado.\n",
    "\n",
    "Para el desarrollo del proyecto se espera vincular a tres (3) estudiantes de pregrado que se encuentren en las sedes donde se instalarán las estaciones, haciendo que sean éstos los se aproximen a la investigación a través de la adquisición de sus propios datos.\n",
    "\n",
    "Finalmente, una vez terminado el proyecto, se espera tener las herramientas necesarias completamente automatizadas para continuar con la toma, análisis y producción de datos científicos de manera constante en el tiempo. Dichos datos serán de acceso público a través de una página instalada en un servidor de la Universidad, controlado desde el Instituto de Física. Para realizar el monitoreo y control se está construyendo paralelamente a este proyecto, y como parte del Plan de Acción 2018-2021 de la Facultad de Ciencias Exactas y Naturales, un Laboratorio Unificado de Control Astronómico (LUCA). LUCA estará encargado de administrar las observaciones del cielo (con este proyecto y telescopios remotos) en el departamento de Antioquia.\n",
    "\n",
    "d. Apropiación Social de Conocimiento\n",
    "Uno de los componentes fundamentales del proyecto está relacionado con las comunidades de cada una de las sedes regionales. El proyecto que se presenta en esta propuesta tiene como objetivo entregar todos los datos obtenidos a través de charlas públicas en cada una de las comunidades e incentivar a los estudiantes de los colegios/escuelas a que construyan proyectos de ciencia y tecnología usando los datos de sus regiones. Además, en la actualidad se cuentan con un total de 6 clubes de Astronomía en las regiones: Oriente Club: CAOS, Yarumal Club: Antares, Puerto Berrío Club: Eridanus, Andes Club: Cielos del sur, Amalfi Club: Andrómeda y Sonsón Club: CASS.\n",
    "El proyecto Antioquia Mira su Cielo espera impactar desde el área de Astronomía a las escuelas/colegios de cada región a través de charlas públicas y acompañamiento permanente a los diferentes clubes ya establecidos, y con la creación de clubes nuevos en las sedes a las cuales se apunta con este proyecto.\n",
    "Un tema fundamental a nivel mundial está relacionado con el Cambio Climático. Gracias a los datos que se comenzarán a recoger, más el alto número de datos de archivo a los que se puede tener acceso, este proyecto puede desarrollar actividades de divulgación donde se presente a la comunidad cómo pueden ser afectados por los diferentes fenómenos que nos afectan debidos al cambio climático que está sufriendo a nivel mundial. El fin último es generar conciencia de cómo este cambio nos puede afectar directa e indirectamente si no se hace nada al respecto.\n",
    "Para las comunidades no necesariamente académicas, el estudio de las diferentes ECVs permitiría que diferentes sectores, tanto de la empresa privada como de la pública, puedan comenzar a hacer uso de los datos para analizar las posibles soluciones relacionadas con energías renovables en cada una de las sedes regionales.\n",
    "\n",
    "\n",
    "7.\tImpactos y resultados esperados\n",
    "\n",
    "a.\tImpactos\n",
    "\n",
    "-\tSe espera llegar a tres seccionales de la Universidad y ofrecer datos propios para docencia (tanto práctica como para tesis de pregrado), investigación y extensión.\n",
    "-\tSe espera llegar a escuelas y colegios de los municipios involucrados en el proyecto, a través de actividades de divulgación y apropiación social del conocimiento tales como jornadas de observación del cielo,  charlas y conferencias mostrando los resultados obtenidos, e incentivando así la participación de los estudiantes jóvenes en la conformación de clubes de ciencias en sus regiones para que inicien su acercamiento a la investigación científica.\n",
    "-\tSe quiere estimular el pensamiento crítico a través de la apropiación social del conocimiento sobre el comportamiento de los cielos que observan día a día los habitantes de la región.\n",
    "-\tSe espera generar una conciencia en la comunidad sobre temas estratégicos como el Cambio Climático, acercándose desde la toma de datos propios en cada una de las sedes regionales de la Universidad de Antioquia.\n",
    "-\tSe espera obtener resultados que puedan ser usados para los estudios de energías renovables, tanto hídricas, eólicas como solares.\n",
    "\n",
    "b.\tResultados\n",
    "\n",
    "-\tAnálisis del ciclo diurno\n",
    "A partir de la información medida, se espera realizar una caracterización y cuantificación de las variables ECVs temperatura, irradiancia, dirección y magnitud del viento y precipitación. Estas medidas permitirán recopilar información valiosa para el entendimiento y predictibilidad de  las condiciones atmosféricas del departamento. Además, el estudio de diferentes modelos meteorológicos se verá beneficiado por las medidas acá realizadas, sirviendo éstas como insumo de entrada. Se determinarán así los rangos de aumento o disminución en los valores de las variables, horas típicas de valores picos máximos y mínimos, y tendencias generales a lo largo del día.\n",
    "\n",
    "-\tEstacionalidad del ciclo diurno\n",
    "Se determinará cómo cambia el ciclo diurno de las variables a lo largo del año, es decir la estacionalidad o ciclo anual de las variables estudiadas. Esta caracterización es importante porque permitirá determinar épocas de mayor/menor nubosidad, precipitación, temperatura promedio en el año y por lo tanto programar períodos donde la observación astronómica pueda realizarse bajo buenas condiciones de la atmósfera. Además, ayudará a entender los cambios que se dan en el comportamiento global del sistema, i.e. el calentamiento global desde la región. Así mismo, los ciclos de lluvia ayudaría a tomar medidas preventivas con suficiente antelación, siendo los resultados un posible insumo para los sistemas de alerta y prevención de desastres, además de ser una herramienta fundamental para validar información satelital.\n",
    "\n",
    "-\tAnálisis de las condiciones de nubosidad\n",
    "El seguimiento constante de la información proporcionada por las estaciones posibilitará realizar una caracterización tanto a lo largo del día como del año, acerca de las condiciones típicas de máxima y mínima nubosidad. Esta información será complementada y/o contrastada con imágenes del satélite GOES, el cual permite el uso de sus instrumentos para hacer una estimación de la nubosidad de un sitio específico.\n",
    "\n",
    "-\tArtículo de divulgación científica.\n",
    "La calidad de los datos, y la situación geográfica, más las comparaciones con satélite y modelos permitirán que se presente un trabajo escrito que pueda ser enviado a una revista de alto impacto para su publicación.\n",
    "\n",
    "-\tActividades de Extensión.\n",
    "Como este proyecto estará haciendo una observación constante y sistemática del cielo, permitirá que las observaciones sean presentadas en múltiples formas. Haciendo uso de los datos recolectados, se desarrollarán charlas divulgativas para escuelas/colegios de las regiones, donde el fin es involucrar a los estudiantes en las dinámicas del cielo de sus regiones.\n",
    "\n",
    "Parte de las actividades de extensión ligadas al proyecto es la conformación de clubes de astronomía. A la fecha existen en las regiones vinculadas a este proyecto varios grupos de trabajo conformados por la comunidad que desarrollan actividades de extensión en astronomía y ciencias. Los clubes de astronomía conformados por profesores, estudiantes y público en general jugarán un papel fundamental en las actividades de divulgación y apropiación social del conocimiento que se desprendan del proyecto de monitoreo del cielo, e incentivarán el acercamiento del público a la ciencia desarrollada en las sedes de la universidad.  A la fecha se han conformado seis (6) clubes de astronomía: \n",
    "\n",
    "●\tOriente, Club: CAOS\n",
    "●\tYarumal, Club: Antares\n",
    "●\tPuerto Berrío, Club: Eridanus\n",
    "●\tAndes, Club: Cielos del sur\n",
    "●\tAmalfi, Club: Andrómeda\n",
    "●\tSonsón, Club: CASS\n",
    "\n",
    "-\tHerramientas para la presentación de los datos.\n",
    "Dada la cantidad de datos que se obtendrán durante el tiempo del proyecto (y proyectado a futuro) se espera crear un conjunto de herramientas (programas en lenguaje PYTHON y SQL) para el monitoreo de variables y almacenamiento de datos para diferentes estudios en una página web en un servidor de la Universidad, controlado y administrado desde el LUCA. Un ejemplo puede observarse en la página creada para la presentación de los datos del Carmen de Viboral: http://54.90.34.55:8501/\n",
    "\t \t \t\n",
    "Los instrumentos principales que se usarían para lograr los objetivos de este proyecto se presentan en la Tabla 1.\n",
    "\n",
    "\n",
    "\n",
    "\n",
    "Tabla 1. Instrumentos principales para adquisición de datos\n",
    "Instrumento\tObjetivo\n",
    "\n",
    "\n",
    "\n",
    "\n",
    "Cámara de cielo (All Sky) \t¿Qué tan oscuro es el cielo? ¿Qué tan nublado es el cielo? ¿Cuánta radiación llega desde el Sol? Estos instrumentos proporcionarán información respecto a los objetos en el cielo que se podrán observar y la cantidad de días/noches despejadas. Además, ayudarán a determinar la variación de la radiación que llega a la superficie.\t\n",
    "\n",
    "Estaciones meteorológicas Davis Vantage Pro 2\n",
    "\t\t\t¿Variables meteorológicas? Estos \n",
    "instrumentos medirán diferentes \n",
    "variables climatológicas \n",
    "relacionadas con el sitio de \n",
    "observación. \t\n",
    "Raspberry Pi\tPara el control, almacenamiento y \n",
    "conectividad de los instrumentos se \n",
    "necesita de un equipo que haga las \n",
    "veces de centro de mando.\n",
    "\n",
    "\n",
    "8.\tConsideraciones éticas\n",
    "No aplica para este proyecto.\n",
    "\n",
    "\n",
    "9.\tFunciones de los investigadores y estudiantes\n",
    "\n",
    "Esta propuesta, al tener diferentes áreas del conocimiento en las cuales se realizará investigación y los programas de extensión asociados al proyecto, requiere de un equipo de trabajo y capital humano de al menos 9 personas.\n",
    "\n",
    "Dado que estaremos trabajando con datos tomados desde tierra y datos satelitales, el equipo de trabajo tiene investigadores que han realizado trabajos de este tipo de estudios (Vladimir Toro, Alejandro Martínez, Daniel Arbeláez, Carlos Palacio, Pablo Cuartas Restrepo, Germán Chaparro, Esteban Silva Villa). Los investigadores tienen la experiencia necesaria para el logro satisfactorio de los objetivos propuestos.\n",
    " \n",
    "Por otro lado, se vincularán al proyecto profesores de cada una de las regiones, dado que el proyecto estará presente en un total de tres de las sedes, además de las otras sedes donde ya vienen tomándose datos desde hace algún tiempo. Se espera vincular a tres (3) estudiantes de pregrado que desarrollen sus trabajos de grado haciendo uso de los datos. \n",
    "\n",
    "Con excepción de los estudiantes y los nuevos profesores vinculados, todos los miembros del equipo han tenido algún contacto con los datos que se trabajarán en este proyecto, desde el punto de vista de adquisición y análisis de los mismos.\n",
    "\n",
    "Las funciones del estudiante que se formará como parte de este proyecto son:\n",
    "\n",
    "a.\tEstudiar las posibles correlaciones de alguno de los diferentes parámetros medidos por las estaciones de monitoreo que permitan comprender el comportamiento del cielo sobre el territorio departamental y compararlas con las imágenes satelitales.\n",
    "b.\tConstruir un programa que permita el monitoreo continuo una vez termine el proyecto para la variable que sea estudiada.\n",
    "\n",
    "Las funciones de los participantes las resumimos en la Tabla 2 a continuación:\n",
    "\t\n",
    "\tTabla 2. Funciones de los participantes.\n",
    "\n",
    "Nombre\tContrato\tSede\tRol\tFunciones\tHoras dedicación\n",
    "Esteban Silva Villa\tPlanta tiempo completo\tCiudad Universitaria\tInvestigador Principal\tCoordinar las actividades del proyecto y ayudar en los diferentes procesos relacionados con la investigación, principalmente los análisis y comparación entre registros de estaciones y satelitales y asesoría de estudiantes\n",
    "\t\n",
    "10\n",
    "John Alejandro Martínez\tOcasional tiempo\n",
    "completo\tCiudad Universitaria\tCo-Investigador\tAsesorar las diferentes actividades de investigación. Generar modelos teóricos para ser comparados con las observaciones.\n",
    "Asesorar los análisis que se generen alrededor de la variabilidad climática en la región\t\n",
    "3\n",
    "Carlos Palacio\tPlanta tiempo completo\tCiudad Universitaria\tCo-Investigador\tAyudar en la adquisición, el análisis y el estudio de los datos que se obtendrán durante el proyecto\t\n",
    "3\n",
    "Daniel Arbeláez\tCátedra\tCiudad Universitaria\tCo-Investigador\tAyudar en la adquisición, el análisis y el estudio de los datos que se obtendrán durante el proyecto\t\n",
    "1\n",
    "Germán Chaparro\tOcasional tiempo completo\tCiudad Universitaria\tCo-Investigador\tAyudar en la adquisición, el análisis y el estudio de los datos que se obtendrán durante el proyecto\t4\n",
    "Pablo Cuartas Restrepo\tPlanta tiempo completo\tCiudad Universitaria\tCo-Investigador\tCoordinación conjunta del proyecto. Ayudar en los diferentes procesos relacionados con la investigación, los análisis e interpretación de los datos.\t\n",
    "5\n",
    "León Alexander Valencia\tPlanta tiempo completo\tCiudad Universitaria\tCo-Investigador\tAyudar en la adquisición, el análisis y el estudio de los datos que se obtendrán durante el proyecto\t4\n",
    "Verónica Muñoz\tCátedra\tSanta Fé de Antioquia\tCo-Investigadora\tSupervisar las tareas del estudiante de la sede Santa Fé de Antioquia y mantener constante envío de datos al LUCA\t\n",
    "1\n",
    "\n",
    "Leidy De La Ossa\tOcasional tiempo completo\tCaucasia\tCo-Investigadora\tSupervisar las tareas del estudiante de la sede Caucasia y mantener constante envìo de datos al LUCA\t\n",
    "5\n",
    "\n",
    "Marco Cañas\tOcasional tiempo completo\tCaucasia\tCo-Investigador\tSupervisar las tareas del estudiante de la sede Caucasia y mantener constante envìo de datos al LUCA\t\n",
    "6\n",
    "\n",
    "Carlos Gutierrez\tOcasional tiempo completo\tUrabá\tCo-Investigador\tSupervisar las tareas del estudiante de la sede Urabá y mantener constante envìo de datos al LUCA\t\n",
    "3\n",
    "\n",
    "Estudiante 1\t\tCaucasia\tEstudiante en formación\tEstudiar las medidas de temperatura en superficie obtenidas por las estaciones y compararlas con las imágenes satelitales.\n",
    "Generar un programa que permita el monitoreo continuo de este parámetro una vez termine el proyecto\t\n",
    "\n",
    "\n",
    "\n",
    "\n",
    "\n",
    "\n",
    "3\n",
    "Estudiante 2\t\tSanta Fé de Antioquia\tEstudiante en formación\tEstudiar las medidas de agua precipitable en superficie obtenidas por las estaciones y compararlas con las imágenes satelitales.\n",
    "Generar un programa que permita el monitoreo continuo de este parámetro una vez termine el proyecto\t\n",
    "\n",
    "\n",
    "\n",
    "\n",
    "\n",
    "\n",
    "3\n",
    "\n",
    "Estudiante 3\t\tUrabá\tEstudiante en formación\tEstudiar las medidas de agua precipitable en superficie obtenidas por las estaciones y compararlas con las imágenes satelitales.\n",
    "Generar un programa que permita el monitoreo continuo de este parámetro una vez termine el proyecto\t\n",
    "\n",
    "\n",
    "\n",
    "\n",
    "\n",
    "\n",
    "3\n",
    "\n",
    "\n",
    "\n",
    "\t\n",
    "10.\tBibliografía\n",
    "\n",
    "●\tArbeláez-Cardona, D., et al. \"Estimating the number of clear sky nights using GOES-16 images: a search for astronomical sites in Colombia.\" International Journal of Remote Sensing 41.14 (2020): 5103-5126. https://doi.org/10.1080/01431161.2020.1727051\n",
    "●\tArias, P.A., J.A. Martínez, y S.C. Vieira.  Moisture sources to the 2010-2012 anomalous wet season in northern South America. Climate Dynamics. DOI: 10.1007/s00382-015-2511-7 \n",
    "●\tEspinosa, D., 2019. Estado de la atmósfera asociado al evento de precipitación extrema de mesoescala en Mocoa 2017: diagnóstico con análisis atmosféricos y experimentos con el modelo WRF. Trabajo de Grado Ingeniería Ambiental. Escuela Ambiental. Universidad de Antioquia.\n",
    "●\tMesa, O., G. Poveda, y L.F. Carvajal, 1997. Introducción al Clima de Colombia. Universidad Nacional de Colombia. 390 páginas.\n",
    "●\tPoveda, G., Mesa, O. J., Salazar, L. F., Arias, P. A., Moreno, H. A., Vieira, S. C., ... & Alvarez, J. F. (2005). The diurnal cycle of precipitation in the tropical Andes of Colombia. Monthly Weather Review, 133(1), 228-240.\n",
    "●\tOrtega, G. TRANSPORTE DE MASAS ATMOSFÉRICAS DURANTE LA AVENIDA TORRENCIAL OCURRIDA EL 18 DE MAYO DE 2015 EN EL MUNICIPIO DE SALGAR - ANTIOQUIA. Trabajo de Grado Ingeniería Ambiental. Escuela Ambiental. Universidad de Antioquia.\n",
    "●\tUrrego, J. 2019. ESTIMATES OF GLOBAL HORIZONTAL IRRADIANCE IN MEDELLÍN-COLOMBIA USING A STOCHASTIC MODEL AND A NUMERICAL WEATHER PREDICTION MODEL. Tesis de Maestría en Ingeniería. Facultad de Ingeniería. Universidad de Antioquia.\n",
    "●\tVásquez, D. 2019. Procesamiento de datos meteorológicos del IDEAM con Python y validación de datos del reanálisis ERA5. Trabajo de Grado Ingeniería Ambiental. Escuela Ambiental. Universidad de Antioquia. \n",
    "\n",
    "\n",
    "11.\tPresupuesto\n",
    "\n",
    "A continuación, presentamos en la Tabla 3 el presupuesto para la propuesta del proyecto presentado:\n",
    "\n",
    "Tabla 3. Presupuesto de la propuesta\n",
    "\n",
    "Rubro\tUnidad\tCosto Unitario\tCosto Total\tTiempo\n",
    "Estación meteorológica\t3\t12’800.000\t38’400.000\t\n",
    "Administración\t1\t2’250.000\t2’250.000\t18 meses\n",
    "Personal\n",
    "(Prof. Cátedra)\t2\t30.208\t4’349.952\t18 meses\n",
    "(1 hora a la semana) \n",
    "Total\t44’999.952\n",
    "\n",
    "\n",
    "12.\tCronograma\n",
    "\n",
    "A continuación, en la Tabla 4 presentamos el cronograma de las actividades a desarrollar durante el proyecto.\n",
    "\n",
    "Tabla 4. Cronograma de actividades para el proyecto\n",
    "\n",
    "Actividad\tSemestre 1\tSemestre 2\tSemestre 3\n",
    "Meses\t1-2\t3-4\t5-6\t1-2\t3-4\t5-6\t1-2\t3-4\t5-6\n",
    "Compra/instalación equipos\t\t\t\t\t\t\t\t\t\n",
    "Toma de datos\t\t\t\t\t\t\t\t\t\n",
    "Análisis de datos\t\t\t\t\t\t\t\t\t\n",
    "Formación estudiante(s)\t\t\t\t\t\t\t\t\t\n",
    "Preparación publicaciones\t\t\t\t\t\t\t\t\t\n",
    "Entrega informe final\t\t\t\t\t\t\t\t\t\n",
    "\n",
    "\n",
    "ANEXOS\n",
    "\n",
    "1.\tCarta de presentación de la propuesta (Formato Anexo 1).\n",
    "2.\tCarta de aval del Comité Técnico del Centro de Investigación, o quien haga sus veces, que administrará el proyecto. (Formato Anexo 2).\n",
    "3.\tCarta de aval de la dedicación horaria de los participantes al proyecto, otorgada por el respectivo Consejo de Facultad, Escuela, Instituto o Corporación.\n",
    "4.\tCarta de apoyo de los profesores que trabajan en las sedes regionales."
   ]
  },
  {
   "cell_type": "code",
   "execution_count": null,
   "id": "75653444",
   "metadata": {
    "slideshow": {
     "slide_type": "slide"
    }
   },
   "outputs": [],
   "source": []
  },
  {
   "cell_type": "code",
   "execution_count": null,
   "id": "8d21a802",
   "metadata": {
    "slideshow": {
     "slide_type": "slide"
    }
   },
   "outputs": [],
   "source": []
  },
  {
   "cell_type": "code",
   "execution_count": null,
   "id": "27004de2",
   "metadata": {
    "slideshow": {
     "slide_type": "slide"
    }
   },
   "outputs": [],
   "source": []
  },
  {
   "cell_type": "code",
   "execution_count": null,
   "id": "4199b698",
   "metadata": {
    "slideshow": {
     "slide_type": "slide"
    }
   },
   "outputs": [],
   "source": []
  },
  {
   "cell_type": "code",
   "execution_count": null,
   "id": "27e0b5e0",
   "metadata": {
    "slideshow": {
     "slide_type": "slide"
    }
   },
   "outputs": [],
   "source": []
  },
  {
   "cell_type": "code",
   "execution_count": null,
   "id": "4d5c7f37",
   "metadata": {},
   "outputs": [],
   "source": []
  },
  {
   "cell_type": "code",
   "execution_count": null,
   "id": "e27f575d",
   "metadata": {},
   "outputs": [],
   "source": []
  }
 ],
 "metadata": {
  "celltoolbar": "Slideshow",
  "kernelspec": {
   "display_name": "Python 3 (ipykernel)",
   "language": "python",
   "name": "python3"
  },
  "language_info": {
   "codemirror_mode": {
    "name": "ipython",
    "version": 3
   },
   "file_extension": ".py",
   "mimetype": "text/x-python",
   "name": "python",
   "nbconvert_exporter": "python",
   "pygments_lexer": "ipython3",
   "version": "3.9.12"
  },
  "rise": {
   "scroll": true,
   "theme": "serif"
  }
 },
 "nbformat": 4,
 "nbformat_minor": 5
}
