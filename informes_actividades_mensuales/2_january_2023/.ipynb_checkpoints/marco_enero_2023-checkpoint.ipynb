{
 "cells": [
  {
   "cell_type": "code",
   "execution_count": null,
   "id": "f25bb8cf",
   "metadata": {},
   "outputs": [],
   "source": []
  },
  {
   "cell_type": "code",
   "execution_count": null,
   "id": "1f33714d",
   "metadata": {
    "slideshow": {
     "slide_type": "slide"
    }
   },
   "outputs": [],
   "source": []
  },
  {
   "cell_type": "markdown",
   "id": "c572555b",
   "metadata": {
    "slideshow": {
     "slide_type": "slide"
    }
   },
   "source": [
    "# Informe Marco "
   ]
  },
  {
   "cell_type": "code",
   "execution_count": null,
   "id": "f1d4c729",
   "metadata": {
    "slideshow": {
     "slide_type": "slide"
    }
   },
   "outputs": [],
   "source": []
  },
  {
   "cell_type": "markdown",
   "id": "9c6913e9",
   "metadata": {},
   "source": [
    "# Desarrollo pensamiento computacional "
   ]
  },
  {
   "cell_type": "markdown",
   "id": "370cfa8b",
   "metadata": {},
   "source": [
    "Parrafo "
   ]
  },
  {
   "cell_type": "markdown",
   "id": "7d165373",
   "metadata": {
    "slideshow": {
     "slide_type": "slide"
    }
   },
   "source": [
    "Mostraré como en mi experiencia docente el lenguaje python incentiva la competencia de resolver problemas construyendo modelos computacionales. "
   ]
  },
  {
   "cell_type": "markdown",
   "id": "6071f2fe",
   "metadata": {
    "slideshow": {
     "slide_type": "slide"
    }
   },
   "source": [
    "En este mes, me llamó mucho la atención como con la computación podemos resolver preblemas de protección de la comunicación, a lo que llaman criptografía. "
   ]
  },
  {
   "cell_type": "markdown",
   "id": "c0a7dc06",
   "metadata": {
    "slideshow": {
     "slide_type": "slide"
    }
   },
   "source": [
    "También me llamó la atención cómo podemos constituir un modelo de clasificación de plantas con una red neuronal. Y más aún su representación gráfica. "
   ]
  },
  {
   "cell_type": "markdown",
   "id": "14f5523f",
   "metadata": {
    "slideshow": {
     "slide_type": "slide"
    }
   },
   "source": [
    "Veamos el asunto de la protección de la confidencialidad de las comunicaciones: "
   ]
  },
  {
   "cell_type": "markdown",
   "id": "a49d2e37",
   "metadata": {
    "slideshow": {
     "slide_type": "slide"
    }
   },
   "source": [
    "## El método de sustitución simple"
   ]
  },
  {
   "cell_type": "code",
   "execution_count": null,
   "id": "3d43a85e",
   "metadata": {},
   "outputs": [],
   "source": []
  },
  {
   "cell_type": "markdown",
   "id": "94494dac",
   "metadata": {},
   "source": [
    "## Constituir un detector de setosa y representarlo a través de un diagrama de dispersión y una función lineal"
   ]
  },
  {
   "cell_type": "markdown",
   "id": "9297ffe0",
   "metadata": {
    "slideshow": {
     "slide_type": "slide"
    }
   },
   "source": [
    "## El perceptron como clasificador de datos linealmente separables"
   ]
  },
  {
   "cell_type": "markdown",
   "id": "1b618744",
   "metadata": {
    "slideshow": {
     "slide_type": "slide"
    }
   },
   "source": [
    "Empecemos conteztualizando en la situación problemática. "
   ]
  },
  {
   "cell_type": "markdown",
   "id": "d16874c8",
   "metadata": {
    "slideshow": {
     "slide_type": "slide"
    }
   },
   "source": [
    "Queremos tener un instrumento que nos permita saber cuando una flor de iris es setosa y cuando nó. "
   ]
  },
  {
   "cell_type": "code",
   "execution_count": null,
   "id": "24c96a3f",
   "metadata": {},
   "outputs": [],
   "source": []
  },
  {
   "cell_type": "code",
   "execution_count": null,
   "id": "45479bb7",
   "metadata": {},
   "outputs": [],
   "source": []
  },
  {
   "cell_type": "code",
   "execution_count": null,
   "id": "59b09f7c",
   "metadata": {},
   "outputs": [],
   "source": []
  },
  {
   "cell_type": "markdown",
   "id": "c47e4256",
   "metadata": {
    "slideshow": {
     "slide_type": "slide"
    }
   },
   "source": [
    "## Referentes  \n",
    "\n"
   ]
  },
  {
   "cell_type": "code",
   "execution_count": null,
   "id": "50d8fa08",
   "metadata": {},
   "outputs": [],
   "source": []
  }
 ],
 "metadata": {
  "celltoolbar": "Slideshow",
  "kernelspec": {
   "display_name": "Python 3 (ipykernel)",
   "language": "python",
   "name": "python3"
  },
  "language_info": {
   "codemirror_mode": {
    "name": "ipython",
    "version": 3
   },
   "file_extension": ".py",
   "mimetype": "text/x-python",
   "name": "python",
   "nbconvert_exporter": "python",
   "pygments_lexer": "ipython3",
   "version": "3.9.13"
  },
  "rise": {
   "enable_chalkboard": true,
   "theme": "sky"
  }
 },
 "nbformat": 4,
 "nbformat_minor": 5
}
