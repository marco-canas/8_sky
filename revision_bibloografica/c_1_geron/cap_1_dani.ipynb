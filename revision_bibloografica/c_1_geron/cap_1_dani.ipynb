{
 "cells": [
  {
   "cell_type": "markdown",
   "metadata": {},
   "source": [
    "# Capítulo 1\n",
    "# El panorama del aprendizaje automático\n",
    "\n",
    "Cuando la mayoría de la gente oye hablar de \"aprendizaje automático\", se imagina un robot: un mayordomo fiable o un Terminator mortal, según a quién se le pregunte. Pero el aprendizaje automático no es sólo una fantasía futurista; ya está aquí. De hecho, lleva décadas, existe desde hace décadas en algunas aplicaciones especializadas, como el reconocimiento óptico de caracteres (OCR).\n",
    "Pero la primera aplicación de ML que se convirtió en la corriente principal, mejorando la vida de cientos de millones de personas, se impuso en los años 90: el filtro de spam. No es exactamente un Skynet autoconsciente, pero sí se puede calificar técnicamente como Machine (de hecho, ha aprendido tan bien que rara vez es necesario marcar un correo electrónico como spam). Le siguieron cientos de aplicaciones de ML que ahora impulsan silenciosamente cientos de productos y funciones que usted utiliza habitualmente, desde mejores recomendaciones hasta la búsqueda por voz. ¿Dónde empieza y dónde acaba el aprendizaje automático?  ¿Qué significa exactamente que una máquina aprenda algo? Si descargo una copia de Wikipedia, ¿mi ordenador ha aprendido realmente algo? ¿Es que de repente es más inteligente? En este capítulo empezaremos por aclarar qué es el aprendizaje automático y por qué puede querer utilizarlo.\n",
    "A continuación, antes de explorar el continente del aprendizaje automático, vamos a el mapa y conoceremos las principales regiones y los hitos más notables: aprendizaje supervisado frente a no supervisado, aprendizaje en línea frente a aprendizaje por lotes, aprendizaje basado en instancias frente a aprendizaje basado en modelos. A continuación, el flujo de trabajo de un proyecto típico de ML, discutiremos los principales\n",
    "retos a los que puede enfrentarse y cómo evaluar y ajustar un sistema de aprendizaje automático.\n",
    "\n",
    "Este capítulo introduce un montón de conceptos fundamentales (y jerga) que todo científico de datos debería conocer de memoria. Será una visión general de alto nivel (es el único capítulo sin mucho código), todo bastante sencillo, pero debes asegurarte de que todo te queda muy claro antes de continuar con el resto del libro. Así que coge un café y ¡comencemos!\n",
    "\n"
   ]
  },
  {
   "cell_type": "markdown",
   "metadata": {},
   "source": [
    "## ¿ Qué es el aprendizaje automático?\n",
    "\n",
    "El aprendizaje automático es la ciencia (y el arte) de programar ordenadores para que\n",
    "para que puedan aprender de los datos. Esta es una definición un poco más general:\n",
    "\n",
    " *El aprendizaje automático es el campo de estudio que da a los ordenadores la capacidad de aprender sin ser programados explícitamente.*\n",
    "Arthur Samuel, 1959\n",
    "Y otra más orientada a la ingeniería:\n",
    "\n",
    " *Se  dice que un programa informático aprende de la experiencia E con respecto a alguna tarea T y alguna medida de rendimiento P, si su rendimiento en T, medido por P, mejora con la experiencia E.*\n",
    "\n",
    "Tom Mitchell, 1997\n",
    "\n",
    "Su filtro de spam es un programa de aprendizaje automático que, dado algunos ejemplos de correos electrónicos de spam (por ejemplo, marcados por los usuarios) y ejemplos de correos electrónicos normales (no spam, también llamado \"HAM\"), puede aprender a marcar el spam. Los ejemplos que el sistema utiliza para aprender se denominan conjunto de entrenamiento. \n"
   ]
  },
  {
   "cell_type": "markdown",
   "metadata": {},
   "source": [
    "Cada ejemplo de entrenamiento se denomina instancia (o muestra) de entrenamiento. En este caso, la tarea T es marcar el spam de los nuevos correos electrónicos, la experiencia E son los datos de entrenamiento, y la medida de rendimiento P; por ejemplo, se puede utilizar la proporción de correos electrónicos clasificados correctamente. Esta medida de rendimiento concreta se denomina exactitud, y se utiliza a menudo en las tareas de clasificación.\n",
    "\n",
    "Si sólo descargas una copia de Wikipedia, tu ordenador tiene muchos más datos, pero no es repentinamente mejor en ninguna tarea. Por lo tanto, descargar una copia de Wikipedia no es aprendizaje automático.\n"
   ]
  },
  {
   "cell_type": "markdown",
   "metadata": {},
   "source": [
    "## ¿Por qué utilizar el aprendizaje automático?\n",
    "\n",
    "Considere cómo escribiría un filtro de spam utilizando técnicas de programación tradicionales (figura 1-1):\n",
    "\n",
    "1. En primer lugar, considere el aspecto que suele tener el spam. Usted puede observar que algunas palabras o frases (como \"4U\", \"tarjeta de crédito\", \"gratis\" y \"increíble\") tienden a aparecer mucho en la línea de asunto. Tal vez también se dé cuenta de otros patrones en el nombre del remitente, el cuerpo del correo electrónico y otras partes de este.\n",
    "2. Escribirías un algoritmo de detección para cada uno de los patrones que haya observado, y su programa marcaría los correos electrónicos como spam si se detectan varios de estos patrones.\n",
    "3. Probaría su programa y repetiría los pasos 1 y 2 hasta que fuera lo suficientemente bueno como para lanzarlo.\n"
   ]
  },
  {
   "cell_type": "markdown",
   "metadata": {},
   "source": [
    "¡ [Figura 1.1](image.png)"
   ]
  }
 ],
 "metadata": {
  "language_info": {
   "name": "python"
  },
  "orig_nbformat": 4
 },
 "nbformat": 4,
 "nbformat_minor": 2
}
