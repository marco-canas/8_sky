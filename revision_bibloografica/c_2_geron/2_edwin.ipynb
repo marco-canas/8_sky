{
 "cells": [
  {
   "cell_type": "markdown",
   "id": "aa917d99",
   "metadata": {
    "slideshow": {
     "slide_type": "slide"
    }
   },
   "source": [
    "<table align=\"left\">\n",
    "  <td>\n",
    "    <a href=\"https://colab.research.google.com/github/marco-canas/cielo/blob/main/revision_bibloografica/c_2_geron/2_edwin.ipynb\" target=\"_parent\"><img src=\"https://colab.research.google.com/assets/colab-badge.svg\" alt=\"Open In Colab\"/></a>\n",
    "  </td>\n",
    "</table>\n"
   ]
  },
  {
   "cell_type": "markdown",
   "id": "75e20b69",
   "metadata": {
    "slideshow": {
     "slide_type": "slide"
    }
   },
   "source": [
    "## [Video de exposición de la lectura]()"
   ]
  },
  {
   "cell_type": "markdown",
   "id": "7563120c",
   "metadata": {
    "slideshow": {
     "slide_type": "slide"
    }
   },
   "source": [
    "# Informe de revisión bibliográfica \n",
    "\n",
    "Páginas 80 a 93 de Géron. "
   ]
  },
  {
   "cell_type": "markdown",
   "id": "a44443c6",
   "metadata": {
    "slideshow": {
     "slide_type": "slide"
    }
   },
   "source": [
    "# Obtener los datos\n"
   ]
  },
  {
   "cell_type": "markdown",
   "id": "a59535bc",
   "metadata": {
    "slideshow": {
     "slide_type": "slide"
    }
   },
   "source": [
    "En entornos típicos, sus datos estarían disponibles en una base de datos relacional (o algún otro almacén de datos común) y distribuidos en múltiples tablas/documentos/archivos."
   ]
  },
  {
   "cell_type": "markdown",
   "id": "33fb1ee1",
   "metadata": {
    "slideshow": {
     "slide_type": "slide"
    }
   },
   "source": [
    "Para acceder a él, primero deberá obtener sus credenciales y autorizaciones de acceso y familiarizarse con el esquema de datos."
   ]
  },
  {
   "cell_type": "markdown",
   "id": "9f75d28e",
   "metadata": {
    "slideshow": {
     "slide_type": "slide"
    }
   },
   "source": [
    "En este proyecto, sin embargo, las cosas son mucho más sencillas: simplemente descargará un único archivo de valores separados por comas (CSV), `vivienda.csv` que tiene todos los datos."
   ]
  },
  {
   "cell_type": "markdown",
   "id": "6b58b122",
   "metadata": {
    "slideshow": {
     "slide_type": "slide"
    }
   },
   "source": [
    "Puede usar su navegador web para descargar el archivo y ejecutar y extraer el archivo CSV, pero es preferible crear una pequeña función para hacerlo."
   ]
  },
  {
   "cell_type": "markdown",
   "id": "bc7537dd",
   "metadata": {},
   "source": [
    "Tener una función que descargue los datos es útil en particular si los datos cambian regularmente: puede escribir un pequeño script que use la función para obtener los datos más recientes (o puede configurar un trabajo programado para hacerlo automáticamente a intervalos regulares)."
   ]
  },
  {
   "cell_type": "markdown",
   "id": "8c6405c6",
   "metadata": {
    "slideshow": {
     "slide_type": "slide"
    }
   },
   "source": [
    "Automatizar el proceso de obtención de datos también es útil si necesita instalar el conjunto de datos en varias máquinas."
   ]
  },
  {
   "cell_type": "markdown",
   "id": "045e5f1f",
   "metadata": {
    "slideshow": {
     "slide_type": "slide"
    }
   },
   "source": [
    "Aquí está la función `obtener_datos()`: \n"
   ]
  },
  {
   "cell_type": "code",
   "execution_count": 1,
   "id": "00fd097e",
   "metadata": {
    "slideshow": {
     "slide_type": "slide"
    }
   },
   "outputs": [
    {
     "data": {
      "text/html": [
       "<div>\n",
       "<style scoped>\n",
       "    .dataframe tbody tr th:only-of-type {\n",
       "        vertical-align: middle;\n",
       "    }\n",
       "\n",
       "    .dataframe tbody tr th {\n",
       "        vertical-align: top;\n",
       "    }\n",
       "\n",
       "    .dataframe thead th {\n",
       "        text-align: right;\n",
       "    }\n",
       "</style>\n",
       "<table border=\"1\" class=\"dataframe\">\n",
       "  <thead>\n",
       "    <tr style=\"text-align: right;\">\n",
       "      <th></th>\n",
       "      <th>longitud</th>\n",
       "      <th>latitud</th>\n",
       "      <th>antiguedad</th>\n",
       "      <th>habitaciones</th>\n",
       "      <th>dormitorios</th>\n",
       "      <th>población</th>\n",
       "      <th>hogares</th>\n",
       "      <th>ingresos</th>\n",
       "      <th>proximidad</th>\n",
       "      <th>precio</th>\n",
       "    </tr>\n",
       "  </thead>\n",
       "  <tbody>\n",
       "    <tr>\n",
       "      <th>0</th>\n",
       "      <td>-122.23</td>\n",
       "      <td>37.88</td>\n",
       "      <td>41.0</td>\n",
       "      <td>880.0</td>\n",
       "      <td>129.0</td>\n",
       "      <td>322.0</td>\n",
       "      <td>126.0</td>\n",
       "      <td>8.3252</td>\n",
       "      <td>NEAR BAY</td>\n",
       "      <td>452600.0</td>\n",
       "    </tr>\n",
       "    <tr>\n",
       "      <th>1</th>\n",
       "      <td>-122.22</td>\n",
       "      <td>37.86</td>\n",
       "      <td>21.0</td>\n",
       "      <td>7099.0</td>\n",
       "      <td>1106.0</td>\n",
       "      <td>2401.0</td>\n",
       "      <td>1138.0</td>\n",
       "      <td>8.3014</td>\n",
       "      <td>NEAR BAY</td>\n",
       "      <td>358500.0</td>\n",
       "    </tr>\n",
       "    <tr>\n",
       "      <th>2</th>\n",
       "      <td>-122.24</td>\n",
       "      <td>37.85</td>\n",
       "      <td>52.0</td>\n",
       "      <td>1467.0</td>\n",
       "      <td>190.0</td>\n",
       "      <td>496.0</td>\n",
       "      <td>177.0</td>\n",
       "      <td>7.2574</td>\n",
       "      <td>NEAR BAY</td>\n",
       "      <td>352100.0</td>\n",
       "    </tr>\n",
       "    <tr>\n",
       "      <th>3</th>\n",
       "      <td>-122.25</td>\n",
       "      <td>37.85</td>\n",
       "      <td>52.0</td>\n",
       "      <td>1274.0</td>\n",
       "      <td>235.0</td>\n",
       "      <td>558.0</td>\n",
       "      <td>219.0</td>\n",
       "      <td>5.6431</td>\n",
       "      <td>NEAR BAY</td>\n",
       "      <td>341300.0</td>\n",
       "    </tr>\n",
       "    <tr>\n",
       "      <th>4</th>\n",
       "      <td>-122.25</td>\n",
       "      <td>37.85</td>\n",
       "      <td>52.0</td>\n",
       "      <td>1627.0</td>\n",
       "      <td>280.0</td>\n",
       "      <td>565.0</td>\n",
       "      <td>259.0</td>\n",
       "      <td>3.8462</td>\n",
       "      <td>NEAR BAY</td>\n",
       "      <td>342200.0</td>\n",
       "    </tr>\n",
       "    <tr>\n",
       "      <th>...</th>\n",
       "      <td>...</td>\n",
       "      <td>...</td>\n",
       "      <td>...</td>\n",
       "      <td>...</td>\n",
       "      <td>...</td>\n",
       "      <td>...</td>\n",
       "      <td>...</td>\n",
       "      <td>...</td>\n",
       "      <td>...</td>\n",
       "      <td>...</td>\n",
       "    </tr>\n",
       "    <tr>\n",
       "      <th>20635</th>\n",
       "      <td>-121.09</td>\n",
       "      <td>39.48</td>\n",
       "      <td>25.0</td>\n",
       "      <td>1665.0</td>\n",
       "      <td>374.0</td>\n",
       "      <td>845.0</td>\n",
       "      <td>330.0</td>\n",
       "      <td>1.5603</td>\n",
       "      <td>INLAND</td>\n",
       "      <td>78100.0</td>\n",
       "    </tr>\n",
       "    <tr>\n",
       "      <th>20636</th>\n",
       "      <td>-121.21</td>\n",
       "      <td>39.49</td>\n",
       "      <td>18.0</td>\n",
       "      <td>697.0</td>\n",
       "      <td>150.0</td>\n",
       "      <td>356.0</td>\n",
       "      <td>114.0</td>\n",
       "      <td>2.5568</td>\n",
       "      <td>INLAND</td>\n",
       "      <td>77100.0</td>\n",
       "    </tr>\n",
       "    <tr>\n",
       "      <th>20637</th>\n",
       "      <td>-121.22</td>\n",
       "      <td>39.43</td>\n",
       "      <td>17.0</td>\n",
       "      <td>2254.0</td>\n",
       "      <td>485.0</td>\n",
       "      <td>1007.0</td>\n",
       "      <td>433.0</td>\n",
       "      <td>1.7000</td>\n",
       "      <td>INLAND</td>\n",
       "      <td>92300.0</td>\n",
       "    </tr>\n",
       "    <tr>\n",
       "      <th>20638</th>\n",
       "      <td>-121.32</td>\n",
       "      <td>39.43</td>\n",
       "      <td>18.0</td>\n",
       "      <td>1860.0</td>\n",
       "      <td>409.0</td>\n",
       "      <td>741.0</td>\n",
       "      <td>349.0</td>\n",
       "      <td>1.8672</td>\n",
       "      <td>INLAND</td>\n",
       "      <td>84700.0</td>\n",
       "    </tr>\n",
       "    <tr>\n",
       "      <th>20639</th>\n",
       "      <td>-121.24</td>\n",
       "      <td>39.37</td>\n",
       "      <td>16.0</td>\n",
       "      <td>2785.0</td>\n",
       "      <td>616.0</td>\n",
       "      <td>1387.0</td>\n",
       "      <td>530.0</td>\n",
       "      <td>2.3886</td>\n",
       "      <td>INLAND</td>\n",
       "      <td>89400.0</td>\n",
       "    </tr>\n",
       "  </tbody>\n",
       "</table>\n",
       "<p>20640 rows × 10 columns</p>\n",
       "</div>"
      ],
      "text/plain": [
       "       longitud  latitud  antiguedad  habitaciones  dormitorios  población  \\\n",
       "0       -122.23    37.88        41.0         880.0        129.0      322.0   \n",
       "1       -122.22    37.86        21.0        7099.0       1106.0     2401.0   \n",
       "2       -122.24    37.85        52.0        1467.0        190.0      496.0   \n",
       "3       -122.25    37.85        52.0        1274.0        235.0      558.0   \n",
       "4       -122.25    37.85        52.0        1627.0        280.0      565.0   \n",
       "...         ...      ...         ...           ...          ...        ...   \n",
       "20635   -121.09    39.48        25.0        1665.0        374.0      845.0   \n",
       "20636   -121.21    39.49        18.0         697.0        150.0      356.0   \n",
       "20637   -121.22    39.43        17.0        2254.0        485.0     1007.0   \n",
       "20638   -121.32    39.43        18.0        1860.0        409.0      741.0   \n",
       "20639   -121.24    39.37        16.0        2785.0        616.0     1387.0   \n",
       "\n",
       "       hogares  ingresos proximidad    precio  \n",
       "0        126.0    8.3252   NEAR BAY  452600.0  \n",
       "1       1138.0    8.3014   NEAR BAY  358500.0  \n",
       "2        177.0    7.2574   NEAR BAY  352100.0  \n",
       "3        219.0    5.6431   NEAR BAY  341300.0  \n",
       "4        259.0    3.8462   NEAR BAY  342200.0  \n",
       "...        ...       ...        ...       ...  \n",
       "20635    330.0    1.5603     INLAND   78100.0  \n",
       "20636    114.0    2.5568     INLAND   77100.0  \n",
       "20637    433.0    1.7000     INLAND   92300.0  \n",
       "20638    349.0    1.8672     INLAND   84700.0  \n",
       "20639    530.0    2.3886     INLAND   89400.0  \n",
       "\n",
       "[20640 rows x 10 columns]"
      ]
     },
     "execution_count": 1,
     "metadata": {},
     "output_type": "execute_result"
    }
   ],
   "source": [
    "from regresion import obtener_datos\n",
    "vivienda = obtener_datos('https://raw.githubusercontent.com/marco-canas/didactica_ciencia_datos/main/datasets/vivienda/vivienda.csv')\n",
    "vivienda "
   ]
  },
  {
   "cell_type": "markdown",
   "id": "5521e9a6",
   "metadata": {
    "slideshow": {
     "slide_type": "slide"
    }
   },
   "source": [
    "Ahora, cuando llama a `obtener_datos()`, descarga el archivo `vivienda.csv` del repositorio DIMATHDATA (Didáctica de la ciencia de datos) y los convierte en un DataFrame de Pandas."
   ]
  },
  {
   "cell_type": "markdown",
   "id": "b912c56c",
   "metadata": {
    "slideshow": {
     "slide_type": "slide"
    }
   },
   "source": [
    "This function returns a pandas DataFrame object containing all the data."
   ]
  },
  {
   "cell_type": "markdown",
   "id": "5221fae9",
   "metadata": {
    "slideshow": {
     "slide_type": "slide"
    }
   },
   "source": [
    "# Eche un vistazo rápido a la estructura de datos"
   ]
  },
  {
   "cell_type": "markdown",
   "id": "c0316f87",
   "metadata": {
    "slideshow": {
     "slide_type": "slide"
    }
   },
   "source": [
    "Let’s take a look at the top five rows using the DataFrame’s `head()` method (see Figure 2-5)."
   ]
  },
  {
   "cell_type": "code",
   "execution_count": 2,
   "id": "a1ddb237",
   "metadata": {
    "slideshow": {
     "slide_type": "slide"
    }
   },
   "outputs": [
    {
     "data": {
      "text/html": [
       "<div>\n",
       "<style scoped>\n",
       "    .dataframe tbody tr th:only-of-type {\n",
       "        vertical-align: middle;\n",
       "    }\n",
       "\n",
       "    .dataframe tbody tr th {\n",
       "        vertical-align: top;\n",
       "    }\n",
       "\n",
       "    .dataframe thead th {\n",
       "        text-align: right;\n",
       "    }\n",
       "</style>\n",
       "<table border=\"1\" class=\"dataframe\">\n",
       "  <thead>\n",
       "    <tr style=\"text-align: right;\">\n",
       "      <th></th>\n",
       "      <th>longitud</th>\n",
       "      <th>latitud</th>\n",
       "      <th>antiguedad</th>\n",
       "      <th>habitaciones</th>\n",
       "      <th>dormitorios</th>\n",
       "      <th>población</th>\n",
       "      <th>hogares</th>\n",
       "      <th>ingresos</th>\n",
       "      <th>proximidad</th>\n",
       "      <th>precio</th>\n",
       "    </tr>\n",
       "  </thead>\n",
       "  <tbody>\n",
       "    <tr>\n",
       "      <th>0</th>\n",
       "      <td>-122.23</td>\n",
       "      <td>37.88</td>\n",
       "      <td>41.0</td>\n",
       "      <td>880.0</td>\n",
       "      <td>129.0</td>\n",
       "      <td>322.0</td>\n",
       "      <td>126.0</td>\n",
       "      <td>8.3252</td>\n",
       "      <td>NEAR BAY</td>\n",
       "      <td>452600.0</td>\n",
       "    </tr>\n",
       "    <tr>\n",
       "      <th>1</th>\n",
       "      <td>-122.22</td>\n",
       "      <td>37.86</td>\n",
       "      <td>21.0</td>\n",
       "      <td>7099.0</td>\n",
       "      <td>1106.0</td>\n",
       "      <td>2401.0</td>\n",
       "      <td>1138.0</td>\n",
       "      <td>8.3014</td>\n",
       "      <td>NEAR BAY</td>\n",
       "      <td>358500.0</td>\n",
       "    </tr>\n",
       "    <tr>\n",
       "      <th>2</th>\n",
       "      <td>-122.24</td>\n",
       "      <td>37.85</td>\n",
       "      <td>52.0</td>\n",
       "      <td>1467.0</td>\n",
       "      <td>190.0</td>\n",
       "      <td>496.0</td>\n",
       "      <td>177.0</td>\n",
       "      <td>7.2574</td>\n",
       "      <td>NEAR BAY</td>\n",
       "      <td>352100.0</td>\n",
       "    </tr>\n",
       "    <tr>\n",
       "      <th>3</th>\n",
       "      <td>-122.25</td>\n",
       "      <td>37.85</td>\n",
       "      <td>52.0</td>\n",
       "      <td>1274.0</td>\n",
       "      <td>235.0</td>\n",
       "      <td>558.0</td>\n",
       "      <td>219.0</td>\n",
       "      <td>5.6431</td>\n",
       "      <td>NEAR BAY</td>\n",
       "      <td>341300.0</td>\n",
       "    </tr>\n",
       "    <tr>\n",
       "      <th>4</th>\n",
       "      <td>-122.25</td>\n",
       "      <td>37.85</td>\n",
       "      <td>52.0</td>\n",
       "      <td>1627.0</td>\n",
       "      <td>280.0</td>\n",
       "      <td>565.0</td>\n",
       "      <td>259.0</td>\n",
       "      <td>3.8462</td>\n",
       "      <td>NEAR BAY</td>\n",
       "      <td>342200.0</td>\n",
       "    </tr>\n",
       "  </tbody>\n",
       "</table>\n",
       "</div>"
      ],
      "text/plain": [
       "   longitud  latitud  antiguedad  habitaciones  dormitorios  población  \\\n",
       "0   -122.23    37.88        41.0         880.0        129.0      322.0   \n",
       "1   -122.22    37.86        21.0        7099.0       1106.0     2401.0   \n",
       "2   -122.24    37.85        52.0        1467.0        190.0      496.0   \n",
       "3   -122.25    37.85        52.0        1274.0        235.0      558.0   \n",
       "4   -122.25    37.85        52.0        1627.0        280.0      565.0   \n",
       "\n",
       "   hogares  ingresos proximidad    precio  \n",
       "0    126.0    8.3252   NEAR BAY  452600.0  \n",
       "1   1138.0    8.3014   NEAR BAY  358500.0  \n",
       "2    177.0    7.2574   NEAR BAY  352100.0  \n",
       "3    219.0    5.6431   NEAR BAY  341300.0  \n",
       "4    259.0    3.8462   NEAR BAY  342200.0  "
      ]
     },
     "execution_count": 2,
     "metadata": {},
     "output_type": "execute_result"
    }
   ],
   "source": [
    "vivienda.head() "
   ]
  },
  {
   "cell_type": "markdown",
   "id": "673fd176",
   "metadata": {
    "slideshow": {
     "slide_type": "slide"
    }
   },
   "source": [
    "Each row represents one district. There are 10 attributes (you can see the first 6\n",
    "in the screenshot): longitude, latitude, housing_median_age,\n",
    "total_rooms, total_bedrooms, population, households, median_income,\n",
    "median_house_value, and ocean_proximity.\n",
    "The info() method is useful to get a quick description of the data, in particular\n",
    "the total number of rows, each attribute’s type, and the number of nonnull\n",
    "values (see Figure 2-6).\n"
   ]
  },
  {
   "cell_type": "code",
   "execution_count": 3,
   "id": "553c295e",
   "metadata": {
    "slideshow": {
     "slide_type": "slide"
    }
   },
   "outputs": [
    {
     "name": "stdout",
     "output_type": "stream",
     "text": [
      "<class 'pandas.core.frame.DataFrame'>\n",
      "RangeIndex: 20640 entries, 0 to 20639\n",
      "Data columns (total 10 columns):\n",
      " #   Column        Non-Null Count  Dtype  \n",
      "---  ------        --------------  -----  \n",
      " 0   longitud      20640 non-null  float64\n",
      " 1   latitud       20640 non-null  float64\n",
      " 2   antiguedad    20640 non-null  float64\n",
      " 3   habitaciones  20640 non-null  float64\n",
      " 4   dormitorios   20433 non-null  float64\n",
      " 5   población     20640 non-null  float64\n",
      " 6   hogares       20640 non-null  float64\n",
      " 7   ingresos      20640 non-null  float64\n",
      " 8   proximidad    20640 non-null  object \n",
      " 9   precio        20640 non-null  float64\n",
      "dtypes: float64(9), object(1)\n",
      "memory usage: 1.6+ MB\n"
     ]
    }
   ],
   "source": [
    "vivienda.info() "
   ]
  },
  {
   "cell_type": "markdown",
   "id": "b401a6bc",
   "metadata": {
    "slideshow": {
     "slide_type": "slide"
    }
   },
   "source": [
    "There are 20,640 instances in the dataset, which means that it is fairly small by\n",
    "Machine Learning standards, but it’s perfect to get started. Notice that the\n",
    "total_bedrooms attribute has only 20,433 nonnull values, meaning that 207\n",
    "districts are missing this feature. We will need to take care of this later.\n",
    "All attributes are numerical, except the ocean_proximity field. Its type is\n",
    "object, so it could hold any kind of Python object. But since you loaded this\n",
    "data from a CSV file, you know that it must be a text attribute. When you\n",
    "looked at the top five rows, you probably noticed that the values in the\n",
    "ocean_proximity column were repetitive, which means that it is probably a\n",
    "categorical attribute. You can find out what categories exist and how many\n",
    "districts belong to each category by using the value_counts() method:\n"
   ]
  },
  {
   "cell_type": "code",
   "execution_count": 4,
   "id": "b2c3d46e",
   "metadata": {
    "slideshow": {
     "slide_type": "slide"
    }
   },
   "outputs": [
    {
     "data": {
      "text/plain": [
       "<1H OCEAN     9136\n",
       "INLAND        6551\n",
       "NEAR OCEAN    2658\n",
       "NEAR BAY      2290\n",
       "ISLAND           5\n",
       "Name: proximidad, dtype: int64"
      ]
     },
     "execution_count": 4,
     "metadata": {},
     "output_type": "execute_result"
    }
   ],
   "source": [
    "vivienda['proximidad'].value_counts() "
   ]
  },
  {
   "cell_type": "markdown",
   "id": "2a2f395e",
   "metadata": {
    "slideshow": {
     "slide_type": "slide"
    }
   },
   "source": [
    "Let’s look at the other fields. The describe() method shows a summary of the\n",
    "numerical attributes (Figure 2-7)"
   ]
  },
  {
   "cell_type": "code",
   "execution_count": 5,
   "id": "36f7310d",
   "metadata": {
    "slideshow": {
     "slide_type": "slide"
    }
   },
   "outputs": [
    {
     "data": {
      "text/html": [
       "<div>\n",
       "<style scoped>\n",
       "    .dataframe tbody tr th:only-of-type {\n",
       "        vertical-align: middle;\n",
       "    }\n",
       "\n",
       "    .dataframe tbody tr th {\n",
       "        vertical-align: top;\n",
       "    }\n",
       "\n",
       "    .dataframe thead th {\n",
       "        text-align: right;\n",
       "    }\n",
       "</style>\n",
       "<table border=\"1\" class=\"dataframe\">\n",
       "  <thead>\n",
       "    <tr style=\"text-align: right;\">\n",
       "      <th></th>\n",
       "      <th>longitud</th>\n",
       "      <th>latitud</th>\n",
       "      <th>antiguedad</th>\n",
       "      <th>habitaciones</th>\n",
       "      <th>dormitorios</th>\n",
       "      <th>población</th>\n",
       "      <th>hogares</th>\n",
       "      <th>ingresos</th>\n",
       "      <th>precio</th>\n",
       "    </tr>\n",
       "  </thead>\n",
       "  <tbody>\n",
       "    <tr>\n",
       "      <th>count</th>\n",
       "      <td>20640.000000</td>\n",
       "      <td>20640.000000</td>\n",
       "      <td>20640.000000</td>\n",
       "      <td>20640.000000</td>\n",
       "      <td>20433.000000</td>\n",
       "      <td>20640.000000</td>\n",
       "      <td>20640.000000</td>\n",
       "      <td>20640.000000</td>\n",
       "      <td>20640.000000</td>\n",
       "    </tr>\n",
       "    <tr>\n",
       "      <th>mean</th>\n",
       "      <td>-119.569704</td>\n",
       "      <td>35.631861</td>\n",
       "      <td>28.639486</td>\n",
       "      <td>2635.763081</td>\n",
       "      <td>537.870553</td>\n",
       "      <td>1425.476744</td>\n",
       "      <td>499.539680</td>\n",
       "      <td>3.870671</td>\n",
       "      <td>206855.816909</td>\n",
       "    </tr>\n",
       "    <tr>\n",
       "      <th>std</th>\n",
       "      <td>2.003532</td>\n",
       "      <td>2.135952</td>\n",
       "      <td>12.585558</td>\n",
       "      <td>2181.615252</td>\n",
       "      <td>421.385070</td>\n",
       "      <td>1132.462122</td>\n",
       "      <td>382.329753</td>\n",
       "      <td>1.899822</td>\n",
       "      <td>115395.615874</td>\n",
       "    </tr>\n",
       "    <tr>\n",
       "      <th>min</th>\n",
       "      <td>-124.350000</td>\n",
       "      <td>32.540000</td>\n",
       "      <td>1.000000</td>\n",
       "      <td>2.000000</td>\n",
       "      <td>1.000000</td>\n",
       "      <td>3.000000</td>\n",
       "      <td>1.000000</td>\n",
       "      <td>0.499900</td>\n",
       "      <td>14999.000000</td>\n",
       "    </tr>\n",
       "    <tr>\n",
       "      <th>25%</th>\n",
       "      <td>-121.800000</td>\n",
       "      <td>33.930000</td>\n",
       "      <td>18.000000</td>\n",
       "      <td>1447.750000</td>\n",
       "      <td>296.000000</td>\n",
       "      <td>787.000000</td>\n",
       "      <td>280.000000</td>\n",
       "      <td>2.563400</td>\n",
       "      <td>119600.000000</td>\n",
       "    </tr>\n",
       "    <tr>\n",
       "      <th>50%</th>\n",
       "      <td>-118.490000</td>\n",
       "      <td>34.260000</td>\n",
       "      <td>29.000000</td>\n",
       "      <td>2127.000000</td>\n",
       "      <td>435.000000</td>\n",
       "      <td>1166.000000</td>\n",
       "      <td>409.000000</td>\n",
       "      <td>3.534800</td>\n",
       "      <td>179700.000000</td>\n",
       "    </tr>\n",
       "    <tr>\n",
       "      <th>75%</th>\n",
       "      <td>-118.010000</td>\n",
       "      <td>37.710000</td>\n",
       "      <td>37.000000</td>\n",
       "      <td>3148.000000</td>\n",
       "      <td>647.000000</td>\n",
       "      <td>1725.000000</td>\n",
       "      <td>605.000000</td>\n",
       "      <td>4.743250</td>\n",
       "      <td>264725.000000</td>\n",
       "    </tr>\n",
       "    <tr>\n",
       "      <th>max</th>\n",
       "      <td>-114.310000</td>\n",
       "      <td>41.950000</td>\n",
       "      <td>52.000000</td>\n",
       "      <td>39320.000000</td>\n",
       "      <td>6445.000000</td>\n",
       "      <td>35682.000000</td>\n",
       "      <td>6082.000000</td>\n",
       "      <td>15.000100</td>\n",
       "      <td>500001.000000</td>\n",
       "    </tr>\n",
       "  </tbody>\n",
       "</table>\n",
       "</div>"
      ],
      "text/plain": [
       "           longitud       latitud    antiguedad  habitaciones   dormitorios  \\\n",
       "count  20640.000000  20640.000000  20640.000000  20640.000000  20433.000000   \n",
       "mean    -119.569704     35.631861     28.639486   2635.763081    537.870553   \n",
       "std        2.003532      2.135952     12.585558   2181.615252    421.385070   \n",
       "min     -124.350000     32.540000      1.000000      2.000000      1.000000   \n",
       "25%     -121.800000     33.930000     18.000000   1447.750000    296.000000   \n",
       "50%     -118.490000     34.260000     29.000000   2127.000000    435.000000   \n",
       "75%     -118.010000     37.710000     37.000000   3148.000000    647.000000   \n",
       "max     -114.310000     41.950000     52.000000  39320.000000   6445.000000   \n",
       "\n",
       "          población       hogares      ingresos         precio  \n",
       "count  20640.000000  20640.000000  20640.000000   20640.000000  \n",
       "mean    1425.476744    499.539680      3.870671  206855.816909  \n",
       "std     1132.462122    382.329753      1.899822  115395.615874  \n",
       "min        3.000000      1.000000      0.499900   14999.000000  \n",
       "25%      787.000000    280.000000      2.563400  119600.000000  \n",
       "50%     1166.000000    409.000000      3.534800  179700.000000  \n",
       "75%     1725.000000    605.000000      4.743250  264725.000000  \n",
       "max    35682.000000   6082.000000     15.000100  500001.000000  "
      ]
     },
     "execution_count": 5,
     "metadata": {},
     "output_type": "execute_result"
    }
   ],
   "source": [
    "vivienda.describe()"
   ]
  },
  {
   "cell_type": "markdown",
   "id": "73c07189",
   "metadata": {
    "slideshow": {
     "slide_type": "slide"
    }
   },
   "source": [
    "The count, mean, min, and max rows are self-explanatory. Note that the null values are ignored (so, for example, the count of total_bedrooms is 20,433, not 20,640). "
   ]
  },
  {
   "cell_type": "markdown",
   "id": "dc805533",
   "metadata": {},
   "source": [
    "The std row shows the standard deviation, which measures how\n",
    "dispersed the values are. The 25%, 50%, and 75% rows show the\n",
    "corresponding percentiles: a percentile indicates the value below which a given\n",
    "percentage of observations in a group of observations fall."
   ]
  },
  {
   "cell_type": "markdown",
   "id": "b14bb0a3",
   "metadata": {},
   "source": [
    " For example, 25% of the districts have a housing_median_age lower than 18, while 50% are lower than 29 and 75% are lower than 37. These are often called the 25th percentile (or first quartile), the median, and the 75th percentile (or third quartile).\n"
   ]
  },
  {
   "cell_type": "markdown",
   "id": "6851a564",
   "metadata": {},
   "source": [
    "Another quick way to get a feel of the type of data you are dealing with is to plot a histogram for each numerical attribute."
   ]
  },
  {
   "cell_type": "markdown",
   "id": "5c6f8716",
   "metadata": {},
   "source": [
    "A histogram shows the number of instances (on the vertical axis) that have a given value range (on the horizontal axis). "
   ]
  },
  {
   "cell_type": "markdown",
   "id": "e299c100",
   "metadata": {},
   "source": [
    "You can either plot this one attribute at a time, or you can call the hist() method on the whole dataset (as shown in the following code example), and it will plot a histogram for each numerical attribute:\n"
   ]
  },
  {
   "cell_type": "markdown",
   "id": "8932b759",
   "metadata": {},
   "source": [
    "# Plot a histogram for each numerical attibute "
   ]
  },
  {
   "cell_type": "code",
   "execution_count": 4,
   "id": "e22ea025",
   "metadata": {
    "slideshow": {
     "slide_type": "slide"
    }
   },
   "outputs": [
    {
     "data": {
      "image/png": "[encoded data removed]",
      "text/plain": [
       "<Figure size 1440x1080 with 9 Axes>"
      ]
     },
     "metadata": {
      "needs_background": "light"
     },
     "output_type": "display_data"
    }
   ],
   "source": [
    "from regresion import  visualizarMatrizHistogramas\n",
    "visualizarMatrizHistogramas(vivienda) "
   ]
  },
  {
   "cell_type": "markdown",
   "id": "6b37a830",
   "metadata": {
    "slideshow": {
     "slide_type": "slide"
    }
   },
   "source": [
    "## NOTE\n"
   ]
  },
  {
   "cell_type": "markdown",
   "id": "a3c0416a",
   "metadata": {},
   "source": [
    "The hist() method relies on Matplotlib, which in turn relies on a user-specified graphical\n",
    "backend to draw on your screen. So before you can plot anything, you need to specify which\n",
    "backend Matplotlib should use. The simplest option is to use Jupyter’s magic command\n",
    "%matplotlib inline. This tells Jupyter to set up Matplotlib so it uses Jupyter’s own\n",
    "backend. Plots are then rendered within the notebook itself. Note that calling show() is\n",
    "optional in a Jupyter notebook, as Jupyter will automatically display plots when a cell is\n",
    "executed."
   ]
  },
  {
   "cell_type": "markdown",
   "id": "4dd3fd9b",
   "metadata": {},
   "source": [
    "There are a few things you might notice in these histograms:\n"
   ]
  },
  {
   "cell_type": "markdown",
   "id": "ecf4dafb",
   "metadata": {},
   "source": [
    "1. First, the median income attribute does not look like it is expressed in US dollars (USD). After checking with the team that collected the data, you are told that the data has been scaled and capped at 15 (actually, 15.0001) for higher median incomes, and at 0.5 (actually, 0.4999) for lower median incomes. The numbers represent roughly tens of thousands of dollars (e.g., 3 actually means about $30,000). "
   ]
  },
  {
   "cell_type": "markdown",
   "id": "c448fa1c",
   "metadata": {},
   "source": [
    "Working\n",
    "with preprocessed attributes is common in Machine Learning, and it is\n",
    "not necessarily a problem, but you should try to understand how the\n",
    "data was computed.\n"
   ]
  },
  {
   "cell_type": "markdown",
   "id": "f08da0fd",
   "metadata": {},
   "source": [
    "2. The housing median age and the median house value were also capped. The latter may be a serious problem since it is your target attribute\n",
    "(your labels). Your Machine Learning algorithms may learn that prices never go beyond that limit. You need to check with your client team\n",
    "(the team that will use your system’s output) to see if this is a problem or not. If they tell you that they need precise predictions even beyond\n",
    "$500,000, then you have two options:  \n",
    "\n",
    "  a. Collect proper labels for the districts whose labels were capped.  \n",
    "\n",
    "  b. Remove those districts from the training set (and also from the test set, since your system should not be evaluated poorly if it predicts values beyond $500,000).\n"
   ]
  },
  {
   "cell_type": "markdown",
   "id": "32f15612",
   "metadata": {},
   "source": [
    "3. These attributes have very different scales. We will discuss this later in\n",
    "this chapter, when we explore feature scaling.\n",
    "4. Finally, many histograms are tail-heavy: they extend much farther to\n",
    "the right of the median than to the left. This may make it a bit harder\n",
    "for some Machine Learning algorithms to detect patterns. We will try\n",
    "transforming these attributes later on to have more bell-shaped\n",
    "distributions.\n",
    "Hopefully you now have a better understanding of the kind of data you are\n",
    "dealing with.\n"
   ]
  },
  {
   "cell_type": "markdown",
   "id": "3aed63bd",
   "metadata": {},
   "source": [
    "## WARNING\n"
   ]
  },
  {
   "cell_type": "markdown",
   "id": "fb62a4df",
   "metadata": {},
   "source": [
    "Wait! Before you look at the data any further, you need to create a test set, put it aside, and\n",
    "never look at it.\n"
   ]
  },
  {
   "cell_type": "markdown",
   "id": "a89695bf",
   "metadata": {},
   "source": [
    "# Create a Test Set\n"
   ]
  },
  {
   "cell_type": "markdown",
   "id": "c7514473",
   "metadata": {},
   "source": [
    "It may sound strange to voluntarily set aside part of the data at this stage. "
   ]
  },
  {
   "cell_type": "markdown",
   "id": "4ee9d529",
   "metadata": {},
   "source": [
    "After all, you have only taken a quick glance at the data, and surely you should learn a whole lot more about it before you decide what algorithms to use, right? "
   ]
  },
  {
   "cell_type": "markdown",
   "id": "a3af870e",
   "metadata": {},
   "source": [
    "This is true, but your brain is an amazing pattern detection system, which means that it is highly prone to overfitting: if you look at the test set, you may stumble upon some seemingly interesting pattern in the test data that leads you to select a particular kind of Machine Learning model. "
   ]
  },
  {
   "cell_type": "markdown",
   "id": "2aba4d0d",
   "metadata": {},
   "source": [
    "When you estimate the generalization error using the test set, your estimate will be too optimistic, and you will launch a system that will not perform as well as expected. "
   ]
  },
  {
   "cell_type": "markdown",
   "id": "313f84ea",
   "metadata": {},
   "source": [
    "This is\n",
    "called data snooping bias.\n"
   ]
  },
  {
   "cell_type": "markdown",
   "id": "b1cbb88c",
   "metadata": {},
   "source": [
    "Creating a test set is theoretically simple: pick some instances randomly,\n",
    "typically 20% of the dataset (or less if your dataset is very large), and set them\n",
    "aside:"
   ]
  },
  {
   "cell_type": "code",
   "execution_count": 3,
   "id": "b9a7386f",
   "metadata": {},
   "outputs": [],
   "source": [
    "from regresion import dividir_entrenamiento_testeo\n",
    "X_train, X_test, y_train, y_test = dividir_entrenamiento_testeo(vivienda)  "
   ]
  },
  {
   "cell_type": "markdown",
   "id": "7c782694",
   "metadata": {},
   "source": [
    "Hasta ahora hemos considerado solo muestreo puramente aleatorio"
   ]
  },
  {
   "cell_type": "markdown",
   "id": "4c6dcf72",
   "metadata": {},
   "source": [
    "This is generally fine if your dataset is large enough (especially relative to the number of attributes), but if it is not, you run the risk of introducing a significant sampling bias. "
   ]
  },
  {
   "cell_type": "markdown",
   "id": "6536290e",
   "metadata": {},
   "source": [
    "When a survey company decides to call 1,000 people to ask them a few questions, they don’t just pick 1,000 people randomly in a phone book. They try to ensure that these 1,000 people are representative of the whole population. "
   ]
  },
  {
   "cell_type": "markdown",
   "id": "da42b8c9",
   "metadata": {},
   "source": [
    "For\n",
    "example, the US population is 51.3% females and 48.7% males, so a well conducted survey in the US would try to maintain this ratio in the sample: 513\n",
    "female and 487 male. "
   ]
  },
  {
   "cell_type": "markdown",
   "id": "8a840111",
   "metadata": {},
   "source": [
    "This is called stratified sampling: the population is\n",
    "divided into homogeneous subgroups called strata, and the right number of\n",
    "instances are sampled from each stratum to guarantee that the test set is\n",
    "representative of the overall population. If the people running the survey used\n",
    "purely random sampling, there would be about a 12% chance of sampling a\n",
    "skewed test set that was either less than 49% female or more than 54% female.\n",
    "Either way, the survey results would be significantly biased.\n",
    "Suppose you chatted with experts who told you that the median income is a\n",
    "very important attribute to predict median housing prices. You may want to\n",
    "ensure that the test set is representative of the various categories of incomes in\n",
    "the whole dataset. Since the median income is a continuous numerical attribute,\n",
    "you first need to create an income category attribute. Let’s look at the median\n",
    "income histogram more closely (back in Figure 2-8): most median income\n",
    "values are clustered around 1.5 to 6 (i.e., $15,000–$60,000), but some median\n",
    "incomes go far beyond 6. It is important to have a sufficient number of\n"
   ]
  },
  {
   "cell_type": "code",
   "execution_count": null,
   "id": "956ad8bf",
   "metadata": {},
   "outputs": [],
   "source": []
  },
  {
   "cell_type": "code",
   "execution_count": null,
   "id": "c8254668",
   "metadata": {},
   "outputs": [],
   "source": []
  },
  {
   "cell_type": "code",
   "execution_count": null,
   "id": "a70d26de",
   "metadata": {},
   "outputs": [],
   "source": []
  },
  {
   "cell_type": "markdown",
   "id": "4851d3fb",
   "metadata": {
    "slideshow": {
     "slide_type": "slide"
    }
   },
   "source": [
    "# Referentes  \n",
    "\n"
   ]
  },
  {
   "cell_type": "markdown",
   "id": "9fc3028f",
   "metadata": {
    "slideshow": {
     "slide_type": "slide"
    }
   },
   "source": []
  }
 ],
 "metadata": {
  "celltoolbar": "Slideshow",
  "kernelspec": {
   "display_name": "Python 3 (ipykernel)",
   "language": "python",
   "name": "python3"
  },
  "language_info": {
   "codemirror_mode": {
    "name": "ipython",
    "version": 3
   },
   "file_extension": ".py",
   "mimetype": "text/x-python",
   "name": "python",
   "nbconvert_exporter": "python",
   "pygments_lexer": "ipython3",
   "version": "3.10.7"
  },
  "vscode": {
   "interpreter": {
    "hash": "af153e239d61b5c0d363f35fe8a0509d492506f382d017c98fa3fb49fce70a72"
   }
  }
 },
 "nbformat": 4,
 "nbformat_minor": 5
}
