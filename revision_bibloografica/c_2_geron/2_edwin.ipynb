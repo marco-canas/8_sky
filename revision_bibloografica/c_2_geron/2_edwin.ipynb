{
 "cells": [
  {
   "cell_type": "markdown",
   "id": "aa917d99",
   "metadata": {
    "slideshow": {
     "slide_type": "slide"
    }
   },
   "source": [
    "<table align=\"left\">\n",
    "  <td>\n",
    "    <a href=\"https://colab.research.google.com/github/marco-canas/cielo/blob/main/revision_bibloografica/c_2_geron/edwin.ipynb\" target=\"_parent\"><img src=\"https://colab.research.google.com/assets/colab-badge.svg\" alt=\"Open In Colab\"/></a>\n",
    "  </td>\n",
    "</table>\n"
   ]
  },
  {
   "cell_type": "markdown",
   "id": "75e20b69",
   "metadata": {
    "slideshow": {
     "slide_type": "slide"
    }
   },
   "source": [
    "## [Video de exposición de la lectura]()"
   ]
  },
  {
   "cell_type": "markdown",
   "id": "7563120c",
   "metadata": {
    "slideshow": {
     "slide_type": "slide"
    }
   },
   "source": [
    "# Informe de revisión bibliográfica \n",
    "\n",
    "Páginas 80 a 93 de Géron. "
   ]
  },
  {
   "cell_type": "markdown",
   "id": "a44443c6",
   "metadata": {
    "slideshow": {
     "slide_type": "slide"
    }
   },
   "source": [
    "# Download the Data\n"
   ]
  },
  {
   "cell_type": "markdown",
   "id": "a59535bc",
   "metadata": {
    "slideshow": {
     "slide_type": "slide"
    }
   },
   "source": [
    "In typical environments your data would be available in a relational database (or some other common data store) and spread across multiple\n",
    "tables/documents/files. "
   ]
  },
  {
   "cell_type": "markdown",
   "id": "33fb1ee1",
   "metadata": {},
   "source": [
    "To access it, you would first need to get your credentials and access authorizations and familiarize yourself with the data schema. "
   ]
  },
  {
   "cell_type": "markdown",
   "id": "9f75d28e",
   "metadata": {},
   "source": [
    "In\n",
    "this project, however, things are much simpler: you will just download a single\n",
    "compressed file, housing.tgz, which contains a comma-separated values (CSV)\n",
    "file called housing.csv with all the data.\n"
   ]
  },
  {
   "cell_type": "markdown",
   "id": "6b58b122",
   "metadata": {},
   "source": [
    "You could use your web browser to download the file and run tar xzf housing.tgz to decompress it and extract the CSV file, but it is preferable to create a small function to do that. "
   ]
  },
  {
   "cell_type": "markdown",
   "id": "bc7537dd",
   "metadata": {},
   "source": [
    "Having a function that downloads the data is\n",
    "useful in particular if the data changes regularly: you can write a small script\n",
    "that uses the function to fetch the latest data (or you can set up a scheduled job\n",
    "to do that automatically at regular intervals). "
   ]
  },
  {
   "cell_type": "markdown",
   "id": "8c6405c6",
   "metadata": {},
   "source": [
    "Automating the process of\n",
    "fetching the data is also useful if you need to install the dataset on multiple\n",
    "machines.\n"
   ]
  },
  {
   "cell_type": "markdown",
   "id": "045e5f1f",
   "metadata": {},
   "source": [
    "Here is the function to fetch the data:\n"
   ]
  },
  {
   "cell_type": "code",
   "execution_count": 1,
   "id": "00fd097e",
   "metadata": {},
   "outputs": [],
   "source": [
    "import os\n",
    "import tarfile\n",
    "import urllib\n",
    "DOWNLOAD_ROOT = \"https://raw.githubusercontent.com/ageron/handson-ml2/master/\"\n",
    "HOUSING_PATH = os.path.join(\"datasets\", \"housing\")\n",
    "HOUSING_URL = DOWNLOAD_ROOT + \"datasets/housing/housing.tgz\"\n",
    "def fetch_housing_data(housing_url=HOUSING_URL, housing_path=HOUSING_PATH):\n",
    "    os.makedirs(housing_path, exist_ok=True)\n",
    "    tgz_path = os.path.join(housing_path, \"housing.tgz\")\n",
    "    urllib.request.urlretrieve(housing_url, tgz_path)\n",
    "    housing_tgz = tarfile.open(tgz_path)\n",
    "    housing_tgz.extractall(path=housing_path)\n",
    "    housing_tgz.close()\n"
   ]
  },
  {
   "cell_type": "markdown",
   "id": "5521e9a6",
   "metadata": {},
   "source": [
    "Now when you call fetch_housing_data(), it creates a datasets/housing\n",
    "directory in your workspace, downloads the housing.tgz file, and extracts the\n",
    "housing.csv file from it in this directory.\n",
    "Now let’s load the data using pandas. Once again, you should write a small\n",
    "function to load the data:"
   ]
  },
  {
   "cell_type": "markdown",
   "id": "3e6f2801",
   "metadata": {
    "slideshow": {
     "slide_type": "slide"
    }
   },
   "source": [
    "Now when you call `fetch_housing_data()`, it creates a datasets/housing directory in your workspace, downloads the housing.tgz file, and extracts the housing.csv file from it in this directory.\n"
   ]
  },
  {
   "cell_type": "markdown",
   "id": "fea7faba",
   "metadata": {},
   "source": [
    "Now let’s load the data using pandas. Once again, you should write a small\n",
    "function to load the data:"
   ]
  },
  {
   "cell_type": "code",
   "execution_count": null,
   "id": "73d06205",
   "metadata": {
    "slideshow": {
     "slide_type": "slide"
    }
   },
   "outputs": [],
   "source": []
  },
  {
   "cell_type": "code",
   "execution_count": null,
   "id": "a1ddb237",
   "metadata": {},
   "outputs": [],
   "source": []
  },
  {
   "cell_type": "code",
   "execution_count": null,
   "id": "ae418eec",
   "metadata": {},
   "outputs": [],
   "source": []
  },
  {
   "cell_type": "code",
   "execution_count": null,
   "id": "553c295e",
   "metadata": {},
   "outputs": [],
   "source": []
  },
  {
   "cell_type": "code",
   "execution_count": null,
   "id": "fb00cb37",
   "metadata": {},
   "outputs": [],
   "source": []
  },
  {
   "cell_type": "code",
   "execution_count": null,
   "id": "b2c3d46e",
   "metadata": {},
   "outputs": [],
   "source": []
  },
  {
   "cell_type": "markdown",
   "id": "4851d3fb",
   "metadata": {
    "slideshow": {
     "slide_type": "slide"
    }
   },
   "source": [
    "# Referentes  \n",
    "\n"
   ]
  },
  {
   "cell_type": "markdown",
   "id": "9fc3028f",
   "metadata": {
    "slideshow": {
     "slide_type": "slide"
    }
   },
   "source": []
  }
 ],
 "metadata": {
  "celltoolbar": "Slideshow",
  "kernelspec": {
   "display_name": "Python 3.10.7 64-bit",
   "language": "python",
   "name": "python3"
  },
  "language_info": {
   "codemirror_mode": {
    "name": "ipython",
    "version": 3
   },
   "file_extension": ".py",
   "mimetype": "text/x-python",
   "name": "python",
   "nbconvert_exporter": "python",
   "pygments_lexer": "ipython3",
   "version": "3.10.7"
  },
  "vscode": {
   "interpreter": {
    "hash": "af153e239d61b5c0d363f35fe8a0509d492506f382d017c98fa3fb49fce70a72"
   }
  }
 },
 "nbformat": 4,
 "nbformat_minor": 5
}
