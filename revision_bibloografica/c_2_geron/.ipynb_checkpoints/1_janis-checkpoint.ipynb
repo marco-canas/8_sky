{
 "cells": [
  {
   "cell_type": "markdown",
   "id": "9b0382c0",
   "metadata": {
    "slideshow": {
     "slide_type": "slide"
    }
   },
   "source": [
    "<table align=\"left\">\n",
    "  <td>\n",
    "    <a href=\"https://colab.research.google.com/github/marco-canas/cielo/blob/main/revision_bibloografica/c_2_geron/1_janis.ipynb\" target=\"_parent\"><img src=\"https://colab.research.google.com/assets/colab-badge.svg\" alt=\"Open In Colab\"/></a>\n",
    "  </td>\n",
    "</table>"
   ]
  },
  {
   "cell_type": "markdown",
   "id": "84b3de76",
   "metadata": {
    "slideshow": {
     "slide_type": "slide"
    }
   },
   "source": [
    "## [Video de apoyo a la lectura de este cuaderno]()  \n",
    "\n",
    "Recuerde que la segunda parte de su exposición debe ser la práctica de implementación o de codificación de los conceptos y metodologías presentadas en la teoría leída. "
   ]
  },
  {
   "cell_type": "markdown",
   "id": "ec37fea9",
   "metadata": {
    "slideshow": {
     "slide_type": "slide"
    }
   },
   "source": [
    "# Capítulo 2 de Geron \n",
    "\n",
    "Página 67 a 80"
   ]
  },
  {
   "cell_type": "markdown",
   "id": "c93d8fd0",
   "metadata": {
    "slideshow": {
     "slide_type": "slide"
    }
   },
   "source": [
    "# Chapter 2  "
   ]
  },
  {
   "cell_type": "markdown",
   "id": "e2f9a3a4",
   "metadata": {
    "slideshow": {
     "slide_type": "slide"
    }
   },
   "source": [
    "* End - to - end Machine Learning Project\n",
    "\n",
    "* working with real data  \n",
    "\n",
    "* Look at the big picture \n",
    "\n",
    "  * frame the problem "
   ]
  },
  {
   "cell_type": "markdown",
   "id": "fdca97c6",
   "metadata": {
    "slideshow": {
     "slide_type": "slide"
    }
   },
   "source": [
    "## Criterios de elaboración de cada cuaderno\n",
    "\n",
    "* Inmediatamente después de cada gráfico debe incluir por lo menos tres inferencias o interpretaciones del mismo. "
   ]
  },
  {
   "cell_type": "markdown",
   "id": "efd362f6",
   "metadata": {
    "slideshow": {
     "slide_type": "slide"
    }
   },
   "source": [
    "## Desarrollo de la lectura"
   ]
  },
  {
   "cell_type": "markdown",
   "id": "1fe47014",
   "metadata": {
    "slideshow": {
     "slide_type": "slide"
    }
   },
   "source": [
    "# Chapter 2. End-to-End Machine Learning Project"
   ]
  },
  {
   "cell_type": "markdown",
   "id": "f0f281cd",
   "metadata": {
    "slideshow": {
     "slide_type": "slide"
    }
   },
   "source": [
    "En este capítulo, trabajará a través de un proyecto de ejemplo de principio a fin, simulando ser un científico de datos recientemente contratado en una empresa de bienes raíces. "
   ]
  },
  {
   "cell_type": "markdown",
   "id": "b2856744",
   "metadata": {
    "slideshow": {
     "slide_type": "slide"
    }
   },
   "source": [
    "Estos son los pasos principales por los que pasará:"
   ]
  },
  {
   "cell_type": "markdown",
   "id": "8c39f54c",
   "metadata": {
    "slideshow": {
     "slide_type": "slide"
    }
   },
   "source": [
    "1. Look at the big picture.\n",
    "2. Get the data.\n",
    "3. Discover and visualize the data to gain insights.\n",
    "4. Prepare the data for Machine Learning algorithms.\n",
    "5. Select a model and train it.\n",
    "6. Fine-tune your model.\n",
    "7. Present your solution.\n",
    "8. Launch, monitor, and maintain your system."
   ]
  },
  {
   "cell_type": "markdown",
   "id": "9816c490",
   "metadata": {
    "slideshow": {
     "slide_type": "slide"
    }
   },
   "source": [
    "# Working with Real Data"
   ]
  },
  {
   "cell_type": "markdown",
   "id": "2f23a5b1",
   "metadata": {
    "slideshow": {
     "slide_type": "slide"
    }
   },
   "source": [
    "When you are learning about Machine Learning, it is best to experiment with\n",
    "real-world data, not artificial datasets. Fortunately, there are thousands of open\n",
    "datasets to choose from, ranging across all sorts of domains. Here are a few\n",
    "places you can look to get data:\n",
    "Popular open data repositories\n",
    "UC Irvine Machine Learning Repository\n",
    "Kaggle datasets\n",
    "Amazon’s AWS datasets"
   ]
  },
  {
   "cell_type": "markdown",
   "id": "8e5cc801",
   "metadata": {
    "slideshow": {
     "slide_type": "slide"
    }
   },
   "source": [
    "Meta portals (they list open data repositories)\n",
    "Data Portals\n",
    "OpenDataMonitor\n",
    "Quandl\n",
    "Other pages listing many popular open data repositories\n",
    "Wikipedia’s list of Machine Learning datasets\n",
    "Quora.com\n",
    "The datasets subreddit"
   ]
  },
  {
   "cell_type": "markdown",
   "id": "739e937f",
   "metadata": {
    "slideshow": {
     "slide_type": "slide"
    }
   },
   "source": [
    "In this chapter we’ll use the California Housing Prices dataset from the StatLib repository (see Figure 2-1). "
   ]
  },
  {
   "cell_type": "markdown",
   "id": "929c6892",
   "metadata": {
    "slideshow": {
     "slide_type": "slide"
    }
   },
   "source": [
    "This dataset is based on data from the 1990 California census. "
   ]
  },
  {
   "cell_type": "markdown",
   "id": "b44bf6a4",
   "metadata": {
    "slideshow": {
     "slide_type": "slide"
    }
   },
   "source": [
    "It is not exactly recent (a nice house in the Bay Area was still affordable at the time), but it has many qualities for learning, so we will pretend it is recent data. "
   ]
  },
  {
   "cell_type": "markdown",
   "id": "e1be0e12",
   "metadata": {
    "slideshow": {
     "slide_type": "slide"
    }
   },
   "source": [
    "For teaching purposes I’ve added a categorical attribute and removed a few features."
   ]
  },
  {
   "cell_type": "code",
   "execution_count": null,
   "id": "afac3e13",
   "metadata": {
    "slideshow": {
     "slide_type": "slide"
    }
   },
   "outputs": [],
   "source": []
  },
  {
   "cell_type": "code",
   "execution_count": null,
   "id": "25737819",
   "metadata": {},
   "outputs": [],
   "source": []
  },
  {
   "cell_type": "code",
   "execution_count": null,
   "id": "83277caa",
   "metadata": {},
   "outputs": [],
   "source": []
  },
  {
   "cell_type": "code",
   "execution_count": null,
   "id": "b4f5af75",
   "metadata": {},
   "outputs": [],
   "source": []
  },
  {
   "cell_type": "code",
   "execution_count": null,
   "id": "4b7e242c",
   "metadata": {},
   "outputs": [],
   "source": []
  },
  {
   "cell_type": "code",
   "execution_count": null,
   "id": "ffac13f2",
   "metadata": {},
   "outputs": [],
   "source": []
  }
 ],
 "metadata": {
  "celltoolbar": "Slideshow",
  "kernelspec": {
   "display_name": "Python 3 (ipykernel)",
   "language": "python",
   "name": "python3"
  },
  "language_info": {
   "codemirror_mode": {
    "name": "ipython",
    "version": 3
   },
   "file_extension": ".py",
   "mimetype": "text/x-python",
   "name": "python",
   "nbconvert_exporter": "python",
   "pygments_lexer": "ipython3",
   "version": "3.9.12"
  },
  "rise": {
   "theme": "serif"
  }
 },
 "nbformat": 4,
 "nbformat_minor": 5
}
