{
 "cells": [
  {
   "cell_type": "markdown",
   "id": "97195e2e",
   "metadata": {
    "slideshow": {
     "slide_type": "slide"
    }
   },
   "source": [
    "<table align=\"left\">\n",
    "  <td>\n",
    "    <a href=\"https://colab.research.google.com/github/marco-canas/cielo/blob/main/revision_bibloografica/c_2_geron/4_daniela.ipynb\" target=\"_parent\"><img src=\"https://colab.research.google.com/assets/colab-badge.svg\" alt=\"Open In Colab\"/></a>\n",
    "  </td>\n",
    "</table>"
   ]
  },
  {
   "cell_type": "markdown",
   "id": "1dea919e",
   "metadata": {
    "slideshow": {
     "slide_type": "slide"
    }
   },
   "source": [
    "## [Video de apoyo a la lectura interactiva y experimental de este cuaderno]()\n",
    "\n",
    "Recuerde que la segunda parte de su exposición debe ser la práctica de implementación o de codificación de los conceptos y metodologías presentadas en la teoría leída. "
   ]
  },
  {
   "cell_type": "markdown",
   "id": "3fa7cc5c",
   "metadata": {
    "slideshow": {
     "slide_type": "slide"
    }
   },
   "source": [
    "# Chapter 2\n",
    "\n",
    "Páginas 105 a 118. "
   ]
  },
  {
   "cell_type": "markdown",
   "id": "e4de1b00",
   "metadata": {
    "slideshow": {
     "slide_type": "slide"
    }
   },
   "source": [
    "# Manejo de atributos categóricos y de texto"
   ]
  },
  {
   "cell_type": "markdown",
   "id": "d2455673",
   "metadata": {
    "slideshow": {
     "slide_type": "slide"
    }
   },
   "source": []
  },
  {
   "cell_type": "code",
   "execution_count": 3,
   "id": "506c0e08",
   "metadata": {},
   "outputs": [],
   "source": [
    "from regresion import obtener_datos\n",
    "vivienda = obtener_datos('https://raw.githubusercontent.com/marco-canas/didactica_ciencia_datos/main/datasets/vivienda/vivienda.csv')"
   ]
  },
  {
   "cell_type": "code",
   "execution_count": 4,
   "id": "badaf96d",
   "metadata": {
    "slideshow": {
     "slide_type": "slide"
    }
   },
   "outputs": [
    {
     "data": {
      "text/html": [
       "<div>\n",
       "<style scoped>\n",
       "    .dataframe tbody tr th:only-of-type {\n",
       "        vertical-align: middle;\n",
       "    }\n",
       "\n",
       "    .dataframe tbody tr th {\n",
       "        vertical-align: top;\n",
       "    }\n",
       "\n",
       "    .dataframe thead th {\n",
       "        text-align: right;\n",
       "    }\n",
       "</style>\n",
       "<table border=\"1\" class=\"dataframe\">\n",
       "  <thead>\n",
       "    <tr style=\"text-align: right;\">\n",
       "      <th></th>\n",
       "      <th>proximidad</th>\n",
       "    </tr>\n",
       "  </thead>\n",
       "  <tbody>\n",
       "    <tr>\n",
       "      <th>0</th>\n",
       "      <td>NEAR BAY</td>\n",
       "    </tr>\n",
       "    <tr>\n",
       "      <th>1</th>\n",
       "      <td>NEAR BAY</td>\n",
       "    </tr>\n",
       "    <tr>\n",
       "      <th>2</th>\n",
       "      <td>NEAR BAY</td>\n",
       "    </tr>\n",
       "    <tr>\n",
       "      <th>3</th>\n",
       "      <td>NEAR BAY</td>\n",
       "    </tr>\n",
       "    <tr>\n",
       "      <th>4</th>\n",
       "      <td>NEAR BAY</td>\n",
       "    </tr>\n",
       "    <tr>\n",
       "      <th>...</th>\n",
       "      <td>...</td>\n",
       "    </tr>\n",
       "    <tr>\n",
       "      <th>20635</th>\n",
       "      <td>INLAND</td>\n",
       "    </tr>\n",
       "    <tr>\n",
       "      <th>20636</th>\n",
       "      <td>INLAND</td>\n",
       "    </tr>\n",
       "    <tr>\n",
       "      <th>20637</th>\n",
       "      <td>INLAND</td>\n",
       "    </tr>\n",
       "    <tr>\n",
       "      <th>20638</th>\n",
       "      <td>INLAND</td>\n",
       "    </tr>\n",
       "    <tr>\n",
       "      <th>20639</th>\n",
       "      <td>INLAND</td>\n",
       "    </tr>\n",
       "  </tbody>\n",
       "</table>\n",
       "<p>20640 rows × 1 columns</p>\n",
       "</div>"
      ],
      "text/plain": [
       "      proximidad\n",
       "0       NEAR BAY\n",
       "1       NEAR BAY\n",
       "2       NEAR BAY\n",
       "3       NEAR BAY\n",
       "4       NEAR BAY\n",
       "...          ...\n",
       "20635     INLAND\n",
       "20636     INLAND\n",
       "20637     INLAND\n",
       "20638     INLAND\n",
       "20639     INLAND\n",
       "\n",
       "[20640 rows x 1 columns]"
      ]
     },
     "execution_count": 4,
     "metadata": {},
     "output_type": "execute_result"
    }
   ],
   "source": [
    "vivienda_cat = vivienda[['proximidad'] ]\n",
    "vivienda_cat "
   ]
  },
  {
   "cell_type": "markdown",
   "id": "a4554c4c",
   "metadata": {
    "slideshow": {
     "slide_type": "slide"
    }
   },
   "source": [
    "It’s not arbitrary text: there are a limited number of possible values, each of which represents a category. So this attribute is a categorical attribute. "
   ]
  },
  {
   "cell_type": "markdown",
   "id": "5d390ef1",
   "metadata": {},
   "source": [
    "Most Machine Learning algorithms prefer to work with numbers, so let’s convert these categories from text to numbers. "
   ]
  },
  {
   "cell_type": "markdown",
   "id": "b03de976",
   "metadata": {},
   "source": [
    "For this, we can use Scikit-Learn’s\n",
    "OrdinalEncoder class:"
   ]
  },
  {
   "cell_type": "code",
   "execution_count": null,
   "id": "b04dc14c",
   "metadata": {
    "slideshow": {
     "slide_type": "slide"
    }
   },
   "outputs": [],
   "source": [
    "from regresion import codificar_variables_ordinales\n",
    "codificar_variables_ordinales(vivienda_cat)"
   ]
  },
  {
   "cell_type": "code",
   "execution_count": null,
   "id": "e3a4b710",
   "metadata": {
    "slideshow": {
     "slide_type": "slide"
    }
   },
   "outputs": [],
   "source": []
  }
 ],
 "metadata": {
  "celltoolbar": "Slideshow",
  "kernelspec": {
   "display_name": "Python 3.10.8 64-bit (microsoft store)",
   "language": "python",
   "name": "python3"
  },
  "language_info": {
   "codemirror_mode": {
    "name": "ipython",
    "version": 3
   },
   "file_extension": ".py",
   "mimetype": "text/x-python",
   "name": "python",
   "nbconvert_exporter": "python",
   "pygments_lexer": "ipython3",
   "version": "3.10.8"
  },
  "vscode": {
   "interpreter": {
    "hash": "0debd814035b2c6a869ebb329840996ef3ab0649c68bf856342739b4329f1f24"
   }
  }
 },
 "nbformat": 4,
 "nbformat_minor": 5
}
