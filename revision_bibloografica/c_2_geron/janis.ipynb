{
 "cells": [
  {
   "cell_type": "markdown",
   "metadata": {},
   "source": [
    "# Lo que Janis preentará en las Jornadas de Investigación"
   ]
  },
  {
   "cell_type": "markdown",
   "metadata": {},
   "source": [
    "Janis presentará las primeras 13 páginas del segundo capítulo de Geron sobre Cómo constituir un modelo de machine Learning de regresión"
   ]
  },
  {
   "cell_type": "markdown",
   "metadata": {},
   "source": [
    "# Metodología para constituir un modelo de Machine Learning\n",
    "\n",
    "In this chapter you will work through an example project end to end, pretending\n",
    "to be a recently hired data scientist at a real estate company. Here are the main\n",
    "steps you will go through:\n",
    "1. Look at the big picture.\n",
    "2. Get the data.\n",
    "3. Discover and visualize the data to gain insights.\n",
    "4. Prepare the data for Machine Learning algorithms.\n",
    "5. Select a model and train it.\n",
    "6. Fine-tune your model.\n",
    "7. Present your solution.\n",
    "8. Launch, monitor, and maintain your system.\n"
   ]
  },
  {
   "cell_type": "markdown",
   "metadata": {},
   "source": []
  }
 ],
 "metadata": {
  "language_info": {
   "name": "python"
  },
  "orig_nbformat": 4
 },
 "nbformat": 4,
 "nbformat_minor": 2
}
