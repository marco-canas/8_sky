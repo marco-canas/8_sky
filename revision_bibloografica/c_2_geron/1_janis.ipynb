{
  "cells": [
    {
      "cell_type": "markdown",
      "id": "9b0382c0",
      "metadata": {
        "id": "9b0382c0"
      },
      "source": [
        "<table align=\"left\">\n",
        "  <td>\n",
        "    <a href=\"https://colab.research.google.com/github/marco-canas/cielo/blob/main/revision_bibloografica/c_2_geron/1_janis.ipynb\" target=\"_parent\"><img src=\"https://colab.research.google.com/assets/colab-badge.svg\" alt=\"Open In Colab\"/></a>\n",
        "  </td>\n",
        "</table>"
      ]
    },
    {
      "cell_type": "markdown",
      "id": "84b3de76",
      "metadata": {
        "id": "84b3de76"
      },
      "source": [
        "## [Video de apoyo a la lectura de este cuaderno]()  \n",
        "\n",
        "Recuerde que la segunda parte de su exposición debe ser la práctica de implementación o de codificación de los conceptos y metodologías presentadas en la teoría leída. "
      ]
    },
    {
      "cell_type": "markdown",
      "id": "ec37fea9",
      "metadata": {
        "id": "ec37fea9"
      },
      "source": [
        "# Capítulo 2 de Geron \n",
        "\n",
        "Página 67 a 80"
      ]
    },
    {
      "cell_type": "markdown",
      "id": "e2f9a3a4",
      "metadata": {
        "id": "e2f9a3a4"
      },
      "source": [
        "* End - to - end Machine Learning Project\n",
        "\n",
        "* working with real data  \n",
        "\n",
        "* Look at the big picture \n",
        "\n",
        "  * frame the problem "
      ]
    },
    {
      "cell_type": "markdown",
      "id": "2c4d0be3",
      "metadata": {
        "id": "2c4d0be3"
      },
      "source": [
        "## Criterios de elaboración de cada cuaderno\n",
        "\n",
        "* Inmediatamente después de cada gráfico debe incluir por lo menos tres inferencias o interpretaciones del mismo. "
      ]
    },
    {
      "cell_type": "markdown",
      "id": "16df37cd",
      "metadata": {
        "id": "16df37cd"
      },
      "source": [
        "## Desarrollo de la lectura"
      ]
    },
    {
      "cell_type": "markdown",
      "id": "639f3713",
      "metadata": {
        "id": "639f3713"
      },
      "source": [
        "# Chapter 2. End-to-End Machine Learning Project"
      ]
    },
    {
      "cell_type": "markdown",
      "id": "bb56557e",
      "metadata": {
        "id": "bb56557e"
      },
      "source": [
        "In this chapter you will work through an example project end to end, pretending to be a recently hired data scientist at a real estate company. Here are the main steps you will go through:"
      ]
    },
    {
      "cell_type": "markdown",
      "id": "1b8ff039",
      "metadata": {
        "id": "1b8ff039"
      },
      "source": [
        "1. Look at the big picture.\n",
        "2. Get the data.\n",
        "3. Discover and visualize the data to gain insights.\n",
        "4. Prepare the data for Machine Learning algorithms.\n",
        "5. Select a model and train it.\n",
        "6. Fine-tune your model.\n",
        "7. Present your solution.\n",
        "8. Launch, monitor, and maintain your system."
      ]
    },
    {
      "cell_type": "code",
      "execution_count": null,
      "id": "4c553ebb",
      "metadata": {
        "id": "4c553ebb"
      },
      "outputs": [],
      "source": []
    },
    {
      "cell_type": "code",
      "execution_count": null,
      "id": "e8c125c5",
      "metadata": {
        "id": "e8c125c5"
      },
      "outputs": [],
      "source": []
    },
    {
      "cell_type": "code",
      "execution_count": null,
      "id": "df0625fe",
      "metadata": {
        "id": "df0625fe"
      },
      "outputs": [],
      "source": []
    },
    {
      "cell_type": "code",
      "execution_count": null,
      "id": "afac3e13",
      "metadata": {
        "id": "afac3e13"
      },
      "outputs": [],
      "source": []
    }
  ],
  "metadata": {
    "celltoolbar": "Slideshow",
    "kernelspec": {
      "display_name": "Python 3 (ipykernel)",
      "language": "python",
      "name": "python3"
    },
    "language_info": {
      "codemirror_mode": {
        "name": "ipython",
        "version": 3
      },
      "file_extension": ".py",
      "mimetype": "text/x-python",
      "name": "python",
      "nbconvert_exporter": "python",
      "pygments_lexer": "ipython3",
      "version": "3.9.12"
    },
    "rise": {
      "theme": "serif"
    },
    "colab": {
      "provenance": []
    }
  },
  "nbformat": 4,
  "nbformat_minor": 5
}